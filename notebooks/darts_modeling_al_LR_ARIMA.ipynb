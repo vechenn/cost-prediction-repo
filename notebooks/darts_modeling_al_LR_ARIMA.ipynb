{
 "cells": [
  {
   "cell_type": "markdown",
   "id": "1e4c0dba",
   "metadata": {},
   "source": [
    "# Эксперименты с временным рядом стоимости алюминия"
   ]
  },
  {
   "cell_type": "code",
   "execution_count": 10,
   "id": "f066ddc4",
   "metadata": {},
   "outputs": [],
   "source": [
    "import numpy as np\n",
    "import pandas as pd\n",
    "#pd.set_option('display.max_rows', 100)\n",
    "pd.set_option('display.max_columns', 60)\n",
    "pd.options.mode.chained_assignment = None  # default='warn'\n",
    "import matplotlib.pyplot as plt\n",
    "%matplotlib inline\n",
    "import seaborn as sns\n",
    "\n",
    "#import torch\n",
    "from darts import TimeSeries\n",
    "from darts.metrics import mape\n",
    "from darts.models import AutoARIMA, ExponentialSmoothing, Prophet, LinearRegressionModel\n",
    "from darts.dataprocessing.transformers import Scaler\n",
    "\n",
    "from datetime import timedelta\n",
    "from copy import deepcopy\n",
    "import random"
   ]
  },
  {
   "cell_type": "code",
   "execution_count": 11,
   "id": "d86ddaab",
   "metadata": {},
   "outputs": [],
   "source": [
    "import optuna\n",
    "from functools import partial"
   ]
  },
  {
   "cell_type": "markdown",
   "id": "5d239296",
   "metadata": {},
   "source": [
    "## Data"
   ]
  },
  {
   "cell_type": "code",
   "execution_count": 12,
   "id": "d9db7537",
   "metadata": {},
   "outputs": [],
   "source": [
    "FORECAST_LEN = 4 # Длина прогноза\n",
    "OUT_OF_TIME_DIM = 20 # Размер отложенной выборки"
   ]
  },
  {
   "cell_type": "code",
   "execution_count": 13,
   "id": "4361bdb5",
   "metadata": {},
   "outputs": [],
   "source": [
    "def set_seed(seed: int = 42):\n",
    "    \"\"\"Set random seed for reproducibility.\"\"\"\n",
    "    random.seed(seed)\n",
    "    np.random.seed(seed)\n",
    "    #torch.manual_seed(seed)\n",
    "    #torch.cuda.manual_seed_all(seed)\n",
    "    \n",
    "set_seed()"
   ]
  },
  {
   "cell_type": "code",
   "execution_count": 14,
   "id": "8743f7d7",
   "metadata": {},
   "outputs": [
    {
     "name": "stdout",
     "output_type": "stream",
     "text": [
      "Shape: (282, 67)\n"
     ]
    }
   ],
   "source": [
    "df = pd.read_csv('prepared_dataset_al.csv', parse_dates=[0], dtype='float32')\n",
    "print('Shape:', df.shape)"
   ]
  },
  {
   "cell_type": "code",
   "execution_count": 15,
   "id": "fa9d6859",
   "metadata": {},
   "outputs": [
    {
     "data": {
      "text/html": [
       "<div>\n",
       "<style scoped>\n",
       "    .dataframe tbody tr th:only-of-type {\n",
       "        vertical-align: middle;\n",
       "    }\n",
       "\n",
       "    .dataframe tbody tr th {\n",
       "        vertical-align: top;\n",
       "    }\n",
       "\n",
       "    .dataframe thead th {\n",
       "        text-align: right;\n",
       "    }\n",
       "</style>\n",
       "<table border=\"1\" class=\"dataframe\">\n",
       "  <thead>\n",
       "    <tr style=\"text-align: right;\">\n",
       "      <th></th>\n",
       "      <th>bloomberg_metals_price_mean_4</th>\n",
       "      <th>chalco_adj_std_13</th>\n",
       "      <th>usa_inflation_value_shift_13</th>\n",
       "      <th>usd_to_hkd_increment_by_mean_26</th>\n",
       "      <th>rual_price_std_26</th>\n",
       "      <th>ftse_index_std_13</th>\n",
       "      <th>hongqiao_adj_std_4</th>\n",
       "      <th>alcoa_price_std_4</th>\n",
       "      <th>norsk_hydro_adj_std_4</th>\n",
       "      <th>bloomberg_metals_price_std_9</th>\n",
       "      <th>chalco_price_std_4</th>\n",
       "      <th>eu_inflation_value_increment_by_mean_26</th>\n",
       "      <th>ftse_index_std_4</th>\n",
       "      <th>USD_JPY_rate_increment_by_mean_26</th>\n",
       "      <th>ftse_index_change_mean_52</th>\n",
       "      <th>eu_inflation_value_std_13</th>\n",
       "      <th>rual_price_std_13</th>\n",
       "      <th>baltic_dry_index_std_9</th>\n",
       "      <th>export_australia_value_std_26</th>\n",
       "      <th>australia_pmi_std_26</th>\n",
       "      <th>sp_metals_price_std_4</th>\n",
       "      <th>bloomberg_metals_price_std_4</th>\n",
       "      <th>USD_EUR_rate_std_26</th>\n",
       "      <th>import_usa_value_std_13</th>\n",
       "      <th>export_usa_value_std_9</th>\n",
       "      <th>guinea_inflation_std_26</th>\n",
       "      <th>sp_metals_price_std_9</th>\n",
       "      <th>usa_gdp_increment_value</th>\n",
       "      <th>norsk_hydro_adj_increment_by_mean_26</th>\n",
       "      <th>rual_price_std_4</th>\n",
       "      <th>...</th>\n",
       "      <th>log10_kaiser_volume_std_9</th>\n",
       "      <th>brazil_inflation_std_26</th>\n",
       "      <th>log10_kaiser_volume_std_4</th>\n",
       "      <th>mosexchange_value_std_4</th>\n",
       "      <th>shanghai_index_std_4</th>\n",
       "      <th>import_brazil_value_std_26</th>\n",
       "      <th>import_usa_value_increment_by_mean_26</th>\n",
       "      <th>ftse_index_change_std_13</th>\n",
       "      <th>guinea_inflation_std_13</th>\n",
       "      <th>export_usa_value_std_26</th>\n",
       "      <th>export_usa_value_increment_by_mean_26</th>\n",
       "      <th>USD_EUR_rate_std_13</th>\n",
       "      <th>ftse_index_change_mean_26</th>\n",
       "      <th>export_brazil_value_std_13</th>\n",
       "      <th>sp_metals_change_std_9</th>\n",
       "      <th>rual_price_change_mean_26</th>\n",
       "      <th>export_brazil_value_increment_by_mean_26</th>\n",
       "      <th>rual_price_change_std_26</th>\n",
       "      <th>rual_price_change_std_13</th>\n",
       "      <th>china_pmi2_value_std_13</th>\n",
       "      <th>log10_alcoa_volume_std_13</th>\n",
       "      <th>log10_alcoa_volume_std_9</th>\n",
       "      <th>export_china_value_increment_by_mean_26</th>\n",
       "      <th>covid</th>\n",
       "      <th>after_feb</th>\n",
       "      <th>lme_price_smooth</th>\n",
       "      <th>target_1</th>\n",
       "      <th>target_2</th>\n",
       "      <th>target_3</th>\n",
       "      <th>target_4</th>\n",
       "    </tr>\n",
       "  </thead>\n",
       "  <tbody>\n",
       "    <tr>\n",
       "      <th>count</th>\n",
       "      <td>282.000000</td>\n",
       "      <td>282.000000</td>\n",
       "      <td>282.000000</td>\n",
       "      <td>282.000000</td>\n",
       "      <td>282.000000</td>\n",
       "      <td>282.000000</td>\n",
       "      <td>282.000000</td>\n",
       "      <td>282.000000</td>\n",
       "      <td>282.000000</td>\n",
       "      <td>282.000000</td>\n",
       "      <td>282.000000</td>\n",
       "      <td>282.000000</td>\n",
       "      <td>282.000000</td>\n",
       "      <td>282.000000</td>\n",
       "      <td>282.000000</td>\n",
       "      <td>282.000000</td>\n",
       "      <td>282.000000</td>\n",
       "      <td>282.000000</td>\n",
       "      <td>282.000000</td>\n",
       "      <td>282.000000</td>\n",
       "      <td>282.000000</td>\n",
       "      <td>282.000000</td>\n",
       "      <td>282.000000</td>\n",
       "      <td>282.000000</td>\n",
       "      <td>282.000000</td>\n",
       "      <td>282.000000</td>\n",
       "      <td>282.000000</td>\n",
       "      <td>282.000000</td>\n",
       "      <td>282.000000</td>\n",
       "      <td>282.000000</td>\n",
       "      <td>...</td>\n",
       "      <td>282.000000</td>\n",
       "      <td>282.000000</td>\n",
       "      <td>282.000000</td>\n",
       "      <td>282.000000</td>\n",
       "      <td>282.000000</td>\n",
       "      <td>282.000000</td>\n",
       "      <td>282.000000</td>\n",
       "      <td>282.000000</td>\n",
       "      <td>282.000000</td>\n",
       "      <td>282.000000</td>\n",
       "      <td>2.820000e+02</td>\n",
       "      <td>282.000000</td>\n",
       "      <td>282.000000</td>\n",
       "      <td>282.000000</td>\n",
       "      <td>282.000000</td>\n",
       "      <td>282.000000</td>\n",
       "      <td>282.000000</td>\n",
       "      <td>282.000000</td>\n",
       "      <td>282.000000</td>\n",
       "      <td>282.000000</td>\n",
       "      <td>282.000000</td>\n",
       "      <td>282.000000</td>\n",
       "      <td>2.820000e+02</td>\n",
       "      <td>282.000000</td>\n",
       "      <td>282.000000</td>\n",
       "      <td>282.000000</td>\n",
       "      <td>281.000000</td>\n",
       "      <td>280.000000</td>\n",
       "      <td>279.000000</td>\n",
       "      <td>278.000000</td>\n",
       "    </tr>\n",
       "    <tr>\n",
       "      <th>mean</th>\n",
       "      <td>138.559113</td>\n",
       "      <td>0.319516</td>\n",
       "      <td>0.309423</td>\n",
       "      <td>-0.000843</td>\n",
       "      <td>4.249986</td>\n",
       "      <td>273.543396</td>\n",
       "      <td>0.259927</td>\n",
       "      <td>1.800147</td>\n",
       "      <td>1.449233</td>\n",
       "      <td>4.563441</td>\n",
       "      <td>0.168945</td>\n",
       "      <td>0.227759</td>\n",
       "      <td>139.332413</td>\n",
       "      <td>1.663174</td>\n",
       "      <td>0.111457</td>\n",
       "      <td>0.181089</td>\n",
       "      <td>2.888936</td>\n",
       "      <td>264.172943</td>\n",
       "      <td>38.807678</td>\n",
       "      <td>1.468726</td>\n",
       "      <td>61.469463</td>\n",
       "      <td>2.826630</td>\n",
       "      <td>0.015950</td>\n",
       "      <td>130076.195312</td>\n",
       "      <td>143881.859375</td>\n",
       "      <td>0.477580</td>\n",
       "      <td>95.824181</td>\n",
       "      <td>2.179436</td>\n",
       "      <td>1.091418</td>\n",
       "      <td>1.485700</td>\n",
       "      <td>...</td>\n",
       "      <td>0.181229</td>\n",
       "      <td>0.768479</td>\n",
       "      <td>0.155476</td>\n",
       "      <td>171.235138</td>\n",
       "      <td>54.980236</td>\n",
       "      <td>18.217363</td>\n",
       "      <td>17068.943359</td>\n",
       "      <td>1.026909</td>\n",
       "      <td>0.329527</td>\n",
       "      <td>260680.625000</td>\n",
       "      <td>3.658002e+04</td>\n",
       "      <td>0.010979</td>\n",
       "      <td>0.086928</td>\n",
       "      <td>11.451565</td>\n",
       "      <td>0.859504</td>\n",
       "      <td>0.069141</td>\n",
       "      <td>1.836829</td>\n",
       "      <td>1.367122</td>\n",
       "      <td>1.222799</td>\n",
       "      <td>1.929837</td>\n",
       "      <td>0.131023</td>\n",
       "      <td>0.120998</td>\n",
       "      <td>4.268951e+04</td>\n",
       "      <td>0.228467</td>\n",
       "      <td>0.162726</td>\n",
       "      <td>2187.586670</td>\n",
       "      <td>-0.311324</td>\n",
       "      <td>-0.602007</td>\n",
       "      <td>-0.583585</td>\n",
       "      <td>-0.399618</td>\n",
       "    </tr>\n",
       "    <tr>\n",
       "      <th>std</th>\n",
       "      <td>27.089277</td>\n",
       "      <td>0.184627</td>\n",
       "      <td>0.315599</td>\n",
       "      <td>0.019017</td>\n",
       "      <td>2.630195</td>\n",
       "      <td>177.179459</td>\n",
       "      <td>0.196332</td>\n",
       "      <td>1.611941</td>\n",
       "      <td>1.076748</td>\n",
       "      <td>3.385589</td>\n",
       "      <td>0.137156</td>\n",
       "      <td>0.419358</td>\n",
       "      <td>106.679466</td>\n",
       "      <td>4.338950</td>\n",
       "      <td>0.205780</td>\n",
       "      <td>0.113887</td>\n",
       "      <td>2.095899</td>\n",
       "      <td>173.432083</td>\n",
       "      <td>11.945754</td>\n",
       "      <td>0.910203</td>\n",
       "      <td>42.420738</td>\n",
       "      <td>2.543974</td>\n",
       "      <td>0.008652</td>\n",
       "      <td>86156.429688</td>\n",
       "      <td>199285.578125</td>\n",
       "      <td>0.447644</td>\n",
       "      <td>59.999840</td>\n",
       "      <td>3.307303</td>\n",
       "      <td>5.963383</td>\n",
       "      <td>1.465832</td>\n",
       "      <td>...</td>\n",
       "      <td>0.074597</td>\n",
       "      <td>0.416949</td>\n",
       "      <td>0.079136</td>\n",
       "      <td>149.405640</td>\n",
       "      <td>60.812988</td>\n",
       "      <td>7.940274</td>\n",
       "      <td>280205.500000</td>\n",
       "      <td>0.880100</td>\n",
       "      <td>0.404302</td>\n",
       "      <td>222130.921875</td>\n",
       "      <td>3.697457e+05</td>\n",
       "      <td>0.006033</td>\n",
       "      <td>0.254548</td>\n",
       "      <td>7.060465</td>\n",
       "      <td>0.334876</td>\n",
       "      <td>0.259328</td>\n",
       "      <td>17.119184</td>\n",
       "      <td>0.726316</td>\n",
       "      <td>0.823724</td>\n",
       "      <td>2.333842</td>\n",
       "      <td>0.064236</td>\n",
       "      <td>0.058733</td>\n",
       "      <td>3.875421e+05</td>\n",
       "      <td>0.388796</td>\n",
       "      <td>0.300243</td>\n",
       "      <td>440.553650</td>\n",
       "      <td>54.538860</td>\n",
       "      <td>88.763176</td>\n",
       "      <td>113.060982</td>\n",
       "      <td>135.670944</td>\n",
       "    </tr>\n",
       "    <tr>\n",
       "      <th>min</th>\n",
       "      <td>92.510361</td>\n",
       "      <td>0.052547</td>\n",
       "      <td>-0.800000</td>\n",
       "      <td>-0.061387</td>\n",
       "      <td>0.997777</td>\n",
       "      <td>54.833698</td>\n",
       "      <td>0.012340</td>\n",
       "      <td>0.180923</td>\n",
       "      <td>0.099812</td>\n",
       "      <td>0.709486</td>\n",
       "      <td>0.013164</td>\n",
       "      <td>-0.456593</td>\n",
       "      <td>17.186796</td>\n",
       "      <td>-9.918187</td>\n",
       "      <td>-0.298297</td>\n",
       "      <td>0.000000</td>\n",
       "      <td>0.633519</td>\n",
       "      <td>32.954060</td>\n",
       "      <td>20.460823</td>\n",
       "      <td>0.315536</td>\n",
       "      <td>1.132393</td>\n",
       "      <td>0.132410</td>\n",
       "      <td>0.004820</td>\n",
       "      <td>13935.265625</td>\n",
       "      <td>4.350456</td>\n",
       "      <td>0.047933</td>\n",
       "      <td>25.982565</td>\n",
       "      <td>-7.500000</td>\n",
       "      <td>-17.344406</td>\n",
       "      <td>0.151132</td>\n",
       "      <td>...</td>\n",
       "      <td>0.062280</td>\n",
       "      <td>0.075746</td>\n",
       "      <td>0.025223</td>\n",
       "      <td>11.993413</td>\n",
       "      <td>3.007912</td>\n",
       "      <td>5.112617</td>\n",
       "      <td>-739684.187500</td>\n",
       "      <td>0.358280</td>\n",
       "      <td>0.000000</td>\n",
       "      <td>34.463089</td>\n",
       "      <td>-1.048385e+06</td>\n",
       "      <td>0.003077</td>\n",
       "      <td>-0.383544</td>\n",
       "      <td>1.025469</td>\n",
       "      <td>0.357106</td>\n",
       "      <td>-0.644664</td>\n",
       "      <td>-45.708199</td>\n",
       "      <td>0.519534</td>\n",
       "      <td>0.443797</td>\n",
       "      <td>0.123188</td>\n",
       "      <td>0.063388</td>\n",
       "      <td>0.044006</td>\n",
       "      <td>-2.087662e+06</td>\n",
       "      <td>0.000000</td>\n",
       "      <td>0.000000</td>\n",
       "      <td>1479.717651</td>\n",
       "      <td>-250.823135</td>\n",
       "      <td>-405.278900</td>\n",
       "      <td>-482.037415</td>\n",
       "      <td>-501.510193</td>\n",
       "    </tr>\n",
       "    <tr>\n",
       "      <th>25%</th>\n",
       "      <td>115.814018</td>\n",
       "      <td>0.181782</td>\n",
       "      <td>0.114286</td>\n",
       "      <td>-0.007432</td>\n",
       "      <td>2.388422</td>\n",
       "      <td>157.340839</td>\n",
       "      <td>0.104818</td>\n",
       "      <td>0.797250</td>\n",
       "      <td>0.685221</td>\n",
       "      <td>2.282125</td>\n",
       "      <td>0.073566</td>\n",
       "      <td>-0.097390</td>\n",
       "      <td>67.255049</td>\n",
       "      <td>-1.194396</td>\n",
       "      <td>-0.027850</td>\n",
       "      <td>0.094085</td>\n",
       "      <td>1.270065</td>\n",
       "      <td>140.885593</td>\n",
       "      <td>30.789421</td>\n",
       "      <td>0.873097</td>\n",
       "      <td>33.651959</td>\n",
       "      <td>1.361378</td>\n",
       "      <td>0.009079</td>\n",
       "      <td>68989.271484</td>\n",
       "      <td>58.201325</td>\n",
       "      <td>0.123536</td>\n",
       "      <td>56.421979</td>\n",
       "      <td>1.600000</td>\n",
       "      <td>-3.318606</td>\n",
       "      <td>0.631009</td>\n",
       "      <td>...</td>\n",
       "      <td>0.131635</td>\n",
       "      <td>0.530509</td>\n",
       "      <td>0.095969</td>\n",
       "      <td>74.890287</td>\n",
       "      <td>17.469517</td>\n",
       "      <td>13.682424</td>\n",
       "      <td>-137310.839844</td>\n",
       "      <td>0.684027</td>\n",
       "      <td>0.086648</td>\n",
       "      <td>51588.446289</td>\n",
       "      <td>-7.636204e+04</td>\n",
       "      <td>0.006101</td>\n",
       "      <td>-0.117033</td>\n",
       "      <td>6.323245</td>\n",
       "      <td>0.627960</td>\n",
       "      <td>-0.081058</td>\n",
       "      <td>-8.919422</td>\n",
       "      <td>0.775658</td>\n",
       "      <td>0.678542</td>\n",
       "      <td>0.594897</td>\n",
       "      <td>0.102023</td>\n",
       "      <td>0.090973</td>\n",
       "      <td>-3.295350e+04</td>\n",
       "      <td>0.000000</td>\n",
       "      <td>0.000000</td>\n",
       "      <td>1817.211273</td>\n",
       "      <td>-25.840136</td>\n",
       "      <td>-37.955357</td>\n",
       "      <td>-48.028912</td>\n",
       "      <td>-56.183670</td>\n",
       "    </tr>\n",
       "    <tr>\n",
       "      <th>50%</th>\n",
       "      <td>137.973709</td>\n",
       "      <td>0.262551</td>\n",
       "      <td>0.271429</td>\n",
       "      <td>0.002079</td>\n",
       "      <td>3.588298</td>\n",
       "      <td>222.021904</td>\n",
       "      <td>0.199643</td>\n",
       "      <td>1.263716</td>\n",
       "      <td>1.133976</td>\n",
       "      <td>3.419452</td>\n",
       "      <td>0.128673</td>\n",
       "      <td>0.113984</td>\n",
       "      <td>106.238907</td>\n",
       "      <td>1.178379</td>\n",
       "      <td>0.043915</td>\n",
       "      <td>0.147607</td>\n",
       "      <td>2.277157</td>\n",
       "      <td>240.012840</td>\n",
       "      <td>35.146879</td>\n",
       "      <td>1.217718</td>\n",
       "      <td>50.641411</td>\n",
       "      <td>2.123902</td>\n",
       "      <td>0.013075</td>\n",
       "      <td>106625.527344</td>\n",
       "      <td>37803.453125</td>\n",
       "      <td>0.311755</td>\n",
       "      <td>78.254429</td>\n",
       "      <td>2.100000</td>\n",
       "      <td>0.351474</td>\n",
       "      <td>1.032920</td>\n",
       "      <td>...</td>\n",
       "      <td>0.166465</td>\n",
       "      <td>0.705503</td>\n",
       "      <td>0.138548</td>\n",
       "      <td>133.555809</td>\n",
       "      <td>30.231833</td>\n",
       "      <td>16.941558</td>\n",
       "      <td>11276.602051</td>\n",
       "      <td>0.836190</td>\n",
       "      <td>0.143104</td>\n",
       "      <td>296422.484375</td>\n",
       "      <td>2.803652e+01</td>\n",
       "      <td>0.009997</td>\n",
       "      <td>0.056346</td>\n",
       "      <td>9.413164</td>\n",
       "      <td>0.824268</td>\n",
       "      <td>0.082795</td>\n",
       "      <td>3.603731</td>\n",
       "      <td>1.276973</td>\n",
       "      <td>0.899056</td>\n",
       "      <td>1.021688</td>\n",
       "      <td>0.119366</td>\n",
       "      <td>0.111959</td>\n",
       "      <td>1.238666e+05</td>\n",
       "      <td>0.001789</td>\n",
       "      <td>0.000000</td>\n",
       "      <td>2156.904785</td>\n",
       "      <td>-0.459184</td>\n",
       "      <td>3.704082</td>\n",
       "      <td>-0.063776</td>\n",
       "      <td>1.463435</td>\n",
       "    </tr>\n",
       "    <tr>\n",
       "      <th>75%</th>\n",
       "      <td>157.672840</td>\n",
       "      <td>0.431286</td>\n",
       "      <td>0.467857</td>\n",
       "      <td>0.010331</td>\n",
       "      <td>5.559886</td>\n",
       "      <td>330.064423</td>\n",
       "      <td>0.362646</td>\n",
       "      <td>2.294541</td>\n",
       "      <td>1.938555</td>\n",
       "      <td>5.641539</td>\n",
       "      <td>0.213414</td>\n",
       "      <td>0.567431</td>\n",
       "      <td>183.876663</td>\n",
       "      <td>3.210261</td>\n",
       "      <td>0.272423</td>\n",
       "      <td>0.238214</td>\n",
       "      <td>3.887846</td>\n",
       "      <td>344.749168</td>\n",
       "      <td>43.900826</td>\n",
       "      <td>1.690884</td>\n",
       "      <td>75.568159</td>\n",
       "      <td>3.297789</td>\n",
       "      <td>0.021314</td>\n",
       "      <td>163834.441406</td>\n",
       "      <td>326059.570312</td>\n",
       "      <td>0.691800</td>\n",
       "      <td>121.751614</td>\n",
       "      <td>3.200000</td>\n",
       "      <td>5.836391</td>\n",
       "      <td>1.864023</td>\n",
       "      <td>...</td>\n",
       "      <td>0.215140</td>\n",
       "      <td>0.883360</td>\n",
       "      <td>0.198082</td>\n",
       "      <td>219.060089</td>\n",
       "      <td>70.268661</td>\n",
       "      <td>21.090298</td>\n",
       "      <td>123405.437500</td>\n",
       "      <td>1.092651</td>\n",
       "      <td>0.440530</td>\n",
       "      <td>475749.328125</td>\n",
       "      <td>1.976056e+05</td>\n",
       "      <td>0.013818</td>\n",
       "      <td>0.250124</td>\n",
       "      <td>14.169419</td>\n",
       "      <td>1.040040</td>\n",
       "      <td>0.266133</td>\n",
       "      <td>13.533453</td>\n",
       "      <td>1.540867</td>\n",
       "      <td>1.550014</td>\n",
       "      <td>2.209734</td>\n",
       "      <td>0.137178</td>\n",
       "      <td>0.130546</td>\n",
       "      <td>2.662155e+05</td>\n",
       "      <td>0.233603</td>\n",
       "      <td>0.212876</td>\n",
       "      <td>2424.097717</td>\n",
       "      <td>28.748299</td>\n",
       "      <td>41.128403</td>\n",
       "      <td>56.182823</td>\n",
       "      <td>67.275345</td>\n",
       "    </tr>\n",
       "    <tr>\n",
       "      <th>max</th>\n",
       "      <td>219.151077</td>\n",
       "      <td>1.000019</td>\n",
       "      <td>1.200000</td>\n",
       "      <td>0.039384</td>\n",
       "      <td>10.955032</td>\n",
       "      <td>1061.947510</td>\n",
       "      <td>1.089527</td>\n",
       "      <td>10.083645</td>\n",
       "      <td>6.179316</td>\n",
       "      <td>18.954939</td>\n",
       "      <td>0.855263</td>\n",
       "      <td>1.216374</td>\n",
       "      <td>676.841736</td>\n",
       "      <td>12.985385</td>\n",
       "      <td>0.883725</td>\n",
       "      <td>0.476161</td>\n",
       "      <td>11.433876</td>\n",
       "      <td>1182.361938</td>\n",
       "      <td>72.951920</td>\n",
       "      <td>4.668333</td>\n",
       "      <td>246.901871</td>\n",
       "      <td>20.774715</td>\n",
       "      <td>0.037741</td>\n",
       "      <td>423792.468750</td>\n",
       "      <td>576601.875000</td>\n",
       "      <td>1.875443</td>\n",
       "      <td>355.842255</td>\n",
       "      <td>12.000000</td>\n",
       "      <td>17.262218</td>\n",
       "      <td>9.514813</td>\n",
       "      <td>...</td>\n",
       "      <td>0.539686</td>\n",
       "      <td>2.162869</td>\n",
       "      <td>0.580561</td>\n",
       "      <td>1070.169067</td>\n",
       "      <td>372.030029</td>\n",
       "      <td>36.538708</td>\n",
       "      <td>994431.062500</td>\n",
       "      <td>6.957414</td>\n",
       "      <td>2.055619</td>\n",
       "      <td>614147.562500</td>\n",
       "      <td>9.726857e+05</td>\n",
       "      <td>0.032877</td>\n",
       "      <td>0.883725</td>\n",
       "      <td>34.526402</td>\n",
       "      <td>2.312746</td>\n",
       "      <td>0.604560</td>\n",
       "      <td>42.746223</td>\n",
       "      <td>3.338836</td>\n",
       "      <td>4.155205</td>\n",
       "      <td>11.381265</td>\n",
       "      <td>0.468992</td>\n",
       "      <td>0.495820</td>\n",
       "      <td>6.956746e+05</td>\n",
       "      <td>1.000000</td>\n",
       "      <td>1.000000</td>\n",
       "      <td>3615.221191</td>\n",
       "      <td>185.122452</td>\n",
       "      <td>318.639465</td>\n",
       "      <td>397.768707</td>\n",
       "      <td>475.013611</td>\n",
       "    </tr>\n",
       "  </tbody>\n",
       "</table>\n",
       "<p>8 rows × 66 columns</p>\n",
       "</div>"
      ],
      "text/plain": [
       "       bloomberg_metals_price_mean_4  chalco_adj_std_13  \\\n",
       "count                     282.000000         282.000000   \n",
       "mean                      138.559113           0.319516   \n",
       "std                        27.089277           0.184627   \n",
       "min                        92.510361           0.052547   \n",
       "25%                       115.814018           0.181782   \n",
       "50%                       137.973709           0.262551   \n",
       "75%                       157.672840           0.431286   \n",
       "max                       219.151077           1.000019   \n",
       "\n",
       "       usa_inflation_value_shift_13  usd_to_hkd_increment_by_mean_26  \\\n",
       "count                    282.000000                       282.000000   \n",
       "mean                       0.309423                        -0.000843   \n",
       "std                        0.315599                         0.019017   \n",
       "min                       -0.800000                        -0.061387   \n",
       "25%                        0.114286                        -0.007432   \n",
       "50%                        0.271429                         0.002079   \n",
       "75%                        0.467857                         0.010331   \n",
       "max                        1.200000                         0.039384   \n",
       "\n",
       "       rual_price_std_26  ftse_index_std_13  hongqiao_adj_std_4  \\\n",
       "count         282.000000         282.000000          282.000000   \n",
       "mean            4.249986         273.543396            0.259927   \n",
       "std             2.630195         177.179459            0.196332   \n",
       "min             0.997777          54.833698            0.012340   \n",
       "25%             2.388422         157.340839            0.104818   \n",
       "50%             3.588298         222.021904            0.199643   \n",
       "75%             5.559886         330.064423            0.362646   \n",
       "max            10.955032        1061.947510            1.089527   \n",
       "\n",
       "       alcoa_price_std_4  norsk_hydro_adj_std_4  bloomberg_metals_price_std_9  \\\n",
       "count         282.000000             282.000000                    282.000000   \n",
       "mean            1.800147               1.449233                      4.563441   \n",
       "std             1.611941               1.076748                      3.385589   \n",
       "min             0.180923               0.099812                      0.709486   \n",
       "25%             0.797250               0.685221                      2.282125   \n",
       "50%             1.263716               1.133976                      3.419452   \n",
       "75%             2.294541               1.938555                      5.641539   \n",
       "max            10.083645               6.179316                     18.954939   \n",
       "\n",
       "       chalco_price_std_4  eu_inflation_value_increment_by_mean_26  \\\n",
       "count          282.000000                               282.000000   \n",
       "mean             0.168945                                 0.227759   \n",
       "std              0.137156                                 0.419358   \n",
       "min              0.013164                                -0.456593   \n",
       "25%              0.073566                                -0.097390   \n",
       "50%              0.128673                                 0.113984   \n",
       "75%              0.213414                                 0.567431   \n",
       "max              0.855263                                 1.216374   \n",
       "\n",
       "       ftse_index_std_4  USD_JPY_rate_increment_by_mean_26  \\\n",
       "count        282.000000                         282.000000   \n",
       "mean         139.332413                           1.663174   \n",
       "std          106.679466                           4.338950   \n",
       "min           17.186796                          -9.918187   \n",
       "25%           67.255049                          -1.194396   \n",
       "50%          106.238907                           1.178379   \n",
       "75%          183.876663                           3.210261   \n",
       "max          676.841736                          12.985385   \n",
       "\n",
       "       ftse_index_change_mean_52  eu_inflation_value_std_13  \\\n",
       "count                 282.000000                 282.000000   \n",
       "mean                    0.111457                   0.181089   \n",
       "std                     0.205780                   0.113887   \n",
       "min                    -0.298297                   0.000000   \n",
       "25%                    -0.027850                   0.094085   \n",
       "50%                     0.043915                   0.147607   \n",
       "75%                     0.272423                   0.238214   \n",
       "max                     0.883725                   0.476161   \n",
       "\n",
       "       rual_price_std_13  baltic_dry_index_std_9  \\\n",
       "count         282.000000              282.000000   \n",
       "mean            2.888936              264.172943   \n",
       "std             2.095899              173.432083   \n",
       "min             0.633519               32.954060   \n",
       "25%             1.270065              140.885593   \n",
       "50%             2.277157              240.012840   \n",
       "75%             3.887846              344.749168   \n",
       "max            11.433876             1182.361938   \n",
       "\n",
       "       export_australia_value_std_26  australia_pmi_std_26  \\\n",
       "count                     282.000000            282.000000   \n",
       "mean                       38.807678              1.468726   \n",
       "std                        11.945754              0.910203   \n",
       "min                        20.460823              0.315536   \n",
       "25%                        30.789421              0.873097   \n",
       "50%                        35.146879              1.217718   \n",
       "75%                        43.900826              1.690884   \n",
       "max                        72.951920              4.668333   \n",
       "\n",
       "       sp_metals_price_std_4  bloomberg_metals_price_std_4  \\\n",
       "count             282.000000                    282.000000   \n",
       "mean               61.469463                      2.826630   \n",
       "std                42.420738                      2.543974   \n",
       "min                 1.132393                      0.132410   \n",
       "25%                33.651959                      1.361378   \n",
       "50%                50.641411                      2.123902   \n",
       "75%                75.568159                      3.297789   \n",
       "max               246.901871                     20.774715   \n",
       "\n",
       "       USD_EUR_rate_std_26  import_usa_value_std_13  export_usa_value_std_9  \\\n",
       "count           282.000000               282.000000              282.000000   \n",
       "mean              0.015950            130076.195312           143881.859375   \n",
       "std               0.008652             86156.429688           199285.578125   \n",
       "min               0.004820             13935.265625                4.350456   \n",
       "25%               0.009079             68989.271484               58.201325   \n",
       "50%               0.013075            106625.527344            37803.453125   \n",
       "75%               0.021314            163834.441406           326059.570312   \n",
       "max               0.037741            423792.468750           576601.875000   \n",
       "\n",
       "       guinea_inflation_std_26  sp_metals_price_std_9  \\\n",
       "count               282.000000             282.000000   \n",
       "mean                  0.477580              95.824181   \n",
       "std                   0.447644              59.999840   \n",
       "min                   0.047933              25.982565   \n",
       "25%                   0.123536              56.421979   \n",
       "50%                   0.311755              78.254429   \n",
       "75%                   0.691800             121.751614   \n",
       "max                   1.875443             355.842255   \n",
       "\n",
       "       usa_gdp_increment_value  norsk_hydro_adj_increment_by_mean_26  \\\n",
       "count               282.000000                            282.000000   \n",
       "mean                  2.179436                              1.091418   \n",
       "std                   3.307303                              5.963383   \n",
       "min                  -7.500000                            -17.344406   \n",
       "25%                   1.600000                             -3.318606   \n",
       "50%                   2.100000                              0.351474   \n",
       "75%                   3.200000                              5.836391   \n",
       "max                  12.000000                             17.262218   \n",
       "\n",
       "       rual_price_std_4  ...  log10_kaiser_volume_std_9  \\\n",
       "count        282.000000  ...                 282.000000   \n",
       "mean           1.485700  ...                   0.181229   \n",
       "std            1.465832  ...                   0.074597   \n",
       "min            0.151132  ...                   0.062280   \n",
       "25%            0.631009  ...                   0.131635   \n",
       "50%            1.032920  ...                   0.166465   \n",
       "75%            1.864023  ...                   0.215140   \n",
       "max            9.514813  ...                   0.539686   \n",
       "\n",
       "       brazil_inflation_std_26  log10_kaiser_volume_std_4  \\\n",
       "count               282.000000                 282.000000   \n",
       "mean                  0.768479                   0.155476   \n",
       "std                   0.416949                   0.079136   \n",
       "min                   0.075746                   0.025223   \n",
       "25%                   0.530509                   0.095969   \n",
       "50%                   0.705503                   0.138548   \n",
       "75%                   0.883360                   0.198082   \n",
       "max                   2.162869                   0.580561   \n",
       "\n",
       "       mosexchange_value_std_4  shanghai_index_std_4  \\\n",
       "count               282.000000            282.000000   \n",
       "mean                171.235138             54.980236   \n",
       "std                 149.405640             60.812988   \n",
       "min                  11.993413              3.007912   \n",
       "25%                  74.890287             17.469517   \n",
       "50%                 133.555809             30.231833   \n",
       "75%                 219.060089             70.268661   \n",
       "max                1070.169067            372.030029   \n",
       "\n",
       "       import_brazil_value_std_26  import_usa_value_increment_by_mean_26  \\\n",
       "count                  282.000000                             282.000000   \n",
       "mean                    18.217363                           17068.943359   \n",
       "std                      7.940274                          280205.500000   \n",
       "min                      5.112617                         -739684.187500   \n",
       "25%                     13.682424                         -137310.839844   \n",
       "50%                     16.941558                           11276.602051   \n",
       "75%                     21.090298                          123405.437500   \n",
       "max                     36.538708                          994431.062500   \n",
       "\n",
       "       ftse_index_change_std_13  guinea_inflation_std_13  \\\n",
       "count                282.000000               282.000000   \n",
       "mean                   1.026909                 0.329527   \n",
       "std                    0.880100                 0.404302   \n",
       "min                    0.358280                 0.000000   \n",
       "25%                    0.684027                 0.086648   \n",
       "50%                    0.836190                 0.143104   \n",
       "75%                    1.092651                 0.440530   \n",
       "max                    6.957414                 2.055619   \n",
       "\n",
       "       export_usa_value_std_26  export_usa_value_increment_by_mean_26  \\\n",
       "count               282.000000                           2.820000e+02   \n",
       "mean             260680.625000                           3.658002e+04   \n",
       "std              222130.921875                           3.697457e+05   \n",
       "min                  34.463089                          -1.048385e+06   \n",
       "25%               51588.446289                          -7.636204e+04   \n",
       "50%              296422.484375                           2.803652e+01   \n",
       "75%              475749.328125                           1.976056e+05   \n",
       "max              614147.562500                           9.726857e+05   \n",
       "\n",
       "       USD_EUR_rate_std_13  ftse_index_change_mean_26  \\\n",
       "count           282.000000                 282.000000   \n",
       "mean              0.010979                   0.086928   \n",
       "std               0.006033                   0.254548   \n",
       "min               0.003077                  -0.383544   \n",
       "25%               0.006101                  -0.117033   \n",
       "50%               0.009997                   0.056346   \n",
       "75%               0.013818                   0.250124   \n",
       "max               0.032877                   0.883725   \n",
       "\n",
       "       export_brazil_value_std_13  sp_metals_change_std_9  \\\n",
       "count                  282.000000              282.000000   \n",
       "mean                    11.451565                0.859504   \n",
       "std                      7.060465                0.334876   \n",
       "min                      1.025469                0.357106   \n",
       "25%                      6.323245                0.627960   \n",
       "50%                      9.413164                0.824268   \n",
       "75%                     14.169419                1.040040   \n",
       "max                     34.526402                2.312746   \n",
       "\n",
       "       rual_price_change_mean_26  export_brazil_value_increment_by_mean_26  \\\n",
       "count                 282.000000                                282.000000   \n",
       "mean                    0.069141                                  1.836829   \n",
       "std                     0.259328                                 17.119184   \n",
       "min                    -0.644664                                -45.708199   \n",
       "25%                    -0.081058                                 -8.919422   \n",
       "50%                     0.082795                                  3.603731   \n",
       "75%                     0.266133                                 13.533453   \n",
       "max                     0.604560                                 42.746223   \n",
       "\n",
       "       rual_price_change_std_26  rual_price_change_std_13  \\\n",
       "count                282.000000                282.000000   \n",
       "mean                   1.367122                  1.222799   \n",
       "std                    0.726316                  0.823724   \n",
       "min                    0.519534                  0.443797   \n",
       "25%                    0.775658                  0.678542   \n",
       "50%                    1.276973                  0.899056   \n",
       "75%                    1.540867                  1.550014   \n",
       "max                    3.338836                  4.155205   \n",
       "\n",
       "       china_pmi2_value_std_13  log10_alcoa_volume_std_13  \\\n",
       "count               282.000000                 282.000000   \n",
       "mean                  1.929837                   0.131023   \n",
       "std                   2.333842                   0.064236   \n",
       "min                   0.123188                   0.063388   \n",
       "25%                   0.594897                   0.102023   \n",
       "50%                   1.021688                   0.119366   \n",
       "75%                   2.209734                   0.137178   \n",
       "max                  11.381265                   0.468992   \n",
       "\n",
       "       log10_alcoa_volume_std_9  export_china_value_increment_by_mean_26  \\\n",
       "count                282.000000                             2.820000e+02   \n",
       "mean                   0.120998                             4.268951e+04   \n",
       "std                    0.058733                             3.875421e+05   \n",
       "min                    0.044006                            -2.087662e+06   \n",
       "25%                    0.090973                            -3.295350e+04   \n",
       "50%                    0.111959                             1.238666e+05   \n",
       "75%                    0.130546                             2.662155e+05   \n",
       "max                    0.495820                             6.956746e+05   \n",
       "\n",
       "            covid   after_feb  lme_price_smooth    target_1    target_2  \\\n",
       "count  282.000000  282.000000        282.000000  281.000000  280.000000   \n",
       "mean     0.228467    0.162726       2187.586670   -0.311324   -0.602007   \n",
       "std      0.388796    0.300243        440.553650   54.538860   88.763176   \n",
       "min      0.000000    0.000000       1479.717651 -250.823135 -405.278900   \n",
       "25%      0.000000    0.000000       1817.211273  -25.840136  -37.955357   \n",
       "50%      0.001789    0.000000       2156.904785   -0.459184    3.704082   \n",
       "75%      0.233603    0.212876       2424.097717   28.748299   41.128403   \n",
       "max      1.000000    1.000000       3615.221191  185.122452  318.639465   \n",
       "\n",
       "         target_3    target_4  \n",
       "count  279.000000  278.000000  \n",
       "mean    -0.583585   -0.399618  \n",
       "std    113.060982  135.670944  \n",
       "min   -482.037415 -501.510193  \n",
       "25%    -48.028912  -56.183670  \n",
       "50%     -0.063776    1.463435  \n",
       "75%     56.182823   67.275345  \n",
       "max    397.768707  475.013611  \n",
       "\n",
       "[8 rows x 66 columns]"
      ]
     },
     "execution_count": 15,
     "metadata": {},
     "output_type": "execute_result"
    }
   ],
   "source": [
    "df.describe()"
   ]
  },
  {
   "cell_type": "code",
   "execution_count": 32,
   "id": "cb45d2c8",
   "metadata": {},
   "outputs": [],
   "source": [
    "# Извлекаем временной ряд с ценами на медь\n",
    "data_ts = TimeSeries.from_dataframe(df, time_col='date', value_cols='lme_price_smooth')\n",
    "# Извлекаем коварианты\n",
    "data_past_cov = TimeSeries.from_dataframe(df, time_col='date', value_cols=df.columns.values[1:-5])\n",
    "# Возьмем срез данных для всего процесса развития модели ts & past_cov и out-of-time выборку\n",
    "ts = data_ts[:-OUT_OF_TIME_DIM]\n",
    "past_cov = data_past_cov[:-OUT_OF_TIME_DIM]\n",
    "# Размер выборки out-of-time = 26 точек (то есть 26 недель = 6 месяцев)\n",
    "# out-of-time выборка будет использована лишь в самом конце"
   ]
  },
  {
   "cell_type": "code",
   "execution_count": null,
   "id": "550f897f",
   "metadata": {},
   "outputs": [],
   "source": []
  },
  {
   "cell_type": "code",
   "execution_count": 17,
   "id": "b104fff2",
   "metadata": {},
   "outputs": [],
   "source": [
    "import datetime"
   ]
  },
  {
   "cell_type": "code",
   "execution_count": 18,
   "id": "8d800053",
   "metadata": {},
   "outputs": [
    {
     "data": {
      "image/png": "[encoded data removed]",
      "text/plain": [
       "<Figure size 1000x500 with 1 Axes>"
      ]
     },
     "metadata": {},
     "output_type": "display_data"
    }
   ],
   "source": [
    "# Рисуем\n",
    "# Рисуем\n",
    "fig, ax = plt.subplots(figsize=(10, 5))\n",
    "data_ts.plot(label=\"Данные для теста\", color='g')\n",
    "ts.plot(label=\"Данные для обучения\", color='b')\n",
    "l1 = ax.axvline(x=ts.end_time(), color='r', linestyle='--', linewidth=1.5)\n",
    "ax.annotate('4 июня 2023', xy=(ts.end_time(), 1900), xytext=(ts.end_time() - datetime.timedelta(700), 1600),\n",
    "            arrowprops=dict(facecolor='black', width=1, headwidth=10, headlength=10), fontsize = 13\n",
    "            )\n",
    "ax.set_ylabel('Цена меди LME');\n",
    "ax.set_xlabel('Дата');\n",
    "#plt.savefig('preview.png', dpi=400, format='png')"
   ]
  },
  {
   "cell_type": "code",
   "execution_count": null,
   "id": "fd969f49",
   "metadata": {},
   "outputs": [],
   "source": []
  },
  {
   "cell_type": "code",
   "execution_count": 63,
   "id": "ddc3985f",
   "metadata": {},
   "outputs": [],
   "source": [
    "AutoARIMA?"
   ]
  },
  {
   "cell_type": "code",
   "execution_count": 79,
   "id": "ec4993d4",
   "metadata": {},
   "outputs": [],
   "source": [
    "model = AutoARIMA(start_p=2, d=None, start_q=2, max_p=10, max_d=3, max_q=10, start_P=1, D=None, \n",
    "                  start_Q=1, max_P=5, max_D=5, max_Q=5, max_order=10, m=1, seasonal=True, stationary=False, \n",
    "                  information_criterion='aic', alpha=0.05, test='kpss', seasonal_test='ocsb',\n",
    "                  stepwise=True, n_jobs=1, start_params=None, trend=None, method='lbfgs', maxiter=5000, \n",
    "                  offset_test_args=None, seasonal_test_args=None, suppress_warnings=True,\n",
    "                  error_action='trace', trace=False, random=False, random_state=None, n_fits=10,\n",
    "                  out_of_sample_size=0, scoring='mse', with_intercept='auto')\n",
    "model.fit(ts)\n",
    "pred = model.predict(20)"
   ]
  },
  {
   "cell_type": "code",
   "execution_count": 86,
   "id": "610304b2",
   "metadata": {},
   "outputs": [
    {
     "data": {
      "text/plain": [
       "1.5438539800320676"
      ]
     },
     "execution_count": 86,
     "metadata": {},
     "output_type": "execute_result"
    }
   ],
   "source": [
    "mape(data_ts, pred)"
   ]
  },
  {
   "cell_type": "code",
   "execution_count": 88,
   "id": "a3096ec1",
   "metadata": {},
   "outputs": [
    {
     "data": {
      "image/png": "[encoded data removed]",
      "text/plain": [
       "<Figure size 1200x400 with 1 Axes>"
      ]
     },
     "metadata": {},
     "output_type": "display_data"
    }
   ],
   "source": [
    "fig, ax = plt.subplots(figsize=(12, 4))\n",
    "data_ts[-50:].plot(label=\"Данные для обучения\")\n",
    "data_ts[-OUT_OF_TIME_DIM:].plot(label=\"Тест\")\n",
    "pred.plot(label=\"AutoARIMA\")\n",
    "ax.set_ylabel('Цена меди LME');\n",
    "ax.set_xlabel('Дата');\n",
    "plt.savefig('arima.png', dpi=400, format='png')"
   ]
  },
  {
   "cell_type": "code",
   "execution_count": null,
   "id": "43b39483",
   "metadata": {},
   "outputs": [],
   "source": []
  },
  {
   "cell_type": "code",
   "execution_count": null,
   "id": "f6aa79d0",
   "metadata": {},
   "outputs": [],
   "source": []
  },
  {
   "cell_type": "code",
   "execution_count": null,
   "id": "b60ef3e3",
   "metadata": {},
   "outputs": [],
   "source": []
  },
  {
   "cell_type": "code",
   "execution_count": null,
   "id": "336d5bd7",
   "metadata": {},
   "outputs": [],
   "source": []
  },
  {
   "cell_type": "markdown",
   "id": "4c6120cc",
   "metadata": {},
   "source": [
    "## Tools"
   ]
  },
  {
   "cell_type": "markdown",
   "id": "19a259d2",
   "metadata": {},
   "source": [
    "### Cross-validation"
   ]
  },
  {
   "cell_type": "code",
   "execution_count": 10,
   "id": "87b61c2c",
   "metadata": {},
   "outputs": [],
   "source": [
    "# Использовать backtest нет смысла, так как в нем не реализована функция трансформации данных (Scaler)\n",
    "# Судя по github darts на октябрь 2023 идет разработка данного модуля\n",
    "\n",
    "# average_error = tcn_model.backtest(\n",
    "#     series = ts_train,\n",
    "#     past_covariates=\n",
    "#     start=0.5,\n",
    "#     forecast_horizon=17,\n",
    "#     stride = 9\n",
    "#     metric=mape,\n",
    "#     reduction=np.mean,  # this is actually the default\n",
    "#     retrain = True\n",
    "#     verbose=True,\n",
    "# )\n",
    "\n",
    "# print(\"Average error (MAPE) over all historical forecasts: %.2f\" % average_error)"
   ]
  },
  {
   "cell_type": "markdown",
   "id": "6bf16f3b",
   "metadata": {},
   "source": [
    "Так как backtest не работает, пропишем ручную версию  \n",
    "В ручной версии подразумевается обучение модели с нуля на каждом шаге"
   ]
  },
  {
   "cell_type": "code",
   "execution_count": 35,
   "id": "7098070c",
   "metadata": {},
   "outputs": [],
   "source": [
    "def manual_backtest(model, ts, past_covariates, forecast_horizont=FORECAST_LEN, \n",
    "                    start_test=180, step = 10, save_curves=False,\n",
    "                    rolling_window=False, window_size=None):\n",
    "    '''\n",
    "    Функция аналогична встроенной функции backtest\n",
    "    '''\n",
    "    metrics = list() # Список для метрик\n",
    "    prediction_curves = dict() # Список для последюущей визуализации кривых\n",
    "    k=1\n",
    "    # Скользящее или расширяющееся окно\n",
    "    if rolling_window: \n",
    "        start_train = start_test - window_size\n",
    "    else:\n",
    "        start_train=0\n",
    "    while True:\n",
    "        print('Iter #', k)\n",
    "        cur_train = ts[start_train : start_test]\n",
    "        cur_test = ts[start_test : start_test + int(forecast_horizont)]\n",
    "        # Инициализация scaler-ов\n",
    "        scaler_ts, scaler_past_cov = Scaler(), Scaler()\n",
    "        # Есть ли экзогенные признаки\n",
    "        if past_covariates is not None:\n",
    "            past_cov_train = past_covariates[start_train : start_test]\n",
    "            past_cov_test = past_covariates[start_test : start_test + int(forecast_horizont)]\n",
    "            \n",
    "            cur_train_scaled = scaler_ts.fit_transform(cur_train)\n",
    "            past_cov_train_scaled = scaler_past_cov.fit_transform(past_cov_train)\n",
    "            cur_test_scaled = scaler_ts.transform(cur_test)\n",
    "            past_cov_test_scaled = scaler_past_cov.transform(past_cov_test)\n",
    "            \n",
    "            model1 = deepcopy(model)\n",
    "            model1.fit(series=cur_train_scaled,\n",
    "                        past_covariates=past_cov_train_scaled)\n",
    "            cur_pred_scaled = model1.predict(int(forecast_horizont),\n",
    "                                             series=cur_train_scaled,\n",
    "                                             past_covariates=past_cov_train_scaled)\n",
    "            cur_pred = scaler_ts.inverse_transform(cur_pred_scaled)\n",
    "        # Если экзогенных признаков нет  \n",
    "        else:\n",
    "            cur_train_scaled = scaler_ts.fit_transform(cur_train)\n",
    "            cur_test_scaled = scaler_ts.transform(cur_test)\n",
    "            \n",
    "            model1 = deepcopy(model)\n",
    "            model1.fit(series=cur_train_scaled)\n",
    "            cur_pred_scaled = model1.predict(int(forecast_horizont),\n",
    "                                             series=cur_train_scaled)\n",
    "            cur_pred = scaler_ts.inverse_transform(cur_pred_scaled)\n",
    "        # Вычисляем метрику и добавляем в список   \n",
    "        metric = mape(cur_test, cur_pred, intersect=True)\n",
    "        metrics.append(metric)\n",
    "        # n_epochs.append(model1.epochs_trained)\n",
    "        # При необходимости можно собирать информацию о количестве эпох обучения\n",
    "        # Добавляем спрогнозированную кривую в набор кривых для последующей отрисовки\n",
    "        prediction_curves['pred_'+str(k)]=cur_pred\n",
    "        k+=1\n",
    "        \n",
    "        start_test+=step\n",
    "        if rolling_window:\n",
    "            start_train+=step\n",
    "        if start_test + int(forecast_horizont) >= len(ts):\n",
    "            break\n",
    "            \n",
    "    if save_curves==True:\n",
    "        return metrics, prediction_curves\n",
    "    else:\n",
    "        return metrics"
   ]
  },
  {
   "cell_type": "markdown",
   "id": "5d297761",
   "metadata": {},
   "source": [
    "### Hyperparameter optimization (optuna)"
   ]
  },
  {
   "cell_type": "code",
   "execution_count": 33,
   "id": "6ab62898",
   "metadata": {},
   "outputs": [],
   "source": [
    "def objective(trial, ts, past_cov, forecast_len = FORECAST_LEN):\n",
    "    \n",
    "    settings = {\n",
    "        \"lags\" : trial.suggest_int(\"lags\", 1, 60),\n",
    "        \"lags_past_covariates\" : trial.suggest_int(\"lags_past_covariates\", 1, 60)\n",
    "    }\n",
    "    settings_for_backtest = {\n",
    "        \"rolling_window\" : trial.suggest_categorical(\"rolling_window\", [True, False])\n",
    "    }\n",
    "    if settings_for_backtest[\"rolling_window\"] == True:\n",
    "        settings_for_backtest[\"window_size\"] = trial.suggest_categorical(\"window_size\", [104, 156])\n",
    "    \n",
    "    # build and train the model with these hyper-parameters:\n",
    "    model = LinearRegressionModel(\n",
    "        **settings,\n",
    "        output_chunk_length=4,\n",
    "        random_state=42\n",
    "    )\n",
    "\n",
    "    # Evaluate how good it is on the cross_validation for ts\n",
    "    metrics = manual_backtest(model, ts=ts, past_covariates=past_cov, **settings_for_backtest)\n",
    "    mean_metric = np.mean(metrics)\n",
    "    return mean_metric if mean_metric != np.nan else float(\"inf\")\n",
    "\n",
    "def print_callback(study, trial):\n",
    "    print(f\"Current value: {trial.value}, Current params: {trial.params}\", end='\\n\\n')\n",
    "    print(f\"Best value: {study.best_value}, Best params: {study.best_trial.params}\", end='\\n\\n')\n",
    "\n",
    "def opt(ts, past_cov, iterations):\n",
    "    opt_function=partial(objective, ts=ts, past_cov=past_cov)\n",
    "    study = optuna.create_study(direction=\"minimize\")\n",
    "    study.optimize(opt_function, n_trials=iterations, callbacks=[print_callback])\n",
    "    print(\"Number of finished trials: {}\".format(len(study.trials)), end='\\n\\n')\n",
    "    print(f\"Best value: {study.best_value}, Best params: {study.best_trial.params}\", end='\\n\\n')\n",
    "    for key, value in study.best_trial.params.items():\n",
    "        print(\"  {}: {}\".format(key, value))\n",
    "    return study"
   ]
  },
  {
   "cell_type": "markdown",
   "id": "523ba4d6",
   "metadata": {},
   "source": [
    "### Feature selection"
   ]
  },
  {
   "cell_type": "code",
   "execution_count": 42,
   "id": "80dddc6b",
   "metadata": {},
   "outputs": [],
   "source": [
    "def forward_selection(df, settings, settings_for_backtest, forecast_len = FORECAST_LEN, out_of_time_dim = OUT_OF_TIME_DIM):\n",
    "    metrics_dict = dict()\n",
    "    # Извлечем список признаков, важно, что в датасете признаки упорядочены по убыванию уровня корреляции\n",
    "    all_features = df.drop(columns=['date','lme_price_smooth','target_1','target_2','target_3','target_4']).columns.values.copy()\n",
    "    candidates = list()\n",
    "    # Стартовая \"лучшая\" метрика\n",
    "    last_min = 1e8\n",
    "    k=0\n",
    "    for feature in all_features:\n",
    "        candidates.append(feature)\n",
    "\n",
    "        ts = TimeSeries.from_dataframe(df, time_col='date', value_cols='lme_price_smooth')\n",
    "        ts = ts[:-out_of_time_dim]\n",
    "        past_cov = TimeSeries.from_dataframe(df, time_col='date', value_cols=candidates)\n",
    "        past_cov = past_cov[:-out_of_time_dim]\n",
    "        \n",
    "        model = LinearRegressionModel(\n",
    "            **settings,\n",
    "            output_chunk_length=4,\n",
    "            random_state=42\n",
    "        )\n",
    "        \n",
    "        print(candidates)\n",
    "        \n",
    "        metrics = manual_backtest(model, ts=ts, past_covariates=past_cov, **settings_for_backtest)\n",
    "        mean_metric = np.mean(metrics)\n",
    "\n",
    "        if mean_metric < 0.99*last_min:\n",
    "            print(candidates)\n",
    "            print('Metric:', mean_metric)\n",
    "            print('===============')\n",
    "            last_min = mean_metric\n",
    "            k=0\n",
    "        else:\n",
    "            print(candidates)\n",
    "            print('Metric increased:', mean_metric)\n",
    "            print('===============')\n",
    "            candidates.pop()\n",
    "            k+=1\n",
    "        \n",
    "        if k>=6:\n",
    "            break\n",
    "\n",
    "    print('\\n\\n')\n",
    "    print('Feature selection is completed')\n",
    "    return candidates"
   ]
  },
  {
   "cell_type": "code",
   "execution_count": 22,
   "id": "12202411",
   "metadata": {},
   "outputs": [],
   "source": [
    "def setup_params(best_params):\n",
    "    if best_params['rolling_window']==True:\n",
    "        settings_for_backtest = {\n",
    "            'rolling_window':True,\n",
    "            'window_size': best_params['window_size']\n",
    "        }\n",
    "        del best_params['rolling_window']\n",
    "        del best_params['window_size']\n",
    "    else:\n",
    "        settings_for_backtest = {\n",
    "            'rolling_window':False\n",
    "        }\n",
    "        del best_params['rolling_window']\n",
    "    return best_params, settings_for_backtest"
   ]
  },
  {
   "cell_type": "code",
   "execution_count": 56,
   "id": "53f3dc5c",
   "metadata": {},
   "outputs": [],
   "source": [
    "def evaluation_without_refitting(model_settings, backtest_settings, df, candidates, forecast_len=FORECAST_LEN, out_of_time_dim=OUT_OF_TIME_DIM):\n",
    "    '''\n",
    "    Функция для построения прогноза и вычисления метрик на out-of-time выборке\n",
    "    \n",
    "    df - датасет временного ряда\n",
    "    out_of_time_dim - размер выборки out-of-time\n",
    "    forecast_len - длина прогноза\n",
    "    '''\n",
    "    data_ts = TimeSeries.from_dataframe(df, time_col='date', value_cols='lme_price_smooth')\n",
    "    data_past_cov = TimeSeries.from_dataframe(df, time_col='date', value_cols=candidates)\n",
    "    \n",
    "    ts = data_ts[:-out_of_time_dim]\n",
    "    past_cov = data_past_cov[:-out_of_time_dim]\n",
    "    \n",
    "    model = LinearRegressionModel(**model_settings,output_chunk_length=4,random_state=42)\n",
    "\n",
    "    if backtest_settings[\"rolling_window\"]==True:\n",
    "        ts_train = ts[- backtest_settings[\"window_size\"] : ]\n",
    "        past_cov_train = past_cov[- backtest_settings[\"window_size\"] : ]\n",
    "    else:\n",
    "        ts_train = ts\n",
    "        past_cov_train = past_cov\n",
    "    \n",
    "    scaler_ts, scaler_past_cov = Scaler(), Scaler()\n",
    "    ts_train_scaled = scaler_ts.fit_transform(ts_train)\n",
    "    past_cov_train_scaled = scaler_past_cov.fit_transform(past_cov_train)\n",
    "    \n",
    "    model.fit(series=ts_train_scaled,\n",
    "              past_covariates=past_cov_train_scaled\n",
    "             )\n",
    "\n",
    "    start_point = 0\n",
    "    metrics = list()\n",
    "    prediction_curves = {}\n",
    "    step = 1\n",
    "    shift = max(model.model_params[\"lags\"], model.model_params[\"lags_past_covariates\"])\n",
    "    out_of_time_ts = data_ts[-(out_of_time_dim + shift):]\n",
    "    out_of_time_past_cov = data_past_cov[-(out_of_time_dim + shift):]\n",
    "    while True:\n",
    "        cur_test_input = out_of_time_ts[start_point : start_point + shift]\n",
    "        past_cov_test_input = out_of_time_past_cov[start_point : start_point + shift]\n",
    "        cur_test_input_scaled = scaler_ts.transform(cur_test_input)\n",
    "        past_cov_test_input_scaled = scaler_past_cov.transform(past_cov_test_input)\n",
    "        prediction_scaled = model.predict(int(forecast_len), series=cur_test_input_scaled, past_covariates=past_cov_test_input_scaled)\n",
    "        prediction = scaler_ts.inverse_transform(prediction_scaled)\n",
    "        metric = mape(prediction, out_of_time_ts)\n",
    "        metrics.append(metric)\n",
    "        start_point+=step\n",
    "        prediction_curves[start_point]=prediction\n",
    "        if start_point + shift + int(forecast_len) > len(out_of_time_ts):\n",
    "            break\n",
    "\n",
    "    print(\"MAPE: {:.2f} +- {:.2f}\".format(np.mean(metrics), np.std(metrics)))\n",
    "    return prediction_curves, metrics\n",
    "\n",
    "# def evaluation_with_refitting(model_settings, backtest_settings, df, candidates, forecast_len=FORECAST_LEN, out_of_time_dim=OUT_OF_TIME_DIM):\n",
    "\n",
    "#     data_ts = TimeSeries.from_dataframe(df, time_col='date', value_cols='lme_price_smooth')\n",
    "#     data_past_cov = TimeSeries.from_dataframe(df, time_col='date', value_cols=candidates)\n",
    "    \n",
    "#     model = RandomForest(\n",
    "#         **model_settings,\n",
    "#         output_chunk_length=forecast_len,\n",
    "#         n_jobs=16,\n",
    "#         random_state=42\n",
    "#         )\n",
    "    \n",
    "#     shift = max(model.model_params[\"lags\"], model.model_params[\"lags_past_covariates\"])\n",
    "    \n",
    "#     threshold = 0\n",
    "#     metrics = list()\n",
    "#     prediction_curves = {}\n",
    "#     step = 1\n",
    "#     shift = max(model_settings[\"lags\"], model_settings[\"lags_past_covariates\"])\n",
    "#     out_of_time_ts = data_ts[-(out_of_time_dim + shift):]\n",
    "#     out_of_time_past_cov = data_past_cov[-(out_of_time_dim + shift):]\n",
    "#     while True:\n",
    "#         if threshold%3==0:\n",
    "#             ts = data_ts[:-out_of_time_dim]\n",
    "#             past_cov = data_past_cov[:-out_of_time_dim]\n",
    "\n",
    "#             if backtest_settings[\"rolling_window\"]==True:\n",
    "#                 ts_train = ts[- backtest_settings[\"window_size\"] : ]\n",
    "#                 past_cov_train = past_cov[- backtest_settings[\"window_size\"] : ]\n",
    "#             else:\n",
    "#                 ts_train = ts\n",
    "#                 past_cov_train = past_cov\n",
    "\n",
    "#             scaler_ts, scaler_past_cov = Scaler(), Scaler()\n",
    "#             ts_train_scaled = scaler_ts.fit_transform(ts_train)\n",
    "#             past_cov_train_scaled = scaler_past_cov.fit_transform(past_cov_train)\n",
    "\n",
    "#             model.fit(series=ts_train_scaled,\n",
    "#                       past_covariates=past_cov_train_scaled\n",
    "#                      )\n",
    "#             cur_test_input = out_of_time_ts[threshold : threshold + shift]\n",
    "#             past_cov_test_input = out_of_time_past_cov[threshold : threshold + shift]\n",
    "#             cur_test_input_scaled = scaler_ts.transform(cur_test_input)\n",
    "#             past_cov_test_input_scaled = scaler_past_cov.transform(past_cov_test_input)\n",
    "#             prediction_scaled = model.predict(int(forecast_len), series=cur_test_input, past_covariates=past_cov_test_input)\n",
    "#             prediction = scaler_ts.inverse_transform(prediction_scaled) \n",
    "#             metric = mape(prediction, out_of_time_ts)\n",
    "#             metrics.append(metric)\n",
    "#             threshold+=step\n",
    "#             prediction_curves[threshold]=prediction\n",
    "#             if threshold + shift + int(forecast_len) > len(out_of_time_ts):\n",
    "#                 break\n",
    "#         else:\n",
    "#             cur_test_input = out_of_time_ts[threshold : threshold + shift]\n",
    "#             past_cov_test_input = out_of_time_past_cov[threshold : threshold + shift]\n",
    "#             cur_test_input_scaled = scaler_ts.transform(cur_test_input)\n",
    "#             past_cov_test_input_scaled = scaler_past_cov.transform(past_cov_test_input)\n",
    "#             prediction_scaled = model.predict(int(forecast_len), series=cur_test_input, past_covariates=past_cov_test_input)\n",
    "#             prediction = scaler_ts.inverse_transform(prediction_scaled)\n",
    "#             metric = mape(prediction, out_of_time_ts)\n",
    "#             metrics.append(metric)\n",
    "#             threshold+=step\n",
    "#             prediction_curves[threshold]=prediction\n",
    "#             if threshold + shift + int(forecast_len) > len(out_of_time_ts):\n",
    "#                 break\n",
    "\n",
    "#     print(\"MAPE: {:.2f} +- {:.2f}\".format(np.mean(metrics), np.std(metrics)))\n",
    "#     return prediction_curves, metrics\n",
    "\n",
    "def train_metric_evaluation(model_settings, backtest_settings, df, out_of_time_dim=OUT_OF_TIME_DIM, forecast_len=FORECAST_LEN, candidates=None):\n",
    "    '''\n",
    "    Функция для вычисления метрики на train выборке\n",
    "    df - датасет всех данных\n",
    "    model - модель\n",
    "    out_of_time-dim - размер выборки out-of-time\n",
    "    forecast_len - длина прогноза\n",
    "    scaler_ts, scaler_past_cov - скейлеры\n",
    "    '''\n",
    "    data_ts = TimeSeries.from_dataframe(df, time_col='date', value_cols='lme_price_smooth')\n",
    "    data_past_cov = TimeSeries.from_dataframe(df, time_col='date', value_cols=candidates)\n",
    "    \n",
    "    ts = data_ts[:-out_of_time_dim]\n",
    "    past_cov = data_past_cov[:-out_of_time_dim]\n",
    "    \n",
    "    model = LinearRegressionModel(**model_settings,output_chunk_length=4,random_state=42)\n",
    "\n",
    "    shift = max(model.model_params[\"lags\"], model.model_params[\"lags_past_covariates\"])\n",
    "    if backtest_settings[\"rolling_window\"]==True:\n",
    "        ts_train = ts[- backtest_settings[\"window_size\"] : ]\n",
    "        past_cov_train = past_cov[- backtest_settings[\"window_size\"] : ]\n",
    "    else:\n",
    "        ts_train = ts\n",
    "        past_cov_train = past_cov\n",
    "    \n",
    "    scaler_ts, scaler_past_cov = Scaler(), Scaler()\n",
    "    ts_train_scaled = scaler_ts.fit_transform(ts_train)\n",
    "    past_cov_train_scaled = scaler_past_cov.fit_transform(past_cov_train)\n",
    "    \n",
    "    model.fit(series=ts_train_scaled,\n",
    "              past_covariates=past_cov_train_scaled\n",
    "             )\n",
    "    \n",
    "    start_point = 0\n",
    "    metrics = list()\n",
    "    step = 5\n",
    "    while True:\n",
    "        cur_test_input = ts[start_point : start_point + shift]\n",
    "        past_cov_test_input = past_cov[start_point : start_point + shift]\n",
    "        cur_test_input_scaled = scaler_ts.transform(cur_test_input)\n",
    "        past_cov_test_input_scaled = scaler_past_cov.transform(past_cov_test_input)\n",
    "\n",
    "        prediction_scaled = model.predict(series=cur_test_input_scaled,\n",
    "                                          past_covariates=past_cov_test_input_scaled,\n",
    "                                          n=int(forecast_len))\n",
    "        prediction = scaler_ts.inverse_transform(prediction_scaled)\n",
    "\n",
    "        metric = mape(prediction, ts)\n",
    "        metrics.append(metric)\n",
    "        start_point+=step\n",
    "        if start_point + shift + int(forecast_len) > len(ts):\n",
    "            break\n",
    "                \n",
    "    print(\"MAPE: {:.2f} +- {:.2f}\".format(np.mean(metrics), np.std(metrics)))\n",
    "    return metrics"
   ]
  },
  {
   "cell_type": "code",
   "execution_count": null,
   "id": "e225436d",
   "metadata": {},
   "outputs": [],
   "source": []
  },
  {
   "cell_type": "markdown",
   "id": "2b4179d0",
   "metadata": {},
   "source": [
    "## Build models"
   ]
  },
  {
   "cell_type": "markdown",
   "id": "9764357b",
   "metadata": {},
   "source": [
    "### Hyperparameter optimization with all features"
   ]
  },
  {
   "cell_type": "code",
   "execution_count": 36,
   "id": "f20365e9",
   "metadata": {
    "scrolled": true
   },
   "outputs": [
    {
     "name": "stderr",
     "output_type": "stream",
     "text": [
      "[I 2024-01-14 02:59:54,930] A new study created in memory with name: no-name-887c956b-1a32-4b01-933a-03f50c429e7f\n"
     ]
    },
    {
     "name": "stdout",
     "output_type": "stream",
     "text": [
      "Iter # 1\n",
      "Iter # 2\n",
      "Iter # 3\n",
      "Iter # 4\n",
      "Iter # 5\n",
      "Iter # 6\n",
      "Iter # 7\n",
      "Iter # 8\n"
     ]
    },
    {
     "name": "stderr",
     "output_type": "stream",
     "text": [
      "[I 2024-01-14 03:00:06,425] Trial 0 finished with value: 6.502221897244453 and parameters: {'lags': 52, 'lags_past_covariates': 34, 'rolling_window': True, 'window_size': 156}. Best is trial 0 with value: 6.502221897244453.\n"
     ]
    },
    {
     "name": "stdout",
     "output_type": "stream",
     "text": [
      "Current value: 6.502221897244453, Current params: {'lags': 52, 'lags_past_covariates': 34, 'rolling_window': True, 'window_size': 156}\n",
      "\n",
      "Best value: 6.502221897244453, Best params: {'lags': 52, 'lags_past_covariates': 34, 'rolling_window': True, 'window_size': 156}\n",
      "\n",
      "Iter # 1\n",
      "Iter # 2\n",
      "Iter # 3\n",
      "Iter # 4\n",
      "Iter # 5\n",
      "Iter # 6\n",
      "Iter # 7\n",
      "Iter # 8\n"
     ]
    },
    {
     "name": "stderr",
     "output_type": "stream",
     "text": [
      "[I 2024-01-14 03:00:13,507] Trial 1 finished with value: 6.945124268531799 and parameters: {'lags': 35, 'lags_past_covariates': 35, 'rolling_window': True, 'window_size': 104}. Best is trial 0 with value: 6.502221897244453.\n"
     ]
    },
    {
     "name": "stdout",
     "output_type": "stream",
     "text": [
      "Current value: 6.945124268531799, Current params: {'lags': 35, 'lags_past_covariates': 35, 'rolling_window': True, 'window_size': 104}\n",
      "\n",
      "Best value: 6.502221897244453, Best params: {'lags': 52, 'lags_past_covariates': 34, 'rolling_window': True, 'window_size': 156}\n",
      "\n",
      "Iter # 1\n",
      "Iter # 2\n",
      "Iter # 3\n",
      "Iter # 4\n",
      "Iter # 5\n",
      "Iter # 6\n",
      "Iter # 7\n",
      "Iter # 8\n"
     ]
    },
    {
     "name": "stderr",
     "output_type": "stream",
     "text": [
      "[I 2024-01-14 03:00:16,884] Trial 2 finished with value: 8.113775728270411 and parameters: {'lags': 55, 'lags_past_covariates': 13, 'rolling_window': True, 'window_size': 104}. Best is trial 0 with value: 6.502221897244453.\n"
     ]
    },
    {
     "name": "stdout",
     "output_type": "stream",
     "text": [
      "Current value: 8.113775728270411, Current params: {'lags': 55, 'lags_past_covariates': 13, 'rolling_window': True, 'window_size': 104}\n",
      "\n",
      "Best value: 6.502221897244453, Best params: {'lags': 52, 'lags_past_covariates': 34, 'rolling_window': True, 'window_size': 156}\n",
      "\n",
      "Iter # 1\n",
      "Iter # 2\n",
      "Iter # 3\n",
      "Iter # 4\n",
      "Iter # 5\n",
      "Iter # 6\n",
      "Iter # 7\n",
      "Iter # 8\n"
     ]
    },
    {
     "name": "stderr",
     "output_type": "stream",
     "text": [
      "[I 2024-01-14 03:00:21,950] Trial 3 finished with value: 7.272068690508604 and parameters: {'lags': 10, 'lags_past_covariates': 45, 'rolling_window': True, 'window_size': 104}. Best is trial 0 with value: 6.502221897244453.\n"
     ]
    },
    {
     "name": "stdout",
     "output_type": "stream",
     "text": [
      "Current value: 7.272068690508604, Current params: {'lags': 10, 'lags_past_covariates': 45, 'rolling_window': True, 'window_size': 104}\n",
      "\n",
      "Best value: 6.502221897244453, Best params: {'lags': 52, 'lags_past_covariates': 34, 'rolling_window': True, 'window_size': 156}\n",
      "\n",
      "Iter # 1\n",
      "Iter # 2\n",
      "Iter # 3\n",
      "Iter # 4\n",
      "Iter # 5\n",
      "Iter # 6\n",
      "Iter # 7\n",
      "Iter # 8\n"
     ]
    },
    {
     "name": "stderr",
     "output_type": "stream",
     "text": [
      "[I 2024-01-14 03:00:37,684] Trial 4 finished with value: 6.838617939502001 and parameters: {'lags': 13, 'lags_past_covariates': 20, 'rolling_window': True, 'window_size': 156}. Best is trial 0 with value: 6.502221897244453.\n"
     ]
    },
    {
     "name": "stdout",
     "output_type": "stream",
     "text": [
      "Current value: 6.838617939502001, Current params: {'lags': 13, 'lags_past_covariates': 20, 'rolling_window': True, 'window_size': 156}\n",
      "\n",
      "Best value: 6.502221897244453, Best params: {'lags': 52, 'lags_past_covariates': 34, 'rolling_window': True, 'window_size': 156}\n",
      "\n",
      "Iter # 1\n",
      "Iter # 2\n",
      "Iter # 3\n",
      "Iter # 4\n",
      "Iter # 5\n",
      "Iter # 6\n",
      "Iter # 7\n",
      "Iter # 8\n"
     ]
    },
    {
     "name": "stderr",
     "output_type": "stream",
     "text": [
      "[I 2024-01-14 03:01:05,090] Trial 5 finished with value: 8.584445528686047 and parameters: {'lags': 17, 'lags_past_covariates': 13, 'rolling_window': False}. Best is trial 0 with value: 6.502221897244453.\n"
     ]
    },
    {
     "name": "stdout",
     "output_type": "stream",
     "text": [
      "Current value: 8.584445528686047, Current params: {'lags': 17, 'lags_past_covariates': 13, 'rolling_window': False}\n",
      "\n",
      "Best value: 6.502221897244453, Best params: {'lags': 52, 'lags_past_covariates': 34, 'rolling_window': True, 'window_size': 156}\n",
      "\n",
      "Iter # 1\n",
      "Iter # 2\n",
      "Iter # 3\n",
      "Iter # 4\n",
      "Iter # 5\n",
      "Iter # 6\n",
      "Iter # 7\n",
      "Iter # 8\n"
     ]
    },
    {
     "name": "stderr",
     "output_type": "stream",
     "text": [
      "[I 2024-01-14 03:01:12,254] Trial 6 finished with value: 7.87719446234405 and parameters: {'lags': 32, 'lags_past_covariates': 23, 'rolling_window': True, 'window_size': 104}. Best is trial 0 with value: 6.502221897244453.\n"
     ]
    },
    {
     "name": "stdout",
     "output_type": "stream",
     "text": [
      "Current value: 7.87719446234405, Current params: {'lags': 32, 'lags_past_covariates': 23, 'rolling_window': True, 'window_size': 104}\n",
      "\n",
      "Best value: 6.502221897244453, Best params: {'lags': 52, 'lags_past_covariates': 34, 'rolling_window': True, 'window_size': 156}\n",
      "\n",
      "Iter # 1\n",
      "Iter # 2\n",
      "Iter # 3\n",
      "Iter # 4\n",
      "Iter # 5\n",
      "Iter # 6\n",
      "Iter # 7\n",
      "Iter # 8\n"
     ]
    },
    {
     "name": "stderr",
     "output_type": "stream",
     "text": [
      "[I 2024-01-14 03:01:33,699] Trial 7 finished with value: 6.768105528317392 and parameters: {'lags': 35, 'lags_past_covariates': 19, 'rolling_window': False}. Best is trial 0 with value: 6.502221897244453.\n"
     ]
    },
    {
     "name": "stdout",
     "output_type": "stream",
     "text": [
      "Current value: 6.768105528317392, Current params: {'lags': 35, 'lags_past_covariates': 19, 'rolling_window': False}\n",
      "\n",
      "Best value: 6.502221897244453, Best params: {'lags': 52, 'lags_past_covariates': 34, 'rolling_window': True, 'window_size': 156}\n",
      "\n",
      "Iter # 1\n",
      "Iter # 2\n",
      "Iter # 3\n",
      "Iter # 4\n",
      "Iter # 5\n",
      "Iter # 6\n",
      "Iter # 7\n",
      "Iter # 8\n"
     ]
    },
    {
     "name": "stderr",
     "output_type": "stream",
     "text": [
      "[I 2024-01-14 03:01:45,692] Trial 8 finished with value: 6.983456341549754 and parameters: {'lags': 41, 'lags_past_covariates': 24, 'rolling_window': True, 'window_size': 156}. Best is trial 0 with value: 6.502221897244453.\n"
     ]
    },
    {
     "name": "stdout",
     "output_type": "stream",
     "text": [
      "Current value: 6.983456341549754, Current params: {'lags': 41, 'lags_past_covariates': 24, 'rolling_window': True, 'window_size': 156}\n",
      "\n",
      "Best value: 6.502221897244453, Best params: {'lags': 52, 'lags_past_covariates': 34, 'rolling_window': True, 'window_size': 156}\n",
      "\n",
      "Iter # 1\n",
      "Iter # 2\n",
      "Iter # 3\n",
      "Iter # 4\n",
      "Iter # 5\n",
      "Iter # 6\n",
      "Iter # 7\n",
      "Iter # 8\n"
     ]
    },
    {
     "name": "stderr",
     "output_type": "stream",
     "text": [
      "[I 2024-01-14 03:01:54,117] Trial 9 finished with value: 7.889455417171121 and parameters: {'lags': 19, 'lags_past_covariates': 26, 'rolling_window': True, 'window_size': 104}. Best is trial 0 with value: 6.502221897244453.\n"
     ]
    },
    {
     "name": "stdout",
     "output_type": "stream",
     "text": [
      "Current value: 7.889455417171121, Current params: {'lags': 19, 'lags_past_covariates': 26, 'rolling_window': True, 'window_size': 104}\n",
      "\n",
      "Best value: 6.502221897244453, Best params: {'lags': 52, 'lags_past_covariates': 34, 'rolling_window': True, 'window_size': 156}\n",
      "\n",
      "Number of finished trials: 10\n",
      "\n",
      "Best value: 6.502221897244453, Best params: {'lags': 52, 'lags_past_covariates': 34, 'rolling_window': True, 'window_size': 156}\n",
      "\n",
      "  lags: 52\n",
      "  lags_past_covariates: 34\n",
      "  rolling_window: True\n",
      "  window_size: 156\n"
     ]
    }
   ],
   "source": [
    "study = opt(ts=ts, past_cov=past_cov, iterations=10)"
   ]
  },
  {
   "cell_type": "code",
   "execution_count": 37,
   "id": "6334c750",
   "metadata": {},
   "outputs": [],
   "source": [
    "best_settings = study.best_trial.params\n",
    "best_params, settings_for_backtest = setup_params(best_settings)"
   ]
  },
  {
   "cell_type": "code",
   "execution_count": 38,
   "id": "35257ff7",
   "metadata": {},
   "outputs": [
    {
     "data": {
      "text/plain": [
       "{'lags': 52, 'lags_past_covariates': 34}"
      ]
     },
     "execution_count": 38,
     "metadata": {},
     "output_type": "execute_result"
    }
   ],
   "source": [
    "best_params"
   ]
  },
  {
   "cell_type": "code",
   "execution_count": 39,
   "id": "ea12db95",
   "metadata": {},
   "outputs": [
    {
     "data": {
      "text/plain": [
       "{'rolling_window': True, 'window_size': 156}"
      ]
     },
     "execution_count": 39,
     "metadata": {},
     "output_type": "execute_result"
    }
   ],
   "source": [
    "settings_for_backtest"
   ]
  },
  {
   "cell_type": "code",
   "execution_count": 43,
   "id": "1e241bab",
   "metadata": {
    "scrolled": true
   },
   "outputs": [
    {
     "name": "stdout",
     "output_type": "stream",
     "text": [
      "['bloomberg_metals_price_mean_4']\n",
      "Iter # 1\n",
      "Iter # 2\n",
      "Iter # 3\n",
      "Iter # 4\n",
      "Iter # 5\n",
      "Iter # 6\n",
      "Iter # 7\n",
      "Iter # 8\n",
      "['bloomberg_metals_price_mean_4']\n",
      "Metric: 35.143105406314135\n",
      "===============\n",
      "['bloomberg_metals_price_mean_4', 'chalco_adj_std_13']\n",
      "Iter # 1\n",
      "Iter # 2\n",
      "Iter # 3\n",
      "Iter # 4\n",
      "Iter # 5\n",
      "Iter # 6\n",
      "Iter # 7\n",
      "Iter # 8\n",
      "['bloomberg_metals_price_mean_4', 'chalco_adj_std_13']\n",
      "Metric: 23.50490167737007\n",
      "===============\n",
      "['bloomberg_metals_price_mean_4', 'chalco_adj_std_13', 'usa_inflation_value_shift_13']\n",
      "Iter # 1\n",
      "Iter # 2\n",
      "Iter # 3\n",
      "Iter # 4\n",
      "Iter # 5\n",
      "Iter # 6\n",
      "Iter # 7\n",
      "Iter # 8\n",
      "['bloomberg_metals_price_mean_4', 'chalco_adj_std_13', 'usa_inflation_value_shift_13']\n",
      "Metric: 17.175949551165104\n",
      "===============\n",
      "['bloomberg_metals_price_mean_4', 'chalco_adj_std_13', 'usa_inflation_value_shift_13', 'usd_to_hkd_increment_by_mean_26']\n",
      "Iter # 1\n",
      "Iter # 2\n",
      "Iter # 3\n",
      "Iter # 4\n",
      "Iter # 5\n",
      "Iter # 6\n",
      "Iter # 7\n",
      "Iter # 8\n",
      "['bloomberg_metals_price_mean_4', 'chalco_adj_std_13', 'usa_inflation_value_shift_13', 'usd_to_hkd_increment_by_mean_26']\n",
      "Metric: 13.6640555690974\n",
      "===============\n",
      "['bloomberg_metals_price_mean_4', 'chalco_adj_std_13', 'usa_inflation_value_shift_13', 'usd_to_hkd_increment_by_mean_26', 'rual_price_std_26']\n",
      "Iter # 1\n",
      "Iter # 2\n",
      "Iter # 3\n",
      "Iter # 4\n",
      "Iter # 5\n",
      "Iter # 6\n",
      "Iter # 7\n",
      "Iter # 8\n",
      "['bloomberg_metals_price_mean_4', 'chalco_adj_std_13', 'usa_inflation_value_shift_13', 'usd_to_hkd_increment_by_mean_26', 'rual_price_std_26']\n",
      "Metric: 11.368165258318186\n",
      "===============\n",
      "['bloomberg_metals_price_mean_4', 'chalco_adj_std_13', 'usa_inflation_value_shift_13', 'usd_to_hkd_increment_by_mean_26', 'rual_price_std_26', 'ftse_index_std_13']\n",
      "Iter # 1\n",
      "Iter # 2\n",
      "Iter # 3\n",
      "Iter # 4\n",
      "Iter # 5\n",
      "Iter # 6\n",
      "Iter # 7\n",
      "Iter # 8\n",
      "['bloomberg_metals_price_mean_4', 'chalco_adj_std_13', 'usa_inflation_value_shift_13', 'usd_to_hkd_increment_by_mean_26', 'rual_price_std_26', 'ftse_index_std_13']\n",
      "Metric increased: 11.754705244675279\n",
      "===============\n",
      "['bloomberg_metals_price_mean_4', 'chalco_adj_std_13', 'usa_inflation_value_shift_13', 'usd_to_hkd_increment_by_mean_26', 'rual_price_std_26', 'hongqiao_adj_std_4']\n",
      "Iter # 1\n",
      "Iter # 2\n",
      "Iter # 3\n",
      "Iter # 4\n",
      "Iter # 5\n",
      "Iter # 6\n",
      "Iter # 7\n",
      "Iter # 8\n",
      "['bloomberg_metals_price_mean_4', 'chalco_adj_std_13', 'usa_inflation_value_shift_13', 'usd_to_hkd_increment_by_mean_26', 'rual_price_std_26', 'hongqiao_adj_std_4']\n",
      "Metric: 8.997020870447159\n",
      "===============\n",
      "['bloomberg_metals_price_mean_4', 'chalco_adj_std_13', 'usa_inflation_value_shift_13', 'usd_to_hkd_increment_by_mean_26', 'rual_price_std_26', 'hongqiao_adj_std_4', 'alcoa_price_std_4']\n",
      "Iter # 1\n",
      "Iter # 2\n",
      "Iter # 3\n",
      "Iter # 4\n",
      "Iter # 5\n",
      "Iter # 6\n",
      "Iter # 7\n",
      "Iter # 8\n",
      "['bloomberg_metals_price_mean_4', 'chalco_adj_std_13', 'usa_inflation_value_shift_13', 'usd_to_hkd_increment_by_mean_26', 'rual_price_std_26', 'hongqiao_adj_std_4', 'alcoa_price_std_4']\n",
      "Metric: 8.081756951287389\n",
      "===============\n",
      "['bloomberg_metals_price_mean_4', 'chalco_adj_std_13', 'usa_inflation_value_shift_13', 'usd_to_hkd_increment_by_mean_26', 'rual_price_std_26', 'hongqiao_adj_std_4', 'alcoa_price_std_4', 'norsk_hydro_adj_std_4']\n",
      "Iter # 1\n",
      "Iter # 2\n",
      "Iter # 3\n",
      "Iter # 4\n",
      "Iter # 5\n",
      "Iter # 6\n",
      "Iter # 7\n",
      "Iter # 8\n",
      "['bloomberg_metals_price_mean_4', 'chalco_adj_std_13', 'usa_inflation_value_shift_13', 'usd_to_hkd_increment_by_mean_26', 'rual_price_std_26', 'hongqiao_adj_std_4', 'alcoa_price_std_4', 'norsk_hydro_adj_std_4']\n",
      "Metric increased: 8.036376652307808\n",
      "===============\n",
      "['bloomberg_metals_price_mean_4', 'chalco_adj_std_13', 'usa_inflation_value_shift_13', 'usd_to_hkd_increment_by_mean_26', 'rual_price_std_26', 'hongqiao_adj_std_4', 'alcoa_price_std_4', 'bloomberg_metals_price_std_9']\n",
      "Iter # 1\n",
      "Iter # 2\n",
      "Iter # 3\n",
      "Iter # 4\n",
      "Iter # 5\n",
      "Iter # 6\n",
      "Iter # 7\n",
      "Iter # 8\n",
      "['bloomberg_metals_price_mean_4', 'chalco_adj_std_13', 'usa_inflation_value_shift_13', 'usd_to_hkd_increment_by_mean_26', 'rual_price_std_26', 'hongqiao_adj_std_4', 'alcoa_price_std_4', 'bloomberg_metals_price_std_9']\n",
      "Metric: 7.867036433890462\n",
      "===============\n",
      "['bloomberg_metals_price_mean_4', 'chalco_adj_std_13', 'usa_inflation_value_shift_13', 'usd_to_hkd_increment_by_mean_26', 'rual_price_std_26', 'hongqiao_adj_std_4', 'alcoa_price_std_4', 'bloomberg_metals_price_std_9', 'chalco_price_std_4']\n",
      "Iter # 1\n",
      "Iter # 2\n",
      "Iter # 3\n",
      "Iter # 4\n",
      "Iter # 5\n",
      "Iter # 6\n",
      "Iter # 7\n",
      "Iter # 8\n",
      "['bloomberg_metals_price_mean_4', 'chalco_adj_std_13', 'usa_inflation_value_shift_13', 'usd_to_hkd_increment_by_mean_26', 'rual_price_std_26', 'hongqiao_adj_std_4', 'alcoa_price_std_4', 'bloomberg_metals_price_std_9', 'chalco_price_std_4']\n",
      "Metric: 7.653139065951109\n",
      "===============\n",
      "['bloomberg_metals_price_mean_4', 'chalco_adj_std_13', 'usa_inflation_value_shift_13', 'usd_to_hkd_increment_by_mean_26', 'rual_price_std_26', 'hongqiao_adj_std_4', 'alcoa_price_std_4', 'bloomberg_metals_price_std_9', 'chalco_price_std_4', 'eu_inflation_value_increment_by_mean_26']\n",
      "Iter # 1\n",
      "Iter # 2\n",
      "Iter # 3\n",
      "Iter # 4\n",
      "Iter # 5\n",
      "Iter # 6\n",
      "Iter # 7\n",
      "Iter # 8\n",
      "['bloomberg_metals_price_mean_4', 'chalco_adj_std_13', 'usa_inflation_value_shift_13', 'usd_to_hkd_increment_by_mean_26', 'rual_price_std_26', 'hongqiao_adj_std_4', 'alcoa_price_std_4', 'bloomberg_metals_price_std_9', 'chalco_price_std_4', 'eu_inflation_value_increment_by_mean_26']\n",
      "Metric: 6.590308761224151\n",
      "===============\n",
      "['bloomberg_metals_price_mean_4', 'chalco_adj_std_13', 'usa_inflation_value_shift_13', 'usd_to_hkd_increment_by_mean_26', 'rual_price_std_26', 'hongqiao_adj_std_4', 'alcoa_price_std_4', 'bloomberg_metals_price_std_9', 'chalco_price_std_4', 'eu_inflation_value_increment_by_mean_26', 'ftse_index_std_4']\n",
      "Iter # 1\n",
      "Iter # 2\n",
      "Iter # 3\n",
      "Iter # 4\n",
      "Iter # 5\n",
      "Iter # 6\n",
      "Iter # 7\n",
      "Iter # 8\n",
      "['bloomberg_metals_price_mean_4', 'chalco_adj_std_13', 'usa_inflation_value_shift_13', 'usd_to_hkd_increment_by_mean_26', 'rual_price_std_26', 'hongqiao_adj_std_4', 'alcoa_price_std_4', 'bloomberg_metals_price_std_9', 'chalco_price_std_4', 'eu_inflation_value_increment_by_mean_26', 'ftse_index_std_4']\n",
      "Metric increased: 6.994782667607069\n",
      "===============\n",
      "['bloomberg_metals_price_mean_4', 'chalco_adj_std_13', 'usa_inflation_value_shift_13', 'usd_to_hkd_increment_by_mean_26', 'rual_price_std_26', 'hongqiao_adj_std_4', 'alcoa_price_std_4', 'bloomberg_metals_price_std_9', 'chalco_price_std_4', 'eu_inflation_value_increment_by_mean_26', 'USD_JPY_rate_increment_by_mean_26']\n",
      "Iter # 1\n",
      "Iter # 2\n",
      "Iter # 3\n",
      "Iter # 4\n",
      "Iter # 5\n",
      "Iter # 6\n",
      "Iter # 7\n",
      "Iter # 8\n",
      "['bloomberg_metals_price_mean_4', 'chalco_adj_std_13', 'usa_inflation_value_shift_13', 'usd_to_hkd_increment_by_mean_26', 'rual_price_std_26', 'hongqiao_adj_std_4', 'alcoa_price_std_4', 'bloomberg_metals_price_std_9', 'chalco_price_std_4', 'eu_inflation_value_increment_by_mean_26', 'USD_JPY_rate_increment_by_mean_26']\n",
      "Metric increased: 6.54294250998646\n",
      "===============\n",
      "['bloomberg_metals_price_mean_4', 'chalco_adj_std_13', 'usa_inflation_value_shift_13', 'usd_to_hkd_increment_by_mean_26', 'rual_price_std_26', 'hongqiao_adj_std_4', 'alcoa_price_std_4', 'bloomberg_metals_price_std_9', 'chalco_price_std_4', 'eu_inflation_value_increment_by_mean_26', 'ftse_index_change_mean_52']\n",
      "Iter # 1\n",
      "Iter # 2\n",
      "Iter # 3\n",
      "Iter # 4\n",
      "Iter # 5\n",
      "Iter # 6\n",
      "Iter # 7\n",
      "Iter # 8\n",
      "['bloomberg_metals_price_mean_4', 'chalco_adj_std_13', 'usa_inflation_value_shift_13', 'usd_to_hkd_increment_by_mean_26', 'rual_price_std_26', 'hongqiao_adj_std_4', 'alcoa_price_std_4', 'bloomberg_metals_price_std_9', 'chalco_price_std_4', 'eu_inflation_value_increment_by_mean_26', 'ftse_index_change_mean_52']\n",
      "Metric: 6.393463211134076\n",
      "===============\n",
      "['bloomberg_metals_price_mean_4', 'chalco_adj_std_13', 'usa_inflation_value_shift_13', 'usd_to_hkd_increment_by_mean_26', 'rual_price_std_26', 'hongqiao_adj_std_4', 'alcoa_price_std_4', 'bloomberg_metals_price_std_9', 'chalco_price_std_4', 'eu_inflation_value_increment_by_mean_26', 'ftse_index_change_mean_52', 'eu_inflation_value_std_13']\n",
      "Iter # 1\n",
      "Iter # 2\n",
      "Iter # 3\n",
      "Iter # 4\n",
      "Iter # 5\n",
      "Iter # 6\n",
      "Iter # 7\n",
      "Iter # 8\n",
      "['bloomberg_metals_price_mean_4', 'chalco_adj_std_13', 'usa_inflation_value_shift_13', 'usd_to_hkd_increment_by_mean_26', 'rual_price_std_26', 'hongqiao_adj_std_4', 'alcoa_price_std_4', 'bloomberg_metals_price_std_9', 'chalco_price_std_4', 'eu_inflation_value_increment_by_mean_26', 'ftse_index_change_mean_52', 'eu_inflation_value_std_13']\n",
      "Metric: 6.142889754846692\n",
      "===============\n",
      "['bloomberg_metals_price_mean_4', 'chalco_adj_std_13', 'usa_inflation_value_shift_13', 'usd_to_hkd_increment_by_mean_26', 'rual_price_std_26', 'hongqiao_adj_std_4', 'alcoa_price_std_4', 'bloomberg_metals_price_std_9', 'chalco_price_std_4', 'eu_inflation_value_increment_by_mean_26', 'ftse_index_change_mean_52', 'eu_inflation_value_std_13', 'rual_price_std_13']\n",
      "Iter # 1\n"
     ]
    },
    {
     "name": "stdout",
     "output_type": "stream",
     "text": [
      "Iter # 2\n",
      "Iter # 3\n",
      "Iter # 4\n",
      "Iter # 5\n",
      "Iter # 6\n",
      "Iter # 7\n",
      "Iter # 8\n",
      "['bloomberg_metals_price_mean_4', 'chalco_adj_std_13', 'usa_inflation_value_shift_13', 'usd_to_hkd_increment_by_mean_26', 'rual_price_std_26', 'hongqiao_adj_std_4', 'alcoa_price_std_4', 'bloomberg_metals_price_std_9', 'chalco_price_std_4', 'eu_inflation_value_increment_by_mean_26', 'ftse_index_change_mean_52', 'eu_inflation_value_std_13', 'rual_price_std_13']\n",
      "Metric increased: 6.151536526158452\n",
      "===============\n",
      "['bloomberg_metals_price_mean_4', 'chalco_adj_std_13', 'usa_inflation_value_shift_13', 'usd_to_hkd_increment_by_mean_26', 'rual_price_std_26', 'hongqiao_adj_std_4', 'alcoa_price_std_4', 'bloomberg_metals_price_std_9', 'chalco_price_std_4', 'eu_inflation_value_increment_by_mean_26', 'ftse_index_change_mean_52', 'eu_inflation_value_std_13', 'baltic_dry_index_std_9']\n",
      "Iter # 1\n",
      "Iter # 2\n",
      "Iter # 3\n",
      "Iter # 4\n",
      "Iter # 5\n",
      "Iter # 6\n",
      "Iter # 7\n",
      "Iter # 8\n",
      "['bloomberg_metals_price_mean_4', 'chalco_adj_std_13', 'usa_inflation_value_shift_13', 'usd_to_hkd_increment_by_mean_26', 'rual_price_std_26', 'hongqiao_adj_std_4', 'alcoa_price_std_4', 'bloomberg_metals_price_std_9', 'chalco_price_std_4', 'eu_inflation_value_increment_by_mean_26', 'ftse_index_change_mean_52', 'eu_inflation_value_std_13', 'baltic_dry_index_std_9']\n",
      "Metric increased: 6.22418518178165\n",
      "===============\n",
      "['bloomberg_metals_price_mean_4', 'chalco_adj_std_13', 'usa_inflation_value_shift_13', 'usd_to_hkd_increment_by_mean_26', 'rual_price_std_26', 'hongqiao_adj_std_4', 'alcoa_price_std_4', 'bloomberg_metals_price_std_9', 'chalco_price_std_4', 'eu_inflation_value_increment_by_mean_26', 'ftse_index_change_mean_52', 'eu_inflation_value_std_13', 'export_australia_value_std_26']\n",
      "Iter # 1\n",
      "Iter # 2\n",
      "Iter # 3\n",
      "Iter # 4\n",
      "Iter # 5\n",
      "Iter # 6\n",
      "Iter # 7\n",
      "Iter # 8\n",
      "['bloomberg_metals_price_mean_4', 'chalco_adj_std_13', 'usa_inflation_value_shift_13', 'usd_to_hkd_increment_by_mean_26', 'rual_price_std_26', 'hongqiao_adj_std_4', 'alcoa_price_std_4', 'bloomberg_metals_price_std_9', 'chalco_price_std_4', 'eu_inflation_value_increment_by_mean_26', 'ftse_index_change_mean_52', 'eu_inflation_value_std_13', 'export_australia_value_std_26']\n",
      "Metric increased: 6.291203247383237\n",
      "===============\n",
      "['bloomberg_metals_price_mean_4', 'chalco_adj_std_13', 'usa_inflation_value_shift_13', 'usd_to_hkd_increment_by_mean_26', 'rual_price_std_26', 'hongqiao_adj_std_4', 'alcoa_price_std_4', 'bloomberg_metals_price_std_9', 'chalco_price_std_4', 'eu_inflation_value_increment_by_mean_26', 'ftse_index_change_mean_52', 'eu_inflation_value_std_13', 'australia_pmi_std_26']\n",
      "Iter # 1\n",
      "Iter # 2\n",
      "Iter # 3\n",
      "Iter # 4\n",
      "Iter # 5\n",
      "Iter # 6\n",
      "Iter # 7\n",
      "Iter # 8\n",
      "['bloomberg_metals_price_mean_4', 'chalco_adj_std_13', 'usa_inflation_value_shift_13', 'usd_to_hkd_increment_by_mean_26', 'rual_price_std_26', 'hongqiao_adj_std_4', 'alcoa_price_std_4', 'bloomberg_metals_price_std_9', 'chalco_price_std_4', 'eu_inflation_value_increment_by_mean_26', 'ftse_index_change_mean_52', 'eu_inflation_value_std_13', 'australia_pmi_std_26']\n",
      "Metric: 5.916267400607467\n",
      "===============\n",
      "['bloomberg_metals_price_mean_4', 'chalco_adj_std_13', 'usa_inflation_value_shift_13', 'usd_to_hkd_increment_by_mean_26', 'rual_price_std_26', 'hongqiao_adj_std_4', 'alcoa_price_std_4', 'bloomberg_metals_price_std_9', 'chalco_price_std_4', 'eu_inflation_value_increment_by_mean_26', 'ftse_index_change_mean_52', 'eu_inflation_value_std_13', 'australia_pmi_std_26', 'sp_metals_price_std_4']\n",
      "Iter # 1\n",
      "Iter # 2\n",
      "Iter # 3\n",
      "Iter # 4\n",
      "Iter # 5\n",
      "Iter # 6\n",
      "Iter # 7\n",
      "Iter # 8\n",
      "['bloomberg_metals_price_mean_4', 'chalco_adj_std_13', 'usa_inflation_value_shift_13', 'usd_to_hkd_increment_by_mean_26', 'rual_price_std_26', 'hongqiao_adj_std_4', 'alcoa_price_std_4', 'bloomberg_metals_price_std_9', 'chalco_price_std_4', 'eu_inflation_value_increment_by_mean_26', 'ftse_index_change_mean_52', 'eu_inflation_value_std_13', 'australia_pmi_std_26', 'sp_metals_price_std_4']\n",
      "Metric increased: 6.057876441627741\n",
      "===============\n",
      "['bloomberg_metals_price_mean_4', 'chalco_adj_std_13', 'usa_inflation_value_shift_13', 'usd_to_hkd_increment_by_mean_26', 'rual_price_std_26', 'hongqiao_adj_std_4', 'alcoa_price_std_4', 'bloomberg_metals_price_std_9', 'chalco_price_std_4', 'eu_inflation_value_increment_by_mean_26', 'ftse_index_change_mean_52', 'eu_inflation_value_std_13', 'australia_pmi_std_26', 'bloomberg_metals_price_std_4']\n",
      "Iter # 1\n",
      "Iter # 2\n",
      "Iter # 3\n",
      "Iter # 4\n",
      "Iter # 5\n",
      "Iter # 6\n",
      "Iter # 7\n",
      "Iter # 8\n",
      "['bloomberg_metals_price_mean_4', 'chalco_adj_std_13', 'usa_inflation_value_shift_13', 'usd_to_hkd_increment_by_mean_26', 'rual_price_std_26', 'hongqiao_adj_std_4', 'alcoa_price_std_4', 'bloomberg_metals_price_std_9', 'chalco_price_std_4', 'eu_inflation_value_increment_by_mean_26', 'ftse_index_change_mean_52', 'eu_inflation_value_std_13', 'australia_pmi_std_26', 'bloomberg_metals_price_std_4']\n",
      "Metric increased: 6.0146700125187635\n",
      "===============\n",
      "['bloomberg_metals_price_mean_4', 'chalco_adj_std_13', 'usa_inflation_value_shift_13', 'usd_to_hkd_increment_by_mean_26', 'rual_price_std_26', 'hongqiao_adj_std_4', 'alcoa_price_std_4', 'bloomberg_metals_price_std_9', 'chalco_price_std_4', 'eu_inflation_value_increment_by_mean_26', 'ftse_index_change_mean_52', 'eu_inflation_value_std_13', 'australia_pmi_std_26', 'USD_EUR_rate_std_26']\n",
      "Iter # 1\n",
      "Iter # 2\n",
      "Iter # 3\n",
      "Iter # 4\n",
      "Iter # 5\n",
      "Iter # 6\n",
      "Iter # 7\n",
      "Iter # 8\n",
      "['bloomberg_metals_price_mean_4', 'chalco_adj_std_13', 'usa_inflation_value_shift_13', 'usd_to_hkd_increment_by_mean_26', 'rual_price_std_26', 'hongqiao_adj_std_4', 'alcoa_price_std_4', 'bloomberg_metals_price_std_9', 'chalco_price_std_4', 'eu_inflation_value_increment_by_mean_26', 'ftse_index_change_mean_52', 'eu_inflation_value_std_13', 'australia_pmi_std_26', 'USD_EUR_rate_std_26']\n",
      "Metric increased: 5.92809640802443\n",
      "===============\n",
      "['bloomberg_metals_price_mean_4', 'chalco_adj_std_13', 'usa_inflation_value_shift_13', 'usd_to_hkd_increment_by_mean_26', 'rual_price_std_26', 'hongqiao_adj_std_4', 'alcoa_price_std_4', 'bloomberg_metals_price_std_9', 'chalco_price_std_4', 'eu_inflation_value_increment_by_mean_26', 'ftse_index_change_mean_52', 'eu_inflation_value_std_13', 'australia_pmi_std_26', 'import_usa_value_std_13']\n",
      "Iter # 1\n",
      "Iter # 2\n",
      "Iter # 3\n",
      "Iter # 4\n",
      "Iter # 5\n",
      "Iter # 6\n",
      "Iter # 7\n",
      "Iter # 8\n",
      "['bloomberg_metals_price_mean_4', 'chalco_adj_std_13', 'usa_inflation_value_shift_13', 'usd_to_hkd_increment_by_mean_26', 'rual_price_std_26', 'hongqiao_adj_std_4', 'alcoa_price_std_4', 'bloomberg_metals_price_std_9', 'chalco_price_std_4', 'eu_inflation_value_increment_by_mean_26', 'ftse_index_change_mean_52', 'eu_inflation_value_std_13', 'australia_pmi_std_26', 'import_usa_value_std_13']\n",
      "Metric increased: 5.9399541933089495\n",
      "===============\n",
      "['bloomberg_metals_price_mean_4', 'chalco_adj_std_13', 'usa_inflation_value_shift_13', 'usd_to_hkd_increment_by_mean_26', 'rual_price_std_26', 'hongqiao_adj_std_4', 'alcoa_price_std_4', 'bloomberg_metals_price_std_9', 'chalco_price_std_4', 'eu_inflation_value_increment_by_mean_26', 'ftse_index_change_mean_52', 'eu_inflation_value_std_13', 'australia_pmi_std_26', 'export_usa_value_std_9']\n",
      "Iter # 1\n",
      "Iter # 2\n",
      "Iter # 3\n",
      "Iter # 4\n",
      "Iter # 5\n",
      "Iter # 6\n",
      "Iter # 7\n",
      "Iter # 8\n",
      "['bloomberg_metals_price_mean_4', 'chalco_adj_std_13', 'usa_inflation_value_shift_13', 'usd_to_hkd_increment_by_mean_26', 'rual_price_std_26', 'hongqiao_adj_std_4', 'alcoa_price_std_4', 'bloomberg_metals_price_std_9', 'chalco_price_std_4', 'eu_inflation_value_increment_by_mean_26', 'ftse_index_change_mean_52', 'eu_inflation_value_std_13', 'australia_pmi_std_26', 'export_usa_value_std_9']\n",
      "Metric increased: 6.953199300915003\n",
      "===============\n",
      "['bloomberg_metals_price_mean_4', 'chalco_adj_std_13', 'usa_inflation_value_shift_13', 'usd_to_hkd_increment_by_mean_26', 'rual_price_std_26', 'hongqiao_adj_std_4', 'alcoa_price_std_4', 'bloomberg_metals_price_std_9', 'chalco_price_std_4', 'eu_inflation_value_increment_by_mean_26', 'ftse_index_change_mean_52', 'eu_inflation_value_std_13', 'australia_pmi_std_26', 'guinea_inflation_std_26']\n",
      "Iter # 1\n",
      "Iter # 2\n",
      "Iter # 3\n",
      "Iter # 4\n",
      "Iter # 5\n",
      "Iter # 6\n",
      "Iter # 7\n",
      "Iter # 8\n",
      "['bloomberg_metals_price_mean_4', 'chalco_adj_std_13', 'usa_inflation_value_shift_13', 'usd_to_hkd_increment_by_mean_26', 'rual_price_std_26', 'hongqiao_adj_std_4', 'alcoa_price_std_4', 'bloomberg_metals_price_std_9', 'chalco_price_std_4', 'eu_inflation_value_increment_by_mean_26', 'ftse_index_change_mean_52', 'eu_inflation_value_std_13', 'australia_pmi_std_26', 'guinea_inflation_std_26']\n",
      "Metric increased: 6.182111240923405\n",
      "===============\n",
      "\n",
      "\n",
      "\n",
      "Feature selection is completed\n"
     ]
    }
   ],
   "source": [
    "# feature selection\n",
    "candidates = forward_selection(df, settings=best_params, settings_for_backtest=settings_for_backtest)"
   ]
  },
  {
   "cell_type": "code",
   "execution_count": 44,
   "id": "3fd72270",
   "metadata": {},
   "outputs": [
    {
     "data": {
      "text/plain": [
       "['bloomberg_metals_price_mean_4',\n",
       " 'chalco_adj_std_13',\n",
       " 'usa_inflation_value_shift_13',\n",
       " 'usd_to_hkd_increment_by_mean_26',\n",
       " 'rual_price_std_26',\n",
       " 'hongqiao_adj_std_4',\n",
       " 'alcoa_price_std_4',\n",
       " 'bloomberg_metals_price_std_9',\n",
       " 'chalco_price_std_4',\n",
       " 'eu_inflation_value_increment_by_mean_26',\n",
       " 'ftse_index_change_mean_52',\n",
       " 'eu_inflation_value_std_13',\n",
       " 'australia_pmi_std_26']"
      ]
     },
     "execution_count": 44,
     "metadata": {},
     "output_type": "execute_result"
    }
   ],
   "source": [
    "candidates"
   ]
  },
  {
   "cell_type": "markdown",
   "id": "c74ae778",
   "metadata": {},
   "source": [
    "### Repeat hyperparameter optimization with selected features"
   ]
  },
  {
   "cell_type": "code",
   "execution_count": 45,
   "id": "648dacb4",
   "metadata": {},
   "outputs": [],
   "source": [
    "candidates = ['bloomberg_metals_price_mean_4',\n",
    " 'chalco_adj_std_13',\n",
    " 'usa_inflation_value_shift_13',\n",
    " 'usd_to_hkd_increment_by_mean_26',\n",
    " 'rual_price_std_26',\n",
    " 'hongqiao_adj_std_4',\n",
    " 'alcoa_price_std_4',\n",
    " 'bloomberg_metals_price_std_9',\n",
    " 'chalco_price_std_4',\n",
    " 'eu_inflation_value_increment_by_mean_26',\n",
    " 'ftse_index_change_mean_52',\n",
    " 'eu_inflation_value_std_13',\n",
    " 'australia_pmi_std_26']\n",
    "data_past_cov = TimeSeries.from_dataframe(df, time_col='date', value_cols=candidates)\n",
    "past_cov = data_past_cov[:-OUT_OF_TIME_DIM]"
   ]
  },
  {
   "cell_type": "code",
   "execution_count": 46,
   "id": "74923bd0",
   "metadata": {
    "scrolled": true
   },
   "outputs": [
    {
     "name": "stderr",
     "output_type": "stream",
     "text": [
      "[I 2024-01-14 03:04:30,548] A new study created in memory with name: no-name-6bd710b1-5bc3-4b78-a1a6-ae92c6af8280\n"
     ]
    },
    {
     "name": "stdout",
     "output_type": "stream",
     "text": [
      "Iter # 1\n",
      "Iter # 2\n",
      "Iter # 3\n",
      "Iter # 4\n",
      "Iter # 5\n",
      "Iter # 6\n",
      "Iter # 7\n"
     ]
    },
    {
     "name": "stderr",
     "output_type": "stream",
     "text": [
      "[I 2024-01-14 03:04:37,572] Trial 0 finished with value: 5.843358533456922 and parameters: {'lags': 52, 'lags_past_covariates': 36, 'rolling_window': True, 'window_size': 156}. Best is trial 0 with value: 5.843358533456922.\n"
     ]
    },
    {
     "name": "stdout",
     "output_type": "stream",
     "text": [
      "Iter # 8\n",
      "Current value: 5.843358533456922, Current params: {'lags': 52, 'lags_past_covariates': 36, 'rolling_window': True, 'window_size': 156}\n",
      "\n",
      "Best value: 5.843358533456922, Best params: {'lags': 52, 'lags_past_covariates': 36, 'rolling_window': True, 'window_size': 156}\n",
      "\n",
      "Iter # 1\n",
      "Iter # 2\n",
      "Iter # 3\n",
      "Iter # 4\n",
      "Iter # 5\n",
      "Iter # 6\n",
      "Iter # 7\n"
     ]
    },
    {
     "name": "stderr",
     "output_type": "stream",
     "text": [
      "[I 2024-01-14 03:04:38,080] Trial 1 finished with value: 6.873455666936934 and parameters: {'lags': 47, 'lags_past_covariates': 1, 'rolling_window': False}. Best is trial 0 with value: 5.843358533456922.\n"
     ]
    },
    {
     "name": "stdout",
     "output_type": "stream",
     "text": [
      "Iter # 8\n",
      "Current value: 6.873455666936934, Current params: {'lags': 47, 'lags_past_covariates': 1, 'rolling_window': False}\n",
      "\n",
      "Best value: 5.843358533456922, Best params: {'lags': 52, 'lags_past_covariates': 36, 'rolling_window': True, 'window_size': 156}\n",
      "\n",
      "Iter # 1\n",
      "Iter # 2\n",
      "Iter # 3\n",
      "Iter # 4\n",
      "Iter # 5\n",
      "Iter # 6\n",
      "Iter # 7\n",
      "Iter # 8\n"
     ]
    },
    {
     "name": "stderr",
     "output_type": "stream",
     "text": [
      "[I 2024-01-14 03:04:43,314] Trial 2 finished with value: 6.186023773625493 and parameters: {'lags': 55, 'lags_past_covariates': 27, 'rolling_window': True, 'window_size': 156}. Best is trial 0 with value: 5.843358533456922.\n"
     ]
    },
    {
     "name": "stdout",
     "output_type": "stream",
     "text": [
      "Current value: 6.186023773625493, Current params: {'lags': 55, 'lags_past_covariates': 27, 'rolling_window': True, 'window_size': 156}\n",
      "\n",
      "Best value: 5.843358533456922, Best params: {'lags': 52, 'lags_past_covariates': 36, 'rolling_window': True, 'window_size': 156}\n",
      "\n",
      "Iter # 1\n",
      "Iter # 2\n",
      "Iter # 3\n",
      "Iter # 4\n",
      "Iter # 5\n",
      "Iter # 6\n",
      "Iter # 7\n",
      "Iter # 8\n"
     ]
    },
    {
     "name": "stderr",
     "output_type": "stream",
     "text": [
      "[I 2024-01-14 03:04:48,709] Trial 3 finished with value: 7.430336158722639 and parameters: {'lags': 29, 'lags_past_covariates': 18, 'rolling_window': True, 'window_size': 156}. Best is trial 0 with value: 5.843358533456922.\n"
     ]
    },
    {
     "name": "stdout",
     "output_type": "stream",
     "text": [
      "Current value: 7.430336158722639, Current params: {'lags': 29, 'lags_past_covariates': 18, 'rolling_window': True, 'window_size': 156}\n",
      "\n",
      "Best value: 5.843358533456922, Best params: {'lags': 52, 'lags_past_covariates': 36, 'rolling_window': True, 'window_size': 156}\n",
      "\n",
      "Iter # 1\n",
      "Iter # 2\n",
      "Iter # 3\n",
      "Iter # 4\n",
      "Iter # 5\n",
      "Iter # 6\n",
      "Iter # 7\n",
      "Iter # 8\n"
     ]
    },
    {
     "name": "stderr",
     "output_type": "stream",
     "text": [
      "[I 2024-01-14 03:05:01,706] Trial 4 finished with value: 6.4935395726934075 and parameters: {'lags': 35, 'lags_past_covariates': 59, 'rolling_window': False}. Best is trial 0 with value: 5.843358533456922.\n"
     ]
    },
    {
     "name": "stdout",
     "output_type": "stream",
     "text": [
      "Current value: 6.4935395726934075, Current params: {'lags': 35, 'lags_past_covariates': 59, 'rolling_window': False}\n",
      "\n",
      "Best value: 5.843358533456922, Best params: {'lags': 52, 'lags_past_covariates': 36, 'rolling_window': True, 'window_size': 156}\n",
      "\n",
      "Iter # 1\n",
      "Iter # 2\n",
      "Iter # 3\n",
      "Iter # 4\n",
      "Iter # 5\n",
      "Iter # 6\n",
      "Iter # 7\n"
     ]
    },
    {
     "name": "stderr",
     "output_type": "stream",
     "text": [
      "[I 2024-01-14 03:05:03,660] Trial 5 finished with value: 10.267750034108758 and parameters: {'lags': 48, 'lags_past_covariates': 10, 'rolling_window': True, 'window_size': 156}. Best is trial 0 with value: 5.843358533456922.\n"
     ]
    },
    {
     "name": "stdout",
     "output_type": "stream",
     "text": [
      "Iter # 8\n",
      "Current value: 10.267750034108758, Current params: {'lags': 48, 'lags_past_covariates': 10, 'rolling_window': True, 'window_size': 156}\n",
      "\n",
      "Best value: 5.843358533456922, Best params: {'lags': 52, 'lags_past_covariates': 36, 'rolling_window': True, 'window_size': 156}\n",
      "\n",
      "Iter # 1\n",
      "Iter # 2\n",
      "Iter # 3\n",
      "Iter # 4\n",
      "Iter # 5\n",
      "Iter # 6\n",
      "Iter # 7\n",
      "Iter # 8\n"
     ]
    },
    {
     "name": "stderr",
     "output_type": "stream",
     "text": [
      "[I 2024-01-14 03:05:17,039] Trial 6 finished with value: 6.39064353890717 and parameters: {'lags': 59, 'lags_past_covariates': 29, 'rolling_window': False}. Best is trial 0 with value: 5.843358533456922.\n"
     ]
    },
    {
     "name": "stdout",
     "output_type": "stream",
     "text": [
      "Current value: 6.39064353890717, Current params: {'lags': 59, 'lags_past_covariates': 29, 'rolling_window': False}\n",
      "\n",
      "Best value: 5.843358533456922, Best params: {'lags': 52, 'lags_past_covariates': 36, 'rolling_window': True, 'window_size': 156}\n",
      "\n",
      "Iter # 1\n",
      "Iter # 2\n",
      "Iter # 3\n",
      "Iter # 4\n",
      "Iter # 5\n",
      "Iter # 6\n",
      "Iter # 7\n"
     ]
    },
    {
     "name": "stderr",
     "output_type": "stream",
     "text": [
      "[I 2024-01-14 03:05:19,707] Trial 7 finished with value: 6.9312430918216705 and parameters: {'lags': 7, 'lags_past_covariates': 58, 'rolling_window': True, 'window_size': 104}. Best is trial 0 with value: 5.843358533456922.\n"
     ]
    },
    {
     "name": "stdout",
     "output_type": "stream",
     "text": [
      "Iter # 8\n",
      "Current value: 6.9312430918216705, Current params: {'lags': 7, 'lags_past_covariates': 58, 'rolling_window': True, 'window_size': 104}\n",
      "\n",
      "Best value: 5.843358533456922, Best params: {'lags': 52, 'lags_past_covariates': 36, 'rolling_window': True, 'window_size': 156}\n",
      "\n",
      "Iter # 1\n",
      "Iter # 2\n",
      "Iter # 3\n",
      "Iter # 4\n",
      "Iter # 5\n",
      "Iter # 6\n",
      "Iter # 7\n",
      "Iter # 8\n"
     ]
    },
    {
     "name": "stderr",
     "output_type": "stream",
     "text": [
      "[I 2024-01-14 03:05:32,090] Trial 8 finished with value: 6.515130959451199 and parameters: {'lags': 11, 'lags_past_covariates': 51, 'rolling_window': False}. Best is trial 0 with value: 5.843358533456922.\n"
     ]
    },
    {
     "name": "stdout",
     "output_type": "stream",
     "text": [
      "Current value: 6.515130959451199, Current params: {'lags': 11, 'lags_past_covariates': 51, 'rolling_window': False}\n",
      "\n",
      "Best value: 5.843358533456922, Best params: {'lags': 52, 'lags_past_covariates': 36, 'rolling_window': True, 'window_size': 156}\n",
      "\n",
      "Iter # 1\n",
      "Iter # 2\n",
      "Iter # 3\n",
      "Iter # 4\n",
      "Iter # 5\n",
      "Iter # 6\n",
      "Iter # 7\n",
      "Iter # 8\n"
     ]
    },
    {
     "name": "stderr",
     "output_type": "stream",
     "text": [
      "[I 2024-01-14 03:05:35,084] Trial 9 finished with value: 6.727613601833582 and parameters: {'lags': 26, 'lags_past_covariates': 43, 'rolling_window': True, 'window_size': 104}. Best is trial 0 with value: 5.843358533456922.\n"
     ]
    },
    {
     "name": "stdout",
     "output_type": "stream",
     "text": [
      "Current value: 6.727613601833582, Current params: {'lags': 26, 'lags_past_covariates': 43, 'rolling_window': True, 'window_size': 104}\n",
      "\n",
      "Best value: 5.843358533456922, Best params: {'lags': 52, 'lags_past_covariates': 36, 'rolling_window': True, 'window_size': 156}\n",
      "\n",
      "Iter # 1\n",
      "Iter # 2\n",
      "Iter # 3\n",
      "Iter # 4\n",
      "Iter # 5\n",
      "Iter # 6\n",
      "Iter # 7\n",
      "Iter # 8\n"
     ]
    },
    {
     "name": "stderr",
     "output_type": "stream",
     "text": [
      "[I 2024-01-14 03:05:41,686] Trial 10 finished with value: 6.317301467061043 and parameters: {'lags': 39, 'lags_past_covariates': 40, 'rolling_window': True, 'window_size': 156}. Best is trial 0 with value: 5.843358533456922.\n"
     ]
    },
    {
     "name": "stdout",
     "output_type": "stream",
     "text": [
      "Current value: 6.317301467061043, Current params: {'lags': 39, 'lags_past_covariates': 40, 'rolling_window': True, 'window_size': 156}\n",
      "\n",
      "Best value: 5.843358533456922, Best params: {'lags': 52, 'lags_past_covariates': 36, 'rolling_window': True, 'window_size': 156}\n",
      "\n",
      "Iter # 1\n",
      "Iter # 2\n",
      "Iter # 3\n",
      "Iter # 4\n",
      "Iter # 5\n",
      "Iter # 6\n",
      "Iter # 7\n",
      "Iter # 8\n"
     ]
    },
    {
     "name": "stderr",
     "output_type": "stream",
     "text": [
      "[I 2024-01-14 03:05:48,061] Trial 11 finished with value: 6.160688539966941 and parameters: {'lags': 59, 'lags_past_covariates': 28, 'rolling_window': True, 'window_size': 156}. Best is trial 0 with value: 5.843358533456922.\n"
     ]
    },
    {
     "name": "stdout",
     "output_type": "stream",
     "text": [
      "Current value: 6.160688539966941, Current params: {'lags': 59, 'lags_past_covariates': 28, 'rolling_window': True, 'window_size': 156}\n",
      "\n",
      "Best value: 5.843358533456922, Best params: {'lags': 52, 'lags_past_covariates': 36, 'rolling_window': True, 'window_size': 156}\n",
      "\n",
      "Iter # 1\n",
      "Iter # 2\n",
      "Iter # 3\n",
      "Iter # 4\n",
      "Iter # 5\n",
      "Iter # 6\n",
      "Iter # 7\n",
      "Iter # 8\n"
     ]
    },
    {
     "name": "stderr",
     "output_type": "stream",
     "text": [
      "[I 2024-01-14 03:05:56,310] Trial 12 finished with value: 5.819835560396314 and parameters: {'lags': 49, 'lags_past_covariates': 39, 'rolling_window': True, 'window_size': 156}. Best is trial 12 with value: 5.819835560396314.\n"
     ]
    },
    {
     "name": "stdout",
     "output_type": "stream",
     "text": [
      "Current value: 5.819835560396314, Current params: {'lags': 49, 'lags_past_covariates': 39, 'rolling_window': True, 'window_size': 156}\n",
      "\n",
      "Best value: 5.819835560396314, Best params: {'lags': 49, 'lags_past_covariates': 39, 'rolling_window': True, 'window_size': 156}\n",
      "\n",
      "Iter # 1\n",
      "Iter # 2\n",
      "Iter # 3\n",
      "Iter # 4\n",
      "Iter # 5\n",
      "Iter # 6\n",
      "Iter # 7\n",
      "Iter # 8\n"
     ]
    },
    {
     "name": "stderr",
     "output_type": "stream",
     "text": [
      "[I 2024-01-14 03:06:04,710] Trial 13 finished with value: 5.802537780255079 and parameters: {'lags': 45, 'lags_past_covariates': 39, 'rolling_window': True, 'window_size': 156}. Best is trial 13 with value: 5.802537780255079.\n"
     ]
    },
    {
     "name": "stdout",
     "output_type": "stream",
     "text": [
      "Current value: 5.802537780255079, Current params: {'lags': 45, 'lags_past_covariates': 39, 'rolling_window': True, 'window_size': 156}\n",
      "\n",
      "Best value: 5.802537780255079, Best params: {'lags': 45, 'lags_past_covariates': 39, 'rolling_window': True, 'window_size': 156}\n",
      "\n",
      "Iter # 1\n",
      "Iter # 2\n",
      "Iter # 3\n",
      "Iter # 4\n",
      "Iter # 5\n",
      "Iter # 6\n",
      "Iter # 7\n",
      "Iter # 8\n"
     ]
    },
    {
     "name": "stderr",
     "output_type": "stream",
     "text": [
      "[I 2024-01-14 03:06:13,054] Trial 14 finished with value: 6.355118146166205 and parameters: {'lags': 42, 'lags_past_covariates': 47, 'rolling_window': True, 'window_size': 156}. Best is trial 13 with value: 5.802537780255079.\n"
     ]
    },
    {
     "name": "stdout",
     "output_type": "stream",
     "text": [
      "Current value: 6.355118146166205, Current params: {'lags': 42, 'lags_past_covariates': 47, 'rolling_window': True, 'window_size': 156}\n",
      "\n",
      "Best value: 5.802537780255079, Best params: {'lags': 45, 'lags_past_covariates': 39, 'rolling_window': True, 'window_size': 156}\n",
      "\n",
      "Iter # 1\n",
      "Iter # 2\n",
      "Iter # 3\n",
      "Iter # 4\n",
      "Iter # 5\n",
      "Iter # 6\n",
      "Iter # 7\n",
      "Iter # 8\n"
     ]
    },
    {
     "name": "stderr",
     "output_type": "stream",
     "text": [
      "[I 2024-01-14 03:06:16,852] Trial 15 finished with value: 6.685559311881661 and parameters: {'lags': 20, 'lags_past_covariates': 37, 'rolling_window': True, 'window_size': 104}. Best is trial 13 with value: 5.802537780255079.\n"
     ]
    },
    {
     "name": "stdout",
     "output_type": "stream",
     "text": [
      "Current value: 6.685559311881661, Current params: {'lags': 20, 'lags_past_covariates': 37, 'rolling_window': True, 'window_size': 104}\n",
      "\n",
      "Best value: 5.802537780255079, Best params: {'lags': 45, 'lags_past_covariates': 39, 'rolling_window': True, 'window_size': 156}\n",
      "\n",
      "Iter # 1\n",
      "Iter # 2\n",
      "Iter # 3\n",
      "Iter # 4\n",
      "Iter # 5\n",
      "Iter # 6\n",
      "Iter # 7\n",
      "Iter # 8\n"
     ]
    },
    {
     "name": "stderr",
     "output_type": "stream",
     "text": [
      "[I 2024-01-14 03:06:25,146] Trial 16 finished with value: 5.911545013077557 and parameters: {'lags': 41, 'lags_past_covariates': 22, 'rolling_window': True, 'window_size': 156}. Best is trial 13 with value: 5.802537780255079.\n"
     ]
    },
    {
     "name": "stdout",
     "output_type": "stream",
     "text": [
      "Current value: 5.911545013077557, Current params: {'lags': 41, 'lags_past_covariates': 22, 'rolling_window': True, 'window_size': 156}\n",
      "\n",
      "Best value: 5.802537780255079, Best params: {'lags': 45, 'lags_past_covariates': 39, 'rolling_window': True, 'window_size': 156}\n",
      "\n",
      "Iter # 1\n",
      "Iter # 2\n",
      "Iter # 3\n",
      "Iter # 4\n",
      "Iter # 5\n",
      "Iter # 6\n",
      "Iter # 7\n",
      "Iter # 8\n"
     ]
    },
    {
     "name": "stderr",
     "output_type": "stream",
     "text": [
      "[I 2024-01-14 03:06:34,664] Trial 17 finished with value: 6.323117623105645 and parameters: {'lags': 46, 'lags_past_covariates': 51, 'rolling_window': True, 'window_size': 156}. Best is trial 13 with value: 5.802537780255079.\n"
     ]
    },
    {
     "name": "stdout",
     "output_type": "stream",
     "text": [
      "Current value: 6.323117623105645, Current params: {'lags': 46, 'lags_past_covariates': 51, 'rolling_window': True, 'window_size': 156}\n",
      "\n",
      "Best value: 5.802537780255079, Best params: {'lags': 45, 'lags_past_covariates': 39, 'rolling_window': True, 'window_size': 156}\n",
      "\n",
      "Iter # 1\n",
      "Iter # 2\n",
      "Iter # 3\n",
      "Iter # 4\n",
      "Iter # 5\n",
      "Iter # 6\n",
      "Iter # 7\n",
      "Iter # 8\n"
     ]
    },
    {
     "name": "stderr",
     "output_type": "stream",
     "text": [
      "[I 2024-01-14 03:06:45,742] Trial 18 finished with value: 5.899570928886533 and parameters: {'lags': 34, 'lags_past_covariates': 35, 'rolling_window': False}. Best is trial 13 with value: 5.802537780255079.\n"
     ]
    },
    {
     "name": "stdout",
     "output_type": "stream",
     "text": [
      "Current value: 5.899570928886533, Current params: {'lags': 34, 'lags_past_covariates': 35, 'rolling_window': False}\n",
      "\n",
      "Best value: 5.802537780255079, Best params: {'lags': 45, 'lags_past_covariates': 39, 'rolling_window': True, 'window_size': 156}\n",
      "\n",
      "Iter # 1\n",
      "Iter # 2\n",
      "Iter # 3\n",
      "Iter # 4\n",
      "Iter # 5\n",
      "Iter # 6\n",
      "Iter # 7\n",
      "Iter # 8\n"
     ]
    },
    {
     "name": "stderr",
     "output_type": "stream",
     "text": [
      "[I 2024-01-14 03:06:48,366] Trial 19 finished with value: 7.056488003581762 and parameters: {'lags': 23, 'lags_past_covariates': 45, 'rolling_window': True, 'window_size': 104}. Best is trial 13 with value: 5.802537780255079.\n"
     ]
    },
    {
     "name": "stdout",
     "output_type": "stream",
     "text": [
      "Current value: 7.056488003581762, Current params: {'lags': 23, 'lags_past_covariates': 45, 'rolling_window': True, 'window_size': 104}\n",
      "\n",
      "Best value: 5.802537780255079, Best params: {'lags': 45, 'lags_past_covariates': 39, 'rolling_window': True, 'window_size': 156}\n",
      "\n",
      "Number of finished trials: 20\n",
      "\n",
      "Best value: 5.802537780255079, Best params: {'lags': 45, 'lags_past_covariates': 39, 'rolling_window': True, 'window_size': 156}\n",
      "\n",
      "  lags: 45\n",
      "  lags_past_covariates: 39\n",
      "  rolling_window: True\n",
      "  window_size: 156\n"
     ]
    }
   ],
   "source": [
    "# перед запуском поменял сетку параметров на более детальную\n",
    "study_1 = opt(ts=ts, past_cov=past_cov, iterations=20)"
   ]
  },
  {
   "cell_type": "code",
   "execution_count": 47,
   "id": "5bcc8c85",
   "metadata": {},
   "outputs": [],
   "source": [
    "best_settings_1 = study_1.best_trial.params\n",
    "new_best_params, new_settings_for_backtest = setup_params(best_settings_1)"
   ]
  },
  {
   "cell_type": "code",
   "execution_count": 48,
   "id": "b6cd5ef7",
   "metadata": {},
   "outputs": [
    {
     "data": {
      "text/plain": [
       "{'lags': 45, 'lags_past_covariates': 39}"
      ]
     },
     "execution_count": 48,
     "metadata": {},
     "output_type": "execute_result"
    }
   ],
   "source": [
    "new_best_params"
   ]
  },
  {
   "cell_type": "code",
   "execution_count": 49,
   "id": "e1e1fd61",
   "metadata": {},
   "outputs": [
    {
     "data": {
      "text/plain": [
       "{'rolling_window': True, 'window_size': 156}"
      ]
     },
     "execution_count": 49,
     "metadata": {},
     "output_type": "execute_result"
    }
   ],
   "source": [
    "new_settings_for_backtest"
   ]
  },
  {
   "cell_type": "markdown",
   "id": "a7f5d2c3",
   "metadata": {},
   "source": [
    "### Backtest with refit on each step"
   ]
  },
  {
   "cell_type": "code",
   "execution_count": 51,
   "id": "2b0e7c59",
   "metadata": {},
   "outputs": [
    {
     "name": "stdout",
     "output_type": "stream",
     "text": [
      "Iter # 1\n",
      "Iter # 2\n",
      "Iter # 3\n",
      "Iter # 4\n",
      "Iter # 5\n",
      "Iter # 6\n",
      "Iter # 7\n",
      "Iter # 8\n"
     ]
    }
   ],
   "source": [
    "linear_model = LinearRegressionModel(**new_best_params,output_chunk_length=4,random_state=42)\n",
    "bt_metrics, pred_ts = manual_backtest(model=linear_model, ts=ts, past_covariates=past_cov,\n",
    "                                   save_curves=True, **new_settings_for_backtest)"
   ]
  },
  {
   "cell_type": "code",
   "execution_count": 52,
   "id": "150bd8da",
   "metadata": {},
   "outputs": [
    {
     "data": {
      "text/plain": [
       "(5.802537780255079, 1.7348082227557957)"
      ]
     },
     "execution_count": 52,
     "metadata": {},
     "output_type": "execute_result"
    }
   ],
   "source": [
    "np.mean(bt_metrics), np.std(bt_metrics)"
   ]
  },
  {
   "cell_type": "code",
   "execution_count": 53,
   "id": "3208d046",
   "metadata": {},
   "outputs": [
    {
     "name": "stdout",
     "output_type": "stream",
     "text": [
      "Backtest MAPE: 5.80 +- 1.73\n"
     ]
    }
   ],
   "source": [
    "print(\"Backtest MAPE: {:.2f} +- {:.2f}\".format(np.mean(bt_metrics), np.std(bt_metrics)))"
   ]
  },
  {
   "cell_type": "code",
   "execution_count": 55,
   "id": "6524b696",
   "metadata": {},
   "outputs": [
    {
     "name": "stderr",
     "output_type": "stream",
     "text": [
      "No artists with labels found to put in legend.  Note that artists whose label start with an underscore are ignored when legend() is called with no argument.\n",
      "No artists with labels found to put in legend.  Note that artists whose label start with an underscore are ignored when legend() is called with no argument.\n",
      "No artists with labels found to put in legend.  Note that artists whose label start with an underscore are ignored when legend() is called with no argument.\n",
      "No artists with labels found to put in legend.  Note that artists whose label start with an underscore are ignored when legend() is called with no argument.\n",
      "No artists with labels found to put in legend.  Note that artists whose label start with an underscore are ignored when legend() is called with no argument.\n",
      "No artists with labels found to put in legend.  Note that artists whose label start with an underscore are ignored when legend() is called with no argument.\n",
      "No artists with labels found to put in legend.  Note that artists whose label start with an underscore are ignored when legend() is called with no argument.\n",
      "No artists with labels found to put in legend.  Note that artists whose label start with an underscore are ignored when legend() is called with no argument.\n",
      "No artists with labels found to put in legend.  Note that artists whose label start with an underscore are ignored when legend() is called with no argument.\n"
     ]
    },
    {
     "data": {
      "image/png": "[encoded data removed]",
      "text/plain": [
       "<Figure size 1200x400 with 1 Axes>"
      ]
     },
     "metadata": {},
     "output_type": "display_data"
    }
   ],
   "source": [
    "fig, ax = plt.subplots(figsize=(12, 4))\n",
    "for key, value in pred_ts.items():\n",
    "    value.plot(label=None);\n",
    "    ax.axvline(x=value.start_time() - datetime.timedelta(1), color='black', linestyle='--', linewidth=0.5)\n",
    "ts.plot(color='blue', label=None)\n",
    "l1 = ax.axvline(x=ts.end_time(), color='r', linestyle='--', linewidth=1.5)\n",
    "ax.set_ylabel('Цена меди LME');\n",
    "ax.set_xlabel('Дата');\n",
    "plt.savefig('pic3.png', dpi=400, format='png')"
   ]
  },
  {
   "cell_type": "code",
   "execution_count": 59,
   "id": "6118b472",
   "metadata": {},
   "outputs": [
    {
     "data": {
      "text/plain": [
       "Text(0.5, 0, 'Number of historical forecast')"
      ]
     },
     "execution_count": 59,
     "metadata": {},
     "output_type": "execute_result"
    },
    {
     "data": {
      "image/png": "[encoded data removed]",
      "text/plain": [
       "<Figure size 640x480 with 1 Axes>"
      ]
     },
     "metadata": {},
     "output_type": "display_data"
    }
   ],
   "source": [
    "fig, ax = plt.subplots()\n",
    "ax = sns.lineplot(bt_metrics)\n",
    "ax.set_ylabel('Mape')\n",
    "ax.set_xlabel('Number of historical forecast')"
   ]
  },
  {
   "cell_type": "markdown",
   "id": "f9d6608c",
   "metadata": {},
   "source": [
    "### Fit and evaluate without refitting"
   ]
  },
  {
   "cell_type": "code",
   "execution_count": 57,
   "id": "2692d7b6",
   "metadata": {},
   "outputs": [
    {
     "name": "stdout",
     "output_type": "stream",
     "text": [
      "MAPE: 5.09 +- 2.48\n"
     ]
    }
   ],
   "source": [
    "candidates = ['bloomberg_metals_price_mean_4',\n",
    " 'chalco_adj_std_13',\n",
    " 'usa_inflation_value_shift_13',\n",
    " 'usd_to_hkd_increment_by_mean_26',\n",
    " 'rual_price_std_26',\n",
    " 'hongqiao_adj_std_4',\n",
    " 'alcoa_price_std_4',\n",
    " 'bloomberg_metals_price_std_9',\n",
    " 'chalco_price_std_4',\n",
    " 'eu_inflation_value_increment_by_mean_26',\n",
    " 'ftse_index_change_mean_52',\n",
    " 'eu_inflation_value_std_13',\n",
    " 'australia_pmi_std_26']\n",
    "\n",
    "prediction_curves, out_of_time_metrics_no_refit = evaluation_without_refitting(model_settings=new_best_params,\n",
    "                                                                               backtest_settings=new_settings_for_backtest,\n",
    "                                                                               df=df,\n",
    "                                                                               candidates=candidates\n",
    "                                                                              )"
   ]
  },
  {
   "cell_type": "code",
   "execution_count": 58,
   "id": "b60f49b9",
   "metadata": {},
   "outputs": [
    {
     "name": "stdout",
     "output_type": "stream",
     "text": [
      "Out-of-time MAPE without refit: 5.09 +- 2.48\n"
     ]
    }
   ],
   "source": [
    "print(\"Out-of-time MAPE without refit: {:.2f} +- {:.2f}\".format(np.mean(out_of_time_metrics_no_refit), np.std(out_of_time_metrics_no_refit)))"
   ]
  },
  {
   "cell_type": "code",
   "execution_count": 59,
   "id": "871b02bd",
   "metadata": {},
   "outputs": [
    {
     "data": {
      "text/plain": [
       "Text(0.5, 0, 'Number of prediction on the out-of-time set')"
      ]
     },
     "execution_count": 59,
     "metadata": {},
     "output_type": "execute_result"
    },
    {
     "data": {
      "image/png": "[encoded data removed]",
      "text/plain": [
       "<Figure size 640x480 with 1 Axes>"
      ]
     },
     "metadata": {},
     "output_type": "display_data"
    }
   ],
   "source": [
    "fig, ax = plt.subplots()\n",
    "ax = sns.lineplot(out_of_time_metrics_no_refit)\n",
    "ax.set_ylabel('Mape')\n",
    "ax.set_xlabel('Number of prediction on the out-of-time set')"
   ]
  },
  {
   "cell_type": "code",
   "execution_count": 62,
   "id": "da4325c7",
   "metadata": {},
   "outputs": [
    {
     "name": "stderr",
     "output_type": "stream",
     "text": [
      "No artists with labels found to put in legend.  Note that artists whose label start with an underscore are ignored when legend() is called with no argument.\n",
      "No artists with labels found to put in legend.  Note that artists whose label start with an underscore are ignored when legend() is called with no argument.\n",
      "No artists with labels found to put in legend.  Note that artists whose label start with an underscore are ignored when legend() is called with no argument.\n",
      "No artists with labels found to put in legend.  Note that artists whose label start with an underscore are ignored when legend() is called with no argument.\n",
      "No artists with labels found to put in legend.  Note that artists whose label start with an underscore are ignored when legend() is called with no argument.\n",
      "No artists with labels found to put in legend.  Note that artists whose label start with an underscore are ignored when legend() is called with no argument.\n",
      "No artists with labels found to put in legend.  Note that artists whose label start with an underscore are ignored when legend() is called with no argument.\n",
      "No artists with labels found to put in legend.  Note that artists whose label start with an underscore are ignored when legend() is called with no argument.\n",
      "No artists with labels found to put in legend.  Note that artists whose label start with an underscore are ignored when legend() is called with no argument.\n",
      "No artists with labels found to put in legend.  Note that artists whose label start with an underscore are ignored when legend() is called with no argument.\n",
      "No artists with labels found to put in legend.  Note that artists whose label start with an underscore are ignored when legend() is called with no argument.\n",
      "No artists with labels found to put in legend.  Note that artists whose label start with an underscore are ignored when legend() is called with no argument.\n",
      "No artists with labels found to put in legend.  Note that artists whose label start with an underscore are ignored when legend() is called with no argument.\n",
      "No artists with labels found to put in legend.  Note that artists whose label start with an underscore are ignored when legend() is called with no argument.\n",
      "No artists with labels found to put in legend.  Note that artists whose label start with an underscore are ignored when legend() is called with no argument.\n",
      "No artists with labels found to put in legend.  Note that artists whose label start with an underscore are ignored when legend() is called with no argument.\n",
      "No artists with labels found to put in legend.  Note that artists whose label start with an underscore are ignored when legend() is called with no argument.\n"
     ]
    },
    {
     "data": {
      "image/png": "[encoded data removed]",
      "text/plain": [
       "<Figure size 1200x400 with 1 Axes>"
      ]
     },
     "metadata": {},
     "output_type": "display_data"
    }
   ],
   "source": [
    "\n",
    "\n",
    "fig, ax = plt.subplots(figsize=(12, 4))\n",
    "for key, value in prediction_curves.items():\n",
    "    value.plot(label=None)\n",
    "data_ts[-2*OUT_OF_TIME_DIM:].plot(label='Данные для обучения')\n",
    "data_ts[-OUT_OF_TIME_DIM-1:].plot(label='Тест')\n",
    "ax.set_ylabel('Цена меди LME');\n",
    "ax.set_xlabel('Дата');\n",
    "l1 = ax.axvline(x=ts.end_time(), color='r', linestyle='--', linewidth=1.5)\n",
    "plt.savefig('pic3.png', dpi=400, format='png')"
   ]
  },
  {
   "cell_type": "markdown",
   "id": "1e13783d",
   "metadata": {},
   "source": [
    "### Fit and evaluate with refitting"
   ]
  },
  {
   "cell_type": "code",
   "execution_count": 81,
   "id": "f80c8f8f",
   "metadata": {},
   "outputs": [
    {
     "name": "stdout",
     "output_type": "stream",
     "text": [
      "MAPE: 21.54 +- 1.44\n"
     ]
    }
   ],
   "source": [
    "candidates = ['bloomberg_metals_price_mean_4',\n",
    "              'ftse_index_change_mean_52',\n",
    "              'USD_EUR_rate_std_26',\n",
    "              'usa_gdp_increment_value',\n",
    "              'rual_price_std_4',\n",
    "              'australia_inflation_increment_by_mean_26',\n",
    "              'australia_inflation_std_26',\n",
    "              'australia_pmi_std_13']\n",
    "\n",
    "prediction_curves, out_of_time_metrics_refit = evaluation_with_refitting(model_settings=new_best_params,\n",
    "                                                                            backtest_settings=new_settings_for_backtest,\n",
    "                                                                            df=df,\n",
    "                                                                            candidates=candidates\n",
    "                                                                           )"
   ]
  },
  {
   "cell_type": "code",
   "execution_count": 83,
   "id": "c289eee4",
   "metadata": {},
   "outputs": [
    {
     "name": "stdout",
     "output_type": "stream",
     "text": [
      "Out-of-time MAPE without refit: 21.54 +- 1.44\n"
     ]
    }
   ],
   "source": [
    "print(\"Out-of-time MAPE without refit: {:.2f} +- {:.2f}\".format(np.mean(out_of_time_metrics_refit), np.std(out_of_time_metrics_refit)))"
   ]
  },
  {
   "cell_type": "code",
   "execution_count": 85,
   "id": "7964f5ad",
   "metadata": {},
   "outputs": [
    {
     "data": {
      "text/plain": [
       "Text(0.5, 0, 'Number of prediction on the out-of-time set')"
      ]
     },
     "execution_count": 85,
     "metadata": {},
     "output_type": "execute_result"
    },
    {
     "data": {
      "image/png": "[encoded data removed]",
      "text/plain": [
       "<Figure size 640x480 with 1 Axes>"
      ]
     },
     "metadata": {},
     "output_type": "display_data"
    }
   ],
   "source": [
    "fig, ax = plt.subplots()\n",
    "ax = sns.lineplot(out_of_time_metrics_refit)\n",
    "ax.set_ylabel('Mape')\n",
    "ax.set_xlabel('Number of prediction on the out-of-time set')"
   ]
  },
  {
   "cell_type": "code",
   "execution_count": 86,
   "id": "6e784137",
   "metadata": {},
   "outputs": [
    {
     "data": {
      "text/plain": [
       "<Axes: xlabel='date'>"
      ]
     },
     "execution_count": 86,
     "metadata": {},
     "output_type": "execute_result"
    },
    {
     "data": {
      "image/png": "[encoded data removed]",
      "text/plain": [
       "<Figure size 800x500 with 1 Axes>"
      ]
     },
     "metadata": {},
     "output_type": "display_data"
    }
   ],
   "source": [
    "plt.figure(figsize=(8,5))\n",
    "for key, value in prediction_curves.items():\n",
    "    value.plot(label=key)\n",
    "data_ts[-2*OUT_OF_TIME_DIM:].plot(label='data')\n",
    "data_ts[-OUT_OF_TIME_DIM:].plot(label='out-of-time')"
   ]
  },
  {
   "cell_type": "code",
   "execution_count": null,
   "id": "c1929098",
   "metadata": {},
   "outputs": [],
   "source": []
  },
  {
   "cell_type": "code",
   "execution_count": null,
   "id": "c112d37a",
   "metadata": {},
   "outputs": [],
   "source": []
  },
  {
   "cell_type": "code",
   "execution_count": null,
   "id": "191e392a",
   "metadata": {},
   "outputs": [],
   "source": []
  },
  {
   "cell_type": "markdown",
   "id": "8c251899",
   "metadata": {},
   "source": [
    "### Evaluate train metrics without refitting"
   ]
  },
  {
   "cell_type": "code",
   "execution_count": 64,
   "id": "4120b9de",
   "metadata": {},
   "outputs": [],
   "source": [
    "candidates = ['bloomberg_metals_price_mean_4',\n",
    " 'chalco_adj_std_13',\n",
    " 'usa_inflation_value_shift_13',\n",
    " 'usd_to_hkd_increment_by_mean_26',\n",
    " 'rual_price_std_26',\n",
    " 'hongqiao_adj_std_4',\n",
    " 'alcoa_price_std_4',\n",
    " 'bloomberg_metals_price_std_9',\n",
    " 'chalco_price_std_4',\n",
    " 'eu_inflation_value_increment_by_mean_26',\n",
    " 'ftse_index_change_mean_52',\n",
    " 'eu_inflation_value_std_13',\n",
    " 'australia_pmi_std_26']"
   ]
  },
  {
   "cell_type": "code",
   "execution_count": 65,
   "id": "cf7a8cb5",
   "metadata": {},
   "outputs": [
    {
     "name": "stdout",
     "output_type": "stream",
     "text": [
      "MAPE: 11.75 +- 12.71\n"
     ]
    }
   ],
   "source": [
    "train_metrics = train_metric_evaluation(model_settings=new_best_params,\n",
    "                                        backtest_settings=new_settings_for_backtest,\n",
    "                                        df=df,\n",
    "                                        candidates=candidates)"
   ]
  },
  {
   "cell_type": "code",
   "execution_count": 66,
   "id": "fd1ef8e8",
   "metadata": {},
   "outputs": [
    {
     "data": {
      "text/plain": [
       "(11.74593188026683, 12.708235260414336)"
      ]
     },
     "execution_count": 66,
     "metadata": {},
     "output_type": "execute_result"
    }
   ],
   "source": [
    "np.mean(train_metrics), np.std(train_metrics)"
   ]
  },
  {
   "cell_type": "code",
   "execution_count": 92,
   "id": "791e8c1a",
   "metadata": {},
   "outputs": [
    {
     "data": {
      "text/plain": [
       "Text(0.5, 0, 'Number of prediction on the out-of-time set')"
      ]
     },
     "execution_count": 92,
     "metadata": {},
     "output_type": "execute_result"
    },
    {
     "data": {
      "image/png": "[encoded data removed]",
      "text/plain": [
       "<Figure size 640x480 with 1 Axes>"
      ]
     },
     "metadata": {},
     "output_type": "display_data"
    }
   ],
   "source": [
    "fig, ax = plt.subplots()\n",
    "ax = sns.lineplot(train_metrics)\n",
    "ax.set_ylabel('Mape')\n",
    "ax.set_xlabel('Number of prediction on the out-of-time set')"
   ]
  },
  {
   "cell_type": "code",
   "execution_count": 96,
   "id": "caf7bded",
   "metadata": {},
   "outputs": [],
   "source": [
    "metrics_dict = {\n",
    "    \"train_mean_mape\":np.mean(train_metrics),\n",
    "    \"train_std_mape\":np.std(train_metrics),\n",
    "    \"backtest_mean_mape\":np.mean(bt_metrics),\n",
    "    \"backtest_std_mape\":np.std(bt_metrics),\n",
    "    \"test_mean_mape_no_reffit\":np.mean(out_of_time_metrics_no_refit),\n",
    "    \"test_std_mape_no_reffit\":np.std(out_of_time_metrics_no_refit),\n",
    "    \"test_mean_mape_reffit\":np.mean(out_of_time_metrics_refit),\n",
    "    \"test_std_mape_reffit\":np.std(out_of_time_metrics_refit),\n",
    "}\n",
    "params = new_best_params | new_settings_for_backtest"
   ]
  },
  {
   "cell_type": "code",
   "execution_count": 97,
   "id": "44002c09",
   "metadata": {},
   "outputs": [
    {
     "data": {
      "text/plain": [
       "{'train_mean_mape': 2.7176062773993332,\n",
       " 'train_std_mape': 1.7625621857696292,\n",
       " 'backtest_mean_mape': 10.085882897643685,\n",
       " 'backtest_std_mape': 7.49027008124043,\n",
       " 'test_mean_mape_no_reffit': 7.206361656816628,\n",
       " 'test_std_mape_no_reffit': 1.1254847389027458,\n",
       " 'test_mean_mape_reffit': 21.543207929010645,\n",
       " 'test_std_mape_reffit': 1.4447026421019704}"
      ]
     },
     "execution_count": 97,
     "metadata": {},
     "output_type": "execute_result"
    }
   ],
   "source": [
    "metrics_dict"
   ]
  },
  {
   "cell_type": "code",
   "execution_count": 98,
   "id": "8a65cdee",
   "metadata": {},
   "outputs": [
    {
     "data": {
      "text/plain": [
       "{'lags': 4,\n",
       " 'lags_past_covariates': 58,\n",
       " 'n_estimators': 100,\n",
       " 'max_depth': 11,\n",
       " 'min_samples_split': 2,\n",
       " 'max_features': 'log2',\n",
       " 'max_samples': 0.2,\n",
       " 'rolling_window': False}"
      ]
     },
     "execution_count": 98,
     "metadata": {},
     "output_type": "execute_result"
    }
   ],
   "source": [
    "params"
   ]
  },
  {
   "cell_type": "code",
   "execution_count": null,
   "id": "eee9769c",
   "metadata": {},
   "outputs": [],
   "source": []
  },
  {
   "cell_type": "code",
   "execution_count": null,
   "id": "df551ce0",
   "metadata": {},
   "outputs": [],
   "source": []
  },
  {
   "cell_type": "code",
   "execution_count": null,
   "id": "378825b3",
   "metadata": {},
   "outputs": [],
   "source": []
  },
  {
   "cell_type": "code",
   "execution_count": null,
   "id": "30e09933",
   "metadata": {},
   "outputs": [],
   "source": []
  }
 ],
 "metadata": {
  "kernelspec": {
   "display_name": "venv_darts",
   "language": "python",
   "name": "venv_darts"
  },
  "language_info": {
   "codemirror_mode": {
    "name": "ipython",
    "version": 3
   },
   "file_extension": ".py",
   "mimetype": "text/x-python",
   "name": "python",
   "nbconvert_exporter": "python",
   "pygments_lexer": "ipython3",
   "version": "3.10.0"
  }
 },
 "nbformat": 4,
 "nbformat_minor": 5
}
