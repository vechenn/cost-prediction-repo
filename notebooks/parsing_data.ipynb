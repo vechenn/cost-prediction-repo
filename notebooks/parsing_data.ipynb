{
 "cells": [
  {
   "cell_type": "code",
   "execution_count": 1,
   "metadata": {},
   "outputs": [],
   "source": [
    "import numpy as np\n",
    "\n",
    "import pandas as pd\n",
    "pd.set_option('display.max_rows', 100)\n",
    "pd.set_option('display.max_columns', 50)\n",
    "from datetime import datetime as dt\n",
    "\n",
    "import matplotlib.pyplot as plt\n",
    "import seaborn as sns"
   ]
  },
  {
   "cell_type": "code",
   "execution_count": 2,
   "metadata": {},
   "outputs": [],
   "source": [
    "# from statsmodels.graphics.tsaplots import plot_acf, plot_pacf\n",
    "# from statsmodels.tsa.seasonal import STL\n",
    "# from statsmodels.tsa.stattools import adfuller\n",
    "# from statsmodels.tsa.statespace.sarimax import SARIMAX\n",
    "\n",
    "# print(np.__version__)\n",
    "# print(pd.__version__)\n",
    "# print(statsmodels.__version__)\n",
    "# print(sns.__version__)"
   ]
  },
  {
   "cell_type": "markdown",
   "metadata": {},
   "source": [
    "# Алюминий LME"
   ]
  },
  {
   "cell_type": "code",
   "execution_count": 3,
   "metadata": {},
   "outputs": [],
   "source": [
    "df_al = pd.read_csv('../data/external/Al_lme_prices.csv', sep=';')"
   ]
  },
  {
   "cell_type": "code",
   "execution_count": 4,
   "metadata": {},
   "outputs": [],
   "source": [
    "df_al['lme_volume'] = df_al['lme_volume'].apply(lambda x: float('.'.join(x[:-1].split(',')))*1000 if ',' in str(x) else float(x))\n",
    "df_al['lme_price'] = df_al['lme_price'].apply(lambda x: float(''.join(x.split(',')))*1000 if ',' in str(x) else float(x))\n",
    "df_al['lme_change'] = df_al['lme_change'].apply(lambda x: float('.'.join(x[:-1].split(','))) if ',' in str(x) else float(x))\n",
    "df_al['date'] = pd.to_datetime(df_al['date'], dayfirst=True)"
   ]
  },
  {
   "cell_type": "code",
   "execution_count": 5,
   "metadata": {},
   "outputs": [
    {
     "data": {
      "text/html": [
       "<div>\n",
       "<style scoped>\n",
       "    .dataframe tbody tr th:only-of-type {\n",
       "        vertical-align: middle;\n",
       "    }\n",
       "\n",
       "    .dataframe tbody tr th {\n",
       "        vertical-align: top;\n",
       "    }\n",
       "\n",
       "    .dataframe thead th {\n",
       "        text-align: right;\n",
       "    }\n",
       "</style>\n",
       "<table border=\"1\" class=\"dataframe\">\n",
       "  <thead>\n",
       "    <tr style=\"text-align: right;\">\n",
       "      <th></th>\n",
       "      <th>date</th>\n",
       "      <th>lme_price</th>\n",
       "      <th>lme_volume</th>\n",
       "      <th>lme_change</th>\n",
       "    </tr>\n",
       "  </thead>\n",
       "  <tbody>\n",
       "    <tr>\n",
       "      <th>0</th>\n",
       "      <td>2023-10-26</td>\n",
       "      <td>2197.5</td>\n",
       "      <td>43570.0</td>\n",
       "      <td>-0.97</td>\n",
       "    </tr>\n",
       "    <tr>\n",
       "      <th>1</th>\n",
       "      <td>2023-10-25</td>\n",
       "      <td>2219.0</td>\n",
       "      <td>47390.0</td>\n",
       "      <td>1.28</td>\n",
       "    </tr>\n",
       "    <tr>\n",
       "      <th>2</th>\n",
       "      <td>2023-10-24</td>\n",
       "      <td>2191.0</td>\n",
       "      <td>44210.0</td>\n",
       "      <td>0.69</td>\n",
       "    </tr>\n",
       "    <tr>\n",
       "      <th>3</th>\n",
       "      <td>2023-10-23</td>\n",
       "      <td>2176.0</td>\n",
       "      <td>31710.0</td>\n",
       "      <td>-0.25</td>\n",
       "    </tr>\n",
       "    <tr>\n",
       "      <th>4</th>\n",
       "      <td>2023-10-20</td>\n",
       "      <td>2181.5</td>\n",
       "      <td>27910.0</td>\n",
       "      <td>-0.16</td>\n",
       "    </tr>\n",
       "  </tbody>\n",
       "</table>\n",
       "</div>"
      ],
      "text/plain": [
       "        date  lme_price  lme_volume  lme_change\n",
       "0 2023-10-26     2197.5     43570.0       -0.97\n",
       "1 2023-10-25     2219.0     47390.0        1.28\n",
       "2 2023-10-24     2191.0     44210.0        0.69\n",
       "3 2023-10-23     2176.0     31710.0       -0.25\n",
       "4 2023-10-20     2181.5     27910.0       -0.16"
      ]
     },
     "execution_count": 5,
     "metadata": {},
     "output_type": "execute_result"
    }
   ],
   "source": [
    "df_al.head()"
   ]
  },
  {
   "cell_type": "code",
   "execution_count": 6,
   "metadata": {},
   "outputs": [
    {
     "data": {
      "text/plain": [
       "date          datetime64[ns]\n",
       "lme_price            float64\n",
       "lme_volume           float64\n",
       "lme_change           float64\n",
       "dtype: object"
      ]
     },
     "execution_count": 6,
     "metadata": {},
     "output_type": "execute_result"
    }
   ],
   "source": [
    "df_al.dtypes"
   ]
  },
  {
   "cell_type": "markdown",
   "metadata": {},
   "source": [
    "# Индексы"
   ]
  },
  {
   "cell_type": "markdown",
   "metadata": {},
   "source": [
    "Блумберг металс индекс"
   ]
  },
  {
   "cell_type": "code",
   "execution_count": 7,
   "metadata": {},
   "outputs": [],
   "source": [
    "df_bloomberg_metal = pd.read_csv('../data/external/Bloomberg_Industrial_Metals.csv', sep=';')"
   ]
  },
  {
   "cell_type": "code",
   "execution_count": 8,
   "metadata": {},
   "outputs": [],
   "source": [
    "df_bloomberg_metal['bloomberg_metals_price'] = df_bloomberg_metal['bloomberg_metals_price'].apply(lambda x: float('.'.join(x.split(','))) if ',' in str(x) else float(x))\n",
    "df_bloomberg_metal['bloomberg_metals_change'] = df_bloomberg_metal['bloomberg_metals_change'].apply(lambda x: float('.'.join(x[:-1].split(','))) if ',' in str(x) else float(x))\n",
    "df_bloomberg_metal['date'] = pd.to_datetime(df_bloomberg_metal['date'], dayfirst=True)"
   ]
  },
  {
   "cell_type": "code",
   "execution_count": 9,
   "metadata": {},
   "outputs": [
    {
     "data": {
      "text/html": [
       "<div>\n",
       "<style scoped>\n",
       "    .dataframe tbody tr th:only-of-type {\n",
       "        vertical-align: middle;\n",
       "    }\n",
       "\n",
       "    .dataframe tbody tr th {\n",
       "        vertical-align: top;\n",
       "    }\n",
       "\n",
       "    .dataframe thead th {\n",
       "        text-align: right;\n",
       "    }\n",
       "</style>\n",
       "<table border=\"1\" class=\"dataframe\">\n",
       "  <thead>\n",
       "    <tr style=\"text-align: right;\">\n",
       "      <th></th>\n",
       "      <th>date</th>\n",
       "      <th>bloomberg_metals_price</th>\n",
       "      <th>bloomberg_metals_change</th>\n",
       "    </tr>\n",
       "  </thead>\n",
       "  <tbody>\n",
       "    <tr>\n",
       "      <th>0</th>\n",
       "      <td>2023-10-27</td>\n",
       "      <td>138.09</td>\n",
       "      <td>1.45</td>\n",
       "    </tr>\n",
       "    <tr>\n",
       "      <th>1</th>\n",
       "      <td>2023-10-26</td>\n",
       "      <td>136.11</td>\n",
       "      <td>-0.81</td>\n",
       "    </tr>\n",
       "    <tr>\n",
       "      <th>2</th>\n",
       "      <td>2023-10-25</td>\n",
       "      <td>137.23</td>\n",
       "      <td>0.26</td>\n",
       "    </tr>\n",
       "    <tr>\n",
       "      <th>3</th>\n",
       "      <td>2023-10-24</td>\n",
       "      <td>136.87</td>\n",
       "      <td>0.81</td>\n",
       "    </tr>\n",
       "    <tr>\n",
       "      <th>4</th>\n",
       "      <td>2023-10-23</td>\n",
       "      <td>135.77</td>\n",
       "      <td>-0.29</td>\n",
       "    </tr>\n",
       "  </tbody>\n",
       "</table>\n",
       "</div>"
      ],
      "text/plain": [
       "        date  bloomberg_metals_price  bloomberg_metals_change\n",
       "0 2023-10-27                  138.09                     1.45\n",
       "1 2023-10-26                  136.11                    -0.81\n",
       "2 2023-10-25                  137.23                     0.26\n",
       "3 2023-10-24                  136.87                     0.81\n",
       "4 2023-10-23                  135.77                    -0.29"
      ]
     },
     "execution_count": 9,
     "metadata": {},
     "output_type": "execute_result"
    }
   ],
   "source": [
    "df_bloomberg_metal.head()"
   ]
  },
  {
   "cell_type": "code",
   "execution_count": 10,
   "metadata": {},
   "outputs": [
    {
     "data": {
      "text/plain": [
       "date                       datetime64[ns]\n",
       "bloomberg_metals_price            float64\n",
       "bloomberg_metals_change           float64\n",
       "dtype: object"
      ]
     },
     "execution_count": 10,
     "metadata": {},
     "output_type": "execute_result"
    }
   ],
   "source": [
    "df_bloomberg_metal.dtypes"
   ]
  },
  {
   "cell_type": "markdown",
   "metadata": {},
   "source": [
    "FTSE"
   ]
  },
  {
   "cell_type": "code",
   "execution_count": 11,
   "metadata": {},
   "outputs": [],
   "source": [
    "df_ftse = pd.read_csv('../data/external/FTSE_ChinaA600_Industrial_Metal.csv', sep=';')"
   ]
  },
  {
   "cell_type": "code",
   "execution_count": 12,
   "metadata": {},
   "outputs": [],
   "source": [
    "df_ftse['ftse_index'] = df_ftse['ftse_index'].apply(lambda x: float(''.join(x.split(',')))*1000 if ',' in str(x) else float(x))\n",
    "df_ftse['ftse_index_change'] = df_ftse['ftse_index_change'].apply(lambda x: float('.'.join(x[:-1].split(','))) if ',' in str(x) else float(x))\n",
    "df_ftse['date'] = pd.to_datetime(df_ftse['date'], dayfirst=True)"
   ]
  },
  {
   "cell_type": "code",
   "execution_count": 13,
   "metadata": {},
   "outputs": [
    {
     "data": {
      "text/html": [
       "<div>\n",
       "<style scoped>\n",
       "    .dataframe tbody tr th:only-of-type {\n",
       "        vertical-align: middle;\n",
       "    }\n",
       "\n",
       "    .dataframe tbody tr th {\n",
       "        vertical-align: top;\n",
       "    }\n",
       "\n",
       "    .dataframe thead th {\n",
       "        text-align: right;\n",
       "    }\n",
       "</style>\n",
       "<table border=\"1\" class=\"dataframe\">\n",
       "  <thead>\n",
       "    <tr style=\"text-align: right;\">\n",
       "      <th></th>\n",
       "      <th>date</th>\n",
       "      <th>ftse_index</th>\n",
       "      <th>ftse_index_change</th>\n",
       "    </tr>\n",
       "  </thead>\n",
       "  <tbody>\n",
       "    <tr>\n",
       "      <th>0</th>\n",
       "      <td>2023-10-27</td>\n",
       "      <td>4741.72</td>\n",
       "      <td>1.18</td>\n",
       "    </tr>\n",
       "    <tr>\n",
       "      <th>1</th>\n",
       "      <td>2023-10-26</td>\n",
       "      <td>4686.37</td>\n",
       "      <td>0.40</td>\n",
       "    </tr>\n",
       "    <tr>\n",
       "      <th>2</th>\n",
       "      <td>2023-10-25</td>\n",
       "      <td>4667.83</td>\n",
       "      <td>2.19</td>\n",
       "    </tr>\n",
       "    <tr>\n",
       "      <th>3</th>\n",
       "      <td>2023-10-24</td>\n",
       "      <td>4567.76</td>\n",
       "      <td>1.82</td>\n",
       "    </tr>\n",
       "    <tr>\n",
       "      <th>4</th>\n",
       "      <td>2023-10-23</td>\n",
       "      <td>4486.17</td>\n",
       "      <td>-2.73</td>\n",
       "    </tr>\n",
       "  </tbody>\n",
       "</table>\n",
       "</div>"
      ],
      "text/plain": [
       "        date  ftse_index  ftse_index_change\n",
       "0 2023-10-27     4741.72               1.18\n",
       "1 2023-10-26     4686.37               0.40\n",
       "2 2023-10-25     4667.83               2.19\n",
       "3 2023-10-24     4567.76               1.82\n",
       "4 2023-10-23     4486.17              -2.73"
      ]
     },
     "execution_count": 13,
     "metadata": {},
     "output_type": "execute_result"
    }
   ],
   "source": [
    "df_ftse.head()"
   ]
  },
  {
   "cell_type": "code",
   "execution_count": 14,
   "metadata": {},
   "outputs": [
    {
     "data": {
      "text/plain": [
       "date                 datetime64[ns]\n",
       "ftse_index                  float64\n",
       "ftse_index_change           float64\n",
       "dtype: object"
      ]
     },
     "execution_count": 14,
     "metadata": {},
     "output_type": "execute_result"
    }
   ],
   "source": [
    "df_ftse.dtypes"
   ]
  },
  {
   "cell_type": "markdown",
   "metadata": {},
   "source": [
    "sp_metal"
   ]
  },
  {
   "cell_type": "code",
   "execution_count": 15,
   "metadata": {},
   "outputs": [],
   "source": [
    "df_sp_metal = pd.read_csv('../data/external/S&P_Metals_and_Mining_Select_Industry.csv', sep=';')\n",
    "df_sp_metal['date'] = pd.to_datetime(df_sp_metal['date'], dayfirst=True)"
   ]
  },
  {
   "cell_type": "code",
   "execution_count": 16,
   "metadata": {},
   "outputs": [],
   "source": [
    "df_sp_metal['sp_metals_price'] = df_sp_metal['sp_metals_price'].apply(lambda x: float(''.join(x.split(',')))*1000 if '.' in str(x) else float('.'.join(x.split(','))) )\n",
    "df_sp_metal['sp_metals_change'] = df_sp_metal['sp_metals_change'].apply(lambda x: float('.'.join(x[:-1].split(','))) if ',' in str(x) else float(x))"
   ]
  },
  {
   "cell_type": "code",
   "execution_count": 17,
   "metadata": {},
   "outputs": [
    {
     "data": {
      "text/plain": [
       "date                datetime64[ns]\n",
       "sp_metals_price            float64\n",
       "sp_metals_change           float64\n",
       "dtype: object"
      ]
     },
     "execution_count": 17,
     "metadata": {},
     "output_type": "execute_result"
    }
   ],
   "source": [
    "df_sp_metal.dtypes"
   ]
  },
  {
   "cell_type": "code",
   "execution_count": 18,
   "metadata": {},
   "outputs": [
    {
     "data": {
      "text/html": [
       "<div>\n",
       "<style scoped>\n",
       "    .dataframe tbody tr th:only-of-type {\n",
       "        vertical-align: middle;\n",
       "    }\n",
       "\n",
       "    .dataframe tbody tr th {\n",
       "        vertical-align: top;\n",
       "    }\n",
       "\n",
       "    .dataframe thead th {\n",
       "        text-align: right;\n",
       "    }\n",
       "</style>\n",
       "<table border=\"1\" class=\"dataframe\">\n",
       "  <thead>\n",
       "    <tr style=\"text-align: right;\">\n",
       "      <th></th>\n",
       "      <th>date</th>\n",
       "      <th>sp_metals_price</th>\n",
       "      <th>sp_metals_change</th>\n",
       "    </tr>\n",
       "  </thead>\n",
       "  <tbody>\n",
       "    <tr>\n",
       "      <th>0</th>\n",
       "      <td>2023-10-27</td>\n",
       "      <td>2527.9</td>\n",
       "      <td>0.79</td>\n",
       "    </tr>\n",
       "    <tr>\n",
       "      <th>1</th>\n",
       "      <td>2023-10-26</td>\n",
       "      <td>2508.1</td>\n",
       "      <td>0.16</td>\n",
       "    </tr>\n",
       "    <tr>\n",
       "      <th>2</th>\n",
       "      <td>2023-10-25</td>\n",
       "      <td>2504.1</td>\n",
       "      <td>-0.79</td>\n",
       "    </tr>\n",
       "    <tr>\n",
       "      <th>3</th>\n",
       "      <td>2023-10-24</td>\n",
       "      <td>2524.0</td>\n",
       "      <td>1.49</td>\n",
       "    </tr>\n",
       "    <tr>\n",
       "      <th>4</th>\n",
       "      <td>2023-10-23</td>\n",
       "      <td>2486.9</td>\n",
       "      <td>-0.72</td>\n",
       "    </tr>\n",
       "  </tbody>\n",
       "</table>\n",
       "</div>"
      ],
      "text/plain": [
       "        date  sp_metals_price  sp_metals_change\n",
       "0 2023-10-27           2527.9              0.79\n",
       "1 2023-10-26           2508.1              0.16\n",
       "2 2023-10-25           2504.1             -0.79\n",
       "3 2023-10-24           2524.0              1.49\n",
       "4 2023-10-23           2486.9             -0.72"
      ]
     },
     "execution_count": 18,
     "metadata": {},
     "output_type": "execute_result"
    }
   ],
   "source": [
    "df_sp_metal.head()"
   ]
  },
  {
   "cell_type": "markdown",
   "metadata": {},
   "source": [
    "mosexchange"
   ]
  },
  {
   "cell_type": "code",
   "execution_count": 19,
   "metadata": {},
   "outputs": [
    {
     "data": {
      "text/plain": [
       "date                 datetime64[ns]\n",
       "mosexchange_value           float64\n",
       "dtype: object"
      ]
     },
     "execution_count": 19,
     "metadata": {},
     "output_type": "execute_result"
    }
   ],
   "source": [
    "df_mosexchange = pd.read_excel('../data/external/additional_info.xlsx', sheet_name='Индексы', header=None, names=['date','mosexchange_value'], skiprows=4, usecols=\"A:B\")\n",
    "df_mosexchange.dropna(inplace=True)\n",
    "df_mosexchange['mosexchange_value'] = df_mosexchange['mosexchange_value'].apply(lambda x: float(''.join(x.split(',')))*1000 if ',' in str(x) else float(x))\n",
    "df_mosexchange.dtypes"
   ]
  },
  {
   "cell_type": "code",
   "execution_count": 20,
   "metadata": {},
   "outputs": [
    {
     "data": {
      "text/html": [
       "<div>\n",
       "<style scoped>\n",
       "    .dataframe tbody tr th:only-of-type {\n",
       "        vertical-align: middle;\n",
       "    }\n",
       "\n",
       "    .dataframe tbody tr th {\n",
       "        vertical-align: top;\n",
       "    }\n",
       "\n",
       "    .dataframe thead th {\n",
       "        text-align: right;\n",
       "    }\n",
       "</style>\n",
       "<table border=\"1\" class=\"dataframe\">\n",
       "  <thead>\n",
       "    <tr style=\"text-align: right;\">\n",
       "      <th></th>\n",
       "      <th>date</th>\n",
       "      <th>mosexchange_value</th>\n",
       "    </tr>\n",
       "  </thead>\n",
       "  <tbody>\n",
       "    <tr>\n",
       "      <th>0</th>\n",
       "      <td>2023-10-26</td>\n",
       "      <td>8189.72</td>\n",
       "    </tr>\n",
       "    <tr>\n",
       "      <th>1</th>\n",
       "      <td>2023-10-25</td>\n",
       "      <td>8278.75</td>\n",
       "    </tr>\n",
       "    <tr>\n",
       "      <th>2</th>\n",
       "      <td>2023-10-24</td>\n",
       "      <td>8264.43</td>\n",
       "    </tr>\n",
       "    <tr>\n",
       "      <th>3</th>\n",
       "      <td>2023-10-23</td>\n",
       "      <td>8282.37</td>\n",
       "    </tr>\n",
       "    <tr>\n",
       "      <th>4</th>\n",
       "      <td>2023-10-20</td>\n",
       "      <td>8291.48</td>\n",
       "    </tr>\n",
       "  </tbody>\n",
       "</table>\n",
       "</div>"
      ],
      "text/plain": [
       "        date  mosexchange_value\n",
       "0 2023-10-26            8189.72\n",
       "1 2023-10-25            8278.75\n",
       "2 2023-10-24            8264.43\n",
       "3 2023-10-23            8282.37\n",
       "4 2023-10-20            8291.48"
      ]
     },
     "execution_count": 20,
     "metadata": {},
     "output_type": "execute_result"
    }
   ],
   "source": [
    "df_mosexchange.head()"
   ]
  },
  {
   "cell_type": "markdown",
   "metadata": {},
   "source": [
    "# Курсы валют"
   ]
  },
  {
   "cell_type": "code",
   "execution_count": 21,
   "metadata": {},
   "outputs": [],
   "source": [
    "df_usd_hkd = pd.read_csv('../data/external/HKD_X.csv', sep=';')\n",
    "df_usd_hkd['date'] = pd.to_datetime(df_usd_hkd['date'], dayfirst=True)"
   ]
  },
  {
   "cell_type": "code",
   "execution_count": 22,
   "metadata": {},
   "outputs": [],
   "source": [
    "df_rub_cny = pd.read_csv('../data/external/RUB_CNY.csv', sep=';')\n",
    "df_rub_cny['date'] = pd.to_datetime(df_rub_cny['date'], dayfirst=True)\n",
    "df_rub_cny['rub_to_cny'] = df_rub_cny['rub_to_cny'].apply(lambda x: float('.'.join(x.split(','))) if ',' in str(x) else float(x))\n",
    "df_rub_cny['rub_to_cny_change'] = df_rub_cny['rub_to_cny_change'].apply(lambda x: float('.'.join(x[:-1].split(','))) if ',' in str(x) else float(x))"
   ]
  },
  {
   "cell_type": "code",
   "execution_count": 23,
   "metadata": {},
   "outputs": [],
   "source": [
    "df_usd_clp = pd.read_excel('../data/external/additional_info.xlsx', sheet_name='Валюты', header=3, usecols=\"B:C\")\n",
    "df_usd_clp.rename(columns = {'Date':'date'}, inplace=True)\n",
    "df_usd_cny = pd.read_excel('../data/external/additional_info.xlsx', sheet_name='Валюты', header=3, usecols=\"D:E\")\n",
    "df_usd_cny.rename(columns = {'Date.1':'date'}, inplace=True)\n",
    "df_usd_jpy = pd.read_excel('../data/external/additional_info.xlsx', sheet_name='Валюты', header=3, usecols=\"F:G\")\n",
    "df_usd_jpy.rename(columns = {'Date.2':'date'}, inplace=True)\n",
    "df_usd_eur = pd.read_excel('../data/external/additional_info.xlsx', sheet_name='Валюты', header=3, usecols=\"H:I\")\n",
    "df_usd_eur.rename(columns = {'Date.3':'date'}, inplace=True)\n",
    "df_usd_rub = pd.read_excel('../data/external/additional_info.xlsx', sheet_name='Валюты', header=3, usecols=\"J:K\")\n",
    "df_usd_rub.rename(columns = {'Date.4':'date'}, inplace=True)\n",
    "df_usd_dxy = pd.read_excel('../data/external/additional_info.xlsx', sheet_name='Валюты', header=3, usecols=\"L:M\")\n",
    "df_usd_dxy.rename(columns = {'Date.5':'date'}, inplace=True)\n",
    "\n",
    "df_usd_clp.dropna(inplace=True)\n",
    "df_usd_cny.dropna(inplace=True)\n",
    "df_usd_jpy.dropna(inplace=True)\n",
    "df_usd_eur.dropna(inplace=True)\n",
    "df_usd_rub.dropna(inplace=True)\n",
    "df_usd_dxy.dropna(inplace=True)"
   ]
  },
  {
   "cell_type": "code",
   "execution_count": 24,
   "metadata": {},
   "outputs": [],
   "source": [
    "df_usd_clp['USD_CLP_rate'] = df_usd_clp['USD_CLP_rate'].apply(lambda x: float(''.join(x.split(',')))*1000 if ',' in str(x) else float(x))"
   ]
  },
  {
   "cell_type": "markdown",
   "metadata": {},
   "source": [
    "# Акции"
   ]
  },
  {
   "cell_type": "code",
   "execution_count": 25,
   "metadata": {},
   "outputs": [],
   "source": [
    "df_chalco = pd.read_csv('../data/external/China_Chalco.csv', sep=';')\n",
    "df_hongqiao = pd.read_csv('../data/external/China_Hongqiao.csv', sep=';')\n",
    "\n",
    "df_chalco['date'] = pd.to_datetime(df_chalco['date'], dayfirst=True)\n",
    "df_hongqiao['date'] = pd.to_datetime(df_hongqiao['date'], dayfirst=True)"
   ]
  },
  {
   "cell_type": "code",
   "execution_count": 26,
   "metadata": {},
   "outputs": [
    {
     "data": {
      "text/plain": [
       "date             datetime64[ns]\n",
       "chalco_price            float64\n",
       "chalco_adj              float64\n",
       "chalco_volume             int64\n",
       "dtype: object"
      ]
     },
     "execution_count": 26,
     "metadata": {},
     "output_type": "execute_result"
    }
   ],
   "source": [
    "df_chalco.dtypes"
   ]
  },
  {
   "cell_type": "code",
   "execution_count": 27,
   "metadata": {},
   "outputs": [
    {
     "data": {
      "text/plain": [
       "date               datetime64[ns]\n",
       "hongqiao_price            float64\n",
       "hongqiao_adj              float64\n",
       "hongqiao_volume             int64\n",
       "dtype: object"
      ]
     },
     "execution_count": 27,
     "metadata": {},
     "output_type": "execute_result"
    }
   ],
   "source": [
    "df_hongqiao.dtypes"
   ]
  },
  {
   "cell_type": "code",
   "execution_count": 28,
   "metadata": {},
   "outputs": [],
   "source": [
    "df_norsk_hydro = pd.read_csv('../data/external/NOW_Norsk_Hydro.csv', sep=';')\n",
    "df_norsk_hydro['date'] = pd.to_datetime(df_norsk_hydro['date'], dayfirst=True)"
   ]
  },
  {
   "cell_type": "code",
   "execution_count": 29,
   "metadata": {},
   "outputs": [
    {
     "data": {
      "text/plain": [
       "date                  datetime64[ns]\n",
       "norsk_hydro_price            float64\n",
       "norsk_hydro_adj              float64\n",
       "norsk_hydro_volume             int64\n",
       "dtype: object"
      ]
     },
     "execution_count": 29,
     "metadata": {},
     "output_type": "execute_result"
    }
   ],
   "source": [
    "df_norsk_hydro.dtypes"
   ]
  },
  {
   "cell_type": "code",
   "execution_count": 30,
   "metadata": {},
   "outputs": [],
   "source": [
    "df_rusal = pd.read_csv('../data/external/RUS_RUAL.csv', sep=';')\n",
    "df_rusal['date'] = pd.to_datetime(df_rusal['date'], dayfirst=True)"
   ]
  },
  {
   "cell_type": "code",
   "execution_count": 31,
   "metadata": {},
   "outputs": [],
   "source": [
    "df_rusal['rual_price'] = df_rusal['rual_price'].apply(lambda x: float('.'.join(x.split(','))) if ',' in str(x) else float(x))\n",
    "df_rusal['rual_volume'] = df_rusal['rual_volume'].apply(lambda x: float('.'.join(x[:-1].split(',')))*1000000 if 'M' in str(x) else float('.'.join(x[:-1].split(',')))*1000 if 'K' in str(x) else float(x))\n",
    "df_rusal['rual_price_change'] = df_rusal['rual_price_change'].apply(lambda x: float('.'.join(x[:-1].split(','))) if ',' in str(x) else float(x))"
   ]
  },
  {
   "cell_type": "code",
   "execution_count": 32,
   "metadata": {},
   "outputs": [
    {
     "data": {
      "text/plain": [
       "date                 datetime64[ns]\n",
       "rual_price                  float64\n",
       "rual_volume                 float64\n",
       "rual_price_change           float64\n",
       "dtype: object"
      ]
     },
     "execution_count": 32,
     "metadata": {},
     "output_type": "execute_result"
    }
   ],
   "source": [
    "df_rusal.dtypes"
   ]
  },
  {
   "cell_type": "code",
   "execution_count": 33,
   "metadata": {},
   "outputs": [],
   "source": [
    "df_alcoa = pd.read_csv('../data/external/USA_Alcoa_corp.csv', sep=';')\n",
    "df_alcoa['date'] = pd.to_datetime(df_alcoa['date'], dayfirst=True)"
   ]
  },
  {
   "cell_type": "code",
   "execution_count": 34,
   "metadata": {},
   "outputs": [
    {
     "data": {
      "text/plain": [
       "date            datetime64[ns]\n",
       "alcoa_price            float64\n",
       "alcoa_volume             int64\n",
       "dtype: object"
      ]
     },
     "execution_count": 34,
     "metadata": {},
     "output_type": "execute_result"
    }
   ],
   "source": [
    "df_alcoa.dtypes"
   ]
  },
  {
   "cell_type": "code",
   "execution_count": 35,
   "metadata": {},
   "outputs": [],
   "source": [
    "df_kaiser = pd.read_csv('../data/external/USA_Kaiser.csv', sep=';')\n",
    "df_kaiser['date'] = pd.to_datetime(df_kaiser['date'], dayfirst=True)"
   ]
  },
  {
   "cell_type": "code",
   "execution_count": 36,
   "metadata": {},
   "outputs": [
    {
     "data": {
      "text/plain": [
       "date             datetime64[ns]\n",
       "kaiser_price            float64\n",
       "kaiser_volume             int64\n",
       "dtype: object"
      ]
     },
     "execution_count": 36,
     "metadata": {},
     "output_type": "execute_result"
    }
   ],
   "source": [
    "df_kaiser.dtypes"
   ]
  },
  {
   "cell_type": "markdown",
   "metadata": {},
   "source": [
    "# Логистика"
   ]
  },
  {
   "cell_type": "code",
   "execution_count": 37,
   "metadata": {},
   "outputs": [],
   "source": [
    "df_shanghai_index = pd.read_excel('../data/external/additional_info.xlsx', sheet_name='Логистика', header=None, names=['date','shanghai_index'], skiprows=4, usecols=\"B:C\")\n",
    "df_shanghai_index.dropna(inplace=True)\n",
    "df_china_index = pd.read_excel('../data/external/additional_info.xlsx', sheet_name='Логистика', header=None, names=['date','china_index'], skiprows=4, usecols=\"E:F\")\n",
    "df_china_index.dropna(inplace=True)\n",
    "df_baltic_dry_index = pd.read_excel('../data/external/additional_info.xlsx', sheet_name='Логистика', header=None, names=['date','baltic_dry_index'], skiprows=4, usecols=\"G:H\")\n",
    "df_baltic_dry_index['baltic_dry_index'] = df_baltic_dry_index['baltic_dry_index'].apply(lambda x: float(''.join(x.split(',')))*1000 if ',' in str(x) else float(x))"
   ]
  },
  {
   "cell_type": "code",
   "execution_count": 38,
   "metadata": {},
   "outputs": [
    {
     "data": {
      "text/plain": [
       "date              datetime64[ns]\n",
       "shanghai_index           float64\n",
       "dtype: object"
      ]
     },
     "execution_count": 38,
     "metadata": {},
     "output_type": "execute_result"
    }
   ],
   "source": [
    "df_shanghai_index.dtypes"
   ]
  },
  {
   "cell_type": "code",
   "execution_count": 39,
   "metadata": {},
   "outputs": [
    {
     "data": {
      "text/plain": [
       "date           datetime64[ns]\n",
       "china_index           float64\n",
       "dtype: object"
      ]
     },
     "execution_count": 39,
     "metadata": {},
     "output_type": "execute_result"
    }
   ],
   "source": [
    "df_china_index.dtypes"
   ]
  },
  {
   "cell_type": "code",
   "execution_count": 40,
   "metadata": {},
   "outputs": [
    {
     "data": {
      "text/plain": [
       "date                datetime64[ns]\n",
       "baltic_dry_index           float64\n",
       "dtype: object"
      ]
     },
     "execution_count": 40,
     "metadata": {},
     "output_type": "execute_result"
    }
   ],
   "source": [
    "df_baltic_dry_index.dtypes"
   ]
  },
  {
   "cell_type": "markdown",
   "metadata": {},
   "source": [
    "# Макроэкономика"
   ]
  },
  {
   "cell_type": "markdown",
   "metadata": {},
   "source": [
    "Австралия"
   ]
  },
  {
   "cell_type": "code",
   "execution_count": 41,
   "metadata": {},
   "outputs": [],
   "source": [
    "df_australia_inflation = pd.read_csv('../data/external/Australia_inflation.csv', sep=';')\n",
    "df_australia_inflation['australia_inflation'] = df_australia_inflation['australia_inflation'].apply(lambda x: float('.'.join(x.split(','))) if ',' in str(x) else float(x))\n",
    "df_australia_inflation['date'] = pd.to_datetime(df_australia_inflation['date'], dayfirst=True)"
   ]
  },
  {
   "cell_type": "code",
   "execution_count": 42,
   "metadata": {},
   "outputs": [
    {
     "data": {
      "text/plain": [
       "date                   datetime64[ns]\n",
       "australia_inflation           float64\n",
       "dtype: object"
      ]
     },
     "execution_count": 42,
     "metadata": {},
     "output_type": "execute_result"
    }
   ],
   "source": [
    "df_australia_inflation.dtypes"
   ]
  },
  {
   "cell_type": "code",
   "execution_count": 43,
   "metadata": {},
   "outputs": [],
   "source": [
    "df_australia_pmi = pd.read_csv('../data/external/Australia_PMI.csv', sep=';')\n",
    "df_australia_pmi['australia_pmi'] = df_australia_pmi['australia_pmi'].apply(lambda x: float('.'.join(x.split(','))) if ',' in str(x) else float(x))\n",
    "df_australia_pmi['date'] = pd.to_datetime(df_australia_pmi['date'], dayfirst=True)"
   ]
  },
  {
   "cell_type": "code",
   "execution_count": 44,
   "metadata": {},
   "outputs": [
    {
     "data": {
      "text/plain": [
       "date             datetime64[ns]\n",
       "australia_pmi           float64\n",
       "dtype: object"
      ]
     },
     "execution_count": 44,
     "metadata": {},
     "output_type": "execute_result"
    }
   ],
   "source": [
    "df_australia_pmi.dtypes"
   ]
  },
  {
   "cell_type": "code",
   "execution_count": 45,
   "metadata": {},
   "outputs": [],
   "source": [
    "df_australia_resources_changing = pd.read_csv('../data/external/Australia_resources_changing.csv', sep=';')\n",
    "df_australia_resources_changing['australia_resources'] = df_australia_resources_changing['australia_resources'].astype('float64')\n",
    "df_australia_resources_changing['date'] = pd.to_datetime(df_australia_resources_changing['date'], dayfirst=True)"
   ]
  },
  {
   "cell_type": "code",
   "execution_count": 46,
   "metadata": {},
   "outputs": [
    {
     "data": {
      "text/plain": [
       "date                   datetime64[ns]\n",
       "australia_resources           float64\n",
       "dtype: object"
      ]
     },
     "execution_count": 46,
     "metadata": {},
     "output_type": "execute_result"
    }
   ],
   "source": [
    "df_australia_resources_changing.dtypes"
   ]
  },
  {
   "cell_type": "markdown",
   "metadata": {},
   "source": [
    "Бразилия"
   ]
  },
  {
   "cell_type": "code",
   "execution_count": 47,
   "metadata": {},
   "outputs": [],
   "source": [
    "df_brazil_gdp = pd.read_csv('../data/external/Brazil_gdp.csv', sep=';')\n",
    "df_brazil_gdp['date'] = pd.to_datetime(df_brazil_gdp['date'], dayfirst=True)"
   ]
  },
  {
   "cell_type": "code",
   "execution_count": 48,
   "metadata": {},
   "outputs": [],
   "source": [
    "df_brazil_inflation = pd.read_csv('../data/external/Brazil_inflation.csv', sep=';')\n",
    "df_brazil_inflation['brazil_inflation'] = df_brazil_inflation['brazil_inflation'].apply(lambda x: float('.'.join(x.split(','))) if ',' in str(x) else float(x))\n",
    "df_brazil_inflation['date'] = pd.to_datetime(df_brazil_inflation['date'], dayfirst=True)"
   ]
  },
  {
   "cell_type": "code",
   "execution_count": 49,
   "metadata": {},
   "outputs": [
    {
     "data": {
      "text/plain": [
       "date                datetime64[ns]\n",
       "brazil_inflation           float64\n",
       "dtype: object"
      ]
     },
     "execution_count": 49,
     "metadata": {},
     "output_type": "execute_result"
    }
   ],
   "source": [
    "df_brazil_inflation.dtypes"
   ]
  },
  {
   "cell_type": "code",
   "execution_count": 50,
   "metadata": {},
   "outputs": [],
   "source": [
    "df_brazil_pmi = pd.read_csv('../data/external/Brazil_PMI.csv', sep=';')\n",
    "df_brazil_pmi['brazil_pmi'] = df_brazil_pmi['brazil_pmi'].apply(lambda x: float('.'.join(x.split(','))) if ',' in str(x) else float(x))\n",
    "df_brazil_pmi['date'] = pd.to_datetime(df_brazil_pmi['date'], dayfirst=True)"
   ]
  },
  {
   "cell_type": "code",
   "execution_count": 51,
   "metadata": {},
   "outputs": [
    {
     "data": {
      "text/plain": [
       "date          datetime64[ns]\n",
       "brazil_pmi           float64\n",
       "dtype: object"
      ]
     },
     "execution_count": 51,
     "metadata": {},
     "output_type": "execute_result"
    }
   ],
   "source": [
    "df_brazil_pmi.dtypes"
   ]
  },
  {
   "cell_type": "code",
   "execution_count": 52,
   "metadata": {},
   "outputs": [],
   "source": [
    "df_brazil_resources_changing = pd.read_csv('../data/external/Brazil_resources_changing.csv', sep=';')\n",
    "df_brazil_resources_changing['brazil_resources'] = df_brazil_resources_changing['brazil_resources'].apply(lambda x: float('.'.join(x.split(','))) if ',' in str(x) else float(x))\n",
    "df_brazil_resources_changing['date'] = pd.to_datetime(df_brazil_resources_changing['date'], dayfirst=True)"
   ]
  },
  {
   "cell_type": "code",
   "execution_count": 53,
   "metadata": {},
   "outputs": [
    {
     "data": {
      "text/plain": [
       "date                datetime64[ns]\n",
       "brazil_resources           float64\n",
       "dtype: object"
      ]
     },
     "execution_count": 53,
     "metadata": {},
     "output_type": "execute_result"
    }
   ],
   "source": [
    "df_brazil_resources_changing.dtypes"
   ]
  },
  {
   "cell_type": "markdown",
   "metadata": {},
   "source": [
    "Гвинея"
   ]
  },
  {
   "cell_type": "code",
   "execution_count": 54,
   "metadata": {},
   "outputs": [],
   "source": [
    "df_guinea_inflation = pd.read_csv('../data/external/Guinea_inflation.csv', sep=';')\n",
    "df_guinea_inflation['guinea_inflation'] = df_guinea_inflation['guinea_inflation'].apply(lambda x: float('.'.join(x.split(','))) if ',' in str(x) else float(x))\n",
    "df_guinea_inflation['date'] = pd.to_datetime(df_guinea_inflation['date'], dayfirst=True)"
   ]
  },
  {
   "cell_type": "code",
   "execution_count": 55,
   "metadata": {},
   "outputs": [
    {
     "data": {
      "text/html": [
       "<div>\n",
       "<style scoped>\n",
       "    .dataframe tbody tr th:only-of-type {\n",
       "        vertical-align: middle;\n",
       "    }\n",
       "\n",
       "    .dataframe tbody tr th {\n",
       "        vertical-align: top;\n",
       "    }\n",
       "\n",
       "    .dataframe thead th {\n",
       "        text-align: right;\n",
       "    }\n",
       "</style>\n",
       "<table border=\"1\" class=\"dataframe\">\n",
       "  <thead>\n",
       "    <tr style=\"text-align: right;\">\n",
       "      <th></th>\n",
       "      <th>date</th>\n",
       "      <th>guinea_inflation</th>\n",
       "    </tr>\n",
       "  </thead>\n",
       "  <tbody>\n",
       "    <tr>\n",
       "      <th>0</th>\n",
       "      <td>2023-08-31</td>\n",
       "      <td>8.02</td>\n",
       "    </tr>\n",
       "    <tr>\n",
       "      <th>1</th>\n",
       "      <td>2023-07-31</td>\n",
       "      <td>6.00</td>\n",
       "    </tr>\n",
       "    <tr>\n",
       "      <th>2</th>\n",
       "      <td>2023-06-30</td>\n",
       "      <td>6.21</td>\n",
       "    </tr>\n",
       "    <tr>\n",
       "      <th>3</th>\n",
       "      <td>2023-05-31</td>\n",
       "      <td>7.91</td>\n",
       "    </tr>\n",
       "    <tr>\n",
       "      <th>4</th>\n",
       "      <td>2023-04-30</td>\n",
       "      <td>8.27</td>\n",
       "    </tr>\n",
       "  </tbody>\n",
       "</table>\n",
       "</div>"
      ],
      "text/plain": [
       "        date  guinea_inflation\n",
       "0 2023-08-31              8.02\n",
       "1 2023-07-31              6.00\n",
       "2 2023-06-30              6.21\n",
       "3 2023-05-31              7.91\n",
       "4 2023-04-30              8.27"
      ]
     },
     "execution_count": 55,
     "metadata": {},
     "output_type": "execute_result"
    }
   ],
   "source": [
    "df_guinea_inflation.head()"
   ]
  },
  {
   "cell_type": "code",
   "execution_count": 56,
   "metadata": {},
   "outputs": [
    {
     "data": {
      "text/plain": [
       "date                datetime64[ns]\n",
       "guinea_inflation           float64\n",
       "dtype: object"
      ]
     },
     "execution_count": 56,
     "metadata": {},
     "output_type": "execute_result"
    }
   ],
   "source": [
    "df_guinea_inflation.dtypes"
   ]
  },
  {
   "cell_type": "markdown",
   "metadata": {},
   "source": [
    "Китай"
   ]
  },
  {
   "cell_type": "code",
   "execution_count": 57,
   "metadata": {},
   "outputs": [
    {
     "data": {
      "text/plain": [
       "date                         datetime64[ns]\n",
       "china_gdp_increment_value           float64\n",
       "dtype: object"
      ]
     },
     "execution_count": 57,
     "metadata": {},
     "output_type": "execute_result"
    }
   ],
   "source": [
    "df_china_gdp_increment = pd.read_excel('../data/external/additional_info.xlsx', sheet_name='Макроэкономика', header=None, names=['date','china_gdp_increment_value'], skiprows=7, usecols=\"G:H\")\n",
    "df_china_gdp_increment.dropna(inplace=True)\n",
    "df_china_gdp_increment.dtypes"
   ]
  },
  {
   "cell_type": "code",
   "execution_count": 58,
   "metadata": {},
   "outputs": [
    {
     "data": {
      "text/plain": [
       "date                datetime64[ns]\n",
       "china_pmi1_value           float64\n",
       "dtype: object"
      ]
     },
     "execution_count": 58,
     "metadata": {},
     "output_type": "execute_result"
    }
   ],
   "source": [
    "df_china_pmi1 = pd.read_excel('../data/external/additional_info.xlsx', sheet_name='Макроэкономика', header=None, names=['date','china_pmi1_value'], skiprows=7, usecols=\"K:L\")\n",
    "df_china_pmi1.dropna(inplace=True)\n",
    "df_china_pmi1.dtypes"
   ]
  },
  {
   "cell_type": "code",
   "execution_count": 59,
   "metadata": {},
   "outputs": [
    {
     "data": {
      "text/plain": [
       "date                     datetime64[ns]\n",
       "china_inflation_value           float64\n",
       "dtype: object"
      ]
     },
     "execution_count": 59,
     "metadata": {},
     "output_type": "execute_result"
    }
   ],
   "source": [
    "df_china_inflation = pd.read_excel('../data/external/additional_info.xlsx', sheet_name='Макроэкономика', header=None, names=['date','china_inflation_value'], skiprows=7, usecols=\"O:P\")\n",
    "df_china_inflation.dropna(inplace=True)\n",
    "df_china_inflation.dtypes"
   ]
  },
  {
   "cell_type": "code",
   "execution_count": 60,
   "metadata": {},
   "outputs": [
    {
     "data": {
      "text/plain": [
       "date               datetime64[ns]\n",
       "china_bid_value           float64\n",
       "dtype: object"
      ]
     },
     "execution_count": 60,
     "metadata": {},
     "output_type": "execute_result"
    }
   ],
   "source": [
    "df_china_bid = pd.read_excel('../data/external/additional_info.xlsx', sheet_name='Макроэкономика', header=None, names=['date','china_bid_value'], skiprows=7, usecols=\"U:V\")\n",
    "df_china_bid.dropna(inplace=True)\n",
    "df_china_bid.dtypes"
   ]
  },
  {
   "cell_type": "code",
   "execution_count": 61,
   "metadata": {},
   "outputs": [
    {
     "data": {
      "text/plain": [
       "date                datetime64[ns]\n",
       "china_pmi2_value           float64\n",
       "dtype: object"
      ]
     },
     "execution_count": 61,
     "metadata": {},
     "output_type": "execute_result"
    }
   ],
   "source": [
    "df_china_pmi2 = pd.read_excel('../data/external/additional_info.xlsx', sheet_name='Макроэкономика', header=None, names=['date','china_pmi2_value'], skiprows=7, usecols=\"Z:AA\")\n",
    "df_china_pmi2.dropna(inplace=True)\n",
    "df_china_pmi2.dtypes"
   ]
  },
  {
   "cell_type": "markdown",
   "metadata": {},
   "source": [
    "США"
   ]
  },
  {
   "cell_type": "code",
   "execution_count": 62,
   "metadata": {},
   "outputs": [
    {
     "data": {
      "text/plain": [
       "date                       datetime64[ns]\n",
       "usa_gdp_increment_value           float64\n",
       "dtype: object"
      ]
     },
     "execution_count": 62,
     "metadata": {},
     "output_type": "execute_result"
    }
   ],
   "source": [
    "df_usa_gdp_increment = pd.read_excel('../data/external/additional_info.xlsx', sheet_name='Макроэкономика', header=None, names=['date','usa_gdp_increment_value'], skiprows=7, usecols=\"AX:AY\")\n",
    "df_usa_gdp_increment.dropna(inplace=True)\n",
    "df_usa_gdp_increment.dtypes"
   ]
  },
  {
   "cell_type": "code",
   "execution_count": 63,
   "metadata": {},
   "outputs": [
    {
     "data": {
      "text/plain": [
       "date             datetime64[ns]\n",
       "usa_bid_value           float64\n",
       "dtype: object"
      ]
     },
     "execution_count": 63,
     "metadata": {},
     "output_type": "execute_result"
    }
   ],
   "source": [
    "df_usa_bid = pd.read_excel('../data/external/additional_info.xlsx', sheet_name='Макроэкономика', header=None, names=['date','usa_bid_value'], skiprows=7, usecols=\"BB:BC\")\n",
    "df_usa_bid.dropna(inplace=True)\n",
    "df_usa_bid.dtypes"
   ]
  },
  {
   "cell_type": "code",
   "execution_count": 64,
   "metadata": {},
   "outputs": [
    {
     "data": {
      "text/plain": [
       "date                   datetime64[ns]\n",
       "usa_inflation_value           float64\n",
       "dtype: object"
      ]
     },
     "execution_count": 64,
     "metadata": {},
     "output_type": "execute_result"
    }
   ],
   "source": [
    "df_usa_inflation = pd.read_excel('../data/external/additional_info.xlsx', sheet_name='Макроэкономика', header=None, names=['date','usa_inflation_value'], skiprows=7, usecols=\"BF:BG\")\n",
    "df_usa_inflation.dropna(inplace=True)\n",
    "df_usa_inflation.dtypes"
   ]
  },
  {
   "cell_type": "code",
   "execution_count": 65,
   "metadata": {},
   "outputs": [
    {
     "data": {
      "text/plain": [
       "date             datetime64[ns]\n",
       "usa_pmi_value           float64\n",
       "dtype: object"
      ]
     },
     "execution_count": 65,
     "metadata": {},
     "output_type": "execute_result"
    }
   ],
   "source": [
    "df_usa_pmi = pd.read_excel('../data/external/additional_info.xlsx', sheet_name='Макроэкономика', header=None, names=['date','usa_pmi_value'], skiprows=7, usecols=\"BJ:BK\")\n",
    "df_usa_pmi.dropna(inplace=True)\n",
    "df_usa_pmi.dtypes"
   ]
  },
  {
   "cell_type": "markdown",
   "metadata": {},
   "source": [
    "ЕС"
   ]
  },
  {
   "cell_type": "code",
   "execution_count": 66,
   "metadata": {},
   "outputs": [
    {
     "data": {
      "text/plain": [
       "date                      datetime64[ns]\n",
       "eu_gdp_increment_value           float64\n",
       "dtype: object"
      ]
     },
     "execution_count": 66,
     "metadata": {},
     "output_type": "execute_result"
    }
   ],
   "source": [
    "df_eu_gdp_increment = pd.read_excel('../data/external/additional_info.xlsx', sheet_name='Макроэкономика', header=None, names=['date','eu_gdp_increment_value'], skiprows=7, usecols=\"BN:BO\")\n",
    "df_eu_gdp_increment.dropna(inplace=True)\n",
    "df_eu_gdp_increment.dtypes"
   ]
  },
  {
   "cell_type": "code",
   "execution_count": 67,
   "metadata": {},
   "outputs": [
    {
     "data": {
      "text/plain": [
       "date                  datetime64[ns]\n",
       "eu_inflation_value           float64\n",
       "dtype: object"
      ]
     },
     "execution_count": 67,
     "metadata": {},
     "output_type": "execute_result"
    }
   ],
   "source": [
    "df_eu_inflation = pd.read_excel('../data/external/additional_info.xlsx', sheet_name='Макроэкономика', header=None, names=['date','eu_inflation_value'], skiprows=7, usecols=\"BR:BS\")\n",
    "df_eu_inflation.dropna(inplace=True)\n",
    "df_eu_inflation.dtypes"
   ]
  },
  {
   "cell_type": "markdown",
   "metadata": {},
   "source": [
    "Россия"
   ]
  },
  {
   "cell_type": "code",
   "execution_count": 68,
   "metadata": {},
   "outputs": [
    {
     "data": {
      "text/plain": [
       "date                   datetime64[ns]\n",
       "rus_inflation_value           float64\n",
       "dtype: object"
      ]
     },
     "execution_count": 68,
     "metadata": {},
     "output_type": "execute_result"
    }
   ],
   "source": [
    "df_rus_inflation = pd.read_excel('../data/external/additional_info.xlsx', sheet_name='Макроэкономика', header=None, names=['date','rus_inflation_value'], skiprows=7, usecols=\"CD:CE\")\n",
    "df_rus_inflation.dropna(inplace=True)\n",
    "df_rus_inflation.dtypes"
   ]
  },
  {
   "cell_type": "code",
   "execution_count": 69,
   "metadata": {},
   "outputs": [
    {
     "data": {
      "text/plain": [
       "date             datetime64[ns]\n",
       "rus_pmi_value           float64\n",
       "dtype: object"
      ]
     },
     "execution_count": 69,
     "metadata": {},
     "output_type": "execute_result"
    }
   ],
   "source": [
    "df_rus_pmi = pd.read_excel('../data/external/additional_info.xlsx', sheet_name='Макроэкономика', header=None, names=['date','rus_pmi_value'], skiprows=7, usecols=\"CH:CI\")\n",
    "df_rus_pmi.dropna(inplace=True)\n",
    "df_rus_pmi.dtypes"
   ]
  },
  {
   "cell_type": "markdown",
   "metadata": {},
   "source": [
    "# Внешняя торговля"
   ]
  },
  {
   "cell_type": "code",
   "execution_count": 70,
   "metadata": {},
   "outputs": [],
   "source": [
    "df_brazil_import = pd.read_excel('../data/external/additional_info.xlsx', sheet_name='Внешняя торговля', header=2, usecols=\"A:B\")\n",
    "df_brazil_import['date'] = pd.to_datetime(df_brazil_import['date']) + pd.offsets.MonthEnd()\n",
    "\n",
    "df_brazil_export = pd.read_excel('../data/external/additional_info.xlsx', sheet_name='Внешняя торговля', header=2, usecols=\"C:D\")\n",
    "df_brazil_export.rename(columns = {'date.1':'date'}, inplace=True)\n",
    "df_brazil_export['date'] = pd.to_datetime(df_brazil_export['date']) + pd.offsets.MonthEnd()\n",
    "\n",
    "df_usa_import = pd.read_excel('../data/external/additional_info.xlsx', sheet_name='Внешняя торговля', header=2, usecols=\"E:F\")\n",
    "df_usa_import.rename(columns = {'date.2':'date'}, inplace=True)\n",
    "df_usa_import['import_usa_value'] = df_usa_import['import_usa_value'].apply(lambda x: float(''.join(x.split(','))) if ',' in str(x) else float(x))\n",
    "df_usa_import['date'] = pd.to_datetime(df_usa_import['date']) + pd.offsets.MonthEnd()\n",
    "\n",
    "df_usa_export = pd.read_excel('../data/external/additional_info.xlsx', sheet_name='Внешняя торговля', header=2, usecols=\"G:H\")\n",
    "df_usa_export.rename(columns = {'date.3':'date'}, inplace=True)\n",
    "df_usa_export['export_usa_value'] = df_usa_export['export_usa_value'].apply(lambda x: float(''.join(x.split(','))) if ',' in str(x) else float(x))\n",
    "df_usa_export['date'] = pd.to_datetime(df_usa_export['date']) + pd.offsets.MonthEnd()\n",
    "\n",
    "df_china_import = pd.read_excel('../data/external/additional_info.xlsx', sheet_name='Внешняя торговля', header=2, usecols=\"I:J\")\n",
    "df_china_import.rename(columns = {'date.4':'date'}, inplace=True)\n",
    "df_china_import['import_china_value'] = df_china_import['import_china_value'].apply(lambda x: float(''.join(x.split(','))) if ',' in str(x) else float(x))\n",
    "df_china_import['date'] = pd.to_datetime(df_china_import['date']) + pd.offsets.MonthEnd()\n",
    "\n",
    "df_china_export = pd.read_excel('../data/external/additional_info.xlsx', sheet_name='Внешняя торговля', header=2, usecols=\"K:L\")\n",
    "df_china_export.rename(columns = {'date.5':'date'}, inplace=True)\n",
    "df_china_export['export_china_value'] = df_china_export['export_china_value'].apply(lambda x: float(''.join(x.split(','))) if ',' in str(x) else float(x))\n",
    "df_china_export['date'] = pd.to_datetime(df_china_export['date']) + pd.offsets.MonthEnd()\n",
    "\n",
    "df_australia_import = pd.read_excel('../data/external/additional_info.xlsx', sheet_name='Внешняя торговля', header=2, usecols=\"M:N\")\n",
    "df_australia_import.rename(columns = {'date.6':'date'}, inplace=True)\n",
    "df_australia_import['date'] = pd.to_datetime(df_australia_import['date']) + pd.offsets.MonthEnd()\n",
    "\n",
    "df_australia_export = pd.read_excel('../data/external/additional_info.xlsx', sheet_name='Внешняя торговля', header=2, usecols=\"O:P\")\n",
    "df_australia_export.rename(columns = {'date.7':'date'}, inplace=True)\n",
    "df_australia_export['date'] = pd.to_datetime(df_australia_export['date']) + pd.offsets.MonthEnd()"
   ]
  },
  {
   "cell_type": "markdown",
   "metadata": {},
   "source": [
    "# Сбор общего датасета"
   ]
  },
  {
   "cell_type": "code",
   "execution_count": 71,
   "metadata": {},
   "outputs": [],
   "source": [
    "# Список всех фреймов\n",
    "l = [df_al, df_alcoa, df_australia_export, df_australia_import, df_australia_inflation, df_australia_pmi, df_australia_resources_changing, df_baltic_dry_index,\n",
    "     df_bloomberg_metal, df_brazil_export, df_brazil_gdp, df_brazil_import, df_brazil_inflation, df_brazil_pmi, df_brazil_resources_changing, df_chalco,\n",
    "     df_china_bid, df_china_export, df_china_gdp_increment, df_china_import, df_china_index, df_china_inflation, df_china_pmi1, df_china_pmi2, df_eu_gdp_increment, df_eu_inflation,\n",
    "     df_ftse, df_guinea_inflation, df_hongqiao, df_kaiser, df_mosexchange, df_norsk_hydro, df_rub_cny, df_rus_inflation, df_rus_pmi, df_rusal, df_shanghai_index, df_sp_metal,\n",
    "     df_usa_bid, df_usa_export, df_usa_gdp_increment, df_usa_import, df_usa_inflation, df_usa_pmi, df_usd_clp, df_usd_cny, df_usd_dxy, df_usd_eur, df_usd_hkd,\n",
    "     df_usd_jpy, df_usd_rub]"
   ]
  },
  {
   "cell_type": "code",
   "execution_count": 72,
   "metadata": {},
   "outputs": [],
   "source": [
    "#Подрезал данные с 25 декабря 2017 года (пн) по 26 октября 2023 (чт)\n",
    "d = pd.date_range(start='12/25/2017', end='10/27/2023', freq=\"D\")\n",
    "df = pd.DataFrame(data=d, columns=['date'])\n",
    "\n",
    "for i in l:\n",
    "    df = df.join(i.set_index('date'), on='date', how='left')\n",
    "    \n",
    "# df.sort_values(by='date', inplace=True)\n",
    "# df['day_of_week'] = df['date'].dt.day_name()\n",
    "# df['num_day_of_week'] = df['date'].dt.weekday\n",
    "df.set_index('date', inplace=True)"
   ]
  },
  {
   "cell_type": "code",
   "execution_count": 73,
   "metadata": {},
   "outputs": [
    {
     "data": {
      "text/plain": [
       "(2133, 67)"
      ]
     },
     "execution_count": 73,
     "metadata": {},
     "output_type": "execute_result"
    }
   ],
   "source": [
    "df.shape"
   ]
  },
  {
   "cell_type": "code",
   "execution_count": 74,
   "metadata": {},
   "outputs": [],
   "source": [
    "df.to_csv('../data/raw/dataset_with_raw_data.csv')"
   ]
  }
 ],
 "metadata": {
  "kernelspec": {
   "display_name": "ml",
   "language": "python",
   "name": "python3"
  },
  "language_info": {
   "codemirror_mode": {
    "name": "ipython",
    "version": 3
   },
   "file_extension": ".py",
   "mimetype": "text/x-python",
   "name": "python",
   "nbconvert_exporter": "python",
   "pygments_lexer": "ipython3",
   "version": "3.10.13"
  }
 },
 "nbformat": 4,
 "nbformat_minor": 2
}
