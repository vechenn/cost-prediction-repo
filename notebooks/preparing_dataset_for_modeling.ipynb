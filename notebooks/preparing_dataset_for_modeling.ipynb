{
 "cells": [
  {
   "cell_type": "code",
   "execution_count": 1,
   "metadata": {},
   "outputs": [],
   "source": [
    "import numpy as np\n",
    "import pandas as pd"
   ]
  },
  {
   "cell_type": "markdown",
   "metadata": {},
   "source": [
    "Итак, в ноутбуке notebooks/feature_engineering.ipynb мы выявили \"скоррелированные\" с таргетом признаки и провели сужение признакового пространства. Теперь же повторим генерацию фичей на всем датасете, не производя селекции, как это делалось при первичном анализе"
   ]
  },
  {
   "cell_type": "code",
   "execution_count": 2,
   "metadata": {},
   "outputs": [],
   "source": [
    "import sys\n",
    "import os\n",
    "# Определяем путь к папке src/features относительно текущего рабочего каталога\n",
    "src_path = os.path.abspath(os.path.join(os.getcwd(), '..', 'src', 'features'))\n",
    "# Добавляем путь к папке src/features в sys.path\n",
    "sys.path.append(src_path)\n",
    "# Теперь можно импортировать функцию\n",
    "from build_features import generate_ts_fresh_features"
   ]
  },
  {
   "cell_type": "code",
   "execution_count": 3,
   "metadata": {},
   "outputs": [
    {
     "data": {
      "text/plain": [
       "(334, 59)"
      ]
     },
     "execution_count": 3,
     "metadata": {},
     "output_type": "execute_result"
    }
   ],
   "source": [
    "dataset_per_week = pd.read_csv('../data/processed/dataset_per_week.csv', parse_dates=True, index_col=0)\n",
    "dataset_per_week.drop(columns=['target_1', 'target_2', 'target_3', 'target_4'], inplace=True)\n",
    "dataset_per_week.shape"
   ]
  },
  {
   "cell_type": "code",
   "execution_count": null,
   "metadata": {},
   "outputs": [],
   "source": [
    "prepared_dataset = generate_ts_fresh_features(dataset=dataset_per_week)"
   ]
  },
  {
   "cell_type": "code",
   "execution_count": 5,
   "metadata": {},
   "outputs": [],
   "source": [
    "prepared_dataset = prepared_dataset.iloc[1:]\n",
    "sort_columns = prepared_dataset.columns.values.copy()\n",
    "sort_columns.sort()\n",
    "prepared_dataset = prepared_dataset.loc[:, sort_columns]\n",
    "prepared_dataset = prepared_dataset.copy()"
   ]
  },
  {
   "cell_type": "code",
   "execution_count": 6,
   "metadata": {},
   "outputs": [
    {
     "data": {
      "text/plain": [
       "Series([], dtype: int64)"
      ]
     },
     "execution_count": 6,
     "metadata": {},
     "output_type": "execute_result"
    }
   ],
   "source": [
    "prepared_dataset.isna().sum()[prepared_dataset.isna().sum()>0]"
   ]
  },
  {
   "cell_type": "code",
   "execution_count": 7,
   "metadata": {},
   "outputs": [],
   "source": [
    "prepared_dataset = prepared_dataset.join(dataset_per_week[\"lme_price_smooth\"], on='date', how='left')"
   ]
  },
  {
   "cell_type": "code",
   "execution_count": 8,
   "metadata": {},
   "outputs": [],
   "source": [
    "prepared_dataset.to_csv(\"../data/processed/prepared_dataset.csv\")"
   ]
  }
 ],
 "metadata": {
  "kernelspec": {
   "display_name": "ts",
   "language": "python",
   "name": "python3"
  },
  "language_info": {
   "codemirror_mode": {
    "name": "ipython",
    "version": 3
   },
   "file_extension": ".py",
   "mimetype": "text/x-python",
   "name": "python",
   "nbconvert_exporter": "python",
   "pygments_lexer": "ipython3",
   "version": "3.10.14"
  }
 },
 "nbformat": 4,
 "nbformat_minor": 2
}
