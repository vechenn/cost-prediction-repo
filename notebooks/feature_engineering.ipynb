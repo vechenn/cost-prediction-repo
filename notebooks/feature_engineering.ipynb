{
 "cells": [
  {
   "cell_type": "markdown",
   "metadata": {},
   "source": [
    "# Генерация и отбор признаков"
   ]
  },
  {
   "cell_type": "code",
   "execution_count": 53,
   "metadata": {},
   "outputs": [],
   "source": [
    "import numpy as np\n",
    "import pandas as pd\n",
    "pd.set_option('display.max_rows', 100)\n",
    "pd.set_option('display.max_columns', 75)\n",
    "\n",
    "from datetime import datetime as dt\n",
    "\n",
    "import matplotlib.pyplot as plt\n",
    "import seaborn as sns\n",
    "\n",
    "from statsmodels.tsa.stattools import adfuller\n",
    "import tsfresh\n",
    "from tsfresh.utilities.dataframe_functions import make_forecasting_frame, impute\n",
    "from tsfresh import extract_features, select_features\n",
    "\n",
    "from sklearn.feature_selection import mutual_info_regression"
   ]
  },
  {
   "cell_type": "code",
   "execution_count": 2,
   "metadata": {},
   "outputs": [
    {
     "data": {
      "text/plain": [
       "(334, 63)"
      ]
     },
     "execution_count": 2,
     "metadata": {},
     "output_type": "execute_result"
    }
   ],
   "source": [
    "dataset_per_week = pd.read_csv('../data/processed/dataset_per_week.csv', parse_dates=True, index_col=0)\n",
    "dataset_per_week.shape"
   ]
  },
  {
   "cell_type": "code",
   "execution_count": 3,
   "metadata": {},
   "outputs": [],
   "source": [
    "dataset_per_week.drop(columns=['target_1', 'target_2', 'target_3', 'target_4'], inplace=True)"
   ]
  },
  {
   "cell_type": "markdown",
   "metadata": {},
   "source": [
    "## Ручная генерация признаков и их отбор через анализ корреляции Пирсона/Спирмена"
   ]
  },
  {
   "cell_type": "code",
   "execution_count": null,
   "metadata": {},
   "outputs": [],
   "source": [
    "# Код для ручной генерации признаков использовался прежде, чем использовать библиотеку tsfresh\n",
    "\n",
    "# for j in list_of_columns:\n",
    "#     for i in ['mean_4', 'mean_9', 'mean_13', 'mean_26', 'mean_52']:\n",
    "#         dataset_per_week[j+'_'+i] = dataset_per_week[j].rolling(int(i.split('_')[-1]), min_periods=1).mean()\n",
    "#     for i in ['shift_1', 'shift_2', 'shift_4', 'shift_9', 'shift_13']:\n",
    "#         dataset_per_week[j+'_'+i] = dataset_per_week[j].shift(int(i.split('_')[-1]))\n",
    "#     for i in ['std_4', 'std_9', 'std_13', 'std_26']:\n",
    "#         dataset_per_week[j+'_'+i] = dataset_per_week[j].rolling(int(i.split('_')[-1]), min_periods=1).std()\n",
    "#     for i in [1,2,4,9,13]:\n",
    "#         dataset_per_week[j+'_increment_by_shift_'+str(i)] = dataset_per_week[j]-dataset_per_week[j+'_shift_'+str(i)]\n",
    "#     for i in [4,9,13,26]:\n",
    "#         dataset_per_week[j+'_increment_by_mean_'+str(i)] = dataset_per_week[j]-dataset_per_week[j+'_mean_'+str(i)]\n",
    "\n",
    "# dataset_per_week.shape\n",
    "# sns.heatmap(dataset_per_week.isna())\n",
    "\n",
    "# # Отрежем вверх\n",
    "# dataset_per_week = dataset_per_week.iloc[13:]\n",
    "# # Отбросим плохие колонки\n",
    "# cols = dataset_per_week.isna().sum()[dataset_per_week.isna().sum()>0].index.values.copy()\n",
    "# dataset_per_week = dataset_per_week.drop(columns=cols)"
   ]
  },
  {
   "cell_type": "code",
   "execution_count": null,
   "metadata": {},
   "outputs": [],
   "source": [
    "# Код для ручной селекции признаков использовался прежде, чем использовать библиотеку tsfresh\n",
    "\n",
    "# dataset_per_week.columns\n",
    "# candidates = dataset_per_week.corr(method='spearman').lme_price_smooth.sort_values()[-600:]\n",
    "# candidates = candidates.sort_values(ascending=False).index.values\n",
    "# candidates\n",
    "\n",
    "# correlation_matrix = dataset_per_week[candidates].corr(method='spearman')\n",
    "# correlation_matrix\n",
    "# candidates = candidates[1:]\n",
    "\n",
    "\n",
    "# def select(candidates, corr_matrix):\n",
    "#     features = list(candidates.copy())\n",
    "#     l = len(candidates)\n",
    "#     for i in range(l):\n",
    "#         for j in range(i+1,l):\n",
    "#             if corr_matrix[candidates[i]][candidates[j]]>0.75:\n",
    "#                 if corr_matrix['lme_price_smooth'][candidates[i]] > corr_matrix['lme_price_smooth'][candidates[j]]:\n",
    "#                     try:\n",
    "#                         features.remove(candidates[j])\n",
    "#                     except:\n",
    "#                         pass\n",
    "#                 else:\n",
    "#                     try:\n",
    "#                         features.remove(candidates[i])\n",
    "#                     except:\n",
    "#                         pass\n",
    "#     return features\n",
    "\n",
    "# features = select(candidates=candidates, corr_matrix=correlation_matrix)\n",
    "# len(features)\n",
    "\n",
    "# dataset_per_week['target_1'] = dataset_per_week.lme_price_smooth.diff(periods=1)\n",
    "# dataset_per_week['target_2'] = dataset_per_week.lme_price_smooth.diff(periods=2)\n",
    "# dataset_per_week['target_3'] = dataset_per_week.lme_price_smooth.diff(periods=3)\n",
    "# dataset_per_week['target_4'] = dataset_per_week.lme_price_smooth.diff(periods=4)\n",
    "# features.extend([\"covid\", \"after_feb\", \"lme_price_smooth\", \"target_1\", \"target_2\", \"target_3\", \"target_4\"])\n",
    "# final_df = dataset_per_week[features]"
   ]
  },
  {
   "cell_type": "markdown",
   "metadata": {},
   "source": [
    "## Библиотека TSfresh, генерация признаков"
   ]
  },
  {
   "cell_type": "code",
   "execution_count": 4,
   "metadata": {},
   "outputs": [],
   "source": [
    "y = dataset_per_week[['lme_price_smooth']].copy()\n",
    "y[\"lme_price_smooth\"] = y.lme_price_smooth.shift(-4)\n",
    "# отбор признаков происходит, ориентируясь на смещенный таргет с помощью \"select features\"\n",
    "y = y[1:-4] # слайс с 1, так как после обработки данных алгоритмами из библиотеки tsfresh возникнет смещение на 1 дату\n",
    "y = y.lme_price_smooth # переход к pd.Series"
   ]
  },
  {
   "cell_type": "markdown",
   "metadata": {},
   "source": [
    "Нижеприведенный код осуществляет генерацию и селекцию признаков по анализу прошедших 2, 4, 9, 12 недель относительно текущей даты"
   ]
  },
  {
   "cell_type": "code",
   "execution_count": 5,
   "metadata": {},
   "outputs": [
    {
     "name": "stdout",
     "output_type": "stream",
     "text": [
      "2018-01-07\n",
      "2024-05-26\n"
     ]
    }
   ],
   "source": [
    "print(dataset_per_week.index.min().strftime(\"%Y-%m-%d\"))\n",
    "print(dataset_per_week.index.max().strftime(\"%Y-%m-%d\"))"
   ]
  },
  {
   "cell_type": "code",
   "execution_count": 6,
   "metadata": {},
   "outputs": [],
   "source": [
    "def ts_fresh_features(dataset: pd.DataFrame) -> pd.DataFrame:\n",
    "    cnt = 0\n",
    "    \n",
    "    extracted_relevant_features = pd.DataFrame(index=pd.date_range(start=dataset.index.min().strftime(\"%Y-%m-%d\"), \n",
    "                                                                   end=dataset.index.max().strftime(\"%Y-%m-%d\"), \n",
    "                                                                   freq='W'))\n",
    "    extracted_relevant_features.index.name = 'date' # создание фрейма с индексом 'date'\n",
    "    list_of_columns = dataset.columns.values.copy()\n",
    "    for i in list_of_columns: # перебор по названиям экзогенных признаков\n",
    "        cnt += 1\n",
    "        for k in [2,4,9,12]: # перебор по 2, 4, 9, 12 неделям\n",
    "            series = dataset[i].copy() # срез по определенному экзогенному признаку\n",
    "            df_rolled = make_forecasting_frame(series, kind='price', max_timeshift=k, rolling_direction=1) # генерация временных рядов \n",
    "            df_features = extract_features(df_rolled[0].drop(columns=['kind']), column_id=\"id\", column_sort=\"time\") # генерация признаков\n",
    "            suf = '_'+i+'_'+str(k)+'_weeks' \n",
    "            df_features = df_features.add_suffix(suf) # название колонок по признаку и окну 2, 4, 9, 12\n",
    "            df_features.reset_index(inplace=True)\n",
    "            df_features.drop(columns=['level_0'], inplace=True)\n",
    "            df_features.rename(columns={'level_1': 'date'}, inplace=True) \n",
    "            df_features.set_index('date', inplace=True) # сброс мультииндекса и назначение нового\n",
    "            df_features = df_features.dropna(axis=1) # сброс всех колонок с Nan\n",
    "            df_features = df_features[:-4] # срез последних 4 точек, так как таргет смещен на 4 (прогноз на месяц вперед)\n",
    "            df_selected_features = select_features(df_features, y) # селекция признаков\n",
    "            extracted_relevant_features = extracted_relevant_features.join(df_selected_features, on='date', how='left') # join\n",
    "            #print(f\"Joined succesfully! Columns count is {extracted_relevant_features.shape[1]}\")\n",
    "            del series\n",
    "            del df_rolled\n",
    "            del df_features\n",
    "            del df_selected_features\n",
    "        #print(\"Created features for\", i)\n",
    "        print(f\"Осталось {len(list_of_columns) - cnt} признаков\")\n",
    "    return extracted_relevant_features"
   ]
  },
  {
   "cell_type": "code",
   "execution_count": null,
   "metadata": {},
   "outputs": [],
   "source": [
    "extracted_relevant_features = ts_fresh_features(dataset=dataset_per_week)"
   ]
  },
  {
   "cell_type": "code",
   "execution_count": 13,
   "metadata": {},
   "outputs": [],
   "source": [
    "extracted_relevant_features.dropna(inplace=True)"
   ]
  },
  {
   "cell_type": "markdown",
   "metadata": {},
   "source": [
    "# Save checkpoint"
   ]
  },
  {
   "cell_type": "code",
   "execution_count": 14,
   "metadata": {},
   "outputs": [],
   "source": [
    "extracted_relevant_features.to_csv('../data/processed/extracted_relevant_features.csv')"
   ]
  },
  {
   "cell_type": "code",
   "execution_count": 5,
   "metadata": {},
   "outputs": [],
   "source": [
    "extracted_relevant_features = pd.read_csv('../data/processed/extracted_relevant_features.csv', parse_dates=True, index_col=0)"
   ]
  },
  {
   "cell_type": "markdown",
   "metadata": {},
   "source": [
    "### Удалим признаки с нулевым среднеквадратичным отклоеннием"
   ]
  },
  {
   "cell_type": "code",
   "execution_count": 6,
   "metadata": {},
   "outputs": [
    {
     "name": "stdout",
     "output_type": "stream",
     "text": [
      "Before: (329, 9357)\n",
      "After: (329, 9357)\n"
     ]
    }
   ],
   "source": [
    "print(f\"Before: {extracted_relevant_features.shape}\")\n",
    "\n",
    "mask = extracted_relevant_features.std()!=0\n",
    "extracted_relevant_features = extracted_relevant_features[extracted_relevant_features.std()[mask].index]\n",
    "\n",
    "print(f\"After: {extracted_relevant_features.shape}\")"
   ]
  },
  {
   "cell_type": "code",
   "execution_count": 16,
   "metadata": {},
   "outputs": [],
   "source": [
    "# Очевидно, что это происходило внутри встроенной функции \"select_features\""
   ]
  },
  {
   "cell_type": "markdown",
   "metadata": {},
   "source": [
    "### Объединим нагенерированные признаки с исходными экзогенными признаками и таргетом"
   ]
  },
  {
   "cell_type": "code",
   "execution_count": 7,
   "metadata": {},
   "outputs": [
    {
     "data": {
      "text/plain": [
       "(329, 9416)"
      ]
     },
     "execution_count": 7,
     "metadata": {},
     "output_type": "execute_result"
    }
   ],
   "source": [
    "extracted_relevant_features = extracted_relevant_features.join(dataset_per_week, on='date', how='left')\n",
    "extracted_relevant_features.shape"
   ]
  },
  {
   "cell_type": "markdown",
   "metadata": {},
   "source": [
    "### Признаков по-прежнему очень много, попробуем применить Mutual info из Sklearn"
   ]
  },
  {
   "cell_type": "code",
   "execution_count": 8,
   "metadata": {},
   "outputs": [],
   "source": [
    "y_ = y.values\n",
    "x_ = extracted_relevant_features.values\n",
    "feature_names = extracted_relevant_features.columns.to_list()"
   ]
  },
  {
   "cell_type": "code",
   "execution_count": 9,
   "metadata": {},
   "outputs": [],
   "source": [
    "mi_scores = mutual_info_regression(x_, y_) # Запускаем с дефолтными настройками"
   ]
  },
  {
   "cell_type": "code",
   "execution_count": 10,
   "metadata": {},
   "outputs": [
    {
     "name": "stdout",
     "output_type": "stream",
     "text": [
      "Number of selected features: 471\n"
     ]
    }
   ],
   "source": [
    "threshold = np.quantile(mi_scores, 0.95)\n",
    "selected_features = np.array(feature_names)[mi_scores > threshold]\n",
    "\n",
    "print(f\"Number of selected features: {len(selected_features)}\")"
   ]
  },
  {
   "cell_type": "code",
   "execution_count": 11,
   "metadata": {},
   "outputs": [],
   "source": [
    "extracted_relevant_features = extracted_relevant_features.loc[:, selected_features].copy()"
   ]
  },
  {
   "cell_type": "code",
   "execution_count": 12,
   "metadata": {},
   "outputs": [],
   "source": [
    "extracted_relevant_features['target'] = y.values"
   ]
  },
  {
   "cell_type": "code",
   "execution_count": 13,
   "metadata": {},
   "outputs": [],
   "source": [
    "# # features and target after variance threshold and mutual info\n",
    "# extracted_relevant_features.to_csv('../data/processed/data_after_vt_mi.csv')\n",
    "# extracted_relevant_features = pd.read_csv('../data/processed/features_after_vt_mi.csv', parse_dates=True, index_col=0)"
   ]
  },
  {
   "cell_type": "code",
   "execution_count": 14,
   "metadata": {},
   "outputs": [],
   "source": [
    "# Введем период после повышения ставки ФРС\n",
    "extracted_relevant_features['after_feb']=np.where((extracted_relevant_features.index>='2022-03-01')&(extracted_relevant_features.index<='2022-09-01'), 1, 0)"
   ]
  },
  {
   "cell_type": "code",
   "execution_count": 15,
   "metadata": {},
   "outputs": [
    {
     "data": {
      "image/png": "[encoded data removed]",
      "text/plain": [
       "<Figure size 1200x700 with 2 Axes>"
      ]
     },
     "metadata": {},
     "output_type": "display_data"
    }
   ],
   "source": [
    "fig, ax = plt.subplots(figsize=(12, 7))\n",
    "l1, = ax.plot(extracted_relevant_features.index.values, extracted_relevant_features.target.values, color='r')\n",
    "ax1 = ax.twinx()\n",
    "l2, = ax1.plot(extracted_relevant_features.index.values, extracted_relevant_features.after_feb, color='g', marker='o', linewidth=1, markersize=2)\n",
    "ax1.legend([l1,l2],['lme_price', 'argument'])\n",
    "#ax1.set_ylim([0,1e6])\n",
    "ax.grid(True)\n",
    "ax1.grid(True)"
   ]
  },
  {
   "cell_type": "markdown",
   "metadata": {},
   "source": [
    "## Feature importance"
   ]
  },
  {
   "cell_type": "code",
   "execution_count": 16,
   "metadata": {},
   "outputs": [],
   "source": [
    "from catboost import CatBoostRegressor\n",
    "from sklearn.model_selection import train_test_split\n",
    "from sklearn.metrics import mean_absolute_percentage_error"
   ]
  },
  {
   "cell_type": "code",
   "execution_count": 17,
   "metadata": {},
   "outputs": [],
   "source": [
    "X = extracted_relevant_features.drop(columns=['target']).values\n",
    "y = extracted_relevant_features['target'].values\n",
    "\n",
    "X_full_train, X_full_test, y_train, y_test = train_test_split(X, y, test_size=.1, shuffle=False)\n",
    "X_train, X_valid, y_train, y_valid = train_test_split(X_full_train, y_train, test_size=.1, shuffle=False)"
   ]
  },
  {
   "cell_type": "code",
   "execution_count": 18,
   "metadata": {},
   "outputs": [
    {
     "name": "stdout",
     "output_type": "stream",
     "text": [
      "Learning rate set to 0.041362\n",
      "0:\tlearn: 0.1675876\ttest: 0.0297177\tbest: 0.0297177 (0)\ttotal: 76.9ms\tremaining: 1m 16s\n",
      "1:\tlearn: 0.1615858\ttest: 0.0287414\tbest: 0.0287414 (1)\ttotal: 92.7ms\tremaining: 46.2s\n",
      "2:\tlearn: 0.1556104\ttest: 0.0281907\tbest: 0.0281907 (2)\ttotal: 108ms\tremaining: 36s\n",
      "3:\tlearn: 0.1500192\ttest: 0.0284104\tbest: 0.0281907 (2)\ttotal: 124ms\tremaining: 30.9s\n",
      "4:\tlearn: 0.1447417\ttest: 0.0284756\tbest: 0.0281907 (2)\ttotal: 140ms\tremaining: 27.9s\n",
      "5:\tlearn: 0.1396310\ttest: 0.0280821\tbest: 0.0280821 (5)\ttotal: 156ms\tremaining: 25.8s\n",
      "6:\tlearn: 0.1344962\ttest: 0.0280833\tbest: 0.0280821 (5)\ttotal: 172ms\tremaining: 24.3s\n",
      "7:\tlearn: 0.1299487\ttest: 0.0284889\tbest: 0.0280821 (5)\ttotal: 187ms\tremaining: 23.2s\n",
      "8:\tlearn: 0.1255072\ttest: 0.0298747\tbest: 0.0280821 (5)\ttotal: 203ms\tremaining: 22.4s\n",
      "9:\tlearn: 0.1212230\ttest: 0.0302612\tbest: 0.0280821 (5)\ttotal: 219ms\tremaining: 21.7s\n",
      "10:\tlearn: 0.1172600\ttest: 0.0310568\tbest: 0.0280821 (5)\ttotal: 236ms\tremaining: 21.2s\n",
      "11:\tlearn: 0.1131573\ttest: 0.0302543\tbest: 0.0280821 (5)\ttotal: 252ms\tremaining: 20.7s\n",
      "12:\tlearn: 0.1093581\ttest: 0.0307924\tbest: 0.0280821 (5)\ttotal: 268ms\tremaining: 20.4s\n",
      "13:\tlearn: 0.1056687\ttest: 0.0314518\tbest: 0.0280821 (5)\ttotal: 284ms\tremaining: 20s\n",
      "14:\tlearn: 0.1019630\ttest: 0.0321343\tbest: 0.0280821 (5)\ttotal: 300ms\tremaining: 19.7s\n",
      "15:\tlearn: 0.0985377\ttest: 0.0324315\tbest: 0.0280821 (5)\ttotal: 315ms\tremaining: 19.4s\n",
      "Stopped by overfitting detector  (10 iterations wait)\n",
      "\n",
      "bestTest = 0.02808212007\n",
      "bestIteration = 5\n",
      "\n",
      "Shrink model to first 6 iterations.\n"
     ]
    },
    {
     "data": {
      "text/plain": [
       "<catboost.core.CatBoostRegressor at 0x286a03160>"
      ]
     },
     "execution_count": 18,
     "metadata": {},
     "output_type": "execute_result"
    }
   ],
   "source": [
    "model = CatBoostRegressor(eval_metric = \"MAPE\",\n",
    "                          task_type = \"CPU\",\n",
    "                          thread_count = 4,\n",
    "                          random_state=42)\n",
    "\n",
    "model.fit(X=X_train,\n",
    "          y=y_train,\n",
    "          eval_set=(X_valid, y_valid),\n",
    "          early_stopping_rounds=10)"
   ]
  },
  {
   "cell_type": "code",
   "execution_count": 19,
   "metadata": {},
   "outputs": [
    {
     "name": "stdout",
     "output_type": "stream",
     "text": [
      "MAPE: 0.04\n"
     ]
    }
   ],
   "source": [
    "prediction = model.predict(X_full_test)\n",
    "print(f\"MAPE: {mean_absolute_percentage_error(y_test, prediction):.2f}\")"
   ]
  },
  {
   "cell_type": "code",
   "execution_count": 20,
   "metadata": {},
   "outputs": [],
   "source": [
    "list_of_features = extracted_relevant_features.drop(columns=['target']).columns.to_list()\n",
    "importances = model.feature_importances_\n",
    "\n",
    "df = pd.DataFrame(data={\"importances\":importances,\n",
    "                        \"feature_names\":list_of_features})\n",
    "df.sort_values(by=\"importances\", ascending=False, inplace=True)\n",
    "df = df[df.importances > 0]\n",
    "df.reset_index(drop=True, inplace=True)"
   ]
  },
  {
   "cell_type": "code",
   "execution_count": 21,
   "metadata": {},
   "outputs": [
    {
     "data": {
      "text/html": [
       "<div>\n",
       "<style scoped>\n",
       "    .dataframe tbody tr th:only-of-type {\n",
       "        vertical-align: middle;\n",
       "    }\n",
       "\n",
       "    .dataframe tbody tr th {\n",
       "        vertical-align: top;\n",
       "    }\n",
       "\n",
       "    .dataframe thead th {\n",
       "        text-align: right;\n",
       "    }\n",
       "</style>\n",
       "<table border=\"1\" class=\"dataframe\">\n",
       "  <thead>\n",
       "    <tr style=\"text-align: right;\">\n",
       "      <th></th>\n",
       "      <th>importances</th>\n",
       "      <th>feature_names</th>\n",
       "    </tr>\n",
       "  </thead>\n",
       "  <tbody>\n",
       "    <tr>\n",
       "      <th>0</th>\n",
       "      <td>19.545914</td>\n",
       "      <td>value__quantile__q_0.4_peru_consumer_price_ind...</td>\n",
       "    </tr>\n",
       "    <tr>\n",
       "      <th>1</th>\n",
       "      <td>9.500899</td>\n",
       "      <td>value__quantile__q_0.6_peru_producer_price_ind...</td>\n",
       "    </tr>\n",
       "    <tr>\n",
       "      <th>2</th>\n",
       "      <td>6.825293</td>\n",
       "      <td>value__root_mean_square_lme_price_3features_9_...</td>\n",
       "    </tr>\n",
       "    <tr>\n",
       "      <th>3</th>\n",
       "      <td>6.027832</td>\n",
       "      <td>value__quantile__q_0.7_peru_producer_price_ind...</td>\n",
       "    </tr>\n",
       "    <tr>\n",
       "      <th>4</th>\n",
       "      <td>5.950635</td>\n",
       "      <td>value__abs_energy_peru_producer_price_index_12...</td>\n",
       "    </tr>\n",
       "    <tr>\n",
       "      <th>5</th>\n",
       "      <td>5.338755</td>\n",
       "      <td>value__quantile__q_0.4_lme_price_smooth_2_weeks</td>\n",
       "    </tr>\n",
       "    <tr>\n",
       "      <th>6</th>\n",
       "      <td>4.877917</td>\n",
       "      <td>value__mean_lme_price_smooth_9_weeks</td>\n",
       "    </tr>\n",
       "    <tr>\n",
       "      <th>7</th>\n",
       "      <td>3.678780</td>\n",
       "      <td>value__quantile__q_0.6_mosexchange_price_12_weeks</td>\n",
       "    </tr>\n",
       "    <tr>\n",
       "      <th>8</th>\n",
       "      <td>3.406403</td>\n",
       "      <td>value__minimum_log10_hongqiao_volume_12_weeks</td>\n",
       "    </tr>\n",
       "    <tr>\n",
       "      <th>9</th>\n",
       "      <td>3.296273</td>\n",
       "      <td>value__quantile__q_0.6_lme_price_smooth_9_weeks</td>\n",
       "    </tr>\n",
       "    <tr>\n",
       "      <th>10</th>\n",
       "      <td>3.024059</td>\n",
       "      <td>value__minimum_lme_price_3features_9_weeks</td>\n",
       "    </tr>\n",
       "    <tr>\n",
       "      <th>11</th>\n",
       "      <td>2.682341</td>\n",
       "      <td>value__median_peru_consumer_price_index_9_weeks</td>\n",
       "    </tr>\n",
       "    <tr>\n",
       "      <th>12</th>\n",
       "      <td>2.424381</td>\n",
       "      <td>value__cwt_coefficients__coeff_0__w_5__widths_...</td>\n",
       "    </tr>\n",
       "    <tr>\n",
       "      <th>13</th>\n",
       "      <td>2.256458</td>\n",
       "      <td>value__quantile__q_0.4_sp_metals_price_12_weeks</td>\n",
       "    </tr>\n",
       "    <tr>\n",
       "      <th>14</th>\n",
       "      <td>1.990645</td>\n",
       "      <td>value__maximum_lme_price_smooth_4_weeks</td>\n",
       "    </tr>\n",
       "    <tr>\n",
       "      <th>15</th>\n",
       "      <td>1.871557</td>\n",
       "      <td>value__median_lme_price_smooth_2_weeks</td>\n",
       "    </tr>\n",
       "    <tr>\n",
       "      <th>16</th>\n",
       "      <td>1.670526</td>\n",
       "      <td>value__quantile__q_0.1_hongqiao_price_12_weeks</td>\n",
       "    </tr>\n",
       "    <tr>\n",
       "      <th>17</th>\n",
       "      <td>1.655520</td>\n",
       "      <td>value__median_peru_producer_price_index_4_weeks</td>\n",
       "    </tr>\n",
       "    <tr>\n",
       "      <th>18</th>\n",
       "      <td>1.587097</td>\n",
       "      <td>value__quantile__q_0.6_norsk_hydro_price_9_weeks</td>\n",
       "    </tr>\n",
       "    <tr>\n",
       "      <th>19</th>\n",
       "      <td>1.537153</td>\n",
       "      <td>value__quantile__q_0.8_sp_metals_price_12_weeks</td>\n",
       "    </tr>\n",
       "    <tr>\n",
       "      <th>20</th>\n",
       "      <td>1.507101</td>\n",
       "      <td>value__cwt_coefficients__coeff_0__w_20__widths...</td>\n",
       "    </tr>\n",
       "    <tr>\n",
       "      <th>21</th>\n",
       "      <td>1.378272</td>\n",
       "      <td>value__quantile__q_0.3_lme_price_3features_9_w...</td>\n",
       "    </tr>\n",
       "    <tr>\n",
       "      <th>22</th>\n",
       "      <td>1.297735</td>\n",
       "      <td>value__quantile__q_0.9_lme_price_3features_9_w...</td>\n",
       "    </tr>\n",
       "    <tr>\n",
       "      <th>23</th>\n",
       "      <td>1.120147</td>\n",
       "      <td>value__quantile__q_0.9_export_china_value_12_w...</td>\n",
       "    </tr>\n",
       "    <tr>\n",
       "      <th>24</th>\n",
       "      <td>0.824438</td>\n",
       "      <td>value__abs_energy_lme_price_3features_4_weeks</td>\n",
       "    </tr>\n",
       "    <tr>\n",
       "      <th>25</th>\n",
       "      <td>0.818716</td>\n",
       "      <td>value__fft_coefficient__attr_\"real\"__coeff_0_l...</td>\n",
       "    </tr>\n",
       "    <tr>\n",
       "      <th>26</th>\n",
       "      <td>0.788814</td>\n",
       "      <td>value__cwt_coefficients__coeff_0__w_20__widths...</td>\n",
       "    </tr>\n",
       "    <tr>\n",
       "      <th>27</th>\n",
       "      <td>0.705863</td>\n",
       "      <td>value__quantile__q_0.1_lme_price_smooth_2_weeks</td>\n",
       "    </tr>\n",
       "    <tr>\n",
       "      <th>28</th>\n",
       "      <td>0.633763</td>\n",
       "      <td>value__quantile__q_0.3_bloomberg_metals_price_...</td>\n",
       "    </tr>\n",
       "    <tr>\n",
       "      <th>29</th>\n",
       "      <td>0.630283</td>\n",
       "      <td>value__quantile__q_0.2_peru_producer_price_ind...</td>\n",
       "    </tr>\n",
       "    <tr>\n",
       "      <th>30</th>\n",
       "      <td>0.508397</td>\n",
       "      <td>value__fft_coefficient__attr_\"real\"__coeff_0_l...</td>\n",
       "    </tr>\n",
       "    <tr>\n",
       "      <th>31</th>\n",
       "      <td>0.359462</td>\n",
       "      <td>value__maximum_lme_price_3features_12_weeks</td>\n",
       "    </tr>\n",
       "    <tr>\n",
       "      <th>32</th>\n",
       "      <td>0.133139</td>\n",
       "      <td>value__absolute_maximum_sp_metals_price_4_weeks</td>\n",
       "    </tr>\n",
       "    <tr>\n",
       "      <th>33</th>\n",
       "      <td>0.049748</td>\n",
       "      <td>value__quantile__q_0.4_peru_consumer_price_ind...</td>\n",
       "    </tr>\n",
       "    <tr>\n",
       "      <th>34</th>\n",
       "      <td>0.048732</td>\n",
       "      <td>value__mean_lme_price_3features_4_weeks</td>\n",
       "    </tr>\n",
       "    <tr>\n",
       "      <th>35</th>\n",
       "      <td>0.046953</td>\n",
       "      <td>value__quantile__q_0.3_peru_consumer_price_ind...</td>\n",
       "    </tr>\n",
       "  </tbody>\n",
       "</table>\n",
       "</div>"
      ],
      "text/plain": [
       "    importances                                      feature_names\n",
       "0     19.545914  value__quantile__q_0.4_peru_consumer_price_ind...\n",
       "1      9.500899  value__quantile__q_0.6_peru_producer_price_ind...\n",
       "2      6.825293  value__root_mean_square_lme_price_3features_9_...\n",
       "3      6.027832  value__quantile__q_0.7_peru_producer_price_ind...\n",
       "4      5.950635  value__abs_energy_peru_producer_price_index_12...\n",
       "5      5.338755    value__quantile__q_0.4_lme_price_smooth_2_weeks\n",
       "6      4.877917               value__mean_lme_price_smooth_9_weeks\n",
       "7      3.678780  value__quantile__q_0.6_mosexchange_price_12_weeks\n",
       "8      3.406403      value__minimum_log10_hongqiao_volume_12_weeks\n",
       "9      3.296273    value__quantile__q_0.6_lme_price_smooth_9_weeks\n",
       "10     3.024059         value__minimum_lme_price_3features_9_weeks\n",
       "11     2.682341    value__median_peru_consumer_price_index_9_weeks\n",
       "12     2.424381  value__cwt_coefficients__coeff_0__w_5__widths_...\n",
       "13     2.256458    value__quantile__q_0.4_sp_metals_price_12_weeks\n",
       "14     1.990645            value__maximum_lme_price_smooth_4_weeks\n",
       "15     1.871557             value__median_lme_price_smooth_2_weeks\n",
       "16     1.670526     value__quantile__q_0.1_hongqiao_price_12_weeks\n",
       "17     1.655520    value__median_peru_producer_price_index_4_weeks\n",
       "18     1.587097   value__quantile__q_0.6_norsk_hydro_price_9_weeks\n",
       "19     1.537153    value__quantile__q_0.8_sp_metals_price_12_weeks\n",
       "20     1.507101  value__cwt_coefficients__coeff_0__w_20__widths...\n",
       "21     1.378272  value__quantile__q_0.3_lme_price_3features_9_w...\n",
       "22     1.297735  value__quantile__q_0.9_lme_price_3features_9_w...\n",
       "23     1.120147  value__quantile__q_0.9_export_china_value_12_w...\n",
       "24     0.824438      value__abs_energy_lme_price_3features_4_weeks\n",
       "25     0.818716  value__fft_coefficient__attr_\"real\"__coeff_0_l...\n",
       "26     0.788814  value__cwt_coefficients__coeff_0__w_20__widths...\n",
       "27     0.705863    value__quantile__q_0.1_lme_price_smooth_2_weeks\n",
       "28     0.633763  value__quantile__q_0.3_bloomberg_metals_price_...\n",
       "29     0.630283  value__quantile__q_0.2_peru_producer_price_ind...\n",
       "30     0.508397  value__fft_coefficient__attr_\"real\"__coeff_0_l...\n",
       "31     0.359462        value__maximum_lme_price_3features_12_weeks\n",
       "32     0.133139    value__absolute_maximum_sp_metals_price_4_weeks\n",
       "33     0.049748  value__quantile__q_0.4_peru_consumer_price_ind...\n",
       "34     0.048732            value__mean_lme_price_3features_4_weeks\n",
       "35     0.046953  value__quantile__q_0.3_peru_consumer_price_ind..."
      ]
     },
     "execution_count": 21,
     "metadata": {},
     "output_type": "execute_result"
    }
   ],
   "source": [
    "df"
   ]
  },
  {
   "cell_type": "code",
   "execution_count": 22,
   "metadata": {},
   "outputs": [],
   "source": [
    "# Отрезали множество признаков, значимость которых, по мнению модели, была пренебрежимо мала\n",
    "extracted_relevant_features = extracted_relevant_features.loc[:, df.feature_names]"
   ]
  },
  {
   "cell_type": "markdown",
   "metadata": {},
   "source": [
    "## Прежде, чем анализировать парную корелляцию, необходимо привести все ряды к стационарному виду (например, продифференцировав все)"
   ]
  },
  {
   "cell_type": "code",
   "execution_count": 30,
   "metadata": {},
   "outputs": [],
   "source": [
    "diff_relevant_features = extracted_relevant_features.diff(periods=1).copy()\n",
    "diff_relevant_features = diff_relevant_features[1:]"
   ]
  },
  {
   "cell_type": "code",
   "execution_count": 31,
   "metadata": {},
   "outputs": [],
   "source": [
    "# Тест Дикки-Фуллера с alpha уровнем значимости\n",
    "def check_stationarity(ts: list, alpha: float):\n",
    "    dftest = adfuller(ts)\n",
    "    adf, pvalue, critical_value = dftest[0], dftest[1], dftest[4]['5%']\n",
    "    if (pvalue < alpha) and (adf < critical_value):\n",
    "        #print('The series is stationary')\n",
    "        return True\n",
    "    else:\n",
    "        #print('The series is NOT stationary')\n",
    "        return False"
   ]
  },
  {
   "cell_type": "code",
   "execution_count": 32,
   "metadata": {},
   "outputs": [],
   "source": [
    "not_stationary = list()\n",
    "for i in diff_relevant_features.columns:\n",
    "    if check_stationarity(diff_relevant_features[i], 0.05) is False:\n",
    "        not_stationary.append(i)"
   ]
  },
  {
   "cell_type": "code",
   "execution_count": 33,
   "metadata": {},
   "outputs": [
    {
     "data": {
      "text/plain": [
       "6"
      ]
     },
     "execution_count": 33,
     "metadata": {},
     "output_type": "execute_result"
    }
   ],
   "source": [
    "len(not_stationary)"
   ]
  },
  {
   "cell_type": "code",
   "execution_count": 34,
   "metadata": {},
   "outputs": [],
   "source": [
    "diff_relevant_features.drop(columns=not_stationary, inplace=True)"
   ]
  },
  {
   "cell_type": "code",
   "execution_count": 35,
   "metadata": {},
   "outputs": [],
   "source": [
    "diff_relevant_features['target'] = y[1:]"
   ]
  },
  {
   "cell_type": "markdown",
   "metadata": {},
   "source": [
    "Для анализа парной корелляции удобнее создать словарь, в котором ключом выступает признак  \n",
    "Не забудем удалить признаки, которые оказались нестационарны даже после дифференцирования"
   ]
  },
  {
   "cell_type": "code",
   "execution_count": 36,
   "metadata": {},
   "outputs": [],
   "source": [
    "key_list = df.feature_names.values\n",
    "value_list = df.importances.values\n",
    "\n",
    "importances_dict = dict(zip(key_list, value_list))\n",
    "\n",
    "for i in not_stationary:\n",
    "    del importances_dict[i]"
   ]
  },
  {
   "cell_type": "code",
   "execution_count": 37,
   "metadata": {},
   "outputs": [],
   "source": [
    "corr_matrix = diff_relevant_features.corr()"
   ]
  },
  {
   "cell_type": "markdown",
   "metadata": {},
   "source": [
    "Топорный алгоритм отбора признаков во избежание мультиколлинеарности"
   ]
  },
  {
   "cell_type": "code",
   "execution_count": 38,
   "metadata": {},
   "outputs": [],
   "source": [
    "def select(candidates, corr_matrix):\n",
    "    features = list(candidates.copy())\n",
    "    l = len(candidates)\n",
    "    for i in range(l):\n",
    "        for j in range(i+1,l):\n",
    "            if corr_matrix[candidates[i]][candidates[j]]>0.75:\n",
    "                if importances_dict[candidates[i]]>=importances_dict[candidates[j]]:\n",
    "                    try:\n",
    "                        features.remove(candidates[j])\n",
    "                    except:\n",
    "                        pass\n",
    "                else:\n",
    "                    try:\n",
    "                        features.remove(candidates[i])\n",
    "                    except:\n",
    "                        pass\n",
    "    return features"
   ]
  },
  {
   "cell_type": "code",
   "execution_count": 39,
   "metadata": {},
   "outputs": [
    {
     "data": {
      "text/plain": [
       "21"
      ]
     },
     "execution_count": 39,
     "metadata": {},
     "output_type": "execute_result"
    }
   ],
   "source": [
    "new_candidates = select(candidates=list(importances_dict.keys()), corr_matrix=corr_matrix)\n",
    "len(new_candidates)"
   ]
  },
  {
   "cell_type": "markdown",
   "metadata": {},
   "source": [
    "Вернемся к недифференцированному набору данных"
   ]
  },
  {
   "cell_type": "code",
   "execution_count": 40,
   "metadata": {},
   "outputs": [],
   "source": [
    "extracted_relevant_features = extracted_relevant_features.loc[:, new_candidates]\n",
    "extracted_relevant_features['target'] = y"
   ]
  },
  {
   "cell_type": "markdown",
   "metadata": {},
   "source": [
    "## Permutation importance"
   ]
  },
  {
   "cell_type": "code",
   "execution_count": null,
   "metadata": {},
   "outputs": [],
   "source": [
    "# Эксперимент с применением алгоритма permutation importance был проведен,\n",
    "# но подобный отбор лишь ухудшил результат\n",
    "# Принято решение не использовать в конечной версии проекта"
   ]
  },
  {
   "cell_type": "code",
   "execution_count": null,
   "metadata": {},
   "outputs": [],
   "source": [
    "# X = extracted_relevant_features.drop(columns=['target']).values\n",
    "# y = extracted_relevant_features['target'].values\n",
    "\n",
    "# X_full_train, X_full_test, y_train, y_test = train_test_split(X, y, test_size=.1, shuffle=False)\n",
    "# X_train, X_valid, y_train, y_valid = train_test_split(X_full_train, y_train, test_size=.1, shuffle=False)\n",
    "\n",
    "# X_train.shape, X_valid.shape, X_full_test.shape\n",
    "# model_2 = CatBoostRegressor(eval_metric = \"MAPE\",\n",
    "#                           task_type = \"CPU\",\n",
    "#                           thread_count = 4,\n",
    "#                           random_state=42)\n",
    "\n",
    "# model_2.fit(X=X_train,\n",
    "#           y=y_train,\n",
    "#           eval_set=(X_valid, y_valid),\n",
    "#           early_stopping_rounds=20)\n",
    "\n",
    "# prediction = model_2.predict(X_full_test)\n",
    "# mean_absolute_percentage_error(y_test, prediction)\n",
    "\n",
    "# from sklearn.inspection import permutation_importance\n",
    "# scoring = ['neg_mean_absolute_percentage_error']\n",
    "# r = permutation_importance(model_2, X_valid, y_valid, n_repeats=100, random_state=42)\n",
    "# for i in r.importances_mean.argsort()[::-1]:\n",
    "#     if r.importances_mean[i] - 2 * r.importances_std[i] > 0:\n",
    "#         print(f\"{extracted_relevant_features.drop(columns=['target']).columns.to_list()[i]} \"\n",
    "#               f\"{r.importances_mean[i]:.3f}\"\n",
    "#               f\" +/- {r.importances_std[i]:.3f}\")\n",
    "        \n",
    "# feature_list = ['value__sum_values_chalco_price_2_weeks',\n",
    "#                 'value__index_mass_quantile__q_0.4_usa_inflation_value_26_weeks',\n",
    "#                 'value__absolute_maximum_usd_to_rub_2_weeks',\n",
    "#                 'value__time_reversal_asymmetry_statistic__lag_3_brazil_pmi_26_weeks',\n",
    "#                 'value__fft_aggregated__aggtype_\"centroid\"_log10_norsk_hydro_volume_12_weeks',\n",
    "#                 'value__c3__lag_3_norsk_hydro_price_12_weeks',\n",
    "#                 'value__time_reversal_asymmetry_statistic__lag_2_export_australia_value_26_weeks',\n",
    "#                 'target'\n",
    "#                 ]\n",
    "# # Проверим работу модели на данном наборе признаков\n",
    "# extracted_relevant_features = extracted_relevant_features.loc[:, feature_list].copy()\n",
    "\n",
    "# X = extracted_relevant_features.drop(columns=['target']).values\n",
    "# y = extracted_relevant_features['target'].values\n",
    "\n",
    "# X_full_train, X_full_test, y_train, y_test = train_test_split(X, y, test_size=.1, shuffle=False)\n",
    "# X_train, X_valid, y_train, y_valid = train_test_split(X_full_train, y_train, test_size=.1, shuffle=False)\n",
    "# X_train.shape, X_valid.shape, X_full_test.shape\n",
    "\n",
    "# model_3 = CatBoostRegressor(eval_metric = \"MAPE\",\n",
    "#                           task_type = \"CPU\",\n",
    "#                           thread_count = 4,\n",
    "#                           random_state=42)\n",
    "\n",
    "# model_3.fit(X=X_train,\n",
    "#           y=y_train,\n",
    "#           eval_set=(X_valid, y_valid),\n",
    "#           early_stopping_rounds=20)\n",
    "\n",
    "# prediction = model_3.predict(X_full_test)\n",
    "# mean_absolute_percentage_error(y_test, prediction)"
   ]
  },
  {
   "cell_type": "markdown",
   "metadata": {},
   "source": [
    "# Анализ, какие признаки входят в набор для обучения  \n",
    "**Данная информация необходима разработчику, чтобы понимать, какие функции библиотеки tsfresh применять при дальнейшей работе модели**"
   ]
  },
  {
   "cell_type": "code",
   "execution_count": 63,
   "metadata": {},
   "outputs": [
    {
     "data": {
      "text/html": [
       "<div>\n",
       "<style scoped>\n",
       "    .dataframe tbody tr th:only-of-type {\n",
       "        vertical-align: middle;\n",
       "    }\n",
       "\n",
       "    .dataframe tbody tr th {\n",
       "        vertical-align: top;\n",
       "    }\n",
       "\n",
       "    .dataframe thead th {\n",
       "        text-align: right;\n",
       "    }\n",
       "</style>\n",
       "<table border=\"1\" class=\"dataframe\">\n",
       "  <thead>\n",
       "    <tr style=\"text-align: right;\">\n",
       "      <th></th>\n",
       "      <th>value__quantile__q_0.6_peru_producer_price_index_9_weeks</th>\n",
       "      <th>value__root_mean_square_lme_price_3features_9_weeks</th>\n",
       "      <th>value__abs_energy_peru_producer_price_index_12_weeks</th>\n",
       "      <th>value__quantile__q_0.4_lme_price_smooth_2_weeks</th>\n",
       "      <th>value__quantile__q_0.6_mosexchange_price_12_weeks</th>\n",
       "      <th>value__minimum_log10_hongqiao_volume_12_weeks</th>\n",
       "      <th>value__minimum_lme_price_3features_9_weeks</th>\n",
       "      <th>value__cwt_coefficients__coeff_0__w_5__widths_(2, 5, 10, 20)_peru_consumer_price_index_9_weeks</th>\n",
       "      <th>value__quantile__q_0.4_sp_metals_price_12_weeks</th>\n",
       "      <th>value__maximum_lme_price_smooth_4_weeks</th>\n",
       "      <th>value__quantile__q_0.1_hongqiao_price_12_weeks</th>\n",
       "      <th>value__median_peru_producer_price_index_4_weeks</th>\n",
       "      <th>value__quantile__q_0.6_norsk_hydro_price_9_weeks</th>\n",
       "      <th>value__quantile__q_0.8_sp_metals_price_12_weeks</th>\n",
       "      <th>value__quantile__q_0.9_export_china_value_12_weeks</th>\n",
       "      <th>value__abs_energy_lme_price_3features_4_weeks</th>\n",
       "      <th>value__fft_coefficient__attr_\"real\"__coeff_0_lme_price_3features_2_weeks</th>\n",
       "      <th>value__cwt_coefficients__coeff_0__w_20__widths_(2, 5, 10, 20)_peru_consumer_price_index_4_weeks</th>\n",
       "      <th>value__quantile__q_0.3_bloomberg_metals_price_9_weeks</th>\n",
       "      <th>value__maximum_lme_price_3features_12_weeks</th>\n",
       "      <th>value__absolute_maximum_sp_metals_price_4_weeks</th>\n",
       "      <th>target</th>\n",
       "    </tr>\n",
       "    <tr>\n",
       "      <th>date</th>\n",
       "      <th></th>\n",
       "      <th></th>\n",
       "      <th></th>\n",
       "      <th></th>\n",
       "      <th></th>\n",
       "      <th></th>\n",
       "      <th></th>\n",
       "      <th></th>\n",
       "      <th></th>\n",
       "      <th></th>\n",
       "      <th></th>\n",
       "      <th></th>\n",
       "      <th></th>\n",
       "      <th></th>\n",
       "      <th></th>\n",
       "      <th></th>\n",
       "      <th></th>\n",
       "      <th></th>\n",
       "      <th></th>\n",
       "      <th></th>\n",
       "      <th></th>\n",
       "      <th></th>\n",
       "    </tr>\n",
       "  </thead>\n",
       "  <tbody>\n",
       "    <tr>\n",
       "      <th>2018-01-14</th>\n",
       "      <td>105.41</td>\n",
       "      <td>2238.892857</td>\n",
       "      <td>11111.268100</td>\n",
       "      <td>2237.375850</td>\n",
       "      <td>5963.855500</td>\n",
       "      <td>6.800356</td>\n",
       "      <td>2238.892857</td>\n",
       "      <td>34.288553</td>\n",
       "      <td>1883.810714</td>\n",
       "      <td>2237.375850</td>\n",
       "      <td>9.227500</td>\n",
       "      <td>105.41</td>\n",
       "      <td>61.316072</td>\n",
       "      <td>1883.810714</td>\n",
       "      <td>1.981156e+06</td>\n",
       "      <td>5.012641e+06</td>\n",
       "      <td>2238.892857</td>\n",
       "      <td>17.144277</td>\n",
       "      <td>136.798214</td>\n",
       "      <td>2238.892857</td>\n",
       "      <td>1883.810714</td>\n",
       "      <td>2196.112245</td>\n",
       "    </tr>\n",
       "    <tr>\n",
       "      <th>2018-01-21</th>\n",
       "      <td>105.41</td>\n",
       "      <td>2219.354627</td>\n",
       "      <td>22222.536200</td>\n",
       "      <td>2208.497279</td>\n",
       "      <td>6005.389557</td>\n",
       "      <td>6.800356</td>\n",
       "      <td>2199.642857</td>\n",
       "      <td>33.776363</td>\n",
       "      <td>1899.603571</td>\n",
       "      <td>2237.375850</td>\n",
       "      <td>9.332464</td>\n",
       "      <td>105.41</td>\n",
       "      <td>61.609858</td>\n",
       "      <td>1915.396429</td>\n",
       "      <td>1.981156e+06</td>\n",
       "      <td>9.851070e+06</td>\n",
       "      <td>4438.535714</td>\n",
       "      <td>17.128208</td>\n",
       "      <td>136.137464</td>\n",
       "      <td>2238.892857</td>\n",
       "      <td>1923.292857</td>\n",
       "      <td>2150.095238</td>\n",
       "    </tr>\n",
       "    <tr>\n",
       "      <th>2018-01-28</th>\n",
       "      <td>105.41</td>\n",
       "      <td>2221.118770</td>\n",
       "      <td>33333.804300</td>\n",
       "      <td>2197.317007</td>\n",
       "      <td>6039.625429</td>\n",
       "      <td>6.800356</td>\n",
       "      <td>2199.642857</td>\n",
       "      <td>66.582963</td>\n",
       "      <td>1915.396429</td>\n",
       "      <td>2237.375850</td>\n",
       "      <td>9.437429</td>\n",
       "      <td>105.41</td>\n",
       "      <td>61.414000</td>\n",
       "      <td>1928.392857</td>\n",
       "      <td>1.981156e+06</td>\n",
       "      <td>1.480011e+07</td>\n",
       "      <td>4424.285714</td>\n",
       "      <td>34.239786</td>\n",
       "      <td>135.910000</td>\n",
       "      <td>2238.892857</td>\n",
       "      <td>1931.792857</td>\n",
       "      <td>2212.670068</td>\n",
       "    </tr>\n",
       "    <tr>\n",
       "      <th>2018-02-04</th>\n",
       "      <td>105.41</td>\n",
       "      <td>2225.045848</td>\n",
       "      <td>44445.072400</td>\n",
       "      <td>2218.259184</td>\n",
       "      <td>6059.264929</td>\n",
       "      <td>6.800356</td>\n",
       "      <td>2199.642857</td>\n",
       "      <td>63.632950</td>\n",
       "      <td>1924.992857</td>\n",
       "      <td>2237.375850</td>\n",
       "      <td>9.542393</td>\n",
       "      <td>105.41</td>\n",
       "      <td>61.227143</td>\n",
       "      <td>1936.647143</td>\n",
       "      <td>1.981156e+06</td>\n",
       "      <td>1.980332e+07</td>\n",
       "      <td>4461.428571</td>\n",
       "      <td>34.143553</td>\n",
       "      <td>135.937857</td>\n",
       "      <td>2238.892857</td>\n",
       "      <td>1943.928571</td>\n",
       "      <td>2179.595238</td>\n",
       "    </tr>\n",
       "    <tr>\n",
       "      <th>2018-02-11</th>\n",
       "      <td>105.41</td>\n",
       "      <td>2225.136686</td>\n",
       "      <td>55561.762247</td>\n",
       "      <td>2232.512925</td>\n",
       "      <td>6046.171929</td>\n",
       "      <td>6.800356</td>\n",
       "      <td>2199.642857</td>\n",
       "      <td>93.194977</td>\n",
       "      <td>1907.500000</td>\n",
       "      <td>2234.017007</td>\n",
       "      <td>9.544500</td>\n",
       "      <td>105.41</td>\n",
       "      <td>61.049285</td>\n",
       "      <td>1934.220000</td>\n",
       "      <td>2.052767e+06</td>\n",
       "      <td>1.974353e+07</td>\n",
       "      <td>4462.285714</td>\n",
       "      <td>34.159054</td>\n",
       "      <td>136.117357</td>\n",
       "      <td>2238.892857</td>\n",
       "      <td>1943.928571</td>\n",
       "      <td>2126.054422</td>\n",
       "    </tr>\n",
       "  </tbody>\n",
       "</table>\n",
       "</div>"
      ],
      "text/plain": [
       "            value__quantile__q_0.6_peru_producer_price_index_9_weeks  \\\n",
       "date                                                                   \n",
       "2018-01-14                                             105.41          \n",
       "2018-01-21                                             105.41          \n",
       "2018-01-28                                             105.41          \n",
       "2018-02-04                                             105.41          \n",
       "2018-02-11                                             105.41          \n",
       "\n",
       "            value__root_mean_square_lme_price_3features_9_weeks  \\\n",
       "date                                                              \n",
       "2018-01-14                                        2238.892857     \n",
       "2018-01-21                                        2219.354627     \n",
       "2018-01-28                                        2221.118770     \n",
       "2018-02-04                                        2225.045848     \n",
       "2018-02-11                                        2225.136686     \n",
       "\n",
       "            value__abs_energy_peru_producer_price_index_12_weeks  \\\n",
       "date                                                               \n",
       "2018-01-14                                       11111.268100      \n",
       "2018-01-21                                       22222.536200      \n",
       "2018-01-28                                       33333.804300      \n",
       "2018-02-04                                       44445.072400      \n",
       "2018-02-11                                       55561.762247      \n",
       "\n",
       "            value__quantile__q_0.4_lme_price_smooth_2_weeks  \\\n",
       "date                                                          \n",
       "2018-01-14                                      2237.375850   \n",
       "2018-01-21                                      2208.497279   \n",
       "2018-01-28                                      2197.317007   \n",
       "2018-02-04                                      2218.259184   \n",
       "2018-02-11                                      2232.512925   \n",
       "\n",
       "            value__quantile__q_0.6_mosexchange_price_12_weeks  \\\n",
       "date                                                            \n",
       "2018-01-14                                        5963.855500   \n",
       "2018-01-21                                        6005.389557   \n",
       "2018-01-28                                        6039.625429   \n",
       "2018-02-04                                        6059.264929   \n",
       "2018-02-11                                        6046.171929   \n",
       "\n",
       "            value__minimum_log10_hongqiao_volume_12_weeks  \\\n",
       "date                                                        \n",
       "2018-01-14                                       6.800356   \n",
       "2018-01-21                                       6.800356   \n",
       "2018-01-28                                       6.800356   \n",
       "2018-02-04                                       6.800356   \n",
       "2018-02-11                                       6.800356   \n",
       "\n",
       "            value__minimum_lme_price_3features_9_weeks  \\\n",
       "date                                                     \n",
       "2018-01-14                                 2238.892857   \n",
       "2018-01-21                                 2199.642857   \n",
       "2018-01-28                                 2199.642857   \n",
       "2018-02-04                                 2199.642857   \n",
       "2018-02-11                                 2199.642857   \n",
       "\n",
       "            value__cwt_coefficients__coeff_0__w_5__widths_(2, 5, 10, 20)_peru_consumer_price_index_9_weeks  \\\n",
       "date                                                                                                         \n",
       "2018-01-14                                          34.288553                                                \n",
       "2018-01-21                                          33.776363                                                \n",
       "2018-01-28                                          66.582963                                                \n",
       "2018-02-04                                          63.632950                                                \n",
       "2018-02-11                                          93.194977                                                \n",
       "\n",
       "            value__quantile__q_0.4_sp_metals_price_12_weeks  \\\n",
       "date                                                          \n",
       "2018-01-14                                      1883.810714   \n",
       "2018-01-21                                      1899.603571   \n",
       "2018-01-28                                      1915.396429   \n",
       "2018-02-04                                      1924.992857   \n",
       "2018-02-11                                      1907.500000   \n",
       "\n",
       "            value__maximum_lme_price_smooth_4_weeks  \\\n",
       "date                                                  \n",
       "2018-01-14                              2237.375850   \n",
       "2018-01-21                              2237.375850   \n",
       "2018-01-28                              2237.375850   \n",
       "2018-02-04                              2237.375850   \n",
       "2018-02-11                              2234.017007   \n",
       "\n",
       "            value__quantile__q_0.1_hongqiao_price_12_weeks  \\\n",
       "date                                                         \n",
       "2018-01-14                                        9.227500   \n",
       "2018-01-21                                        9.332464   \n",
       "2018-01-28                                        9.437429   \n",
       "2018-02-04                                        9.542393   \n",
       "2018-02-11                                        9.544500   \n",
       "\n",
       "            value__median_peru_producer_price_index_4_weeks  \\\n",
       "date                                                          \n",
       "2018-01-14                                           105.41   \n",
       "2018-01-21                                           105.41   \n",
       "2018-01-28                                           105.41   \n",
       "2018-02-04                                           105.41   \n",
       "2018-02-11                                           105.41   \n",
       "\n",
       "            value__quantile__q_0.6_norsk_hydro_price_9_weeks  \\\n",
       "date                                                           \n",
       "2018-01-14                                         61.316072   \n",
       "2018-01-21                                         61.609858   \n",
       "2018-01-28                                         61.414000   \n",
       "2018-02-04                                         61.227143   \n",
       "2018-02-11                                         61.049285   \n",
       "\n",
       "            value__quantile__q_0.8_sp_metals_price_12_weeks  \\\n",
       "date                                                          \n",
       "2018-01-14                                      1883.810714   \n",
       "2018-01-21                                      1915.396429   \n",
       "2018-01-28                                      1928.392857   \n",
       "2018-02-04                                      1936.647143   \n",
       "2018-02-11                                      1934.220000   \n",
       "\n",
       "            value__quantile__q_0.9_export_china_value_12_weeks  \\\n",
       "date                                                             \n",
       "2018-01-14                                       1.981156e+06    \n",
       "2018-01-21                                       1.981156e+06    \n",
       "2018-01-28                                       1.981156e+06    \n",
       "2018-02-04                                       1.981156e+06    \n",
       "2018-02-11                                       2.052767e+06    \n",
       "\n",
       "            value__abs_energy_lme_price_3features_4_weeks  \\\n",
       "date                                                        \n",
       "2018-01-14                                   5.012641e+06   \n",
       "2018-01-21                                   9.851070e+06   \n",
       "2018-01-28                                   1.480011e+07   \n",
       "2018-02-04                                   1.980332e+07   \n",
       "2018-02-11                                   1.974353e+07   \n",
       "\n",
       "            value__fft_coefficient__attr_\"real\"__coeff_0_lme_price_3features_2_weeks  \\\n",
       "date                                                                                   \n",
       "2018-01-14                                        2238.892857                          \n",
       "2018-01-21                                        4438.535714                          \n",
       "2018-01-28                                        4424.285714                          \n",
       "2018-02-04                                        4461.428571                          \n",
       "2018-02-11                                        4462.285714                          \n",
       "\n",
       "            value__cwt_coefficients__coeff_0__w_20__widths_(2, 5, 10, 20)_peru_consumer_price_index_4_weeks  \\\n",
       "date                                                                                                          \n",
       "2018-01-14                                          17.144277                                                 \n",
       "2018-01-21                                          17.128208                                                 \n",
       "2018-01-28                                          34.239786                                                 \n",
       "2018-02-04                                          34.143553                                                 \n",
       "2018-02-11                                          34.159054                                                 \n",
       "\n",
       "            value__quantile__q_0.3_bloomberg_metals_price_9_weeks  \\\n",
       "date                                                                \n",
       "2018-01-14                                         136.798214       \n",
       "2018-01-21                                         136.137464       \n",
       "2018-01-28                                         135.910000       \n",
       "2018-02-04                                         135.937857       \n",
       "2018-02-11                                         136.117357       \n",
       "\n",
       "            value__maximum_lme_price_3features_12_weeks  \\\n",
       "date                                                      \n",
       "2018-01-14                                  2238.892857   \n",
       "2018-01-21                                  2238.892857   \n",
       "2018-01-28                                  2238.892857   \n",
       "2018-02-04                                  2238.892857   \n",
       "2018-02-11                                  2238.892857   \n",
       "\n",
       "            value__absolute_maximum_sp_metals_price_4_weeks       target  \n",
       "date                                                                      \n",
       "2018-01-14                                      1883.810714  2196.112245  \n",
       "2018-01-21                                      1923.292857  2150.095238  \n",
       "2018-01-28                                      1931.792857  2212.670068  \n",
       "2018-02-04                                      1943.928571  2179.595238  \n",
       "2018-02-11                                      1943.928571  2126.054422  "
      ]
     },
     "execution_count": 63,
     "metadata": {},
     "output_type": "execute_result"
    }
   ],
   "source": [
    "extracted_relevant_features.head()"
   ]
  },
  {
   "cell_type": "code",
   "execution_count": 64,
   "metadata": {},
   "outputs": [],
   "source": [
    "all_features = extracted_relevant_features.columns.values.copy()\n",
    "features_from_tsfresh = extracted_relevant_features.filter(like='value__').columns.values.copy()"
   ]
  },
  {
   "cell_type": "code",
   "execution_count": 65,
   "metadata": {},
   "outputs": [
    {
     "name": "stdout",
     "output_type": "stream",
     "text": [
      "Count of all features: 22\n",
      "Count of features from ts fresh: 21\n"
     ]
    }
   ],
   "source": [
    "print(f\"Count of all features: {len(all_features)}\")\n",
    "print(f\"Count of features from ts fresh: {len(features_from_tsfresh)}\")"
   ]
  },
  {
   "cell_type": "code",
   "execution_count": 48,
   "metadata": {},
   "outputs": [],
   "source": [
    "# Разница в один признак - это таргет, так что все оставшиеся признаки пришли к нам из библиотеки ts fresh"
   ]
  },
  {
   "cell_type": "code",
   "execution_count": 66,
   "metadata": {},
   "outputs": [
    {
     "data": {
      "text/plain": [
       "array(['value__abs_energy_lme_price_3features_4_weeks',\n",
       "       'value__abs_energy_peru_producer_price_index_12_weeks',\n",
       "       'value__absolute_maximum_sp_metals_price_4_weeks',\n",
       "       'value__cwt_coefficients__coeff_0__w_20__widths_(2, 5, 10, 20)_peru_consumer_price_index_4_weeks',\n",
       "       'value__cwt_coefficients__coeff_0__w_5__widths_(2, 5, 10, 20)_peru_consumer_price_index_9_weeks',\n",
       "       'value__fft_coefficient__attr_\"real\"__coeff_0_lme_price_3features_2_weeks',\n",
       "       'value__maximum_lme_price_3features_12_weeks',\n",
       "       'value__maximum_lme_price_smooth_4_weeks',\n",
       "       'value__median_peru_producer_price_index_4_weeks',\n",
       "       'value__minimum_lme_price_3features_9_weeks',\n",
       "       'value__minimum_log10_hongqiao_volume_12_weeks',\n",
       "       'value__quantile__q_0.1_hongqiao_price_12_weeks',\n",
       "       'value__quantile__q_0.3_bloomberg_metals_price_9_weeks',\n",
       "       'value__quantile__q_0.4_lme_price_smooth_2_weeks',\n",
       "       'value__quantile__q_0.4_sp_metals_price_12_weeks',\n",
       "       'value__quantile__q_0.6_mosexchange_price_12_weeks',\n",
       "       'value__quantile__q_0.6_norsk_hydro_price_9_weeks',\n",
       "       'value__quantile__q_0.6_peru_producer_price_index_9_weeks',\n",
       "       'value__quantile__q_0.8_sp_metals_price_12_weeks',\n",
       "       'value__quantile__q_0.9_export_china_value_12_weeks',\n",
       "       'value__root_mean_square_lme_price_3features_9_weeks'],\n",
       "      dtype=object)"
      ]
     },
     "execution_count": 66,
     "metadata": {},
     "output_type": "execute_result"
    }
   ],
   "source": [
    "features_from_tsfresh.sort()\n",
    "features_from_tsfresh"
   ]
  },
  {
   "cell_type": "code",
   "execution_count": 82,
   "metadata": {},
   "outputs": [],
   "source": [
    "fc_parameters = {\n",
    "    \"abs_energy\": None,\n",
    "    \"absolute_maximum\": None,\n",
    "    \"cwt_coefficients\": [{'widths': (2, 5, 10, 20), 'coeff': 0, 'w': 5},\n",
    "                         {'widths': (2, 5, 10, 20), 'coeff': 0, 'w': 20}],\n",
    "    \"fft_coefficient\": [{'coeff': 0, 'attr': 'real'}],\n",
    "    \"maximum\": None,\n",
    "    \"median\": None,\n",
    "    \"minimum\": None,\n",
    "    \"quantile\": [{'q': 0.1},\n",
    "                 {'q': 0.3},\n",
    "                 {'q': 0.4},\n",
    "                 {'q': 0.6},\n",
    "                 {'q': 0.8},\n",
    "                 {'q': 0.9}],\n",
    "    \"root_mean_square\": None\n",
    "}"
   ]
  },
  {
   "cell_type": "code",
   "execution_count": null,
   "metadata": {},
   "outputs": [],
   "source": [
    "features_for_tsfresh = [\"lme_price_smooth\",\n",
    "                        \"lme_price_3features\",\n",
    "                        \"peru_producer_price_index\",\n",
    "                        \"sp_metals_price\",\n",
    "                        \"peru_consumer_price_index\",\n",
    "                        \"log10_hongqiao_volume\",\n",
    "                        \"hongqiao_price\",\n",
    "                        \"bloomberg_metals_price\",\n",
    "                        \"mosexchange_price\",\n",
    "                        \"norsk_hydro_price\",\n",
    "                        \"export_china_value\"\n",
    "                        ]"
   ]
  }
 ],
 "metadata": {
  "kernelspec": {
   "display_name": "ml",
   "language": "python",
   "name": "python3"
  },
  "language_info": {
   "codemirror_mode": {
    "name": "ipython",
    "version": 3
   },
   "file_extension": ".py",
   "mimetype": "text/x-python",
   "name": "python",
   "nbconvert_exporter": "python",
   "pygments_lexer": "ipython3",
   "version": "3.10.14"
  }
 },
 "nbformat": 4,
 "nbformat_minor": 2
}
