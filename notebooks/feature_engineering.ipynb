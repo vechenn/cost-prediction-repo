{
 "cells": [
  {
   "cell_type": "markdown",
   "metadata": {},
   "source": [
    "# Генерация и отбор признаков"
   ]
  },
  {
   "cell_type": "code",
   "execution_count": 1,
   "metadata": {},
   "outputs": [],
   "source": [
    "import numpy as np\n",
    "import pandas as pd\n",
    "pd.set_option('display.max_rows', 100)\n",
    "pd.set_option('display.max_columns', 75)\n",
    "\n",
    "from datetime import datetime as dt\n",
    "\n",
    "import matplotlib.pyplot as plt\n",
    "import seaborn as sns\n",
    "\n",
    "from statsmodels.tsa.stattools import adfuller\n",
    "\n",
    "from tsfresh.utilities.dataframe_functions import make_forecasting_frame, impute\n",
    "from tsfresh import extract_features, select_features\n",
    "\n",
    "from sklearn.feature_selection import mutual_info_regression"
   ]
  },
  {
   "cell_type": "code",
   "execution_count": 2,
   "metadata": {},
   "outputs": [],
   "source": [
    "dataset_per_week = pd.read_csv('../data/processed/dataset_per_week.csv', parse_dates=True, index_col=0)\n",
    "dataset_per_week.shape\n",
    "\n",
    "list_of_columns = dataset_per_week.columns.copy()"
   ]
  },
  {
   "cell_type": "markdown",
   "metadata": {},
   "source": [
    "## Ручная генерация признаков и их отбор через анализ корреляции Пирсона/Спирмена"
   ]
  },
  {
   "cell_type": "code",
   "execution_count": null,
   "metadata": {},
   "outputs": [],
   "source": [
    "# Код для ручной генерации признаков использовался прежде, чем использовать библиотеку tsfresh\n",
    "\n",
    "# for j in list_of_columns:\n",
    "#     for i in ['mean_4', 'mean_9', 'mean_13', 'mean_26', 'mean_52']:\n",
    "#         dataset_per_week[j+'_'+i] = dataset_per_week[j].rolling(int(i.split('_')[-1]), min_periods=1).mean()\n",
    "#     for i in ['shift_1', 'shift_2', 'shift_4', 'shift_9', 'shift_13']:\n",
    "#         dataset_per_week[j+'_'+i] = dataset_per_week[j].shift(int(i.split('_')[-1]))\n",
    "#     for i in ['std_4', 'std_9', 'std_13', 'std_26']:\n",
    "#         dataset_per_week[j+'_'+i] = dataset_per_week[j].rolling(int(i.split('_')[-1]), min_periods=1).std()\n",
    "#     for i in [1,2,4,9,13]:\n",
    "#         dataset_per_week[j+'_increment_by_shift_'+str(i)] = dataset_per_week[j]-dataset_per_week[j+'_shift_'+str(i)]\n",
    "#     for i in [4,9,13,26]:\n",
    "#         dataset_per_week[j+'_increment_by_mean_'+str(i)] = dataset_per_week[j]-dataset_per_week[j+'_mean_'+str(i)]\n",
    "\n",
    "# dataset_per_week.shape\n",
    "# sns.heatmap(dataset_per_week.isna())\n",
    "\n",
    "# # Отрежем вверх\n",
    "# dataset_per_week = dataset_per_week.iloc[13:]\n",
    "# # Отбросим плохие колонки\n",
    "# cols = dataset_per_week.isna().sum()[dataset_per_week.isna().sum()>0].index.values.copy()\n",
    "# dataset_per_week = dataset_per_week.drop(columns=cols)"
   ]
  },
  {
   "cell_type": "code",
   "execution_count": null,
   "metadata": {},
   "outputs": [],
   "source": [
    "# Код для ручной селекции признаков использовался прежде, чем использовать библиотеку tsfresh\n",
    "\n",
    "# dataset_per_week.columns\n",
    "# candidates = dataset_per_week.corr(method='spearman').lme_price_smooth.sort_values()[-600:]\n",
    "# candidates = candidates.sort_values(ascending=False).index.values\n",
    "# candidates\n",
    "\n",
    "# correlation_matrix = dataset_per_week[candidates].corr(method='spearman')\n",
    "# correlation_matrix\n",
    "# candidates = candidates[1:]\n",
    "\n",
    "\n",
    "# def select(candidates, corr_matrix):\n",
    "#     features = list(candidates.copy())\n",
    "#     l = len(candidates)\n",
    "#     for i in range(l):\n",
    "#         for j in range(i+1,l):\n",
    "#             if corr_matrix[candidates[i]][candidates[j]]>0.75:\n",
    "#                 if corr_matrix['lme_price_smooth'][candidates[i]] > corr_matrix['lme_price_smooth'][candidates[j]]:\n",
    "#                     try:\n",
    "#                         features.remove(candidates[j])\n",
    "#                     except:\n",
    "#                         pass\n",
    "#                 else:\n",
    "#                     try:\n",
    "#                         features.remove(candidates[i])\n",
    "#                     except:\n",
    "#                         pass\n",
    "#     return features\n",
    "\n",
    "# features = select(candidates=candidates, corr_matrix=correlation_matrix)\n",
    "# len(features)\n",
    "\n",
    "# dataset_per_week['target_1'] = dataset_per_week.lme_price_smooth.diff(periods=1)\n",
    "# dataset_per_week['target_2'] = dataset_per_week.lme_price_smooth.diff(periods=2)\n",
    "# dataset_per_week['target_3'] = dataset_per_week.lme_price_smooth.diff(periods=3)\n",
    "# dataset_per_week['target_4'] = dataset_per_week.lme_price_smooth.diff(periods=4)\n",
    "# features.extend([\"covid\", \"after_feb\", \"lme_price_smooth\", \"target_1\", \"target_2\", \"target_3\", \"target_4\"])\n",
    "# final_df = dataset_per_week[features]"
   ]
  },
  {
   "cell_type": "markdown",
   "metadata": {},
   "source": [
    "## Библиотека TSfresh, генерация признаков"
   ]
  },
  {
   "cell_type": "code",
   "execution_count": 3,
   "metadata": {},
   "outputs": [],
   "source": [
    "y = dataset_per_week[['lme_price_smooth']].copy()\n",
    "y[\"lme_price_smooth\"] = y.lme_price_smooth.shift(-4) # отбор признаков происходит, ориентируясь на смещенный таргет\n",
    "y = y[1:-4] # слайс с 1, так как после обработки данных алгоритмами из библиотеки tsfresh возникнет смещение на 1 дату\n",
    "y = y.lme_price_smooth # переход к pd.Series"
   ]
  },
  {
   "cell_type": "markdown",
   "metadata": {},
   "source": [
    "Нижеприведенный код осуществляет генерацию и селекцию признаков по анализу прошедших 2, 4, 9, 12 и 26 недель относительно текущей даты"
   ]
  },
  {
   "cell_type": "code",
   "execution_count": 4,
   "metadata": {},
   "outputs": [],
   "source": [
    "extracted_relevant_features = pd.DataFrame(index=pd.date_range('2018-03-11', '2023-09-24', freq='W'))"
   ]
  },
  {
   "cell_type": "code",
   "execution_count": null,
   "metadata": {},
   "outputs": [
    {
     "name": "stderr",
     "output_type": "stream",
     "text": [
      "Rolling: 100%|██████████| 20/20 [00:00<00:00, 25.20it/s]\n",
      "Feature Extraction: 100%|██████████| 20/20 [00:01<00:00, 11.77it/s]\n",
      "Rolling: 100%|██████████| 20/20 [00:00<00:00, 24.67it/s]\n",
      "Feature Extraction: 100%|██████████| 20/20 [00:01<00:00, 11.63it/s]\n",
      "Rolling: 100%|██████████| 20/20 [00:00<00:00, 25.38it/s]\n",
      "Feature Extraction: 100%|██████████| 20/20 [00:02<00:00,  9.35it/s]\n",
      "Rolling: 100%|██████████| 20/20 [00:00<00:00, 25.13it/s]\n",
      "Feature Extraction: 100%|██████████| 20/20 [00:02<00:00,  8.68it/s]\n",
      "Rolling: 100%|██████████| 20/20 [00:00<00:00, 25.71it/s]\n",
      "Feature Extraction: 100%|██████████| 20/20 [00:02<00:00,  8.90it/s]\n"
     ]
    },
    {
     "name": "stdout",
     "output_type": "stream",
     "text": [
      "Created features for lme_change\n"
     ]
    },
    {
     "name": "stderr",
     "output_type": "stream",
     "text": [
      "Rolling: 100%|██████████| 20/20 [00:00<00:00, 25.33it/s]\n",
      "Feature Extraction: 100%|██████████| 20/20 [00:01<00:00, 15.25it/s]\n",
      "Rolling: 100%|██████████| 20/20 [00:00<00:00, 24.91it/s]\n",
      "Feature Extraction: 100%|██████████| 20/20 [00:02<00:00,  9.69it/s]\n",
      "Rolling: 100%|██████████| 20/20 [00:00<00:00, 25.20it/s]\n",
      "Feature Extraction: 100%|██████████| 20/20 [00:02<00:00,  9.48it/s]\n",
      "Rolling: 100%|██████████| 20/20 [00:00<00:00, 24.33it/s]\n",
      "Feature Extraction: 100%|██████████| 20/20 [00:02<00:00,  9.25it/s]\n",
      "Rolling: 100%|██████████| 20/20 [00:00<00:00, 24.45it/s]\n",
      "Feature Extraction: 100%|██████████| 20/20 [00:02<00:00,  8.34it/s]\n"
     ]
    },
    {
     "name": "stdout",
     "output_type": "stream",
     "text": [
      "Created features for baltic_dry_index\n"
     ]
    },
    {
     "name": "stderr",
     "output_type": "stream",
     "text": [
      "Rolling: 100%|██████████| 20/20 [00:00<00:00, 24.60it/s]\n",
      "Feature Extraction: 100%|██████████| 20/20 [00:01<00:00, 13.91it/s]\n",
      "Rolling: 100%|██████████| 20/20 [00:00<00:00, 23.52it/s]\n",
      "Feature Extraction: 100%|██████████| 20/20 [00:02<00:00,  9.30it/s]\n",
      "Rolling: 100%|██████████| 20/20 [00:00<00:00, 23.38it/s]\n",
      "Feature Extraction: 100%|██████████| 20/20 [00:02<00:00,  8.76it/s]\n",
      "Rolling: 100%|██████████| 20/20 [00:00<00:00, 21.90it/s]\n",
      "Feature Extraction: 100%|██████████| 20/20 [00:02<00:00,  7.49it/s]\n",
      "Rolling: 100%|██████████| 20/20 [00:00<00:00, 23.60it/s]\n",
      "Feature Extraction: 100%|██████████| 20/20 [00:02<00:00,  9.16it/s]\n"
     ]
    },
    {
     "name": "stdout",
     "output_type": "stream",
     "text": [
      "Created features for bloomberg_metals_price\n"
     ]
    },
    {
     "name": "stderr",
     "output_type": "stream",
     "text": [
      "Rolling: 100%|██████████| 20/20 [00:00<00:00, 23.52it/s]\n",
      "Feature Extraction: 100%|██████████| 20/20 [00:02<00:00,  9.75it/s]\n",
      "Rolling: 100%|██████████| 20/20 [00:01<00:00, 19.35it/s]\n",
      "Feature Extraction: 100%|██████████| 20/20 [00:02<00:00,  7.77it/s]\n",
      "Rolling: 100%|██████████| 20/20 [00:01<00:00, 18.42it/s]\n",
      "Feature Extraction: 100%|██████████| 20/20 [00:02<00:00,  6.97it/s]\n",
      "Rolling: 100%|██████████| 20/20 [00:01<00:00, 18.67it/s]\n",
      "Feature Extraction: 100%|██████████| 20/20 [00:02<00:00,  7.75it/s]\n",
      "Rolling: 100%|██████████| 20/20 [00:01<00:00, 19.41it/s]\n",
      "Feature Extraction: 100%|██████████| 20/20 [00:03<00:00,  6.37it/s]\n"
     ]
    },
    {
     "name": "stdout",
     "output_type": "stream",
     "text": [
      "Created features for bloomberg_metals_change\n"
     ]
    },
    {
     "name": "stderr",
     "output_type": "stream",
     "text": [
      "Rolling: 100%|██████████| 20/20 [00:01<00:00, 17.10it/s]\n",
      "Feature Extraction: 100%|██████████| 20/20 [00:02<00:00,  8.93it/s]\n",
      "Rolling: 100%|██████████| 20/20 [00:01<00:00, 18.29it/s]\n",
      "Feature Extraction: 100%|██████████| 20/20 [00:02<00:00,  7.79it/s]\n",
      "Rolling: 100%|██████████| 20/20 [00:00<00:00, 22.02it/s]\n",
      "Feature Extraction: 100%|██████████| 20/20 [00:02<00:00,  9.14it/s]\n",
      "Rolling: 100%|██████████| 20/20 [00:00<00:00, 22.02it/s]\n",
      "Feature Extraction: 100%|██████████| 20/20 [00:02<00:00,  7.71it/s]\n",
      "Rolling: 100%|██████████| 20/20 [00:00<00:00, 22.01it/s]\n",
      "Feature Extraction: 100%|██████████| 20/20 [00:02<00:00,  7.59it/s]\n"
     ]
    },
    {
     "name": "stdout",
     "output_type": "stream",
     "text": [
      "Created features for ftse_index\n"
     ]
    },
    {
     "name": "stderr",
     "output_type": "stream",
     "text": [
      "Rolling: 100%|██████████| 20/20 [00:00<00:00, 21.98it/s]\n",
      "Feature Extraction: 100%|██████████| 20/20 [00:01<00:00, 10.37it/s]\n",
      "Rolling: 100%|██████████| 20/20 [00:00<00:00, 21.85it/s]\n",
      "Feature Extraction: 100%|██████████| 20/20 [00:02<00:00,  9.64it/s]\n",
      "Rolling: 100%|██████████| 20/20 [00:00<00:00, 22.05it/s]\n",
      "Feature Extraction: 100%|██████████| 20/20 [00:02<00:00,  8.46it/s]\n",
      "Rolling: 100%|██████████| 20/20 [00:00<00:00, 21.84it/s]\n",
      "Feature Extraction: 100%|██████████| 20/20 [00:02<00:00,  8.17it/s]\n",
      "Rolling: 100%|██████████| 20/20 [00:00<00:00, 21.15it/s]\n",
      "Feature Extraction: 100%|██████████| 20/20 [00:02<00:00,  7.41it/s]\n"
     ]
    },
    {
     "name": "stdout",
     "output_type": "stream",
     "text": [
      "Created features for ftse_index_change\n"
     ]
    },
    {
     "name": "stderr",
     "output_type": "stream",
     "text": [
      "Rolling: 100%|██████████| 20/20 [00:00<00:00, 21.50it/s]\n",
      "Feature Extraction: 100%|██████████| 20/20 [00:01<00:00, 12.27it/s]\n",
      "Rolling: 100%|██████████| 20/20 [00:00<00:00, 21.11it/s]\n",
      "Feature Extraction: 100%|██████████| 20/20 [00:02<00:00,  9.65it/s]\n",
      "Rolling: 100%|██████████| 20/20 [00:00<00:00, 21.56it/s]\n",
      "Feature Extraction: 100%|██████████| 20/20 [00:02<00:00,  7.96it/s]\n",
      "Rolling: 100%|██████████| 20/20 [00:00<00:00, 21.51it/s]\n",
      "Feature Extraction: 100%|██████████| 20/20 [00:02<00:00,  7.67it/s]\n",
      "Rolling: 100%|██████████| 20/20 [00:00<00:00, 21.83it/s]\n",
      "Feature Extraction: 100%|██████████| 20/20 [00:02<00:00,  7.34it/s]\n"
     ]
    },
    {
     "name": "stdout",
     "output_type": "stream",
     "text": [
      "Created features for sp_metals_price\n"
     ]
    },
    {
     "name": "stderr",
     "output_type": "stream",
     "text": [
      "Rolling: 100%|██████████| 20/20 [00:00<00:00, 21.69it/s]\n",
      "Feature Extraction: 100%|██████████| 20/20 [00:01<00:00, 12.13it/s]\n",
      "Rolling: 100%|██████████| 20/20 [00:00<00:00, 20.65it/s]\n",
      "Feature Extraction: 100%|██████████| 20/20 [00:02<00:00,  8.59it/s]\n",
      "Rolling: 100%|██████████| 20/20 [00:00<00:00, 20.85it/s]\n",
      "Feature Extraction: 100%|██████████| 20/20 [00:02<00:00,  8.31it/s]\n",
      "Rolling: 100%|██████████| 20/20 [00:00<00:00, 21.34it/s]\n",
      "Feature Extraction: 100%|██████████| 20/20 [00:02<00:00,  7.83it/s]\n",
      "Rolling: 100%|██████████| 20/20 [00:00<00:00, 21.36it/s]\n",
      "Feature Extraction: 100%|██████████| 20/20 [00:02<00:00,  7.92it/s]\n"
     ]
    },
    {
     "name": "stdout",
     "output_type": "stream",
     "text": [
      "Created features for sp_metals_change\n"
     ]
    },
    {
     "name": "stderr",
     "output_type": "stream",
     "text": [
      "Rolling: 100%|██████████| 20/20 [00:00<00:00, 21.48it/s]\n",
      "Feature Extraction: 100%|██████████| 20/20 [00:01<00:00, 12.11it/s]\n",
      "Rolling: 100%|██████████| 20/20 [00:00<00:00, 20.79it/s]\n",
      "Feature Extraction: 100%|██████████| 20/20 [00:02<00:00,  8.33it/s]\n",
      "Rolling: 100%|██████████| 20/20 [00:00<00:00, 21.33it/s]\n",
      "Feature Extraction: 100%|██████████| 20/20 [00:02<00:00,  8.07it/s]\n",
      "Rolling: 100%|██████████| 20/20 [00:00<00:00, 21.31it/s]\n",
      "Feature Extraction: 100%|██████████| 20/20 [00:02<00:00,  7.37it/s]\n",
      "Rolling: 100%|██████████| 20/20 [00:00<00:00, 21.42it/s]\n",
      "Feature Extraction: 100%|██████████| 20/20 [00:02<00:00,  7.89it/s]\n"
     ]
    },
    {
     "name": "stdout",
     "output_type": "stream",
     "text": [
      "Created features for mosexchange_value\n"
     ]
    },
    {
     "name": "stderr",
     "output_type": "stream",
     "text": [
      "Rolling: 100%|██████████| 20/20 [00:00<00:00, 21.02it/s]\n",
      "Feature Extraction: 100%|██████████| 20/20 [00:01<00:00, 10.15it/s]\n",
      "Rolling: 100%|██████████| 20/20 [00:00<00:00, 20.68it/s]\n",
      "Feature Extraction: 100%|██████████| 20/20 [00:02<00:00,  8.74it/s]\n",
      "Rolling: 100%|██████████| 20/20 [00:00<00:00, 21.28it/s]\n",
      "Feature Extraction: 100%|██████████| 20/20 [00:02<00:00,  8.04it/s]\n",
      "Rolling: 100%|██████████| 20/20 [00:00<00:00, 21.38it/s]\n",
      "Feature Extraction: 100%|██████████| 20/20 [00:02<00:00,  8.34it/s]\n",
      "Rolling: 100%|██████████| 20/20 [00:01<00:00, 15.82it/s]\n",
      "Feature Extraction: 100%|██████████| 20/20 [00:02<00:00,  7.98it/s]\n"
     ]
    },
    {
     "name": "stdout",
     "output_type": "stream",
     "text": [
      "Created features for alcoa_price\n"
     ]
    },
    {
     "name": "stderr",
     "output_type": "stream",
     "text": [
      "Rolling: 100%|██████████| 20/20 [00:00<00:00, 21.34it/s]\n",
      "Feature Extraction: 100%|██████████| 20/20 [00:01<00:00, 10.60it/s]\n",
      "Rolling: 100%|██████████| 20/20 [00:00<00:00, 20.30it/s]\n",
      "Feature Extraction: 100%|██████████| 20/20 [00:02<00:00,  8.14it/s]\n",
      "Rolling: 100%|██████████| 20/20 [00:00<00:00, 21.26it/s]\n",
      "Feature Extraction: 100%|██████████| 20/20 [00:02<00:00,  7.73it/s]\n",
      "Rolling: 100%|██████████| 20/20 [00:00<00:00, 21.40it/s]\n",
      "Feature Extraction: 100%|██████████| 20/20 [00:02<00:00,  8.40it/s]\n",
      "Rolling: 100%|██████████| 20/20 [00:00<00:00, 21.22it/s]\n",
      "Feature Extraction: 100%|██████████| 20/20 [00:02<00:00,  7.41it/s]\n"
     ]
    },
    {
     "name": "stdout",
     "output_type": "stream",
     "text": [
      "Created features for chalco_price\n"
     ]
    },
    {
     "name": "stderr",
     "output_type": "stream",
     "text": [
      "Rolling: 100%|██████████| 20/20 [00:01<00:00, 19.86it/s]\n",
      "Feature Extraction: 100%|██████████| 20/20 [00:01<00:00, 10.63it/s]\n",
      "Rolling: 100%|██████████| 20/20 [00:00<00:00, 21.22it/s]\n",
      "Feature Extraction: 100%|██████████| 20/20 [00:02<00:00,  8.25it/s]\n",
      "Rolling: 100%|██████████| 20/20 [00:00<00:00, 21.20it/s]\n",
      "Feature Extraction: 100%|██████████| 20/20 [00:02<00:00,  8.74it/s]\n",
      "Rolling: 100%|██████████| 20/20 [00:00<00:00, 21.14it/s]\n",
      "Feature Extraction: 100%|██████████| 20/20 [00:02<00:00,  8.29it/s]\n",
      "Rolling: 100%|██████████| 20/20 [00:00<00:00, 21.04it/s]\n",
      "Feature Extraction: 100%|██████████| 20/20 [00:02<00:00,  7.54it/s]\n"
     ]
    },
    {
     "name": "stdout",
     "output_type": "stream",
     "text": [
      "Created features for chalco_adj\n"
     ]
    },
    {
     "name": "stderr",
     "output_type": "stream",
     "text": [
      "Rolling: 100%|██████████| 20/20 [00:00<00:00, 20.81it/s]\n",
      "Feature Extraction: 100%|██████████| 20/20 [00:02<00:00,  9.74it/s]\n",
      "Rolling: 100%|██████████| 20/20 [00:00<00:00, 20.49it/s]\n",
      "Feature Extraction: 100%|██████████| 20/20 [00:02<00:00,  8.11it/s]\n",
      "Rolling: 100%|██████████| 20/20 [00:00<00:00, 21.03it/s]\n",
      "Feature Extraction: 100%|██████████| 20/20 [00:02<00:00,  8.80it/s]\n",
      "Rolling: 100%|██████████| 20/20 [00:00<00:00, 20.99it/s]\n",
      "Feature Extraction: 100%|██████████| 20/20 [00:02<00:00,  7.47it/s]\n",
      "Rolling: 100%|██████████| 20/20 [00:00<00:00, 21.04it/s]\n",
      "Feature Extraction: 100%|██████████| 20/20 [00:02<00:00,  7.24it/s]\n"
     ]
    },
    {
     "name": "stdout",
     "output_type": "stream",
     "text": [
      "Created features for hongqiao_price\n"
     ]
    },
    {
     "name": "stderr",
     "output_type": "stream",
     "text": [
      "Rolling: 100%|██████████| 20/20 [00:00<00:00, 20.90it/s]\n",
      "Feature Extraction: 100%|██████████| 20/20 [00:02<00:00,  9.92it/s]\n",
      "Rolling: 100%|██████████| 20/20 [00:00<00:00, 21.16it/s]\n",
      "Feature Extraction: 100%|██████████| 20/20 [00:02<00:00,  7.98it/s]\n",
      "Rolling: 100%|██████████| 20/20 [00:00<00:00, 21.06it/s]\n",
      "Feature Extraction: 100%|██████████| 20/20 [00:02<00:00,  8.60it/s]\n",
      "Rolling: 100%|██████████| 20/20 [00:00<00:00, 20.98it/s]\n",
      "Feature Extraction: 100%|██████████| 20/20 [00:02<00:00,  7.39it/s]\n",
      "Rolling: 100%|██████████| 20/20 [00:00<00:00, 21.09it/s]\n",
      "Feature Extraction: 100%|██████████| 20/20 [00:02<00:00,  7.20it/s]\n"
     ]
    },
    {
     "name": "stdout",
     "output_type": "stream",
     "text": [
      "Created features for hongqiao_adj\n"
     ]
    },
    {
     "name": "stderr",
     "output_type": "stream",
     "text": [
      "Rolling: 100%|██████████| 20/20 [00:00<00:00, 20.82it/s]\n",
      "Feature Extraction: 100%|██████████| 20/20 [00:02<00:00,  9.64it/s]\n",
      "Rolling: 100%|██████████| 20/20 [00:00<00:00, 21.19it/s]\n",
      "Feature Extraction: 100%|██████████| 20/20 [00:02<00:00,  9.15it/s]\n",
      "Rolling: 100%|██████████| 20/20 [00:00<00:00, 20.83it/s]\n",
      "Feature Extraction: 100%|██████████| 20/20 [00:02<00:00,  8.18it/s]\n",
      "Rolling: 100%|██████████| 20/20 [00:00<00:00, 21.89it/s]\n",
      "Feature Extraction: 100%|██████████| 20/20 [00:02<00:00,  7.32it/s]\n",
      "Rolling: 100%|██████████| 20/20 [00:00<00:00, 21.36it/s]\n",
      "Feature Extraction: 100%|██████████| 20/20 [00:02<00:00,  7.17it/s]\n"
     ]
    },
    {
     "name": "stdout",
     "output_type": "stream",
     "text": [
      "Created features for kaiser_price\n"
     ]
    },
    {
     "name": "stderr",
     "output_type": "stream",
     "text": [
      "Rolling: 100%|██████████| 20/20 [00:00<00:00, 20.86it/s]\n",
      "Feature Extraction: 100%|██████████| 20/20 [00:01<00:00, 11.34it/s]\n",
      "Rolling: 100%|██████████| 20/20 [00:00<00:00, 20.86it/s]\n",
      "Feature Extraction: 100%|██████████| 20/20 [00:02<00:00,  8.08it/s]\n",
      "Rolling: 100%|██████████| 20/20 [00:00<00:00, 20.89it/s]\n",
      "Feature Extraction: 100%|██████████| 20/20 [00:02<00:00,  7.68it/s]\n",
      "Rolling: 100%|██████████| 20/20 [00:00<00:00, 20.90it/s]\n",
      "Feature Extraction: 100%|██████████| 20/20 [00:02<00:00,  7.83it/s]\n",
      "Rolling: 100%|██████████| 20/20 [00:00<00:00, 20.88it/s]\n",
      "Feature Extraction: 100%|██████████| 20/20 [00:02<00:00,  6.94it/s]\n"
     ]
    },
    {
     "name": "stdout",
     "output_type": "stream",
     "text": [
      "Created features for norsk_hydro_price\n"
     ]
    },
    {
     "name": "stderr",
     "output_type": "stream",
     "text": [
      "Rolling: 100%|██████████| 20/20 [00:00<00:00, 20.65it/s]\n",
      "Feature Extraction: 100%|██████████| 20/20 [00:01<00:00, 11.52it/s]\n",
      "Rolling: 100%|██████████| 20/20 [00:00<00:00, 21.14it/s]\n",
      "Feature Extraction: 100%|██████████| 20/20 [00:02<00:00,  8.11it/s]\n",
      "Rolling: 100%|██████████| 20/20 [00:00<00:00, 20.71it/s]\n",
      "Feature Extraction: 100%|██████████| 20/20 [00:02<00:00,  7.87it/s]\n",
      "Rolling: 100%|██████████| 20/20 [00:01<00:00, 19.99it/s]\n",
      "Feature Extraction: 100%|██████████| 20/20 [00:02<00:00,  7.21it/s]\n",
      "Rolling: 100%|██████████| 20/20 [00:00<00:00, 20.90it/s]\n",
      "Feature Extraction: 100%|██████████| 20/20 [00:02<00:00,  7.76it/s]\n"
     ]
    },
    {
     "name": "stdout",
     "output_type": "stream",
     "text": [
      "Created features for norsk_hydro_adj\n"
     ]
    },
    {
     "name": "stderr",
     "output_type": "stream",
     "text": [
      "Rolling: 100%|██████████| 20/20 [00:00<00:00, 20.83it/s]\n",
      "Feature Extraction: 100%|██████████| 20/20 [00:01<00:00, 10.10it/s]\n",
      "Rolling: 100%|██████████| 20/20 [00:00<00:00, 20.94it/s]\n",
      "Feature Extraction: 100%|██████████| 20/20 [00:02<00:00,  7.92it/s]\n",
      "Rolling: 100%|██████████| 20/20 [00:01<00:00, 19.83it/s]\n",
      "Feature Extraction: 100%|██████████| 20/20 [00:02<00:00,  7.82it/s]\n",
      "Rolling: 100%|██████████| 20/20 [00:00<00:00, 20.56it/s]\n",
      "Feature Extraction: 100%|██████████| 20/20 [00:02<00:00,  8.19it/s]\n",
      "Rolling: 100%|██████████| 20/20 [00:00<00:00, 21.28it/s]\n",
      "Feature Extraction: 100%|██████████| 20/20 [00:02<00:00,  7.07it/s]\n"
     ]
    },
    {
     "name": "stdout",
     "output_type": "stream",
     "text": [
      "Created features for rual_price\n"
     ]
    },
    {
     "name": "stderr",
     "output_type": "stream",
     "text": [
      "Rolling: 100%|██████████| 20/20 [00:00<00:00, 20.58it/s]\n",
      "Feature Extraction: 100%|██████████| 20/20 [00:02<00:00,  9.66it/s]\n",
      "Rolling: 100%|██████████| 20/20 [00:00<00:00, 20.91it/s]\n",
      "Feature Extraction: 100%|██████████| 20/20 [00:02<00:00,  7.93it/s]\n",
      "Rolling: 100%|██████████| 20/20 [00:01<00:00, 19.99it/s]\n",
      "Feature Extraction: 100%|██████████| 20/20 [00:02<00:00,  7.39it/s]\n",
      "Rolling: 100%|██████████| 20/20 [00:00<00:00, 20.61it/s]\n",
      "Feature Extraction: 100%|██████████| 20/20 [00:02<00:00,  8.23it/s]\n",
      "Rolling: 100%|██████████| 20/20 [00:00<00:00, 20.90it/s]\n",
      "Feature Extraction: 100%|██████████| 20/20 [00:02<00:00,  6.88it/s]\n"
     ]
    },
    {
     "name": "stdout",
     "output_type": "stream",
     "text": [
      "Created features for rual_price_change\n"
     ]
    },
    {
     "name": "stderr",
     "output_type": "stream",
     "text": [
      "Rolling: 100%|██████████| 20/20 [00:01<00:00, 19.52it/s]\n",
      "Feature Extraction: 100%|██████████| 20/20 [00:02<00:00,  9.34it/s]\n",
      "Rolling: 100%|██████████| 20/20 [00:00<00:00, 21.16it/s]\n",
      "Feature Extraction: 100%|██████████| 20/20 [00:02<00:00,  8.26it/s]\n",
      "Rolling: 100%|██████████| 20/20 [00:00<00:00, 20.57it/s]\n",
      "Feature Extraction: 100%|██████████| 20/20 [00:02<00:00,  8.24it/s]\n",
      "Rolling: 100%|██████████| 20/20 [00:01<00:00, 19.87it/s]\n",
      "Feature Extraction: 100%|██████████| 20/20 [00:02<00:00,  6.92it/s]\n",
      "Rolling: 100%|██████████| 20/20 [00:00<00:00, 20.24it/s]\n",
      "Feature Extraction: 100%|██████████| 20/20 [00:02<00:00,  7.01it/s]\n"
     ]
    },
    {
     "name": "stdout",
     "output_type": "stream",
     "text": [
      "Created features for rub_to_cny\n"
     ]
    },
    {
     "name": "stderr",
     "output_type": "stream",
     "text": [
      "Rolling: 100%|██████████| 20/20 [00:00<00:00, 20.78it/s]\n",
      "Feature Extraction: 100%|██████████| 20/20 [00:02<00:00,  9.72it/s]\n",
      "Rolling: 100%|██████████| 20/20 [00:00<00:00, 20.61it/s]\n",
      "Feature Extraction: 100%|██████████| 20/20 [00:02<00:00,  7.85it/s]\n",
      "Rolling: 100%|██████████| 20/20 [00:00<00:00, 20.40it/s]\n",
      "Feature Extraction: 100%|██████████| 20/20 [00:02<00:00,  8.46it/s]\n",
      "Rolling: 100%|██████████| 20/20 [00:00<00:00, 20.42it/s]\n",
      "Feature Extraction: 100%|██████████| 20/20 [00:02<00:00,  7.24it/s]\n",
      "Rolling: 100%|██████████| 20/20 [00:01<00:00, 19.41it/s]\n",
      "Feature Extraction: 100%|██████████| 20/20 [00:02<00:00,  6.86it/s]\n"
     ]
    },
    {
     "name": "stdout",
     "output_type": "stream",
     "text": [
      "Created features for rub_to_cny_change\n"
     ]
    },
    {
     "name": "stderr",
     "output_type": "stream",
     "text": [
      "Rolling: 100%|██████████| 20/20 [00:00<00:00, 20.13it/s]\n",
      "Feature Extraction: 100%|██████████| 20/20 [00:02<00:00,  8.85it/s]\n",
      "Rolling: 100%|██████████| 20/20 [00:00<00:00, 20.23it/s]\n",
      "Feature Extraction: 100%|██████████| 20/20 [00:02<00:00,  8.76it/s]\n",
      "Rolling: 100%|██████████| 20/20 [00:00<00:00, 20.12it/s]\n",
      "Feature Extraction: 100%|██████████| 20/20 [00:02<00:00,  7.28it/s]\n",
      "Rolling: 100%|██████████| 20/20 [00:01<00:00, 18.77it/s]\n",
      "Feature Extraction: 100%|██████████| 20/20 [00:02<00:00,  6.91it/s]\n",
      "Rolling: 100%|██████████| 20/20 [00:01<00:00, 18.95it/s]\n",
      "Feature Extraction: 100%|██████████| 20/20 [00:02<00:00,  6.74it/s]\n"
     ]
    },
    {
     "name": "stdout",
     "output_type": "stream",
     "text": [
      "Created features for usd_to_hkd\n"
     ]
    },
    {
     "name": "stderr",
     "output_type": "stream",
     "text": [
      "Rolling: 100%|██████████| 20/20 [00:00<00:00, 20.40it/s]\n",
      "Feature Extraction: 100%|██████████| 20/20 [00:01<00:00, 11.04it/s]\n",
      "Rolling: 100%|██████████| 20/20 [00:01<00:00, 19.89it/s]\n",
      "Feature Extraction: 100%|██████████| 20/20 [00:02<00:00,  7.88it/s]\n",
      "Rolling: 100%|██████████| 20/20 [00:01<00:00, 19.37it/s]\n",
      "Feature Extraction: 100%|██████████| 20/20 [00:02<00:00,  7.89it/s]\n",
      "Rolling: 100%|██████████| 20/20 [00:01<00:00, 19.67it/s]\n",
      "Feature Extraction: 100%|██████████| 20/20 [00:02<00:00,  7.18it/s]\n",
      "Rolling: 100%|██████████| 20/20 [00:00<00:00, 20.34it/s]\n",
      "Feature Extraction: 100%|██████████| 20/20 [00:02<00:00,  7.34it/s]\n"
     ]
    },
    {
     "name": "stdout",
     "output_type": "stream",
     "text": [
      "Created features for usd_to_clp\n"
     ]
    },
    {
     "name": "stderr",
     "output_type": "stream",
     "text": [
      "Rolling: 100%|██████████| 20/20 [00:01<00:00, 15.12it/s]\n",
      "Feature Extraction: 100%|██████████| 20/20 [00:01<00:00, 10.92it/s]\n",
      "Rolling: 100%|██████████| 20/20 [00:01<00:00, 19.41it/s]\n",
      "Feature Extraction: 100%|██████████| 20/20 [00:02<00:00,  8.12it/s]\n",
      "Rolling: 100%|██████████| 20/20 [00:00<00:00, 20.61it/s]\n",
      "Feature Extraction: 100%|██████████| 20/20 [00:02<00:00,  7.89it/s]\n",
      "Rolling: 100%|██████████| 20/20 [00:00<00:00, 20.67it/s]\n",
      "Feature Extraction: 100%|██████████| 20/20 [00:02<00:00,  6.86it/s]\n",
      "Rolling: 100%|██████████| 20/20 [00:01<00:00, 19.24it/s]\n",
      "Feature Extraction: 100%|██████████| 20/20 [00:02<00:00,  7.52it/s]\n"
     ]
    },
    {
     "name": "stdout",
     "output_type": "stream",
     "text": [
      "Created features for usd_to_cny\n"
     ]
    },
    {
     "name": "stderr",
     "output_type": "stream",
     "text": [
      "Rolling: 100%|██████████| 20/20 [00:00<00:00, 20.26it/s]\n",
      "Feature Extraction: 100%|██████████| 20/20 [00:01<00:00, 11.57it/s]\n",
      "Rolling: 100%|██████████| 20/20 [00:00<00:00, 20.38it/s]\n",
      "Feature Extraction: 100%|██████████| 20/20 [00:02<00:00,  8.21it/s]\n",
      "Rolling: 100%|██████████| 20/20 [00:01<00:00, 19.14it/s]\n",
      "Feature Extraction: 100%|██████████| 20/20 [00:02<00:00,  7.43it/s]\n",
      "Rolling: 100%|██████████| 20/20 [00:01<00:00, 19.56it/s]\n",
      "Feature Extraction: 100%|██████████| 20/20 [00:02<00:00,  7.58it/s]\n",
      "Rolling: 100%|██████████| 20/20 [00:00<00:00, 20.18it/s]\n",
      "Feature Extraction: 100%|██████████| 20/20 [00:02<00:00,  7.40it/s]\n"
     ]
    },
    {
     "name": "stdout",
     "output_type": "stream",
     "text": [
      "Created features for dxy_rate\n"
     ]
    },
    {
     "name": "stderr",
     "output_type": "stream",
     "text": [
      "Rolling: 100%|██████████| 20/20 [00:01<00:00, 18.99it/s]\n",
      "Feature Extraction: 100%|██████████| 20/20 [00:02<00:00,  9.54it/s]\n",
      "Rolling: 100%|██████████| 20/20 [00:00<00:00, 20.24it/s]\n",
      "Feature Extraction: 100%|██████████| 20/20 [00:02<00:00,  7.69it/s]\n",
      "Rolling: 100%|██████████| 20/20 [00:01<00:00, 18.04it/s]\n",
      "Feature Extraction: 100%|██████████| 20/20 [00:02<00:00,  6.79it/s]\n",
      "Rolling: 100%|██████████| 20/20 [00:01<00:00, 19.31it/s]\n",
      "Feature Extraction: 100%|██████████| 20/20 [00:03<00:00,  6.33it/s]\n",
      "Rolling: 100%|██████████| 20/20 [00:01<00:00, 18.24it/s]\n",
      "Feature Extraction: 100%|██████████| 20/20 [00:02<00:00,  7.26it/s]\n"
     ]
    },
    {
     "name": "stdout",
     "output_type": "stream",
     "text": [
      "Created features for usd_to_eur\n"
     ]
    },
    {
     "name": "stderr",
     "output_type": "stream",
     "text": [
      "Rolling: 100%|██████████| 20/20 [00:01<00:00, 16.44it/s]\n",
      "Feature Extraction: 100%|██████████| 20/20 [00:02<00:00,  8.63it/s]\n",
      "Rolling: 100%|██████████| 20/20 [00:01<00:00, 18.86it/s]\n",
      "Feature Extraction: 100%|██████████| 20/20 [00:02<00:00,  7.42it/s]\n",
      "Rolling: 100%|██████████| 20/20 [00:01<00:00, 19.33it/s]\n",
      "Feature Extraction: 100%|██████████| 20/20 [00:02<00:00,  7.76it/s]\n",
      "Rolling: 100%|██████████| 20/20 [00:01<00:00, 19.31it/s]\n",
      "Feature Extraction: 100%|██████████| 20/20 [00:02<00:00,  7.76it/s]\n",
      "Rolling: 100%|██████████| 20/20 [00:01<00:00, 17.98it/s]\n",
      "Feature Extraction: 100%|██████████| 20/20 [00:02<00:00,  7.29it/s]\n"
     ]
    },
    {
     "name": "stdout",
     "output_type": "stream",
     "text": [
      "Created features for usd_to_jpy\n"
     ]
    },
    {
     "name": "stderr",
     "output_type": "stream",
     "text": [
      "Rolling: 100%|██████████| 20/20 [00:01<00:00, 19.77it/s]\n",
      "Feature Extraction: 100%|██████████| 20/20 [00:02<00:00,  9.49it/s]\n",
      "Rolling: 100%|██████████| 20/20 [00:00<00:00, 20.80it/s]\n",
      "Feature Extraction: 100%|██████████| 20/20 [00:02<00:00,  8.04it/s]\n",
      "Rolling: 100%|██████████| 20/20 [00:01<00:00, 19.83it/s]\n",
      "Feature Extraction: 100%|██████████| 20/20 [00:02<00:00,  7.12it/s]\n",
      "Rolling: 100%|██████████| 20/20 [00:01<00:00, 18.77it/s]\n",
      "Feature Extraction: 100%|██████████| 20/20 [00:02<00:00,  7.88it/s]\n",
      "Rolling: 100%|██████████| 20/20 [00:01<00:00, 18.75it/s]\n",
      "Feature Extraction: 100%|██████████| 20/20 [00:03<00:00,  6.29it/s]\n"
     ]
    },
    {
     "name": "stdout",
     "output_type": "stream",
     "text": [
      "Created features for usd_to_rub\n"
     ]
    },
    {
     "name": "stderr",
     "output_type": "stream",
     "text": [
      "Rolling: 100%|██████████| 20/20 [00:01<00:00, 17.80it/s]\n",
      "Feature Extraction: 100%|██████████| 20/20 [00:02<00:00,  8.84it/s]\n",
      "Rolling: 100%|██████████| 20/20 [00:01<00:00, 19.50it/s]\n",
      "Feature Extraction: 100%|██████████| 20/20 [00:02<00:00,  8.05it/s]\n",
      "Rolling: 100%|██████████| 20/20 [00:01<00:00, 17.71it/s]\n",
      "Feature Extraction: 100%|██████████| 20/20 [00:02<00:00,  7.41it/s]\n",
      "Rolling: 100%|██████████| 20/20 [00:01<00:00, 17.88it/s]\n",
      "Feature Extraction: 100%|██████████| 20/20 [00:02<00:00,  6.74it/s]\n",
      "Rolling: 100%|██████████| 20/20 [00:01<00:00, 18.80it/s]\n",
      "Feature Extraction: 100%|██████████| 20/20 [00:03<00:00,  6.46it/s]\n"
     ]
    },
    {
     "name": "stdout",
     "output_type": "stream",
     "text": [
      "Created features for china_index\n"
     ]
    },
    {
     "name": "stderr",
     "output_type": "stream",
     "text": [
      "Rolling: 100%|██████████| 20/20 [00:01<00:00, 18.37it/s]\n",
      "Feature Extraction: 100%|██████████| 20/20 [00:02<00:00,  8.77it/s]\n",
      "Rolling: 100%|██████████| 20/20 [00:01<00:00, 18.02it/s]\n",
      "Feature Extraction: 100%|██████████| 20/20 [00:02<00:00,  7.20it/s]\n",
      "Rolling: 100%|██████████| 20/20 [00:01<00:00, 18.97it/s]\n",
      "Feature Extraction: 100%|██████████| 20/20 [00:02<00:00,  8.40it/s]\n",
      "Rolling: 100%|██████████| 20/20 [00:01<00:00, 19.00it/s]\n",
      "Feature Extraction: 100%|██████████| 20/20 [00:02<00:00,  6.80it/s]\n",
      "Rolling: 100%|██████████| 20/20 [00:01<00:00, 18.92it/s]\n",
      "Feature Extraction: 100%|██████████| 20/20 [00:02<00:00,  6.69it/s]\n"
     ]
    },
    {
     "name": "stdout",
     "output_type": "stream",
     "text": [
      "Created features for shanghai_index\n"
     ]
    },
    {
     "name": "stderr",
     "output_type": "stream",
     "text": [
      "Rolling: 100%|██████████| 20/20 [00:01<00:00, 19.68it/s]\n",
      "Feature Extraction: 100%|██████████| 20/20 [00:02<00:00,  8.91it/s]\n",
      "Rolling: 100%|██████████| 20/20 [00:01<00:00, 18.91it/s]\n",
      "Feature Extraction: 100%|██████████| 20/20 [00:02<00:00,  9.61it/s]\n",
      "Rolling: 100%|██████████| 20/20 [00:01<00:00, 18.94it/s]\n",
      "Feature Extraction: 100%|██████████| 20/20 [00:02<00:00,  8.30it/s]\n",
      "Rolling: 100%|██████████| 20/20 [00:01<00:00, 18.30it/s]\n",
      "Feature Extraction: 100%|██████████| 20/20 [00:02<00:00,  8.17it/s]\n",
      "Rolling: 100%|██████████| 20/20 [00:01<00:00, 18.62it/s]\n",
      "Feature Extraction: 100%|██████████| 20/20 [00:02<00:00,  7.28it/s]\n"
     ]
    },
    {
     "name": "stdout",
     "output_type": "stream",
     "text": [
      "Created features for export_australia_value\n"
     ]
    },
    {
     "name": "stderr",
     "output_type": "stream",
     "text": [
      "Rolling: 100%|██████████| 20/20 [00:00<00:00, 20.08it/s]\n",
      "Feature Extraction: 100%|██████████| 20/20 [00:01<00:00, 10.72it/s]\n",
      "Rolling: 100%|██████████| 20/20 [00:01<00:00, 19.20it/s]\n",
      "Feature Extraction: 100%|██████████| 20/20 [00:02<00:00,  8.36it/s]\n",
      "Rolling: 100%|██████████| 20/20 [00:01<00:00, 18.84it/s]\n",
      "Feature Extraction: 100%|██████████| 20/20 [00:02<00:00,  8.10it/s]\n",
      "Rolling: 100%|██████████| 20/20 [00:01<00:00, 18.74it/s]\n",
      "Feature Extraction: 100%|██████████| 20/20 [00:02<00:00,  7.81it/s]\n",
      "Rolling: 100%|██████████| 20/20 [00:00<00:00, 20.43it/s]\n",
      "Feature Extraction: 100%|██████████| 20/20 [00:02<00:00,  8.55it/s]\n"
     ]
    },
    {
     "name": "stdout",
     "output_type": "stream",
     "text": [
      "Created features for import_australia_value\n"
     ]
    },
    {
     "name": "stderr",
     "output_type": "stream",
     "text": [
      "Rolling: 100%|██████████| 20/20 [00:01<00:00, 19.63it/s]\n",
      "Feature Extraction: 100%|██████████| 20/20 [00:02<00:00,  8.77it/s]\n",
      "Rolling: 100%|██████████| 20/20 [00:01<00:00, 18.38it/s]\n",
      "Feature Extraction: 100%|██████████| 20/20 [00:02<00:00,  8.54it/s]\n",
      "Rolling: 100%|██████████| 20/20 [00:00<00:00, 20.16it/s]\n",
      "Feature Extraction: 100%|██████████| 20/20 [00:02<00:00,  8.75it/s]\n",
      "Rolling: 100%|██████████| 20/20 [00:01<00:00, 19.02it/s]\n",
      "Feature Extraction: 100%|██████████| 20/20 [00:02<00:00,  8.80it/s]\n",
      "Rolling: 100%|██████████| 20/20 [00:01<00:00, 18.59it/s]\n",
      "Feature Extraction: 100%|██████████| 20/20 [00:02<00:00,  7.96it/s]\n"
     ]
    },
    {
     "name": "stdout",
     "output_type": "stream",
     "text": [
      "Created features for australia_inflation\n"
     ]
    },
    {
     "name": "stderr",
     "output_type": "stream",
     "text": [
      "Rolling: 100%|██████████| 20/20 [00:01<00:00, 19.29it/s]\n",
      "Feature Extraction: 100%|██████████| 20/20 [00:02<00:00,  9.29it/s]\n",
      "Rolling: 100%|██████████| 20/20 [00:01<00:00, 19.86it/s]\n",
      "Feature Extraction: 100%|██████████| 20/20 [00:02<00:00,  8.74it/s]\n",
      "Rolling: 100%|██████████| 20/20 [00:01<00:00, 19.03it/s]\n",
      "Feature Extraction: 100%|██████████| 20/20 [00:02<00:00,  7.99it/s]\n",
      "Rolling: 100%|██████████| 20/20 [00:01<00:00, 18.31it/s]\n",
      "Feature Extraction: 100%|██████████| 20/20 [00:02<00:00,  8.81it/s]\n",
      "Rolling: 100%|██████████| 20/20 [00:01<00:00, 18.67it/s]\n",
      "Feature Extraction: 100%|██████████| 20/20 [00:02<00:00,  7.69it/s]\n"
     ]
    },
    {
     "name": "stdout",
     "output_type": "stream",
     "text": [
      "Created features for australia_pmi\n"
     ]
    },
    {
     "name": "stderr",
     "output_type": "stream",
     "text": [
      "Rolling: 100%|██████████| 20/20 [00:01<00:00, 18.74it/s]\n",
      "Feature Extraction: 100%|██████████| 20/20 [00:02<00:00,  8.95it/s]\n",
      "Rolling: 100%|██████████| 20/20 [00:01<00:00, 19.42it/s]\n",
      "Feature Extraction: 100%|██████████| 20/20 [00:02<00:00,  8.58it/s]\n",
      "Rolling: 100%|██████████| 20/20 [00:01<00:00, 18.79it/s]\n",
      "Feature Extraction: 100%|██████████| 20/20 [00:02<00:00,  9.37it/s]\n",
      "Rolling: 100%|██████████| 20/20 [00:01<00:00, 18.43it/s]\n",
      "Feature Extraction: 100%|██████████| 20/20 [00:02<00:00,  7.88it/s]\n",
      "Rolling: 100%|██████████| 20/20 [00:01<00:00, 16.92it/s]\n",
      "Feature Extraction: 100%|██████████| 20/20 [00:02<00:00,  7.38it/s]\n"
     ]
    },
    {
     "name": "stdout",
     "output_type": "stream",
     "text": [
      "Created features for export_brazil_value\n"
     ]
    },
    {
     "name": "stderr",
     "output_type": "stream",
     "text": [
      "Rolling: 100%|██████████| 20/20 [00:01<00:00, 18.85it/s]\n",
      "Feature Extraction: 100%|██████████| 20/20 [00:02<00:00,  9.55it/s]\n",
      "Rolling: 100%|██████████| 20/20 [00:01<00:00, 19.69it/s]\n",
      "Feature Extraction: 100%|██████████| 20/20 [00:02<00:00,  7.63it/s]\n",
      "Rolling: 100%|██████████| 20/20 [00:01<00:00, 18.52it/s]\n",
      "Feature Extraction: 100%|██████████| 20/20 [00:02<00:00,  8.21it/s]\n",
      "Rolling: 100%|██████████| 20/20 [00:01<00:00, 19.46it/s]\n",
      "Feature Extraction: 100%|██████████| 20/20 [00:02<00:00,  7.29it/s]\n",
      "Rolling: 100%|██████████| 20/20 [00:01<00:00, 18.52it/s]\n",
      "Feature Extraction: 100%|██████████| 20/20 [00:02<00:00,  7.36it/s]\n"
     ]
    },
    {
     "name": "stdout",
     "output_type": "stream",
     "text": [
      "Created features for import_brazil_value\n"
     ]
    },
    {
     "name": "stderr",
     "output_type": "stream",
     "text": [
      "Rolling: 100%|██████████| 20/20 [00:01<00:00, 18.62it/s]\n",
      "Feature Extraction: 100%|██████████| 20/20 [00:02<00:00,  8.41it/s]\n",
      "Rolling: 100%|██████████| 20/20 [00:01<00:00, 18.27it/s]\n",
      "Feature Extraction: 100%|██████████| 20/20 [00:02<00:00,  9.24it/s]\n",
      "Rolling: 100%|██████████| 20/20 [00:01<00:00, 19.16it/s]\n",
      "Feature Extraction: 100%|██████████| 20/20 [00:02<00:00,  8.59it/s]\n",
      "Rolling: 100%|██████████| 20/20 [00:01<00:00, 18.91it/s]\n",
      "Feature Extraction: 100%|██████████| 20/20 [00:02<00:00,  8.10it/s]\n",
      "Rolling: 100%|██████████| 20/20 [00:01<00:00, 18.58it/s]\n",
      "Feature Extraction: 100%|██████████| 20/20 [00:02<00:00,  7.22it/s]\n"
     ]
    },
    {
     "name": "stdout",
     "output_type": "stream",
     "text": [
      "Created features for brazil_inflation\n"
     ]
    },
    {
     "name": "stderr",
     "output_type": "stream",
     "text": [
      "Rolling: 100%|██████████| 20/20 [00:01<00:00, 19.85it/s]\n",
      "Feature Extraction: 100%|██████████| 20/20 [00:01<00:00, 10.65it/s]\n",
      "Rolling: 100%|██████████| 20/20 [00:01<00:00, 14.61it/s]\n",
      "Feature Extraction: 100%|██████████| 20/20 [00:02<00:00,  9.93it/s]\n",
      "Rolling: 100%|██████████| 20/20 [00:01<00:00, 19.08it/s]\n",
      "Feature Extraction: 100%|██████████| 20/20 [00:02<00:00,  8.58it/s]\n",
      "Rolling: 100%|██████████| 20/20 [00:01<00:00, 18.41it/s]\n",
      "Feature Extraction: 100%|██████████| 20/20 [00:02<00:00,  7.54it/s]\n",
      "Rolling: 100%|██████████| 20/20 [00:01<00:00, 19.05it/s]\n",
      "Feature Extraction: 100%|██████████| 20/20 [00:02<00:00,  7.80it/s]\n"
     ]
    },
    {
     "name": "stdout",
     "output_type": "stream",
     "text": [
      "Created features for brazil_pmi\n"
     ]
    },
    {
     "name": "stderr",
     "output_type": "stream",
     "text": [
      "Rolling: 100%|██████████| 20/20 [00:00<00:00, 20.18it/s]\n",
      "Feature Extraction: 100%|██████████| 20/20 [00:01<00:00, 10.63it/s]\n",
      "Rolling: 100%|██████████| 20/20 [00:01<00:00, 18.49it/s]\n",
      "Feature Extraction: 100%|██████████| 20/20 [00:02<00:00,  7.94it/s]\n",
      "Rolling: 100%|██████████| 20/20 [00:01<00:00, 17.02it/s]\n",
      "Feature Extraction: 100%|██████████| 20/20 [00:02<00:00,  7.93it/s]\n",
      "Rolling: 100%|██████████| 20/20 [00:01<00:00, 18.69it/s]\n",
      "Feature Extraction: 100%|██████████| 20/20 [00:02<00:00,  7.45it/s]\n",
      "Rolling: 100%|██████████| 20/20 [00:01<00:00, 17.02it/s]\n",
      "Feature Extraction: 100%|██████████| 20/20 [00:02<00:00,  6.72it/s]\n"
     ]
    },
    {
     "name": "stdout",
     "output_type": "stream",
     "text": [
      "Created features for china_gdp_increment_value\n"
     ]
    },
    {
     "name": "stderr",
     "output_type": "stream",
     "text": [
      "Rolling: 100%|██████████| 20/20 [00:01<00:00, 18.94it/s]\n",
      "Feature Extraction: 100%|██████████| 20/20 [00:01<00:00, 10.29it/s]\n",
      "Rolling: 100%|██████████| 20/20 [00:01<00:00, 18.15it/s]\n",
      "Feature Extraction: 100%|██████████| 20/20 [00:02<00:00,  8.03it/s]\n",
      "Rolling: 100%|██████████| 20/20 [00:01<00:00, 17.24it/s]\n",
      "Feature Extraction: 100%|██████████| 20/20 [00:02<00:00,  7.80it/s]\n",
      "Rolling: 100%|██████████| 20/20 [00:01<00:00, 19.36it/s]\n",
      "Feature Extraction: 100%|██████████| 20/20 [00:02<00:00,  7.45it/s]\n",
      "Rolling: 100%|██████████| 20/20 [00:01<00:00, 19.49it/s]\n",
      "Feature Extraction: 100%|██████████| 20/20 [00:02<00:00,  8.28it/s]\n"
     ]
    },
    {
     "name": "stdout",
     "output_type": "stream",
     "text": [
      "Created features for export_china_value\n"
     ]
    },
    {
     "name": "stderr",
     "output_type": "stream",
     "text": [
      "Rolling: 100%|██████████| 20/20 [00:01<00:00, 18.69it/s]\n",
      "Feature Extraction: 100%|██████████| 20/20 [00:02<00:00,  8.76it/s]\n",
      "Rolling: 100%|██████████| 20/20 [00:01<00:00, 18.02it/s]\n",
      "Feature Extraction: 100%|██████████| 20/20 [00:02<00:00,  8.42it/s]\n",
      "Rolling: 100%|██████████| 20/20 [00:01<00:00, 18.08it/s]\n",
      "Feature Extraction: 100%|██████████| 20/20 [00:02<00:00,  7.69it/s]\n",
      "Rolling: 100%|██████████| 20/20 [00:01<00:00, 18.36it/s]\n",
      "Feature Extraction: 100%|██████████| 20/20 [00:02<00:00,  8.42it/s]\n",
      "Rolling: 100%|██████████| 20/20 [00:01<00:00, 19.07it/s]\n",
      "Feature Extraction: 100%|██████████| 20/20 [00:02<00:00,  7.22it/s]\n"
     ]
    },
    {
     "name": "stdout",
     "output_type": "stream",
     "text": [
      "Created features for china_inflation_value\n"
     ]
    },
    {
     "name": "stderr",
     "output_type": "stream",
     "text": [
      "Rolling: 100%|██████████| 20/20 [00:01<00:00, 19.78it/s]\n",
      "Feature Extraction: 100%|██████████| 20/20 [00:02<00:00,  9.00it/s]\n",
      "Rolling: 100%|██████████| 20/20 [00:01<00:00, 19.92it/s]\n",
      "Feature Extraction: 100%|██████████| 20/20 [00:02<00:00,  9.17it/s]\n",
      "Rolling: 100%|██████████| 20/20 [00:01<00:00, 18.69it/s]\n",
      "Feature Extraction: 100%|██████████| 20/20 [00:02<00:00,  8.94it/s]\n",
      "Rolling: 100%|██████████| 20/20 [00:01<00:00, 18.93it/s]\n",
      "Feature Extraction: 100%|██████████| 20/20 [00:02<00:00,  7.39it/s]\n",
      "Rolling: 100%|██████████| 20/20 [00:01<00:00, 19.88it/s]\n",
      "Feature Extraction: 100%|██████████| 20/20 [00:02<00:00,  7.32it/s]\n"
     ]
    },
    {
     "name": "stdout",
     "output_type": "stream",
     "text": [
      "Created features for china_pmi1_value\n"
     ]
    },
    {
     "name": "stderr",
     "output_type": "stream",
     "text": [
      "Rolling: 100%|██████████| 20/20 [00:01<00:00, 18.59it/s]\n",
      "Feature Extraction: 100%|██████████| 20/20 [00:02<00:00,  8.60it/s]\n",
      "Rolling: 100%|██████████| 20/20 [00:01<00:00, 19.40it/s]\n",
      "Feature Extraction: 100%|██████████| 20/20 [00:02<00:00,  9.08it/s]\n",
      "Rolling: 100%|██████████| 20/20 [00:01<00:00, 18.43it/s]\n",
      "Feature Extraction: 100%|██████████| 20/20 [00:02<00:00,  8.05it/s]\n",
      "Rolling: 100%|██████████| 20/20 [00:01<00:00, 16.45it/s]\n",
      "Feature Extraction: 100%|██████████| 20/20 [00:02<00:00,  7.62it/s]\n",
      "Rolling: 100%|██████████| 20/20 [00:01<00:00, 17.76it/s]\n",
      "Feature Extraction: 100%|██████████| 20/20 [00:03<00:00,  6.66it/s]\n"
     ]
    },
    {
     "name": "stdout",
     "output_type": "stream",
     "text": [
      "Created features for china_pmi2_value\n"
     ]
    },
    {
     "name": "stderr",
     "output_type": "stream",
     "text": [
      "Rolling: 100%|██████████| 20/20 [00:01<00:00, 18.30it/s]\n",
      "Feature Extraction: 100%|██████████| 20/20 [00:02<00:00,  9.70it/s]\n",
      "Rolling: 100%|██████████| 20/20 [00:01<00:00, 18.47it/s]\n",
      "Feature Extraction: 100%|██████████| 20/20 [00:02<00:00,  8.26it/s]\n",
      "Rolling: 100%|██████████| 20/20 [00:01<00:00, 17.24it/s]\n",
      "Feature Extraction: 100%|██████████| 20/20 [00:02<00:00,  7.79it/s]\n",
      "Rolling: 100%|██████████| 20/20 [00:01<00:00, 19.55it/s]\n",
      "Feature Extraction: 100%|██████████| 20/20 [00:02<00:00,  7.50it/s]\n",
      "Rolling: 100%|██████████| 20/20 [00:00<00:00, 20.09it/s]\n",
      "Feature Extraction: 100%|██████████| 20/20 [00:02<00:00,  8.53it/s]\n"
     ]
    },
    {
     "name": "stdout",
     "output_type": "stream",
     "text": [
      "Created features for eu_inflation_value\n"
     ]
    },
    {
     "name": "stderr",
     "output_type": "stream",
     "text": [
      "Rolling: 100%|██████████| 20/20 [00:01<00:00, 19.53it/s]\n",
      "Feature Extraction: 100%|██████████| 20/20 [00:02<00:00,  9.04it/s]\n",
      "Rolling: 100%|██████████| 20/20 [00:01<00:00, 18.02it/s]\n",
      "Feature Extraction: 100%|██████████| 20/20 [00:02<00:00,  8.40it/s]\n",
      "Rolling: 100%|██████████| 20/20 [00:01<00:00, 18.76it/s]\n",
      "Feature Extraction: 100%|██████████| 20/20 [00:02<00:00,  8.06it/s]\n",
      "Rolling: 100%|██████████| 20/20 [00:00<00:00, 20.67it/s]\n",
      "Feature Extraction: 100%|██████████| 20/20 [00:02<00:00,  9.11it/s]\n",
      "Rolling: 100%|██████████| 20/20 [00:01<00:00, 19.39it/s]\n",
      "Feature Extraction: 100%|██████████| 20/20 [00:02<00:00,  7.18it/s]\n"
     ]
    },
    {
     "name": "stdout",
     "output_type": "stream",
     "text": [
      "Created features for guinea_inflation\n"
     ]
    },
    {
     "name": "stderr",
     "output_type": "stream",
     "text": [
      "Rolling: 100%|██████████| 20/20 [00:01<00:00, 16.49it/s]\n",
      "Feature Extraction: 100%|██████████| 20/20 [00:02<00:00,  7.97it/s]\n",
      "Rolling: 100%|██████████| 20/20 [00:01<00:00, 19.54it/s]\n",
      "Feature Extraction: 100%|██████████| 20/20 [00:02<00:00,  9.98it/s]\n",
      "Rolling: 100%|██████████| 20/20 [00:01<00:00, 18.02it/s]\n",
      "Feature Extraction: 100%|██████████| 20/20 [00:02<00:00,  8.90it/s]\n",
      "Rolling: 100%|██████████| 20/20 [00:01<00:00, 17.14it/s]\n",
      "Feature Extraction: 100%|██████████| 20/20 [00:02<00:00,  7.32it/s]\n",
      "Rolling: 100%|██████████| 20/20 [00:01<00:00, 18.62it/s]\n",
      "Feature Extraction: 100%|██████████| 20/20 [00:02<00:00,  7.39it/s]\n"
     ]
    },
    {
     "name": "stdout",
     "output_type": "stream",
     "text": [
      "Created features for usa_gdp_increment_value\n"
     ]
    },
    {
     "name": "stderr",
     "output_type": "stream",
     "text": [
      "Rolling: 100%|██████████| 20/20 [00:01<00:00, 18.78it/s]\n",
      "Feature Extraction: 100%|██████████| 20/20 [00:02<00:00,  8.88it/s]\n",
      "Rolling: 100%|██████████| 20/20 [00:01<00:00, 19.17it/s]\n",
      "Feature Extraction: 100%|██████████| 20/20 [00:02<00:00,  9.22it/s]\n",
      "Rolling: 100%|██████████| 20/20 [00:01<00:00, 18.21it/s]\n",
      "Feature Extraction: 100%|██████████| 20/20 [00:02<00:00,  7.51it/s]\n",
      "Rolling: 100%|██████████| 20/20 [00:01<00:00, 14.21it/s]\n",
      "Feature Extraction: 100%|██████████| 20/20 [00:02<00:00,  7.31it/s]\n",
      "Rolling: 100%|██████████| 20/20 [00:01<00:00, 19.38it/s]\n",
      "Feature Extraction: 100%|██████████| 20/20 [00:02<00:00,  8.10it/s]\n"
     ]
    },
    {
     "name": "stdout",
     "output_type": "stream",
     "text": [
      "Created features for export_usa_value\n"
     ]
    },
    {
     "name": "stderr",
     "output_type": "stream",
     "text": [
      "Rolling: 100%|██████████| 20/20 [00:01<00:00, 14.38it/s]\n",
      "Feature Extraction: 100%|██████████| 20/20 [00:02<00:00,  9.13it/s]\n",
      "Rolling: 100%|██████████| 20/20 [00:01<00:00, 16.92it/s]\n",
      "Feature Extraction: 100%|██████████| 20/20 [00:02<00:00,  7.62it/s]\n",
      "Rolling: 100%|██████████| 20/20 [00:01<00:00, 16.55it/s]\n",
      "Feature Extraction: 100%|██████████| 20/20 [00:02<00:00,  8.05it/s]\n",
      "Rolling: 100%|██████████| 20/20 [00:01<00:00, 17.98it/s]\n",
      "Feature Extraction: 100%|██████████| 20/20 [00:02<00:00,  7.28it/s]\n",
      "Rolling: 100%|██████████| 20/20 [00:01<00:00, 16.93it/s]\n",
      "Feature Extraction: 100%|██████████| 20/20 [00:02<00:00,  7.54it/s]\n"
     ]
    },
    {
     "name": "stdout",
     "output_type": "stream",
     "text": [
      "Created features for import_usa_value\n"
     ]
    },
    {
     "name": "stderr",
     "output_type": "stream",
     "text": [
      "Rolling: 100%|██████████| 20/20 [00:01<00:00, 17.51it/s]\n",
      "Feature Extraction: 100%|██████████| 20/20 [00:02<00:00,  8.65it/s]\n",
      "Rolling: 100%|██████████| 20/20 [00:01<00:00, 19.10it/s]\n",
      "Feature Extraction: 100%|██████████| 20/20 [00:02<00:00,  7.90it/s]\n",
      "Rolling: 100%|██████████| 20/20 [00:01<00:00, 18.09it/s]\n",
      "Feature Extraction: 100%|██████████| 20/20 [00:02<00:00,  7.73it/s]\n",
      "Rolling: 100%|██████████| 20/20 [00:01<00:00, 19.38it/s]\n",
      "Feature Extraction: 100%|██████████| 20/20 [00:02<00:00,  7.17it/s]\n",
      "Rolling: 100%|██████████| 20/20 [00:01<00:00, 19.51it/s]\n",
      "Feature Extraction: 100%|██████████| 20/20 [00:02<00:00,  8.05it/s]\n"
     ]
    },
    {
     "name": "stdout",
     "output_type": "stream",
     "text": [
      "Created features for usa_inflation_value\n"
     ]
    },
    {
     "name": "stderr",
     "output_type": "stream",
     "text": [
      "Rolling: 100%|██████████| 20/20 [00:01<00:00, 18.20it/s]\n",
      "Feature Extraction: 100%|██████████| 20/20 [00:02<00:00,  8.68it/s]\n",
      "Rolling: 100%|██████████| 20/20 [00:01<00:00, 19.11it/s]\n",
      "Feature Extraction: 100%|██████████| 20/20 [00:02<00:00,  8.04it/s]\n",
      "Rolling: 100%|██████████| 20/20 [00:01<00:00, 19.83it/s]\n",
      "Feature Extraction: 100%|██████████| 20/20 [00:02<00:00,  8.00it/s]\n",
      "Rolling: 100%|██████████| 20/20 [00:01<00:00, 19.60it/s]\n",
      "Feature Extraction: 100%|██████████| 20/20 [00:02<00:00,  8.61it/s]\n",
      "Rolling: 100%|██████████| 20/20 [00:01<00:00, 18.53it/s]\n",
      "Feature Extraction: 100%|██████████| 20/20 [00:02<00:00,  7.10it/s]\n"
     ]
    },
    {
     "name": "stdout",
     "output_type": "stream",
     "text": [
      "Created features for usa_pmi_value\n"
     ]
    },
    {
     "name": "stderr",
     "output_type": "stream",
     "text": [
      "Rolling: 100%|██████████| 20/20 [00:01<00:00, 17.24it/s]\n",
      "Feature Extraction: 100%|██████████| 20/20 [00:02<00:00,  8.93it/s]\n",
      "Rolling: 100%|██████████| 20/20 [00:01<00:00, 19.55it/s]\n",
      "Feature Extraction: 100%|██████████| 20/20 [00:02<00:00,  8.76it/s]\n",
      "Rolling: 100%|██████████| 20/20 [00:01<00:00, 19.16it/s]\n",
      "Feature Extraction: 100%|██████████| 20/20 [00:02<00:00,  9.46it/s]\n",
      "Rolling: 100%|██████████| 20/20 [00:01<00:00, 19.15it/s]\n",
      "Feature Extraction: 100%|██████████| 20/20 [00:02<00:00,  7.86it/s]\n",
      "Rolling: 100%|██████████| 20/20 [00:01<00:00, 18.89it/s]\n",
      "Feature Extraction: 100%|██████████| 20/20 [00:02<00:00,  7.55it/s]\n"
     ]
    },
    {
     "name": "stdout",
     "output_type": "stream",
     "text": [
      "Created features for usa_interest_rate_value\n"
     ]
    },
    {
     "name": "stderr",
     "output_type": "stream",
     "text": [
      "Rolling: 100%|██████████| 20/20 [00:01<00:00, 18.69it/s]\n",
      "Feature Extraction: 100%|██████████| 20/20 [00:02<00:00,  9.37it/s]\n",
      "Rolling: 100%|██████████| 20/20 [00:01<00:00, 19.36it/s]\n",
      "Feature Extraction: 100%|██████████| 20/20 [00:02<00:00,  7.39it/s]\n",
      "Rolling: 100%|██████████| 20/20 [00:01<00:00, 17.94it/s]\n",
      "Feature Extraction: 100%|██████████| 20/20 [00:02<00:00,  7.46it/s]\n",
      "Rolling: 100%|██████████| 20/20 [00:01<00:00, 19.35it/s]\n",
      "Feature Extraction: 100%|██████████| 20/20 [00:02<00:00,  7.25it/s]\n",
      "Rolling: 100%|██████████| 20/20 [00:01<00:00, 19.30it/s]\n",
      "Feature Extraction: 100%|██████████| 20/20 [00:03<00:00,  6.61it/s]\n"
     ]
    },
    {
     "name": "stdout",
     "output_type": "stream",
     "text": [
      "Created features for log10_lme_volume\n"
     ]
    },
    {
     "name": "stderr",
     "output_type": "stream",
     "text": [
      "Rolling: 100%|██████████| 20/20 [00:01<00:00, 19.57it/s]\n",
      "Feature Extraction: 100%|██████████| 20/20 [00:02<00:00,  9.35it/s]\n",
      "Rolling: 100%|██████████| 20/20 [00:01<00:00, 19.39it/s]\n",
      "Feature Extraction: 100%|██████████| 20/20 [00:02<00:00,  8.49it/s]\n",
      "Rolling: 100%|██████████| 20/20 [00:01<00:00, 18.82it/s]\n",
      "Feature Extraction: 100%|██████████| 20/20 [00:02<00:00,  6.75it/s]\n",
      "Rolling: 100%|██████████| 20/20 [00:01<00:00, 17.64it/s]\n",
      "Feature Extraction: 100%|██████████| 20/20 [00:03<00:00,  6.31it/s]\n",
      "Rolling: 100%|██████████| 20/20 [00:01<00:00, 19.17it/s]\n",
      "Feature Extraction: 100%|██████████| 20/20 [00:03<00:00,  6.38it/s]\n"
     ]
    },
    {
     "name": "stdout",
     "output_type": "stream",
     "text": [
      "Created features for log10_alcoa_volume\n"
     ]
    },
    {
     "name": "stderr",
     "output_type": "stream",
     "text": [
      "Rolling: 100%|██████████| 20/20 [00:01<00:00, 19.59it/s]\n",
      "Feature Extraction: 100%|██████████| 20/20 [00:02<00:00,  8.50it/s]\n",
      "Rolling: 100%|██████████| 20/20 [00:01<00:00, 19.46it/s]\n",
      "Feature Extraction: 100%|██████████| 20/20 [00:02<00:00,  8.68it/s]\n",
      "Rolling: 100%|██████████| 20/20 [00:01<00:00, 18.89it/s]\n",
      "Feature Extraction: 100%|██████████| 20/20 [00:03<00:00,  6.62it/s]\n",
      "Rolling: 100%|██████████| 20/20 [00:01<00:00, 17.10it/s]\n",
      "Feature Extraction: 100%|██████████| 20/20 [00:03<00:00,  6.47it/s]\n",
      "Rolling: 100%|██████████| 20/20 [00:01<00:00, 14.78it/s]\n",
      "Feature Extraction: 100%|██████████| 20/20 [00:03<00:00,  5.62it/s]\n"
     ]
    },
    {
     "name": "stdout",
     "output_type": "stream",
     "text": [
      "Created features for log10_hongqiao_volume\n"
     ]
    },
    {
     "name": "stderr",
     "output_type": "stream",
     "text": [
      "Rolling: 100%|██████████| 20/20 [00:01<00:00, 17.83it/s]\n",
      "Feature Extraction: 100%|██████████| 20/20 [00:02<00:00,  9.82it/s]\n",
      "Rolling: 100%|██████████| 20/20 [00:01<00:00, 18.93it/s]\n",
      "Feature Extraction: 100%|██████████| 20/20 [00:02<00:00,  7.49it/s]\n",
      "Rolling: 100%|██████████| 20/20 [00:01<00:00, 18.50it/s]\n",
      "Feature Extraction: 100%|██████████| 20/20 [00:02<00:00,  6.84it/s]\n",
      "Rolling: 100%|██████████| 20/20 [00:01<00:00, 19.32it/s]\n",
      "Feature Extraction: 100%|██████████| 20/20 [00:02<00:00,  6.93it/s]\n",
      "Rolling: 100%|██████████| 20/20 [00:01<00:00, 19.08it/s]\n",
      "Feature Extraction: 100%|██████████| 20/20 [00:02<00:00,  7.01it/s]\n"
     ]
    },
    {
     "name": "stdout",
     "output_type": "stream",
     "text": [
      "Created features for log10_kaiser_volume\n"
     ]
    },
    {
     "name": "stderr",
     "output_type": "stream",
     "text": [
      "Rolling: 100%|██████████| 20/20 [00:01<00:00, 17.91it/s]\n",
      "Feature Extraction: 100%|██████████| 20/20 [00:02<00:00,  9.17it/s]\n",
      "Rolling: 100%|██████████| 20/20 [00:01<00:00, 18.97it/s]\n",
      "Feature Extraction: 100%|██████████| 20/20 [00:02<00:00,  7.25it/s]\n",
      "Rolling: 100%|██████████| 20/20 [00:01<00:00, 18.78it/s]\n",
      "Feature Extraction: 100%|██████████| 20/20 [00:02<00:00,  6.82it/s]\n",
      "Rolling: 100%|██████████| 20/20 [00:01<00:00, 17.00it/s]\n",
      "Feature Extraction: 100%|██████████| 20/20 [00:02<00:00,  6.80it/s]\n",
      "Rolling: 100%|██████████| 20/20 [00:01<00:00, 14.78it/s]\n",
      "Feature Extraction: 100%|██████████| 20/20 [00:02<00:00,  7.24it/s]\n"
     ]
    },
    {
     "name": "stdout",
     "output_type": "stream",
     "text": [
      "Created features for log10_rual_volume\n"
     ]
    },
    {
     "name": "stderr",
     "output_type": "stream",
     "text": [
      "Rolling: 100%|██████████| 20/20 [00:00<00:00, 20.07it/s]\n",
      "Feature Extraction: 100%|██████████| 20/20 [00:02<00:00,  9.42it/s]\n",
      "Rolling: 100%|██████████| 20/20 [00:01<00:00, 18.87it/s]\n",
      "Feature Extraction: 100%|██████████| 20/20 [00:02<00:00,  7.90it/s]\n",
      "Rolling: 100%|██████████| 20/20 [00:01<00:00, 19.46it/s]\n",
      "Feature Extraction: 100%|██████████| 20/20 [00:02<00:00,  7.36it/s]\n",
      "Rolling: 100%|██████████| 20/20 [00:01<00:00, 19.35it/s]\n",
      "Feature Extraction: 100%|██████████| 20/20 [00:02<00:00,  7.05it/s]\n",
      "Rolling: 100%|██████████| 20/20 [00:01<00:00, 16.44it/s]\n",
      "Feature Extraction: 100%|██████████| 20/20 [00:02<00:00,  7.12it/s]\n"
     ]
    },
    {
     "name": "stdout",
     "output_type": "stream",
     "text": [
      "Created features for log10_chalco_volume\n"
     ]
    },
    {
     "name": "stderr",
     "output_type": "stream",
     "text": [
      "Rolling: 100%|██████████| 20/20 [00:00<00:00, 20.86it/s]\n",
      "Feature Extraction: 100%|██████████| 20/20 [00:02<00:00,  8.65it/s]\n",
      "Rolling: 100%|██████████| 20/20 [00:01<00:00, 19.24it/s]\n",
      "Feature Extraction: 100%|██████████| 20/20 [00:02<00:00,  7.55it/s]\n",
      "Rolling: 100%|██████████| 20/20 [00:01<00:00, 18.26it/s]\n",
      "Feature Extraction: 100%|██████████| 20/20 [00:03<00:00,  6.33it/s]\n",
      "Rolling: 100%|██████████| 20/20 [00:01<00:00, 19.40it/s]\n",
      "Feature Extraction: 100%|██████████| 20/20 [00:02<00:00,  7.85it/s]\n",
      "Rolling: 100%|██████████| 20/20 [00:01<00:00, 19.75it/s]\n",
      "Feature Extraction: 100%|██████████| 20/20 [00:03<00:00,  6.11it/s]\n"
     ]
    },
    {
     "name": "stdout",
     "output_type": "stream",
     "text": [
      "Created features for log10_norsk_hydro_volume\n"
     ]
    },
    {
     "name": "stderr",
     "output_type": "stream",
     "text": [
      "Rolling: 100%|██████████| 20/20 [00:01<00:00, 17.43it/s]\n",
      "Feature Extraction: 100%|██████████| 20/20 [00:02<00:00,  8.14it/s]\n",
      "Rolling: 100%|██████████| 20/20 [00:01<00:00, 19.38it/s]\n",
      "Feature Extraction: 100%|██████████| 20/20 [00:02<00:00,  8.67it/s]\n",
      "Rolling: 100%|██████████| 20/20 [00:01<00:00, 13.47it/s]\n",
      "Feature Extraction: 100%|██████████| 20/20 [00:02<00:00,  7.64it/s]\n",
      "Rolling: 100%|██████████| 20/20 [00:01<00:00, 17.18it/s]\n",
      "Feature Extraction: 100%|██████████| 20/20 [00:02<00:00,  6.67it/s]\n",
      "Rolling: 100%|██████████| 20/20 [00:01<00:00, 19.55it/s]\n",
      "Feature Extraction: 100%|██████████| 20/20 [00:02<00:00,  7.04it/s]\n"
     ]
    },
    {
     "name": "stdout",
     "output_type": "stream",
     "text": [
      "Created features for lme_price_smooth\n",
      "CPU times: user 3min 49s, sys: 1min 5s, total: 4min 55s\n",
      "Wall time: 23min 48s\n"
     ]
    }
   ],
   "source": [
    "%%time\n",
    "extracted_relevant_features = pd.DataFrame(index=pd.date_range('2018-03-11', '2023-09-24', freq='W')) # создание фрейма с индексом 'date'\n",
    "extracted_relevant_features.index.name = 'date'\n",
    "for i in list_of_columns: # перебор по названиям экзогенных признаков\n",
    "    for k in [2,4,9,12,26]: # перебор по 2, 4, 9, 12 и 26 неделям\n",
    "        series = dataset_per_week[i].copy() # срез по определенному экзогенному признаку\n",
    "        df_rolled = make_forecasting_frame(series, kind='price', max_timeshift=k, rolling_direction=1) # генерация временных рядов \n",
    "        df_features = extract_features(df_rolled[0].drop(columns=['kind']), column_id=\"id\", column_sort=\"time\") # генерация признаков\n",
    "        suf = '_'+i+'_'+str(k)+'_weeks' \n",
    "        df_features = df_features.add_suffix(suf) # название колонок по признаку и окну 2, 4, 9, 12 и 26 недель \n",
    "        df_features.reset_index(inplace=True)\n",
    "        df_features.drop(columns=['level_0'], inplace=True)\n",
    "        df_features.rename(columns={'level_1': 'date'}, inplace=True) \n",
    "        df_features.set_index('date', inplace=True) # сброс мультииндекса и назначение нового\n",
    "        df_features = df_features.dropna(axis=1) # сброс всех колонок с Nan\n",
    "        df_features = df_features[:-4] # срез последних 4 точек, так как таргет смещен на 4 (прогноз на месяц вперед)\n",
    "        df_selected_features = select_features(df_features, y) # селекция признаков\n",
    "        extracted_relevant_features = extracted_relevant_features.join(df_features, on='date', how='left') # join\n",
    "        #print(f\"Joined succesfully! Columns count is {extracted_relevant_features.shape[1]}\")\n",
    "        del series\n",
    "        del df_rolled\n",
    "        del df_features\n",
    "        del df_selected_features\n",
    "    print(\"Created features for\", i)"
   ]
  },
  {
   "cell_type": "code",
   "execution_count": null,
   "metadata": {},
   "outputs": [
    {
     "name": "stdout",
     "output_type": "stream",
     "text": [
      "<class 'pandas.core.frame.DataFrame'>\n",
      "DatetimeIndex: 290 entries, 2018-03-11 to 2023-09-24\n",
      "Freq: W-SUN\n",
      "Columns: 64219 entries, value__variance_larger_than_standard_deviation_lme_change_2_weeks to value__lempel_ziv_complexity__bins_100_lme_price_smooth_26_weeks\n",
      "dtypes: float64(64219)\n",
      "memory usage: 142.1 MB\n"
     ]
    }
   ],
   "source": [
    "extracted_relevant_features.info()"
   ]
  },
  {
   "cell_type": "code",
   "execution_count": null,
   "metadata": {},
   "outputs": [],
   "source": [
    "extracted_relevant_features.to_csv('../data/processed/extracted_relevant_features.csv')"
   ]
  },
  {
   "cell_type": "code",
   "execution_count": 5,
   "metadata": {},
   "outputs": [],
   "source": [
    "extracted_relevant_features = pd.read_csv('../data/processed/extracted_relevant_features.csv', parse_dates=True, index_col=0)"
   ]
  },
  {
   "cell_type": "markdown",
   "metadata": {},
   "source": [
    "### Удалим признаки с нулевым среднеквадратичным отклоеннием"
   ]
  },
  {
   "cell_type": "code",
   "execution_count": 6,
   "metadata": {},
   "outputs": [],
   "source": [
    "mask = extracted_relevant_features.std()!=0\n",
    "extracted_relevant_features = extracted_relevant_features[extracted_relevant_features.std()[mask].index]"
   ]
  },
  {
   "cell_type": "code",
   "execution_count": 7,
   "metadata": {},
   "outputs": [
    {
     "data": {
      "text/plain": [
       "(290, 45478)"
      ]
     },
     "execution_count": 7,
     "metadata": {},
     "output_type": "execute_result"
    }
   ],
   "source": [
    "extracted_relevant_features.shape"
   ]
  },
  {
   "cell_type": "markdown",
   "metadata": {},
   "source": [
    "### Объединим нагенерированные признаки с исходными экзогенными признаками и таргетом"
   ]
  },
  {
   "cell_type": "code",
   "execution_count": 8,
   "metadata": {},
   "outputs": [
    {
     "data": {
      "text/plain": [
       "(290, 45537)"
      ]
     },
     "execution_count": 8,
     "metadata": {},
     "output_type": "execute_result"
    }
   ],
   "source": [
    "extracted_relevant_features = extracted_relevant_features.join(dataset_per_week, on='date', how='left')\n",
    "extracted_relevant_features.shape"
   ]
  },
  {
   "cell_type": "markdown",
   "metadata": {},
   "source": [
    "### Признаков по-прежнему очень много, попробуем применить Mutual info из Sklearn"
   ]
  },
  {
   "cell_type": "code",
   "execution_count": 9,
   "metadata": {},
   "outputs": [],
   "source": [
    "y_ = y.values\n",
    "x_ = extracted_relevant_features.values\n",
    "feature_names = extracted_relevant_features.columns.to_list()"
   ]
  },
  {
   "cell_type": "code",
   "execution_count": 10,
   "metadata": {},
   "outputs": [
    {
     "data": {
      "text/plain": [
       "45537"
      ]
     },
     "execution_count": 10,
     "metadata": {},
     "output_type": "execute_result"
    }
   ],
   "source": [
    "len(feature_names)"
   ]
  },
  {
   "cell_type": "code",
   "execution_count": 11,
   "metadata": {},
   "outputs": [
    {
     "name": "stdout",
     "output_type": "stream",
     "text": [
      "Number of selected features: 4554\n"
     ]
    }
   ],
   "source": [
    "mi_scores = mutual_info_regression(x_, y_, n_neighbors=5)\n",
    "\n",
    "threshold = np.quantile(mi_scores, 0.9)\n",
    "selected_features = np.array(feature_names)[mi_scores > threshold]\n",
    "\n",
    "print(f\"Number of selected features: {len(selected_features)}\")"
   ]
  },
  {
   "cell_type": "code",
   "execution_count": 88,
   "metadata": {},
   "outputs": [],
   "source": [
    "extracted_relevant_features = extracted_relevant_features.loc[:, selected_features].copy()"
   ]
  },
  {
   "cell_type": "code",
   "execution_count": 16,
   "metadata": {},
   "outputs": [],
   "source": [
    "extracted_relevant_features['target'] = y.values"
   ]
  },
  {
   "cell_type": "code",
   "execution_count": 18,
   "metadata": {},
   "outputs": [],
   "source": [
    "# features and target after variance threshold and mutual info\n",
    "extracted_relevant_features.to_csv('../data/processed/data_after_vt_mi.csv')"
   ]
  },
  {
   "cell_type": "code",
   "execution_count": null,
   "metadata": {},
   "outputs": [],
   "source": [
    "extracted_relevant_features = pd.read_csv('../data/processed/features_after_vt_mi.csv', parse_dates=True, index_col=0)"
   ]
  },
  {
   "cell_type": "code",
   "execution_count": 19,
   "metadata": {},
   "outputs": [],
   "source": [
    "# Введем период после повышения ставки ФРС\n",
    "extracted_relevant_features['after_feb']=np.where((extracted_relevant_features.index>='2022-03-01')&(extracted_relevant_features.index<='2022-09-01'), 1, 0)"
   ]
  },
  {
   "cell_type": "code",
   "execution_count": 20,
   "metadata": {},
   "outputs": [
    {
     "data": {
      "image/png": "[encoded data removed]",
      "text/plain": [
       "<Figure size 1200x700 with 2 Axes>"
      ]
     },
     "metadata": {},
     "output_type": "display_data"
    }
   ],
   "source": [
    "fig, ax = plt.subplots(figsize=(12, 7))\n",
    "l1, = ax.plot(extracted_relevant_features.index.values, extracted_relevant_features.lme_price_smooth.values, color='r')\n",
    "ax1 = ax.twinx()\n",
    "l2, = ax1.plot(extracted_relevant_features.index.values, extracted_relevant_features.after_feb, color='g', marker='o', linewidth=1, markersize=2)\n",
    "ax1.legend([l1,l2],['lme_price', 'argument'])\n",
    "#ax1.set_ylim([0,1e6])\n",
    "ax.grid(True)\n",
    "ax1.grid(True)"
   ]
  },
  {
   "cell_type": "markdown",
   "metadata": {},
   "source": [
    "## Feature importance"
   ]
  },
  {
   "cell_type": "code",
   "execution_count": 21,
   "metadata": {},
   "outputs": [],
   "source": [
    "from catboost import CatBoostRegressor\n",
    "from sklearn.model_selection import train_test_split\n",
    "from sklearn.metrics import mean_absolute_percentage_error"
   ]
  },
  {
   "cell_type": "code",
   "execution_count": 22,
   "metadata": {},
   "outputs": [],
   "source": [
    "X = extracted_relevant_features.drop(columns=['target']).values\n",
    "y = extracted_relevant_features['target'].values"
   ]
  },
  {
   "cell_type": "code",
   "execution_count": 23,
   "metadata": {},
   "outputs": [],
   "source": [
    "X_full_train, X_full_test, y_train, y_test = train_test_split(X, y, test_size=.1, shuffle=False)\n",
    "X_train, X_valid, y_train, y_valid = train_test_split(X_full_train, y_train, test_size=.1, shuffle=False)\n"
   ]
  },
  {
   "cell_type": "code",
   "execution_count": 24,
   "metadata": {},
   "outputs": [
    {
     "name": "stdout",
     "output_type": "stream",
     "text": [
      "Learning rate set to 0.040538\n",
      "0:\tlearn: 0.1740605\ttest: 0.0905273\tbest: 0.0905273 (0)\ttotal: 2.05s\tremaining: 34m 10s\n",
      "1:\tlearn: 0.1680168\ttest: 0.0873371\tbest: 0.0873371 (1)\ttotal: 3.72s\tremaining: 30m 56s\n",
      "2:\tlearn: 0.1630823\ttest: 0.0863773\tbest: 0.0863773 (2)\ttotal: 5.46s\tremaining: 30m 13s\n",
      "3:\tlearn: 0.1579105\ttest: 0.0854027\tbest: 0.0854027 (3)\ttotal: 7.34s\tremaining: 30m 27s\n",
      "4:\tlearn: 0.1533224\ttest: 0.0793271\tbest: 0.0793271 (4)\ttotal: 9.13s\tremaining: 30m 16s\n",
      "5:\tlearn: 0.1488141\ttest: 0.0701441\tbest: 0.0701441 (5)\ttotal: 10.8s\tremaining: 29m 55s\n",
      "6:\tlearn: 0.1449674\ttest: 0.0690339\tbest: 0.0690339 (6)\ttotal: 12.5s\tremaining: 29m 38s\n",
      "7:\tlearn: 0.1404031\ttest: 0.0674112\tbest: 0.0674112 (7)\ttotal: 14.3s\tremaining: 29m 29s\n",
      "8:\tlearn: 0.1361229\ttest: 0.0663464\tbest: 0.0663464 (8)\ttotal: 16s\tremaining: 29m 22s\n",
      "9:\tlearn: 0.1324087\ttest: 0.0647278\tbest: 0.0647278 (9)\ttotal: 17.7s\tremaining: 29m 14s\n",
      "10:\tlearn: 0.1286181\ttest: 0.0607933\tbest: 0.0607933 (10)\ttotal: 19.5s\tremaining: 29m 15s\n",
      "11:\tlearn: 0.1246658\ttest: 0.0618014\tbest: 0.0607933 (10)\ttotal: 21.3s\tremaining: 29m 15s\n",
      "12:\tlearn: 0.1210671\ttest: 0.0621314\tbest: 0.0607933 (10)\ttotal: 23.2s\tremaining: 29m 20s\n",
      "13:\tlearn: 0.1176741\ttest: 0.0625284\tbest: 0.0607933 (10)\ttotal: 24.7s\tremaining: 29m 2s\n",
      "14:\tlearn: 0.1140666\ttest: 0.0580176\tbest: 0.0580176 (14)\ttotal: 26.4s\tremaining: 28m 53s\n",
      "15:\tlearn: 0.1108234\ttest: 0.0589096\tbest: 0.0580176 (14)\ttotal: 28.1s\tremaining: 28m 45s\n",
      "16:\tlearn: 0.1070222\ttest: 0.0534047\tbest: 0.0534047 (16)\ttotal: 29.7s\tremaining: 28m 37s\n",
      "17:\tlearn: 0.1038069\ttest: 0.0533600\tbest: 0.0533600 (17)\ttotal: 31.5s\tremaining: 28m 38s\n",
      "18:\tlearn: 0.1006222\ttest: 0.0508020\tbest: 0.0508020 (18)\ttotal: 33.3s\tremaining: 28m 37s\n",
      "19:\tlearn: 0.0977801\ttest: 0.0486204\tbest: 0.0486204 (19)\ttotal: 34.9s\tremaining: 28m 29s\n",
      "20:\tlearn: 0.0947538\ttest: 0.0492956\tbest: 0.0486204 (19)\ttotal: 36.5s\tremaining: 28m 21s\n",
      "21:\tlearn: 0.0921249\ttest: 0.0492145\tbest: 0.0486204 (19)\ttotal: 38.2s\tremaining: 28m 18s\n",
      "22:\tlearn: 0.0898092\ttest: 0.0503447\tbest: 0.0486204 (19)\ttotal: 40.1s\tremaining: 28m 21s\n",
      "23:\tlearn: 0.0876688\ttest: 0.0497118\tbest: 0.0486204 (19)\ttotal: 41.9s\tremaining: 28m 24s\n",
      "24:\tlearn: 0.0852824\ttest: 0.0495309\tbest: 0.0486204 (19)\ttotal: 43.8s\tremaining: 28m 26s\n",
      "25:\tlearn: 0.0824829\ttest: 0.0484244\tbest: 0.0484244 (25)\ttotal: 45.7s\tremaining: 28m 30s\n",
      "26:\tlearn: 0.0803033\ttest: 0.0493722\tbest: 0.0484244 (25)\ttotal: 47.7s\tremaining: 28m 38s\n",
      "27:\tlearn: 0.0776879\ttest: 0.0485744\tbest: 0.0484244 (25)\ttotal: 49.7s\tremaining: 28m 46s\n",
      "28:\tlearn: 0.0753540\ttest: 0.0488234\tbest: 0.0484244 (25)\ttotal: 51.7s\tremaining: 28m 51s\n",
      "29:\tlearn: 0.0732731\ttest: 0.0486643\tbest: 0.0484244 (25)\ttotal: 53.4s\tremaining: 28m 46s\n",
      "30:\tlearn: 0.0711959\ttest: 0.0500496\tbest: 0.0484244 (25)\ttotal: 55.1s\tremaining: 28m 41s\n",
      "31:\tlearn: 0.0693934\ttest: 0.0504279\tbest: 0.0484244 (25)\ttotal: 56.8s\tremaining: 28m 38s\n",
      "32:\tlearn: 0.0673289\ttest: 0.0491344\tbest: 0.0484244 (25)\ttotal: 58.5s\tremaining: 28m 33s\n",
      "33:\tlearn: 0.0655340\ttest: 0.0490875\tbest: 0.0484244 (25)\ttotal: 1m\tremaining: 28m 29s\n",
      "34:\tlearn: 0.0635081\ttest: 0.0487736\tbest: 0.0484244 (25)\ttotal: 1m 1s\tremaining: 28m 27s\n",
      "35:\tlearn: 0.0618341\ttest: 0.0485102\tbest: 0.0484244 (25)\ttotal: 1m 3s\tremaining: 28m 26s\n",
      "36:\tlearn: 0.0598695\ttest: 0.0478616\tbest: 0.0478616 (36)\ttotal: 1m 5s\tremaining: 28m 23s\n",
      "37:\tlearn: 0.0580743\ttest: 0.0480654\tbest: 0.0478616 (36)\ttotal: 1m 7s\tremaining: 28m 16s\n",
      "38:\tlearn: 0.0564144\ttest: 0.0482196\tbest: 0.0478616 (36)\ttotal: 1m 8s\tremaining: 28m 16s\n",
      "39:\tlearn: 0.0552249\ttest: 0.0471025\tbest: 0.0471025 (39)\ttotal: 1m 10s\tremaining: 28m 13s\n",
      "40:\tlearn: 0.0538881\ttest: 0.0463056\tbest: 0.0463056 (40)\ttotal: 1m 12s\tremaining: 28m 13s\n",
      "41:\tlearn: 0.0524985\ttest: 0.0473850\tbest: 0.0463056 (40)\ttotal: 1m 14s\tremaining: 28m 9s\n",
      "42:\tlearn: 0.0510505\ttest: 0.0471946\tbest: 0.0463056 (40)\ttotal: 1m 15s\tremaining: 28m 4s\n",
      "43:\tlearn: 0.0496198\ttest: 0.0458303\tbest: 0.0458303 (43)\ttotal: 1m 17s\tremaining: 27m 59s\n",
      "44:\tlearn: 0.0483802\ttest: 0.0462160\tbest: 0.0458303 (43)\ttotal: 1m 18s\tremaining: 27m 56s\n",
      "45:\tlearn: 0.0473786\ttest: 0.0463505\tbest: 0.0458303 (43)\ttotal: 1m 20s\tremaining: 27m 53s\n",
      "46:\tlearn: 0.0462044\ttest: 0.0465014\tbest: 0.0458303 (43)\ttotal: 1m 22s\tremaining: 27m 51s\n",
      "47:\tlearn: 0.0449611\ttest: 0.0468665\tbest: 0.0458303 (43)\ttotal: 1m 24s\tremaining: 27m 50s\n",
      "48:\tlearn: 0.0436678\ttest: 0.0468881\tbest: 0.0458303 (43)\ttotal: 1m 26s\tremaining: 27m 50s\n",
      "49:\tlearn: 0.0425063\ttest: 0.0480371\tbest: 0.0458303 (43)\ttotal: 1m 27s\tremaining: 27m 47s\n",
      "50:\tlearn: 0.0415816\ttest: 0.0480371\tbest: 0.0458303 (43)\ttotal: 1m 29s\tremaining: 27m 45s\n",
      "51:\tlearn: 0.0405782\ttest: 0.0487835\tbest: 0.0458303 (43)\ttotal: 1m 31s\tremaining: 27m 42s\n",
      "52:\tlearn: 0.0395745\ttest: 0.0489600\tbest: 0.0458303 (43)\ttotal: 1m 32s\tremaining: 27m 40s\n",
      "53:\tlearn: 0.0385555\ttest: 0.0493094\tbest: 0.0458303 (43)\ttotal: 1m 34s\tremaining: 27m 40s\n",
      "54:\tlearn: 0.0376527\ttest: 0.0485480\tbest: 0.0458303 (43)\ttotal: 1m 36s\tremaining: 27m 38s\n",
      "55:\tlearn: 0.0368212\ttest: 0.0485734\tbest: 0.0458303 (43)\ttotal: 1m 38s\tremaining: 27m 35s\n",
      "56:\tlearn: 0.0359702\ttest: 0.0485778\tbest: 0.0458303 (43)\ttotal: 1m 39s\tremaining: 27m 32s\n",
      "57:\tlearn: 0.0351598\ttest: 0.0482869\tbest: 0.0458303 (43)\ttotal: 1m 41s\tremaining: 27m 30s\n",
      "58:\tlearn: 0.0344079\ttest: 0.0480851\tbest: 0.0458303 (43)\ttotal: 1m 43s\tremaining: 27m 29s\n",
      "59:\tlearn: 0.0336340\ttest: 0.0476040\tbest: 0.0458303 (43)\ttotal: 1m 45s\tremaining: 27m 29s\n",
      "60:\tlearn: 0.0329593\ttest: 0.0476232\tbest: 0.0458303 (43)\ttotal: 1m 46s\tremaining: 27m 26s\n",
      "61:\tlearn: 0.0320772\ttest: 0.0475845\tbest: 0.0458303 (43)\ttotal: 1m 48s\tremaining: 27m 24s\n",
      "62:\tlearn: 0.0313219\ttest: 0.0474149\tbest: 0.0458303 (43)\ttotal: 1m 50s\tremaining: 27m 19s\n",
      "63:\tlearn: 0.0305403\ttest: 0.0474206\tbest: 0.0458303 (43)\ttotal: 1m 51s\tremaining: 27m 17s\n",
      "Stopped by overfitting detector  (20 iterations wait)\n",
      "\n",
      "bestTest = 0.04583034423\n",
      "bestIteration = 43\n",
      "\n",
      "Shrink model to first 44 iterations.\n"
     ]
    },
    {
     "data": {
      "text/plain": [
       "<catboost.core.CatBoostRegressor at 0x167458fd0>"
      ]
     },
     "execution_count": 24,
     "metadata": {},
     "output_type": "execute_result"
    }
   ],
   "source": [
    "model = CatBoostRegressor(eval_metric = \"MAPE\",\n",
    "                          task_type = \"CPU\",\n",
    "                          thread_count = 4,\n",
    "                          random_state=42)\n",
    "\n",
    "model.fit(X=X_train,\n",
    "          y=y_train,\n",
    "          eval_set=(X_valid, y_valid),\n",
    "          early_stopping_rounds=20)"
   ]
  },
  {
   "cell_type": "code",
   "execution_count": 27,
   "metadata": {},
   "outputs": [
    {
     "data": {
      "text/plain": [
       "0.02301999759923596"
      ]
     },
     "execution_count": 27,
     "metadata": {},
     "output_type": "execute_result"
    }
   ],
   "source": [
    "prediction = model.predict(X_full_test)\n",
    "mean_absolute_percentage_error(y_test, prediction)"
   ]
  },
  {
   "cell_type": "code",
   "execution_count": 30,
   "metadata": {},
   "outputs": [],
   "source": [
    "list_of_features = extracted_relevant_features.drop(columns=['target']).columns.to_list()\n",
    "\n",
    "importances = model.feature_importances_\n",
    "\n",
    "df = pd.DataFrame(data={\"importances\":importances,\n",
    "                        \"feature_names\":list_of_features})"
   ]
  },
  {
   "cell_type": "code",
   "execution_count": 31,
   "metadata": {},
   "outputs": [],
   "source": [
    "df.sort_values(by=\"importances\", ascending=False, inplace=True)\n",
    "df = df[df.importances > 0]\n",
    "df.reset_index(drop=True, inplace=True)"
   ]
  },
  {
   "cell_type": "code",
   "execution_count": 32,
   "metadata": {},
   "outputs": [
    {
     "data": {
      "text/html": [
       "<div>\n",
       "<style scoped>\n",
       "    .dataframe tbody tr th:only-of-type {\n",
       "        vertical-align: middle;\n",
       "    }\n",
       "\n",
       "    .dataframe tbody tr th {\n",
       "        vertical-align: top;\n",
       "    }\n",
       "\n",
       "    .dataframe thead th {\n",
       "        text-align: right;\n",
       "    }\n",
       "</style>\n",
       "<table border=\"1\" class=\"dataframe\">\n",
       "  <thead>\n",
       "    <tr style=\"text-align: right;\">\n",
       "      <th></th>\n",
       "      <th>importances</th>\n",
       "      <th>feature_names</th>\n",
       "    </tr>\n",
       "  </thead>\n",
       "  <tbody>\n",
       "    <tr>\n",
       "      <th>0</th>\n",
       "      <td>6.383953</td>\n",
       "      <td>value__c3__lag_3_norsk_hydro_price_12_weeks</td>\n",
       "    </tr>\n",
       "    <tr>\n",
       "      <th>1</th>\n",
       "      <td>5.192949</td>\n",
       "      <td>value__quantile__q_0.3_china_index_26_weeks</td>\n",
       "    </tr>\n",
       "    <tr>\n",
       "      <th>2</th>\n",
       "      <td>4.083292</td>\n",
       "      <td>value__change_quantiles__f_agg_\"mean\"__isabs_T...</td>\n",
       "    </tr>\n",
       "    <tr>\n",
       "      <th>3</th>\n",
       "      <td>2.876058</td>\n",
       "      <td>value__sum_values_chalco_adj_12_weeks</td>\n",
       "    </tr>\n",
       "    <tr>\n",
       "      <th>4</th>\n",
       "      <td>2.818276</td>\n",
       "      <td>value__quantile__q_0.9_rual_price_26_weeks</td>\n",
       "    </tr>\n",
       "    <tr>\n",
       "      <th>...</th>\n",
       "      <td>...</td>\n",
       "      <td>...</td>\n",
       "    </tr>\n",
       "    <tr>\n",
       "      <th>255</th>\n",
       "      <td>0.000346</td>\n",
       "      <td>value__sum_of_reoccurring_data_points_export_c...</td>\n",
       "    </tr>\n",
       "    <tr>\n",
       "      <th>256</th>\n",
       "      <td>0.000280</td>\n",
       "      <td>value__index_mass_quantile__q_0.9_brazil_pmi_1...</td>\n",
       "    </tr>\n",
       "    <tr>\n",
       "      <th>257</th>\n",
       "      <td>0.000197</td>\n",
       "      <td>value__symmetry_looking__r_0.8_hongqiao_adj_26...</td>\n",
       "    </tr>\n",
       "    <tr>\n",
       "      <th>258</th>\n",
       "      <td>0.000107</td>\n",
       "      <td>value__change_quantiles__f_agg_\"mean\"__isabs_F...</td>\n",
       "    </tr>\n",
       "    <tr>\n",
       "      <th>259</th>\n",
       "      <td>0.000022</td>\n",
       "      <td>value__lempel_ziv_complexity__bins_100_export_...</td>\n",
       "    </tr>\n",
       "  </tbody>\n",
       "</table>\n",
       "<p>260 rows × 2 columns</p>\n",
       "</div>"
      ],
      "text/plain": [
       "     importances                                      feature_names\n",
       "0       6.383953        value__c3__lag_3_norsk_hydro_price_12_weeks\n",
       "1       5.192949        value__quantile__q_0.3_china_index_26_weeks\n",
       "2       4.083292  value__change_quantiles__f_agg_\"mean\"__isabs_T...\n",
       "3       2.876058              value__sum_values_chalco_adj_12_weeks\n",
       "4       2.818276         value__quantile__q_0.9_rual_price_26_weeks\n",
       "..           ...                                                ...\n",
       "255     0.000346  value__sum_of_reoccurring_data_points_export_c...\n",
       "256     0.000280  value__index_mass_quantile__q_0.9_brazil_pmi_1...\n",
       "257     0.000197  value__symmetry_looking__r_0.8_hongqiao_adj_26...\n",
       "258     0.000107  value__change_quantiles__f_agg_\"mean\"__isabs_F...\n",
       "259     0.000022  value__lempel_ziv_complexity__bins_100_export_...\n",
       "\n",
       "[260 rows x 2 columns]"
      ]
     },
     "execution_count": 32,
     "metadata": {},
     "output_type": "execute_result"
    }
   ],
   "source": [
    "df"
   ]
  },
  {
   "cell_type": "markdown",
   "metadata": {},
   "source": [
    "Отрезали множество признаков, значимость которых, по мнению модели, была пренебрежимо мала"
   ]
  },
  {
   "cell_type": "code",
   "execution_count": 33,
   "metadata": {},
   "outputs": [],
   "source": [
    "df.to_csv(\"../data/processed/feature_importances_by_catboost.csv\")"
   ]
  },
  {
   "cell_type": "code",
   "execution_count": 34,
   "metadata": {},
   "outputs": [],
   "source": [
    "extracted_relevant_features = extracted_relevant_features.loc[:, df.feature_names]"
   ]
  },
  {
   "cell_type": "markdown",
   "metadata": {},
   "source": [
    "## Прежде, чем анализировать парную корелляцию, необходимо привести все ряды к стационарному виду (например, продифференцировав все)"
   ]
  },
  {
   "cell_type": "code",
   "execution_count": 35,
   "metadata": {},
   "outputs": [],
   "source": [
    "diff_relevant_features = extracted_relevant_features.diff(periods=1).copy()\n",
    "diff_relevant_features = diff_relevant_features[1:]"
   ]
  },
  {
   "cell_type": "code",
   "execution_count": 36,
   "metadata": {},
   "outputs": [],
   "source": [
    "# Тест Дикки-Фуллера с alpha уровнем значимости\n",
    "def check_stationarity(ts: list, alpha: float):\n",
    "    dftest = adfuller(ts)\n",
    "    adf, pvalue, critical_value = dftest[0], dftest[1], dftest[4]['5%']\n",
    "    if (pvalue < alpha) and (adf < critical_value):\n",
    "        #print('The series is stationary')\n",
    "        return True\n",
    "    else:\n",
    "        #print('The series is NOT stationary')\n",
    "        return False"
   ]
  },
  {
   "cell_type": "code",
   "execution_count": 37,
   "metadata": {},
   "outputs": [
    {
     "name": "stderr",
     "output_type": "stream",
     "text": [
      "/Users/epsilon/miniconda3/envs/ml/lib/python3.10/site-packages/statsmodels/regression/linear_model.py:956: RuntimeWarning: divide by zero encountered in log\n",
      "  llf = -nobs2*np.log(2*np.pi) - nobs2*np.log(ssr / nobs) - nobs2\n",
      "/Users/epsilon/miniconda3/envs/ml/lib/python3.10/site-packages/statsmodels/regression/linear_model.py:956: RuntimeWarning: divide by zero encountered in log\n",
      "  llf = -nobs2*np.log(2*np.pi) - nobs2*np.log(ssr / nobs) - nobs2\n",
      "/Users/epsilon/miniconda3/envs/ml/lib/python3.10/site-packages/statsmodels/regression/linear_model.py:956: RuntimeWarning: divide by zero encountered in log\n",
      "  llf = -nobs2*np.log(2*np.pi) - nobs2*np.log(ssr / nobs) - nobs2\n",
      "/Users/epsilon/miniconda3/envs/ml/lib/python3.10/site-packages/statsmodels/regression/linear_model.py:956: RuntimeWarning: divide by zero encountered in log\n",
      "  llf = -nobs2*np.log(2*np.pi) - nobs2*np.log(ssr / nobs) - nobs2\n",
      "/Users/epsilon/miniconda3/envs/ml/lib/python3.10/site-packages/statsmodels/regression/linear_model.py:956: RuntimeWarning: divide by zero encountered in log\n",
      "  llf = -nobs2*np.log(2*np.pi) - nobs2*np.log(ssr / nobs) - nobs2\n",
      "/Users/epsilon/miniconda3/envs/ml/lib/python3.10/site-packages/statsmodels/regression/linear_model.py:956: RuntimeWarning: divide by zero encountered in log\n",
      "  llf = -nobs2*np.log(2*np.pi) - nobs2*np.log(ssr / nobs) - nobs2\n",
      "/Users/epsilon/miniconda3/envs/ml/lib/python3.10/site-packages/statsmodels/regression/linear_model.py:956: RuntimeWarning: divide by zero encountered in log\n",
      "  llf = -nobs2*np.log(2*np.pi) - nobs2*np.log(ssr / nobs) - nobs2\n"
     ]
    }
   ],
   "source": [
    "not_stationary = list()\n",
    "for i in diff_relevant_features.columns:\n",
    "    if check_stationarity(diff_relevant_features[i], 0.05) is False:\n",
    "        not_stationary.append(i)"
   ]
  },
  {
   "cell_type": "code",
   "execution_count": 38,
   "metadata": {},
   "outputs": [
    {
     "data": {
      "text/plain": [
       "14"
      ]
     },
     "execution_count": 38,
     "metadata": {},
     "output_type": "execute_result"
    }
   ],
   "source": [
    "len(not_stationary)"
   ]
  },
  {
   "cell_type": "code",
   "execution_count": 42,
   "metadata": {},
   "outputs": [],
   "source": [
    "diff_relevant_features.drop(columns=not_stationary, inplace=True)"
   ]
  },
  {
   "cell_type": "code",
   "execution_count": 43,
   "metadata": {},
   "outputs": [],
   "source": [
    "diff_relevant_features['target'] = y[1:]"
   ]
  },
  {
   "cell_type": "markdown",
   "metadata": {},
   "source": [
    "Для анализа парной корелляции удобнее создать словарь, в котором ключом выступает признак  \n",
    "Не забудем удалить признаки, которые оказались нестационарны даже после дифференцирования"
   ]
  },
  {
   "cell_type": "code",
   "execution_count": 44,
   "metadata": {},
   "outputs": [],
   "source": [
    "key_list = df.feature_names.values\n",
    "value_list = df.importances.values\n",
    "\n",
    "importances_dict = dict(zip(key_list, value_list))\n",
    "\n",
    "for i in not_stationary:\n",
    "    del importances_dict[i]"
   ]
  },
  {
   "cell_type": "code",
   "execution_count": 45,
   "metadata": {},
   "outputs": [],
   "source": [
    "corr_matrix = diff_relevant_features.corr()"
   ]
  },
  {
   "cell_type": "markdown",
   "metadata": {},
   "source": [
    "Топорный алгоритм отбора признаков во избежание мультиколлинеарности"
   ]
  },
  {
   "cell_type": "code",
   "execution_count": 46,
   "metadata": {},
   "outputs": [],
   "source": [
    "def select(candidates, corr_matrix):\n",
    "    features = list(candidates.copy())\n",
    "    l = len(candidates)\n",
    "    for i in range(l):\n",
    "        for j in range(i+1,l):\n",
    "            if corr_matrix[candidates[i]][candidates[j]]>0.75:\n",
    "                if importances_dict[candidates[i]]>=importances_dict[candidates[j]]:\n",
    "                    try:\n",
    "                        features.remove(candidates[j])\n",
    "                    except:\n",
    "                        pass\n",
    "                else:\n",
    "                    try:\n",
    "                        features.remove(candidates[i])\n",
    "                    except:\n",
    "                        pass\n",
    "    return features"
   ]
  },
  {
   "cell_type": "code",
   "execution_count": 47,
   "metadata": {},
   "outputs": [
    {
     "data": {
      "text/plain": [
       "221"
      ]
     },
     "execution_count": 47,
     "metadata": {},
     "output_type": "execute_result"
    }
   ],
   "source": [
    "new_candidates = select(candidates=list(importances_dict.keys()), corr_matrix=corr_matrix)\n",
    "len(new_candidates)"
   ]
  },
  {
   "cell_type": "markdown",
   "metadata": {},
   "source": [
    "Вернемся к недифференцированному набору данных"
   ]
  },
  {
   "cell_type": "code",
   "execution_count": 48,
   "metadata": {},
   "outputs": [],
   "source": [
    "extracted_relevant_features = extracted_relevant_features.loc[:, new_candidates]\n",
    "extracted_relevant_features['target'] = y"
   ]
  },
  {
   "cell_type": "markdown",
   "metadata": {},
   "source": [
    "## Permutation importance"
   ]
  },
  {
   "cell_type": "code",
   "execution_count": 52,
   "metadata": {},
   "outputs": [],
   "source": [
    "X = extracted_relevant_features.drop(columns=['target']).values\n",
    "y = extracted_relevant_features['target'].values"
   ]
  },
  {
   "cell_type": "code",
   "execution_count": 53,
   "metadata": {},
   "outputs": [],
   "source": [
    "X_full_train, X_full_test, y_train, y_test = train_test_split(X, y, test_size=.1, shuffle=False)\n",
    "X_train, X_valid, y_train, y_valid = train_test_split(X_full_train, y_train, test_size=.1, shuffle=False)"
   ]
  },
  {
   "cell_type": "code",
   "execution_count": 54,
   "metadata": {},
   "outputs": [
    {
     "data": {
      "text/plain": [
       "((234, 221), (27, 221), (29, 221))"
      ]
     },
     "execution_count": 54,
     "metadata": {},
     "output_type": "execute_result"
    }
   ],
   "source": [
    "X_train.shape, X_valid.shape, X_full_test.shape"
   ]
  },
  {
   "cell_type": "code",
   "execution_count": 55,
   "metadata": {},
   "outputs": [
    {
     "name": "stdout",
     "output_type": "stream",
     "text": [
      "Learning rate set to 0.040538\n",
      "0:\tlearn: 0.1740378\ttest: 0.0897648\tbest: 0.0897648 (0)\ttotal: 11.3ms\tremaining: 11.3s\n",
      "1:\tlearn: 0.1682595\ttest: 0.0876159\tbest: 0.0876159 (1)\ttotal: 21.5ms\tremaining: 10.7s\n",
      "2:\tlearn: 0.1628104\ttest: 0.0865794\tbest: 0.0865794 (2)\ttotal: 29.5ms\tremaining: 9.82s\n",
      "3:\tlearn: 0.1585537\ttest: 0.0867064\tbest: 0.0865794 (2)\ttotal: 36.5ms\tremaining: 9.08s\n",
      "4:\tlearn: 0.1535453\ttest: 0.0861493\tbest: 0.0861493 (4)\ttotal: 48.8ms\tremaining: 9.71s\n",
      "5:\tlearn: 0.1486539\ttest: 0.0859312\tbest: 0.0859312 (5)\ttotal: 57ms\tremaining: 9.44s\n",
      "6:\tlearn: 0.1436166\ttest: 0.0841853\tbest: 0.0841853 (6)\ttotal: 63.1ms\tremaining: 8.95s\n",
      "7:\tlearn: 0.1391720\ttest: 0.0829290\tbest: 0.0829290 (7)\ttotal: 69.7ms\tremaining: 8.64s\n",
      "8:\tlearn: 0.1346607\ttest: 0.0818086\tbest: 0.0818086 (8)\ttotal: 77.1ms\tremaining: 8.49s\n",
      "9:\tlearn: 0.1301389\ttest: 0.0815402\tbest: 0.0815402 (9)\ttotal: 83.1ms\tremaining: 8.23s\n",
      "10:\tlearn: 0.1258182\ttest: 0.0815123\tbest: 0.0815123 (10)\ttotal: 88.4ms\tremaining: 7.94s\n",
      "11:\tlearn: 0.1219437\ttest: 0.0813246\tbest: 0.0813246 (11)\ttotal: 94.6ms\tremaining: 7.79s\n",
      "12:\tlearn: 0.1185879\ttest: 0.0819283\tbest: 0.0813246 (11)\ttotal: 100ms\tremaining: 7.6s\n",
      "13:\tlearn: 0.1151175\ttest: 0.0813143\tbest: 0.0813143 (13)\ttotal: 105ms\tremaining: 7.43s\n",
      "14:\tlearn: 0.1113158\ttest: 0.0806751\tbest: 0.0806751 (14)\ttotal: 112ms\tremaining: 7.33s\n",
      "15:\tlearn: 0.1080194\ttest: 0.0803203\tbest: 0.0803203 (15)\ttotal: 117ms\tremaining: 7.2s\n",
      "16:\tlearn: 0.1046045\ttest: 0.0796778\tbest: 0.0796778 (16)\ttotal: 122ms\tremaining: 7.08s\n",
      "17:\tlearn: 0.1010823\ttest: 0.0781696\tbest: 0.0781696 (17)\ttotal: 128ms\tremaining: 6.96s\n",
      "18:\tlearn: 0.0980496\ttest: 0.0790061\tbest: 0.0781696 (17)\ttotal: 133ms\tremaining: 6.86s\n",
      "19:\tlearn: 0.0953514\ttest: 0.0812689\tbest: 0.0781696 (17)\ttotal: 138ms\tremaining: 6.78s\n",
      "20:\tlearn: 0.0922790\ttest: 0.0822881\tbest: 0.0781696 (17)\ttotal: 144ms\tremaining: 6.7s\n",
      "21:\tlearn: 0.0894012\ttest: 0.0801310\tbest: 0.0781696 (17)\ttotal: 149ms\tremaining: 6.64s\n",
      "22:\tlearn: 0.0867232\ttest: 0.0786973\tbest: 0.0781696 (17)\ttotal: 155ms\tremaining: 6.57s\n",
      "23:\tlearn: 0.0846087\ttest: 0.0793407\tbest: 0.0781696 (17)\ttotal: 161ms\tremaining: 6.54s\n",
      "24:\tlearn: 0.0819471\ttest: 0.0793743\tbest: 0.0781696 (17)\ttotal: 166ms\tremaining: 6.48s\n",
      "25:\tlearn: 0.0793681\ttest: 0.0787546\tbest: 0.0781696 (17)\ttotal: 171ms\tremaining: 6.42s\n",
      "26:\tlearn: 0.0770890\ttest: 0.0796748\tbest: 0.0781696 (17)\ttotal: 177ms\tremaining: 6.36s\n",
      "27:\tlearn: 0.0747250\ttest: 0.0810929\tbest: 0.0781696 (17)\ttotal: 182ms\tremaining: 6.33s\n",
      "28:\tlearn: 0.0726159\ttest: 0.0813958\tbest: 0.0781696 (17)\ttotal: 188ms\tremaining: 6.28s\n",
      "29:\tlearn: 0.0708864\ttest: 0.0825197\tbest: 0.0781696 (17)\ttotal: 194ms\tremaining: 6.26s\n",
      "30:\tlearn: 0.0691027\ttest: 0.0820300\tbest: 0.0781696 (17)\ttotal: 199ms\tremaining: 6.22s\n",
      "31:\tlearn: 0.0669823\ttest: 0.0810509\tbest: 0.0781696 (17)\ttotal: 205ms\tremaining: 6.21s\n",
      "32:\tlearn: 0.0650604\ttest: 0.0809357\tbest: 0.0781696 (17)\ttotal: 211ms\tremaining: 6.18s\n",
      "33:\tlearn: 0.0633400\ttest: 0.0814931\tbest: 0.0781696 (17)\ttotal: 218ms\tremaining: 6.19s\n",
      "34:\tlearn: 0.0614136\ttest: 0.0817864\tbest: 0.0781696 (17)\ttotal: 225ms\tremaining: 6.21s\n",
      "35:\tlearn: 0.0594654\ttest: 0.0822899\tbest: 0.0781696 (17)\ttotal: 231ms\tremaining: 6.18s\n",
      "36:\tlearn: 0.0576423\ttest: 0.0832586\tbest: 0.0781696 (17)\ttotal: 236ms\tremaining: 6.15s\n",
      "37:\tlearn: 0.0560098\ttest: 0.0833171\tbest: 0.0781696 (17)\ttotal: 242ms\tremaining: 6.12s\n",
      "Stopped by overfitting detector  (20 iterations wait)\n",
      "\n",
      "bestTest = 0.07816961311\n",
      "bestIteration = 17\n",
      "\n",
      "Shrink model to first 18 iterations.\n"
     ]
    },
    {
     "data": {
      "text/plain": [
       "<catboost.core.CatBoostRegressor at 0x289988640>"
      ]
     },
     "execution_count": 55,
     "metadata": {},
     "output_type": "execute_result"
    }
   ],
   "source": [
    "model_2 = CatBoostRegressor(eval_metric = \"MAPE\",\n",
    "                          task_type = \"CPU\",\n",
    "                          thread_count = 4,\n",
    "                          random_state=42)\n",
    "\n",
    "model_2.fit(X=X_train,\n",
    "          y=y_train,\n",
    "          eval_set=(X_valid, y_valid),\n",
    "          early_stopping_rounds=20)"
   ]
  },
  {
   "cell_type": "code",
   "execution_count": 56,
   "metadata": {},
   "outputs": [
    {
     "data": {
      "text/plain": [
       "0.028120851540894824"
      ]
     },
     "execution_count": 56,
     "metadata": {},
     "output_type": "execute_result"
    }
   ],
   "source": [
    "prediction = model_2.predict(X_full_test)\n",
    "mean_absolute_percentage_error(y_test, prediction)"
   ]
  },
  {
   "cell_type": "code",
   "execution_count": 57,
   "metadata": {},
   "outputs": [],
   "source": [
    "from sklearn.inspection import permutation_importance"
   ]
  },
  {
   "cell_type": "code",
   "execution_count": 58,
   "metadata": {},
   "outputs": [],
   "source": [
    "scoring = ['neg_mean_absolute_percentage_error']\n",
    "r = permutation_importance(model_2, X_valid, y_valid, n_repeats=100, random_state=42)"
   ]
  },
  {
   "cell_type": "code",
   "execution_count": 59,
   "metadata": {},
   "outputs": [
    {
     "name": "stdout",
     "output_type": "stream",
     "text": [
      "value__sum_values_chalco_price_2_weeks 0.022 +/- 0.007\n",
      "value__index_mass_quantile__q_0.4_usa_inflation_value_26_weeks 0.014 +/- 0.004\n",
      "value__absolute_maximum_usd_to_rub_2_weeks 0.013 +/- 0.005\n",
      "value__time_reversal_asymmetry_statistic__lag_3_brazil_pmi_26_weeks 0.006 +/- 0.003\n",
      "value__fft_aggregated__aggtype_\"centroid\"_log10_norsk_hydro_volume_12_weeks 0.005 +/- 0.002\n",
      "value__c3__lag_3_norsk_hydro_price_12_weeks 0.003 +/- 0.001\n",
      "value__time_reversal_asymmetry_statistic__lag_2_export_australia_value_26_weeks 0.002 +/- 0.001\n"
     ]
    }
   ],
   "source": [
    "for i in r.importances_mean.argsort()[::-1]:\n",
    "    if r.importances_mean[i] - 2 * r.importances_std[i] > 0:\n",
    "        print(f\"{extracted_relevant_features.drop(columns=['target']).columns.to_list()[i]} \"\n",
    "              f\"{r.importances_mean[i]:.3f}\"\n",
    "              f\" +/- {r.importances_std[i]:.3f}\")"
   ]
  },
  {
   "cell_type": "code",
   "execution_count": 63,
   "metadata": {},
   "outputs": [],
   "source": [
    "feature_list = ['value__sum_values_chalco_price_2_weeks',\n",
    "                'value__index_mass_quantile__q_0.4_usa_inflation_value_26_weeks',\n",
    "                'value__absolute_maximum_usd_to_rub_2_weeks',\n",
    "                'value__time_reversal_asymmetry_statistic__lag_3_brazil_pmi_26_weeks',\n",
    "                'value__fft_aggregated__aggtype_\"centroid\"_log10_norsk_hydro_volume_12_weeks',\n",
    "                'value__c3__lag_3_norsk_hydro_price_12_weeks',\n",
    "                'value__time_reversal_asymmetry_statistic__lag_2_export_australia_value_26_weeks',\n",
    "                'target'\n",
    "                ]"
   ]
  },
  {
   "cell_type": "markdown",
   "metadata": {},
   "source": [
    "Проверим работу модели на данном наборе признаков"
   ]
  },
  {
   "cell_type": "code",
   "execution_count": 64,
   "metadata": {},
   "outputs": [],
   "source": [
    "extracted_relevant_features = extracted_relevant_features.loc[:, feature_list].copy()"
   ]
  },
  {
   "cell_type": "code",
   "execution_count": 65,
   "metadata": {},
   "outputs": [],
   "source": [
    "X = extracted_relevant_features.drop(columns=['target']).values\n",
    "y = extracted_relevant_features['target'].values"
   ]
  },
  {
   "cell_type": "code",
   "execution_count": 66,
   "metadata": {},
   "outputs": [],
   "source": [
    "X_full_train, X_full_test, y_train, y_test = train_test_split(X, y, test_size=.1, shuffle=False)\n",
    "X_train, X_valid, y_train, y_valid = train_test_split(X_full_train, y_train, test_size=.1, shuffle=False)"
   ]
  },
  {
   "cell_type": "code",
   "execution_count": 67,
   "metadata": {},
   "outputs": [
    {
     "data": {
      "text/plain": [
       "((234, 7), (27, 7), (29, 7))"
      ]
     },
     "execution_count": 67,
     "metadata": {},
     "output_type": "execute_result"
    }
   ],
   "source": [
    "X_train.shape, X_valid.shape, X_full_test.shape"
   ]
  },
  {
   "cell_type": "code",
   "execution_count": 68,
   "metadata": {},
   "outputs": [
    {
     "name": "stdout",
     "output_type": "stream",
     "text": [
      "Learning rate set to 0.040538\n",
      "0:\tlearn: 0.1736563\ttest: 0.0894873\tbest: 0.0894873 (0)\ttotal: 755us\tremaining: 755ms\n",
      "1:\tlearn: 0.1681732\ttest: 0.0857463\tbest: 0.0857463 (1)\ttotal: 1.49ms\tremaining: 743ms\n",
      "2:\tlearn: 0.1638266\ttest: 0.0836606\tbest: 0.0836606 (2)\ttotal: 2.18ms\tremaining: 724ms\n",
      "3:\tlearn: 0.1591038\ttest: 0.0792685\tbest: 0.0792685 (3)\ttotal: 2.76ms\tremaining: 687ms\n",
      "4:\tlearn: 0.1551063\ttest: 0.0780381\tbest: 0.0780381 (4)\ttotal: 3.33ms\tremaining: 664ms\n",
      "5:\tlearn: 0.1503909\ttest: 0.0736356\tbest: 0.0736356 (5)\ttotal: 3.87ms\tremaining: 642ms\n",
      "6:\tlearn: 0.1454518\ttest: 0.0722244\tbest: 0.0722244 (6)\ttotal: 4.43ms\tremaining: 629ms\n",
      "7:\tlearn: 0.1408804\ttest: 0.0715570\tbest: 0.0715570 (7)\ttotal: 5.02ms\tremaining: 622ms\n",
      "8:\tlearn: 0.1363163\ttest: 0.0691345\tbest: 0.0691345 (8)\ttotal: 5.55ms\tremaining: 611ms\n",
      "9:\tlearn: 0.1321560\ttest: 0.0671692\tbest: 0.0671692 (9)\ttotal: 6.04ms\tremaining: 598ms\n",
      "10:\tlearn: 0.1282680\ttest: 0.0631744\tbest: 0.0631744 (10)\ttotal: 6.67ms\tremaining: 600ms\n",
      "11:\tlearn: 0.1245224\ttest: 0.0637308\tbest: 0.0631744 (10)\ttotal: 7.3ms\tremaining: 601ms\n",
      "12:\tlearn: 0.1205269\ttest: 0.0614808\tbest: 0.0614808 (12)\ttotal: 8ms\tremaining: 608ms\n",
      "13:\tlearn: 0.1172501\ttest: 0.0628898\tbest: 0.0614808 (12)\ttotal: 8.65ms\tremaining: 609ms\n",
      "14:\tlearn: 0.1140754\ttest: 0.0627495\tbest: 0.0614808 (12)\ttotal: 9.34ms\tremaining: 613ms\n",
      "15:\tlearn: 0.1105513\ttest: 0.0623704\tbest: 0.0614808 (12)\ttotal: 9.99ms\tremaining: 614ms\n",
      "16:\tlearn: 0.1078134\ttest: 0.0605599\tbest: 0.0605599 (16)\ttotal: 10.7ms\tremaining: 618ms\n",
      "17:\tlearn: 0.1045470\ttest: 0.0605151\tbest: 0.0605151 (17)\ttotal: 11.4ms\tremaining: 620ms\n",
      "18:\tlearn: 0.1017773\ttest: 0.0584605\tbest: 0.0584605 (18)\ttotal: 11.9ms\tremaining: 616ms\n",
      "19:\tlearn: 0.0988008\ttest: 0.0585338\tbest: 0.0584605 (18)\ttotal: 12.5ms\tremaining: 611ms\n",
      "20:\tlearn: 0.0959608\ttest: 0.0577166\tbest: 0.0577166 (20)\ttotal: 13.1ms\tremaining: 609ms\n",
      "21:\tlearn: 0.0932977\ttest: 0.0569691\tbest: 0.0569691 (21)\ttotal: 13.7ms\tremaining: 608ms\n",
      "22:\tlearn: 0.0910357\ttest: 0.0565573\tbest: 0.0565573 (22)\ttotal: 14.3ms\tremaining: 605ms\n",
      "23:\tlearn: 0.0885369\ttest: 0.0566528\tbest: 0.0565573 (22)\ttotal: 14.8ms\tremaining: 602ms\n",
      "24:\tlearn: 0.0862435\ttest: 0.0571037\tbest: 0.0565573 (22)\ttotal: 15.3ms\tremaining: 598ms\n",
      "25:\tlearn: 0.0839007\ttest: 0.0570265\tbest: 0.0565573 (22)\ttotal: 15.8ms\tremaining: 593ms\n",
      "26:\tlearn: 0.0820632\ttest: 0.0561506\tbest: 0.0561506 (26)\ttotal: 16.3ms\tremaining: 589ms\n",
      "27:\tlearn: 0.0798409\ttest: 0.0554272\tbest: 0.0554272 (27)\ttotal: 17.3ms\tremaining: 602ms\n",
      "28:\tlearn: 0.0776897\ttest: 0.0556504\tbest: 0.0554272 (27)\ttotal: 18.3ms\tremaining: 613ms\n",
      "29:\tlearn: 0.0752851\ttest: 0.0558620\tbest: 0.0554272 (27)\ttotal: 19.7ms\tremaining: 636ms\n",
      "30:\tlearn: 0.0734834\ttest: 0.0559673\tbest: 0.0554272 (27)\ttotal: 20.6ms\tremaining: 644ms\n",
      "31:\tlearn: 0.0718364\ttest: 0.0564008\tbest: 0.0554272 (27)\ttotal: 21.4ms\tremaining: 647ms\n",
      "32:\tlearn: 0.0699751\ttest: 0.0560406\tbest: 0.0554272 (27)\ttotal: 22.2ms\tremaining: 652ms\n",
      "33:\tlearn: 0.0681074\ttest: 0.0564574\tbest: 0.0554272 (27)\ttotal: 23.1ms\tremaining: 655ms\n",
      "34:\tlearn: 0.0664479\ttest: 0.0562269\tbest: 0.0554272 (27)\ttotal: 24.2ms\tremaining: 666ms\n",
      "35:\tlearn: 0.0648078\ttest: 0.0563043\tbest: 0.0554272 (27)\ttotal: 25.5ms\tremaining: 684ms\n",
      "36:\tlearn: 0.0632518\ttest: 0.0555681\tbest: 0.0554272 (27)\ttotal: 26.3ms\tremaining: 684ms\n",
      "37:\tlearn: 0.0615585\ttest: 0.0560477\tbest: 0.0554272 (27)\ttotal: 27.2ms\tremaining: 689ms\n",
      "38:\tlearn: 0.0600967\ttest: 0.0556918\tbest: 0.0554272 (27)\ttotal: 28.3ms\tremaining: 698ms\n",
      "39:\tlearn: 0.0586691\ttest: 0.0559983\tbest: 0.0554272 (27)\ttotal: 29.4ms\tremaining: 706ms\n",
      "40:\tlearn: 0.0573092\ttest: 0.0555387\tbest: 0.0554272 (27)\ttotal: 30.5ms\tremaining: 712ms\n",
      "41:\tlearn: 0.0555628\ttest: 0.0556726\tbest: 0.0554272 (27)\ttotal: 31.3ms\tremaining: 713ms\n",
      "42:\tlearn: 0.0542433\ttest: 0.0559411\tbest: 0.0554272 (27)\ttotal: 31.9ms\tremaining: 710ms\n",
      "43:\tlearn: 0.0527786\ttest: 0.0557167\tbest: 0.0554272 (27)\ttotal: 32.6ms\tremaining: 709ms\n",
      "44:\tlearn: 0.0515332\ttest: 0.0559234\tbest: 0.0554272 (27)\ttotal: 33.5ms\tremaining: 711ms\n",
      "45:\tlearn: 0.0502782\ttest: 0.0561465\tbest: 0.0554272 (27)\ttotal: 34.3ms\tremaining: 711ms\n",
      "46:\tlearn: 0.0491349\ttest: 0.0568302\tbest: 0.0554272 (27)\ttotal: 35.1ms\tremaining: 713ms\n",
      "47:\tlearn: 0.0480159\ttest: 0.0571734\tbest: 0.0554272 (27)\ttotal: 35.9ms\tremaining: 712ms\n",
      "Stopped by overfitting detector  (20 iterations wait)\n",
      "\n",
      "bestTest = 0.0554272061\n",
      "bestIteration = 27\n",
      "\n",
      "Shrink model to first 28 iterations.\n"
     ]
    },
    {
     "data": {
      "text/plain": [
       "<catboost.core.CatBoostRegressor at 0x152b83b80>"
      ]
     },
     "execution_count": 68,
     "metadata": {},
     "output_type": "execute_result"
    }
   ],
   "source": [
    "model_3 = CatBoostRegressor(eval_metric = \"MAPE\",\n",
    "                          task_type = \"CPU\",\n",
    "                          thread_count = 4,\n",
    "                          random_state=42)\n",
    "\n",
    "model_3.fit(X=X_train,\n",
    "          y=y_train,\n",
    "          eval_set=(X_valid, y_valid),\n",
    "          early_stopping_rounds=20)"
   ]
  },
  {
   "cell_type": "code",
   "execution_count": 69,
   "metadata": {},
   "outputs": [
    {
     "data": {
      "text/plain": [
       "0.13198146053242604"
      ]
     },
     "execution_count": 69,
     "metadata": {},
     "output_type": "execute_result"
    }
   ],
   "source": [
    "prediction = model_3.predict(X_full_test)\n",
    "mean_absolute_percentage_error(y_test, prediction)"
   ]
  },
  {
   "cell_type": "markdown",
   "metadata": {},
   "source": [
    "Можно заметить, что метрика качества на отложенной выборке не просто сохранилась, но и улучшилась ввиду исключения шумовых признаков, которые ухудшали метрику"
   ]
  },
  {
   "cell_type": "code",
   "execution_count": 73,
   "metadata": {},
   "outputs": [],
   "source": [
    "extracted_relevant_features.to_csv('../data/processed/prepared_data.csv')"
   ]
  }
 ],
 "metadata": {
  "kernelspec": {
   "display_name": "ml",
   "language": "python",
   "name": "python3"
  },
  "language_info": {
   "codemirror_mode": {
    "name": "ipython",
    "version": 3
   },
   "file_extension": ".py",
   "mimetype": "text/x-python",
   "name": "python",
   "nbconvert_exporter": "python",
   "pygments_lexer": "ipython3",
   "version": "3.10.13"
  }
 },
 "nbformat": 4,
 "nbformat_minor": 2
}
